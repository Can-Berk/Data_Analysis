{
 "cells": [
  {
   "cell_type": "code",
   "execution_count": 1,
   "metadata": {},
   "outputs": [],
   "source": [
    "import pandas as pd\n",
    "import numpy as np\n",
    "import yaml\n",
    "import json\n",
    "import re\n",
    "from difflib import SequenceMatcher    # https://docs.python.org/3/library/difflib.html#difflib.get_close_matches\n",
    "# !pip install cleanco\n",
    "# import cleanco   # would ne useful"
   ]
  },
  {
   "cell_type": "markdown",
   "metadata": {},
   "source": [
    "# Unternehmensliste Interflex"
   ]
  },
  {
   "cell_type": "markdown",
   "metadata": {},
   "source": [
    "## 1. Dataset info and preprocessing"
   ]
  },
  {
   "cell_type": "code",
   "execution_count": 691,
   "metadata": {},
   "outputs": [
    {
     "data": {
      "text/html": [
       "<div>\n",
       "<style scoped>\n",
       "    .dataframe tbody tr th:only-of-type {\n",
       "        vertical-align: middle;\n",
       "    }\n",
       "\n",
       "    .dataframe tbody tr th {\n",
       "        vertical-align: top;\n",
       "    }\n",
       "\n",
       "    .dataframe thead th {\n",
       "        text-align: right;\n",
       "    }\n",
       "</style>\n",
       "<table border=\"1\" class=\"dataframe\">\n",
       "  <thead>\n",
       "    <tr style=\"text-align: right;\">\n",
       "      <th></th>\n",
       "      <th>Company_name</th>\n",
       "      <th>Country</th>\n",
       "      <th>Zipcode</th>\n",
       "      <th>City</th>\n",
       "      <th>Address</th>\n",
       "      <th>USt.-IdNr.</th>\n",
       "      <th>ID</th>\n",
       "    </tr>\n",
       "  </thead>\n",
       "  <tbody>\n",
       "    <tr>\n",
       "      <td>0</td>\n",
       "      <td>Bistum Essen</td>\n",
       "      <td>Deutschland</td>\n",
       "      <td>45127</td>\n",
       "      <td>Essen</td>\n",
       "      <td>Zwölfling 16</td>\n",
       "      <td>NaN</td>\n",
       "      <td>801695</td>\n",
       "    </tr>\n",
       "    <tr>\n",
       "      <td>1</td>\n",
       "      <td>KBS Kleider Bauer Betriebs-GmbH</td>\n",
       "      <td>Österreich</td>\n",
       "      <td>2380</td>\n",
       "      <td>Perchtoldsdorf</td>\n",
       "      <td>Zwingenstr. 5</td>\n",
       "      <td>NaN</td>\n",
       "      <td>850801</td>\n",
       "    </tr>\n",
       "    <tr>\n",
       "      <td>2</td>\n",
       "      <td>Elektro Ing-Plan GmbH Dresden</td>\n",
       "      <td>Deutschland</td>\n",
       "      <td>1187</td>\n",
       "      <td>Dresden</td>\n",
       "      <td>Zwickauer Straße 88</td>\n",
       "      <td>NaN</td>\n",
       "      <td>851014</td>\n",
       "    </tr>\n",
       "    <tr>\n",
       "      <td>3</td>\n",
       "      <td>Netzdesign-Vobornik</td>\n",
       "      <td>Deutschland</td>\n",
       "      <td>71083</td>\n",
       "      <td>Herrenberg</td>\n",
       "      <td>Zwickauer Strasse 41</td>\n",
       "      <td>NaN</td>\n",
       "      <td>NaN</td>\n",
       "    </tr>\n",
       "    <tr>\n",
       "      <td>4</td>\n",
       "      <td>NILES-SIMMONS Industrieanlagen GmbH</td>\n",
       "      <td>Deutschland</td>\n",
       "      <td>9117</td>\n",
       "      <td>Chemnitz</td>\n",
       "      <td>Zwickauer Straße 355</td>\n",
       "      <td>DE140853999</td>\n",
       "      <td>802541</td>\n",
       "    </tr>\n",
       "  </tbody>\n",
       "</table>\n",
       "</div>"
      ],
      "text/plain": [
       "                          Company_name      Country Zipcode            City  \\\n",
       "0                         Bistum Essen  Deutschland   45127           Essen   \n",
       "1      KBS Kleider Bauer Betriebs-GmbH   Österreich    2380  Perchtoldsdorf   \n",
       "2        Elektro Ing-Plan GmbH Dresden  Deutschland    1187         Dresden   \n",
       "3                  Netzdesign-Vobornik  Deutschland   71083      Herrenberg   \n",
       "4  NILES-SIMMONS Industrieanlagen GmbH  Deutschland    9117        Chemnitz   \n",
       "\n",
       "                Address   USt.-IdNr.      ID  \n",
       "0          Zwölfling 16          NaN  801695  \n",
       "1         Zwingenstr. 5          NaN  850801  \n",
       "2   Zwickauer Straße 88          NaN  851014  \n",
       "3  Zwickauer Strasse 41          NaN     NaN  \n",
       "4  Zwickauer Straße 355  DE140853999  802541  "
      ]
     },
     "execution_count": 691,
     "metadata": {},
     "output_type": "execute_result"
    }
   ],
   "source": [
    "ulist = pd.read_excel(\"Unternehmensliste_Interflex.xlsx\")\n",
    "ulist = ulist.rename(columns={'Firmenname': 'Company_name', 'Land': 'Country', 'Postleitzahl': 'Zipcode', 'Ort': 'City', 'Straße und Hausnr.': 'Address'})\n",
    "ulist.head()"
   ]
  },
  {
   "cell_type": "markdown",
   "metadata": {},
   "source": [
    "**Dataset Info**"
   ]
  },
  {
   "cell_type": "code",
   "execution_count": 692,
   "metadata": {},
   "outputs": [
    {
     "data": {
      "text/plain": [
       "15"
      ]
     },
     "execution_count": 692,
     "metadata": {},
     "output_type": "execute_result"
    }
   ],
   "source": [
    "ulist.duplicated().sum()   # 15 duplicated entries are already exist"
   ]
  },
  {
   "cell_type": "code",
   "execution_count": 693,
   "metadata": {},
   "outputs": [
    {
     "data": {
      "text/plain": [
       "Company_name    14193\n",
       "Country            73\n",
       "Zipcode          4946\n",
       "City             4239\n",
       "Address         12702\n",
       "USt.-IdNr.       4427\n",
       "ID              10852\n",
       "dtype: int64"
      ]
     },
     "execution_count": 693,
     "metadata": {},
     "output_type": "execute_result"
    }
   ],
   "source": [
    "ulist.nunique()    # 68 different countries can be categorized"
   ]
  },
  {
   "cell_type": "code",
   "execution_count": 694,
   "metadata": {},
   "outputs": [
    {
     "name": "stdout",
     "output_type": "stream",
     "text": [
      "<class 'pandas.core.frame.DataFrame'>\n",
      "RangeIndex: 14550 entries, 0 to 14549\n",
      "Data columns (total 7 columns):\n",
      "Company_name    14550 non-null object\n",
      "Country         13477 non-null object\n",
      "Zipcode         14238 non-null object\n",
      "City            13902 non-null object\n",
      "Address         14111 non-null object\n",
      "USt.-IdNr.      4849 non-null object\n",
      "ID              10875 non-null object\n",
      "dtypes: object(7)\n",
      "memory usage: 795.8+ KB\n"
     ]
    }
   ],
   "source": [
    "ulist.info()"
   ]
  },
  {
   "cell_type": "code",
   "execution_count": 695,
   "metadata": {},
   "outputs": [],
   "source": [
    "ulist = (\n",
    "    ulist\n",
    "        .assign(\n",
    "            Country=ulist['Country'].astype('category'),\n",
    "            # Zipcode=ulist['Zipcode'].astype('Int64'),\n",
    "            # ID=ulist['ID'].astype('Int64')   # not working\n",
    "        )   # .info()\n",
    ")"
   ]
  },
  {
   "cell_type": "code",
   "execution_count": 696,
   "metadata": {},
   "outputs": [
    {
     "name": "stdout",
     "output_type": "stream",
     "text": [
      "<class 'pandas.core.frame.DataFrame'>\n",
      "RangeIndex: 14550 entries, 0 to 14549\n",
      "Data columns (total 7 columns):\n",
      "Company_name    14550 non-null object\n",
      "Country         13477 non-null category\n",
      "Zipcode         14238 non-null object\n",
      "City            13902 non-null object\n",
      "Address         14111 non-null object\n",
      "USt.-IdNr.      4849 non-null object\n",
      "ID              10875 non-null object\n",
      "dtypes: category(1), object(6)\n",
      "memory usage: 699.4+ KB\n"
     ]
    }
   ],
   "source": [
    "ulist.info()   # memory usage decreased by categorizing country (Country) column"
   ]
  },
  {
   "cell_type": "code",
   "execution_count": 697,
   "metadata": {},
   "outputs": [],
   "source": [
    "# pipeline\n",
    "ulist = ulist.astype({\"Country\": str, \"City\": str})\n",
    "ulist[\"Country\"] = ulist[\"Country\"].str.upper()\n",
    "ulist[\"Country\"] = ulist[\"Country\"].str.replace('\\W', '').astype('category')\n",
    "#ulist[\"Country\"] = ulist[\"Country\"].str.replace('\\W', '')\n",
    "ulist[\"City\"] = ulist[\"City\"].str.lower()\n",
    "ulist[\"City\"] = ulist[\"City\"].str.replace('\\W', ' ')   # Special character with white space ==> E.g tokenize hinterbergerstraße 13 4400 steyr österreich\n",
    "ulist['Zipcode'] = ulist['Zipcode'].replace(r'^\\s*$', np.nan, regex=True)    # replace field that's entirely space (or empty) with NaN     #ulist.iloc[[1341, 13859]]\n",
    "ulist['Address'] = ulist['Address'].replace(r'^\\s*$', np.nan, regex=True)\n",
    "ulist['Address'] = ulist['Address'].str.strip()\n",
    "#ulist['Address'] = ulist['Address'].str.strip().replace('', np.nan)\n",
    "ulist['USt.-IdNr.'] = ulist['USt.-IdNr.'].str.replace(\" \",\"\")        # white space removed\n",
    "ulist['ID'] = ulist['ID'].astype('str').str.replace('[^0-9]', '')    # ID with only numbers\n",
    "# ulist['ID'] = ulist['ID'].astype('str').replace(r'\\D+', '', regex=True)\n",
    "ulist['ID'] = ulist['ID'].replace(r'^\\s*$', np.NaN, regex=True)      # to keep missing values instead of empty strings\n",
    "\n",
    "ulist.insert(loc=1, column='Companyname_clean', value=ulist[\"Company_name\"].str.lower())   # New Company name column to standardize"
   ]
  },
  {
   "cell_type": "markdown",
   "metadata": {},
   "source": [
    "### 1.1 Translating country names from German to English"
   ]
  },
  {
   "cell_type": "code",
   "execution_count": 698,
   "metadata": {},
   "outputs": [
    {
     "name": "stderr",
     "output_type": "stream",
     "text": [
      "C:\\ProgramData\\Anaconda3\\lib\\site-packages\\ipykernel_launcher.py:2: YAMLLoadWarning: calling yaml.load() without Loader=... is deprecated, as the default Loader is unsafe. Please read https://msg.pyyaml.org/load for full details.\n",
      "  \n"
     ]
    }
   ],
   "source": [
    "with open('countries_by_namede.yml.txt', 'rt', encoding='utf8') as file:   \n",
    "     yaml_dict = yaml.load(file)\n",
    "        \n",
    "# https://stackoverflow.com/questions/58340498/reading-yaml-file-in-python-with-accents-and-special-charactets\n",
    "\n",
    "country_dict = yaml_dict.get('de').get('countries')\n",
    "\n",
    "# https://gist.githubusercontent.com/pex/3153011/raw/859b1b8c1d3ff5c93b5e5f2aa02694ee404141d7/countries_by_name.de.yml\n",
    "country_dict = {y: x for x, y in country_dict.items()}\n",
    "country_dict = {k.upper():v.upper() for k,v in country_dict.items()}\n",
    "country_dict = {k.replace(' ','').replace('-',''): v.replace(' ','').replace('-','') for k, v in country_dict.items()}  # remove white space and \n",
    "\n",
    "# additions due to differences in dataset\n",
    "country_dict.update({'MALTAMALTA':'MALTA', 'PUERTORICOPUERTORICO': 'PUERTORICO', 'THAILANDTHAILAND': 'THAILAND', 'ISRAELISRAEL': 'ISRAEL',\n",
    "                     'JORDANJORDANIEN': 'JORDAN', 'MALAYSIAMALAYSIA': 'MALAYSIA', 'GREECEGRIECHENLAND': 'GREECE', 'MACEDONIAMAZEDONIEN': 'MACEDONIA',\n",
    "                     'KUWAITKUWAIT': 'KUWAIT', 'SINGAPORESINGAPUR': 'SINGAPORE', 'QATARKATAR': 'QATAR', 'KAZAKHSTANKASACHSTAN': 'KAZAKHSTAN',\n",
    "                    'JAPANJAPAN': 'JAPAN', 'SOUTHKOREAKOREASÜD': 'SOUTHKORE', 'VIETNAMVIETNAM': 'VIETNAM', 'SERBIASERBIEN': 'SERBIA',\n",
    "                    'PHILIPPINESPHILIPPINEN': 'PHILIPPINES', 'NEWZEALANDNEUSEELAND': 'NEWZEALAND', 'RUSSLAND': 'RUSSIANFEDERATION', 'UA': 'UNITEDARAB_EMIRATES',\n",
    "                     'TSCHECHIEN': 'CZECHREPUBLIC', 'VEREINIGTEEMIRATE': 'UNITEDARAB_EMIRATES', 'KÖNIGREICHSAUDIARABIEN': 'SAUDIARABIA', 'ESTLAND': 'ESTONIA'})"
   ]
  },
  {
   "cell_type": "code",
   "execution_count": 699,
   "metadata": {},
   "outputs": [
    {
     "name": "stdout",
     "output_type": "stream",
     "text": [
      "Number of missing values in country column before= 1073\n",
      "Number of missing values in country column after mapping Eng-De country names= 1085\n"
     ]
    },
    {
     "data": {
      "text/html": [
       "<div>\n",
       "<style scoped>\n",
       "    .dataframe tbody tr th:only-of-type {\n",
       "        vertical-align: middle;\n",
       "    }\n",
       "\n",
       "    .dataframe tbody tr th {\n",
       "        vertical-align: top;\n",
       "    }\n",
       "\n",
       "    .dataframe thead th {\n",
       "        text-align: right;\n",
       "    }\n",
       "</style>\n",
       "<table border=\"1\" class=\"dataframe\">\n",
       "  <thead>\n",
       "    <tr style=\"text-align: right;\">\n",
       "      <th></th>\n",
       "      <th>Company_name</th>\n",
       "      <th>Companyname_clean</th>\n",
       "      <th>Country</th>\n",
       "      <th>Zipcode</th>\n",
       "      <th>City</th>\n",
       "      <th>Address</th>\n",
       "      <th>USt.-IdNr.</th>\n",
       "      <th>ID</th>\n",
       "    </tr>\n",
       "  </thead>\n",
       "  <tbody>\n",
       "    <tr>\n",
       "      <td>994</td>\n",
       "      <td>BMW Sverige Aktiebolag</td>\n",
       "      <td>bmw sverige aktiebolag</td>\n",
       "      <td>SWEDEN</td>\n",
       "      <td>191 27</td>\n",
       "      <td>sollentuna</td>\n",
       "      <td>Vetenskapsvägen 10</td>\n",
       "      <td>SE556313500201</td>\n",
       "      <td>171249</td>\n",
       "    </tr>\n",
       "    <tr>\n",
       "      <td>2158</td>\n",
       "      <td>OKG Aktiebolag</td>\n",
       "      <td>okg aktiebolag</td>\n",
       "      <td>SWEDEN</td>\n",
       "      <td>57283</td>\n",
       "      <td>oskarshamm</td>\n",
       "      <td>Simpevarp</td>\n",
       "      <td>SE556063372801</td>\n",
       "      <td>170964</td>\n",
       "    </tr>\n",
       "    <tr>\n",
       "      <td>5242</td>\n",
       "      <td>QUALITY INTERIORS &amp; AUTOMATION SPECIALIST</td>\n",
       "      <td>quality interiors &amp; automation specialist</td>\n",
       "      <td>TURKSCAICOSISLANDS</td>\n",
       "      <td>TKCA 1ZZ</td>\n",
       "      <td>turks   caicos islands</td>\n",
       "      <td>MORRIS PLAZA, SUITE #8</td>\n",
       "      <td>NaN</td>\n",
       "      <td>850539</td>\n",
       "    </tr>\n",
       "    <tr>\n",
       "      <td>5896</td>\n",
       "      <td>ABB Power Grids Sweden AB</td>\n",
       "      <td>abb power grids sweden ab</td>\n",
       "      <td>SWEDEN</td>\n",
       "      <td>77180</td>\n",
       "      <td>ludvika</td>\n",
       "      <td>Lyviksvägen 3</td>\n",
       "      <td>NaN</td>\n",
       "      <td>NaN</td>\n",
       "    </tr>\n",
       "    <tr>\n",
       "      <td>6114</td>\n",
       "      <td>PT. Schaeffler Bearings Indonesia</td>\n",
       "      <td>pt. schaeffler bearings indonesia</td>\n",
       "      <td>INDONESIA</td>\n",
       "      <td>12920</td>\n",
       "      <td>jakarta</td>\n",
       "      <td>Lippo Kuningan 19th Floor Unit A &amp; F</td>\n",
       "      <td>NaN</td>\n",
       "      <td>NaN</td>\n",
       "    </tr>\n",
       "    <tr>\n",
       "      <td>9570</td>\n",
       "      <td>Aviator</td>\n",
       "      <td>aviator</td>\n",
       "      <td>SWEDEN</td>\n",
       "      <td>19046</td>\n",
       "      <td>stockholm</td>\n",
       "      <td>Generatorgatan 11</td>\n",
       "      <td>NaN</td>\n",
       "      <td>165160</td>\n",
       "    </tr>\n",
       "    <tr>\n",
       "      <td>10020</td>\n",
       "      <td>Brose Sweden AB</td>\n",
       "      <td>brose sweden ab</td>\n",
       "      <td>SWEDEN</td>\n",
       "      <td>42337</td>\n",
       "      <td>nan</td>\n",
       "      <td>Flygfältsgatan 4</td>\n",
       "      <td>NaN</td>\n",
       "      <td>135228</td>\n",
       "    </tr>\n",
       "    <tr>\n",
       "      <td>11352</td>\n",
       "      <td>Boehringer Ingelheim Colombia</td>\n",
       "      <td>boehringer ingelheim colombia</td>\n",
       "      <td>COLOMBIA</td>\n",
       "      <td>NaN</td>\n",
       "      <td>bogota d c</td>\n",
       "      <td>Carrera 11 N 84-09 Piso 5 Torre Sur</td>\n",
       "      <td>860000753-8</td>\n",
       "      <td>804487</td>\n",
       "    </tr>\n",
       "    <tr>\n",
       "      <td>13580</td>\n",
       "      <td>Bombardier Transportation Sweden AB</td>\n",
       "      <td>bombardier transportation sweden ab</td>\n",
       "      <td>SWEDEN</td>\n",
       "      <td>SE-721 73</td>\n",
       "      <td>västeras</td>\n",
       "      <td>Accounts Payable Västeras</td>\n",
       "      <td>NaN</td>\n",
       "      <td>452518</td>\n",
       "    </tr>\n",
       "    <tr>\n",
       "      <td>13910</td>\n",
       "      <td>Schaeffler Philippines Inc</td>\n",
       "      <td>schaeffler philippines inc</td>\n",
       "      <td>PHILIPPINES</td>\n",
       "      <td>1229</td>\n",
       "      <td>makati city</td>\n",
       "      <td>221 Salcedo Street</td>\n",
       "      <td>NaN</td>\n",
       "      <td>851866</td>\n",
       "    </tr>\n",
       "    <tr>\n",
       "      <td>13966</td>\n",
       "      <td>Schaeffler (Singapore) Pte. Ltd.</td>\n",
       "      <td>schaeffler (singapore) pte. ltd.</td>\n",
       "      <td>SINGAPORE</td>\n",
       "      <td>539775</td>\n",
       "      <td>singapore</td>\n",
       "      <td>18 Tai Seng, #09-07/08</td>\n",
       "      <td>NaN</td>\n",
       "      <td>851066</td>\n",
       "    </tr>\n",
       "    <tr>\n",
       "      <td>14377</td>\n",
       "      <td>PT Hyundai Indonesia Motor</td>\n",
       "      <td>pt hyundai indonesia motor</td>\n",
       "      <td>INDONESIA</td>\n",
       "      <td>NaN</td>\n",
       "      <td>nan</td>\n",
       "      <td>NaN</td>\n",
       "      <td>NaN</td>\n",
       "      <td>850936</td>\n",
       "    </tr>\n",
       "  </tbody>\n",
       "</table>\n",
       "</div>"
      ],
      "text/plain": [
       "                                    Company_name  \\\n",
       "994                     BMW Sverige Aktiebolag     \n",
       "2158                              OKG Aktiebolag   \n",
       "5242   QUALITY INTERIORS & AUTOMATION SPECIALIST   \n",
       "5896                   ABB Power Grids Sweden AB   \n",
       "6114           PT. Schaeffler Bearings Indonesia   \n",
       "9570                                   Aviator     \n",
       "10020                            Brose Sweden AB   \n",
       "11352              Boehringer Ingelheim Colombia   \n",
       "13580      Bombardier Transportation Sweden AB     \n",
       "13910                 Schaeffler Philippines Inc   \n",
       "13966           Schaeffler (Singapore) Pte. Ltd.   \n",
       "14377                 PT Hyundai Indonesia Motor   \n",
       "\n",
       "                               Companyname_clean             Country  \\\n",
       "994                     bmw sverige aktiebolag                SWEDEN   \n",
       "2158                              okg aktiebolag              SWEDEN   \n",
       "5242   quality interiors & automation specialist  TURKSCAICOSISLANDS   \n",
       "5896                   abb power grids sweden ab              SWEDEN   \n",
       "6114           pt. schaeffler bearings indonesia           INDONESIA   \n",
       "9570                                   aviator                SWEDEN   \n",
       "10020                            brose sweden ab              SWEDEN   \n",
       "11352              boehringer ingelheim colombia            COLOMBIA   \n",
       "13580      bombardier transportation sweden ab                SWEDEN   \n",
       "13910                 schaeffler philippines inc         PHILIPPINES   \n",
       "13966           schaeffler (singapore) pte. ltd.           SINGAPORE   \n",
       "14377                 pt hyundai indonesia motor           INDONESIA   \n",
       "\n",
       "         Zipcode                    City  \\\n",
       "994       191 27              sollentuna   \n",
       "2158       57283              oskarshamm   \n",
       "5242    TKCA 1ZZ  turks   caicos islands   \n",
       "5896       77180                 ludvika   \n",
       "6114       12920                 jakarta   \n",
       "9570       19046               stockholm   \n",
       "10020      42337                     nan   \n",
       "11352        NaN             bogota d c    \n",
       "13580  SE-721 73                västeras   \n",
       "13910       1229             makati city   \n",
       "13966     539775               singapore   \n",
       "14377        NaN                     nan   \n",
       "\n",
       "                                    Address      USt.-IdNr.      ID  \n",
       "994                      Vetenskapsvägen 10  SE556313500201  171249  \n",
       "2158                              Simpevarp  SE556063372801  170964  \n",
       "5242                 MORRIS PLAZA, SUITE #8             NaN  850539  \n",
       "5896                          Lyviksvägen 3             NaN     NaN  \n",
       "6114   Lippo Kuningan 19th Floor Unit A & F             NaN     NaN  \n",
       "9570                      Generatorgatan 11             NaN  165160  \n",
       "10020                      Flygfältsgatan 4             NaN  135228  \n",
       "11352   Carrera 11 N 84-09 Piso 5 Torre Sur     860000753-8  804487  \n",
       "13580             Accounts Payable Västeras             NaN  452518  \n",
       "13910                    221 Salcedo Street             NaN  851866  \n",
       "13966                18 Tai Seng, #09-07/08             NaN  851066  \n",
       "14377                                   NaN             NaN  850936  "
      ]
     },
     "execution_count": 699,
     "metadata": {},
     "output_type": "execute_result"
    }
   ],
   "source": [
    "# list(set(ulist['Country'].unique()) - set(country_dict.keys()))\n",
    "# sorted(list(set(country_dict.keys())- set(ulist['Country'].unique())))\n",
    "print('Number of missing values in country column before=', len(ulist[ulist['Country']=='NAN']))\n",
    "print('Number of missing values in country column after mapping Eng-De country names=', ulist['Country'].map(country_dict).isna().sum())\n",
    "ulist.loc[(ulist['Country']=='NAN')!= ulist['Country'].map(country_dict).isna()]"
   ]
  },
  {
   "cell_type": "markdown",
   "metadata": {},
   "source": [
    "Country names of remaining 12 rows are already in English!"
   ]
  },
  {
   "cell_type": "code",
   "execution_count": 700,
   "metadata": {},
   "outputs": [],
   "source": [
    "ulist['Country'] = ulist['Country'].map(country_dict).fillna(ulist['Country'])   # De-Eng country name mapper"
   ]
  },
  {
   "cell_type": "markdown",
   "metadata": {},
   "source": [
    "### 1.2 Filling Missing Country names"
   ]
  },
  {
   "cell_type": "code",
   "execution_count": 701,
   "metadata": {},
   "outputs": [
    {
     "name": "stdout",
     "output_type": "stream",
     "text": [
      "Country missing but city is given= 903\n",
      "City is missing but country is given= 478\n",
      "Both Country and city missing= 170\n"
     ]
    }
   ],
   "source": [
    "print('Country missing but city is given=', len(ulist[(ulist['Country']=='NAN') & (ulist['City']!='nan')]))\n",
    "print('City is missing but country is given=', len(ulist[(ulist['Country']!='NAN') & (ulist['City']=='nan')]))\n",
    "print('Both Country and city missing=', len(ulist[(ulist['Country']=='NAN') & (ulist['City']=='nan')]))"
   ]
  },
  {
   "cell_type": "markdown",
   "metadata": {},
   "source": [
    "Idea is:\n",
    "1. Fixing city names by searching 'city' in long strings. For example city of Eqos Energie is hinterbergerstraße 13 4400 steyr österreich ==> steyr\n",
    "2. If country is missing and city is actually a country name ==> city=country\n",
    "3. If country missing but city given ==> use mapping dictionary\n",
    "4. If country still missing but city is given ==> Most common country grouped by city names\n",
    "5. If city is missing but country is given ==> Take country name as city or (fill with most common city grouped by country)\n",
    "6. If both Country and city missing ==> ? Take from above entry or ignore the entry?"
   ]
  },
  {
   "cell_type": "code",
   "execution_count": 702,
   "metadata": {},
   "outputs": [],
   "source": [
    "country_citydf = pd.read_csv('worldcities.csv', usecols=['country', 'city_ascii'])   #https://simplemaps.com/data/world-cities\n",
    "country_citydf.head()\n",
    "\n",
    "country_city_dict = {k: g[\"city_ascii\"].tolist() for k,g in country_citydf.groupby(\"country\")}\n",
    "country_city_dict = {k.upper():v for k,v in country_city_dict.items()}\n",
    "\n",
    "for i in country_city_dict.keys():            # values (city names) lower case and special characters are removed\n",
    "    if type(country_city_dict[i]) is list:\n",
    "        country_city_dict[i]=  [j.lower().replace(' ','').replace('-','') for j in country_city_dict[i]]\n",
    "    else:\n",
    "        country_city_dict[i] = country_city_dict[i].lower().replace(' ','').replace('-','')\n",
    "\n",
    "country_city_dict = {k.replace(' ','').replace('-',''): v for k, v in country_city_dict.items()}  # remove white space and \n",
    "geo_countries = list(country_city_dict.keys())\n",
    "geo_cities = [j for sub in list(country_city_dict.values()) for j in sub]"
   ]
  },
  {
   "cell_type": "markdown",
   "metadata": {},
   "source": [
    "### Cases"
   ]
  },
  {
   "cell_type": "code",
   "execution_count": 703,
   "metadata": {},
   "outputs": [
    {
     "data": {
      "text/html": [
       "<div>\n",
       "<style scoped>\n",
       "    .dataframe tbody tr th:only-of-type {\n",
       "        vertical-align: middle;\n",
       "    }\n",
       "\n",
       "    .dataframe tbody tr th {\n",
       "        vertical-align: top;\n",
       "    }\n",
       "\n",
       "    .dataframe thead th {\n",
       "        text-align: right;\n",
       "    }\n",
       "</style>\n",
       "<table border=\"1\" class=\"dataframe\">\n",
       "  <thead>\n",
       "    <tr style=\"text-align: right;\">\n",
       "      <th></th>\n",
       "      <th>Company_name</th>\n",
       "      <th>Companyname_clean</th>\n",
       "      <th>Country</th>\n",
       "      <th>Zipcode</th>\n",
       "      <th>City</th>\n",
       "      <th>Address</th>\n",
       "      <th>USt.-IdNr.</th>\n",
       "      <th>ID</th>\n",
       "    </tr>\n",
       "  </thead>\n",
       "  <tbody>\n",
       "    <tr>\n",
       "      <td>41</td>\n",
       "      <td>SERAG-WIESSNER GmbH &amp; Co. KG</td>\n",
       "      <td>serag-wiessner gmbh &amp; co. kg</td>\n",
       "      <td>NAN</td>\n",
       "      <td>95119</td>\n",
       "      <td>naila</td>\n",
       "      <td>Zum Kugelfang 8-12</td>\n",
       "      <td>NaN</td>\n",
       "      <td>NaN</td>\n",
       "    </tr>\n",
       "    <tr>\n",
       "      <td>74</td>\n",
       "      <td>Schreinerei Löhle GmbH</td>\n",
       "      <td>schreinerei löhle gmbh</td>\n",
       "      <td>NAN</td>\n",
       "      <td>78567</td>\n",
       "      <td>fridingen</td>\n",
       "      <td>Zollerstr. 2</td>\n",
       "      <td>NaN</td>\n",
       "      <td>851897</td>\n",
       "    </tr>\n",
       "    <tr>\n",
       "      <td>99</td>\n",
       "      <td>LAIPPLE / BRINKMANN GMBH</td>\n",
       "      <td>laipple / brinkmann gmbh</td>\n",
       "      <td>NAN</td>\n",
       "      <td>73099</td>\n",
       "      <td>adelberg</td>\n",
       "      <td>Ziegelhau 13</td>\n",
       "      <td>NaN</td>\n",
       "      <td>850189</td>\n",
       "    </tr>\n",
       "    <tr>\n",
       "      <td>110</td>\n",
       "      <td>Fraport Slovenija, d.o.o</td>\n",
       "      <td>fraport slovenija, d.o.o</td>\n",
       "      <td>NAN</td>\n",
       "      <td>4210</td>\n",
       "      <td>brnik aerodrom</td>\n",
       "      <td>Zg. Brnik 130a</td>\n",
       "      <td>SI12574856</td>\n",
       "      <td>804393</td>\n",
       "    </tr>\n",
       "    <tr>\n",
       "      <td>112</td>\n",
       "      <td>Amtsgericht Ulm</td>\n",
       "      <td>amtsgericht ulm</td>\n",
       "      <td>NAN</td>\n",
       "      <td>89073</td>\n",
       "      <td>ulm</td>\n",
       "      <td>Zeughausgasse 14</td>\n",
       "      <td>NaN</td>\n",
       "      <td>NaN</td>\n",
       "    </tr>\n",
       "    <tr>\n",
       "      <td>...</td>\n",
       "      <td>...</td>\n",
       "      <td>...</td>\n",
       "      <td>...</td>\n",
       "      <td>...</td>\n",
       "      <td>...</td>\n",
       "      <td>...</td>\n",
       "      <td>...</td>\n",
       "      <td>...</td>\n",
       "    </tr>\n",
       "    <tr>\n",
       "      <td>14360</td>\n",
       "      <td>d &amp; b Bau GmbH</td>\n",
       "      <td>d &amp; b bau gmbh</td>\n",
       "      <td>NAN</td>\n",
       "      <td>NaN</td>\n",
       "      <td>neustadt wstr    neu isenburg</td>\n",
       "      <td>NaN</td>\n",
       "      <td>NaN</td>\n",
       "      <td>852329</td>\n",
       "    </tr>\n",
       "    <tr>\n",
       "      <td>14361</td>\n",
       "      <td>Stadt Rheine / Feuerwehr</td>\n",
       "      <td>stadt rheine / feuerwehr</td>\n",
       "      <td>NAN</td>\n",
       "      <td>NaN</td>\n",
       "      <td>rheine</td>\n",
       "      <td>NaN</td>\n",
       "      <td>NaN</td>\n",
       "      <td>850429</td>\n",
       "    </tr>\n",
       "    <tr>\n",
       "      <td>14363</td>\n",
       "      <td>VIESGO INFRAESTRUCTURAS ENERGETICAS S.L</td>\n",
       "      <td>viesgo infraestructuras energeticas s.l</td>\n",
       "      <td>NAN</td>\n",
       "      <td>NaN</td>\n",
       "      <td>spain</td>\n",
       "      <td>NaN</td>\n",
       "      <td>NaN</td>\n",
       "      <td>850166</td>\n",
       "    </tr>\n",
       "    <tr>\n",
       "      <td>14364</td>\n",
       "      <td>Eqos</td>\n",
       "      <td>eqos</td>\n",
       "      <td>NAN</td>\n",
       "      <td>NaN</td>\n",
       "      <td>steyr</td>\n",
       "      <td>NaN</td>\n",
       "      <td>NaN</td>\n",
       "      <td>850713</td>\n",
       "    </tr>\n",
       "    <tr>\n",
       "      <td>14366</td>\n",
       "      <td>Test</td>\n",
       "      <td>test</td>\n",
       "      <td>NAN</td>\n",
       "      <td>NaN</td>\n",
       "      <td>test</td>\n",
       "      <td>NaN</td>\n",
       "      <td>NaN</td>\n",
       "      <td>NaN</td>\n",
       "    </tr>\n",
       "  </tbody>\n",
       "</table>\n",
       "<p>903 rows × 8 columns</p>\n",
       "</div>"
      ],
      "text/plain": [
       "                                  Company_name  \\\n",
       "41                SERAG-WIESSNER GmbH & Co. KG   \n",
       "74                      Schreinerei Löhle GmbH   \n",
       "99                    LAIPPLE / BRINKMANN GMBH   \n",
       "110                   Fraport Slovenija, d.o.o   \n",
       "112                            Amtsgericht Ulm   \n",
       "...                                        ...   \n",
       "14360                           d & b Bau GmbH   \n",
       "14361                 Stadt Rheine / Feuerwehr   \n",
       "14363  VIESGO INFRAESTRUCTURAS ENERGETICAS S.L   \n",
       "14364                                     Eqos   \n",
       "14366                                     Test   \n",
       "\n",
       "                             Companyname_clean Country Zipcode  \\\n",
       "41                serag-wiessner gmbh & co. kg     NAN   95119   \n",
       "74                      schreinerei löhle gmbh     NAN   78567   \n",
       "99                    laipple / brinkmann gmbh     NAN   73099   \n",
       "110                   fraport slovenija, d.o.o     NAN    4210   \n",
       "112                            amtsgericht ulm     NAN   89073   \n",
       "...                                        ...     ...     ...   \n",
       "14360                           d & b bau gmbh     NAN     NaN   \n",
       "14361                 stadt rheine / feuerwehr     NAN     NaN   \n",
       "14363  viesgo infraestructuras energeticas s.l     NAN     NaN   \n",
       "14364                                     eqos     NAN     NaN   \n",
       "14366                                     test     NAN     NaN   \n",
       "\n",
       "                                City             Address  USt.-IdNr.      ID  \n",
       "41                             naila  Zum Kugelfang 8-12         NaN     NaN  \n",
       "74                         fridingen        Zollerstr. 2         NaN  851897  \n",
       "99                          adelberg        Ziegelhau 13         NaN  850189  \n",
       "110                   brnik aerodrom      Zg. Brnik 130a  SI12574856  804393  \n",
       "112                              ulm    Zeughausgasse 14         NaN     NaN  \n",
       "...                              ...                 ...         ...     ...  \n",
       "14360  neustadt wstr    neu isenburg                 NaN         NaN  852329  \n",
       "14361                         rheine                 NaN         NaN  850429  \n",
       "14363                          spain                 NaN         NaN  850166  \n",
       "14364                          steyr                 NaN         NaN  850713  \n",
       "14366                           test                 NaN         NaN     NaN  \n",
       "\n",
       "[903 rows x 8 columns]"
      ]
     },
     "execution_count": 703,
     "metadata": {},
     "output_type": "execute_result"
    }
   ],
   "source": [
    "ulist_cases = ulist[(ulist['Country']=='NAN') & (ulist['City']!='nan')]    # all the entries with missing country\n",
    "ulist_cases"
   ]
  },
  {
   "cell_type": "code",
   "execution_count": 704,
   "metadata": {},
   "outputs": [
    {
     "name": "stdout",
     "output_type": "stream",
     "text": [
      "Case 1. City name error:\n",
      "\n",
      "        Company_name Companyname_clean Country Zipcode  \\\n",
      "14351  Eqos Energie      eqos energie     NAN     NaN   \n",
      "14364          Eqos              eqos     NAN     NaN   \n",
      "\n",
      "                                                City Address USt.-IdNr.  \\\n",
      "14351  hinterbergerstraße 13  4400 steyr  österreich     NaN        NaN   \n",
      "14364                                          steyr     NaN        NaN   \n",
      "\n",
      "           ID  \n",
      "14351  850821  \n",
      "14364  850713  \n",
      "\n",
      "523 entries are longer than 2 tokens\n",
      "\n",
      "\n",
      "Case 2. City name is actually a country name\n",
      "                                      Company_name  \\\n",
      "13692            ams-OSRAM Asia Pacific Pte. Ltd.   \n",
      "13791  TTS Tooltechnic Systems North  America, LP   \n",
      "13858      Boehringer Ingelheim Singapore Pte Ltd   \n",
      "13989            Schaeffler (Singapore) Pte. Ltd.   \n",
      "14363     VIESGO INFRAESTRUCTURAS ENERGETICAS S.L   \n",
      "\n",
      "                                Companyname_clean Country   Zipcode  \\\n",
      "13692            ams-osram asia pacific pte. ltd.     NAN    569877   \n",
      "13791  tts tooltechnic systems north  america, lp     NAN  IN 46052   \n",
      "13858      boehringer ingelheim singapore pte ltd     NAN    199555   \n",
      "13989            schaeffler (singapore) pte. ltd.     NAN    556741   \n",
      "14363     viesgo infraestructuras energeticas s.l     NAN       NaN   \n",
      "\n",
      "            City                  Address USt.-IdNr.      ID  \n",
      "13692  singapore    7000 Ang Mo Kio Ave 5        NaN  290745  \n",
      "13791    lebanon  400 N. Enterprise Blvd.        NaN  804190  \n",
      "13858  singapore           300 Beach Road        NaN  802212  \n",
      "13989  singapore  151 Lorong Chuan #06-01        NaN  800092  \n",
      "14363      spain                      NaN        NaN  850166  \n",
      "\n",
      "\n",
      "Case 3. Find country from city name dictionary:\n",
      "                          Company_name                 Companyname_clean  \\\n",
      "41       SERAG-WIESSNER GmbH & Co. KG      serag-wiessner gmbh & co. kg   \n",
      "112                   Amtsgericht Ulm                   amtsgericht ulm   \n",
      "148        ALUTEC SYSTEM-TECHNIK GMBH        alutec system-technik gmbh   \n",
      "230           Amtsgericht Bad Waldsee           amtsgericht bad waldsee   \n",
      "253  Aircraft Cabin Modification GmbH  aircraft cabin modification gmbh   \n",
      "\n",
      "    Country Zipcode          City             Address USt.-IdNr.      ID  \n",
      "41      NAN   95119         naila  Zum Kugelfang 8-12        NaN     NaN  \n",
      "112     NAN   89073           ulm    Zeughausgasse 14        NaN     NaN  \n",
      "148     NAN   74385  pleidelsheim     Zeppelinstr. 11        NaN  851837  \n",
      "230     NAN   88339       waldsee   Wurzacher Str. 73        NaN     NaN  \n",
      "253     NAN   87700     memmingen  Woringer Straße 11        NaN  851303  \n",
      "\n",
      "\n",
      "Case 4. Map most common country grouped by city name\n",
      " SPAIN    3\n",
      "NAN      2\n",
      "Name: Country, dtype: int64\n",
      "\n",
      "Example 2 Moskau: NAN                  4\n",
      "RUSSIANFEDERATION    1\n",
      "Name: Country, dtype: int64\n"
     ]
    }
   ],
   "source": [
    "# Examples\n",
    "# Case 1\n",
    "print('Case 1. City name error:\\n\\n', ulist[ulist['Companyname_clean'].str.startswith('eqos')])\n",
    "print('\\n{} entries are longer than 2 tokens'.format(len([x for x in ulist['City'].str.split() if len(x)>=3])))\n",
    "\n",
    "# Case 2\n",
    "print('\\n\\nCase 2. City name is actually a country name\\n', ulist_cases[ulist_cases['City'].str.upper().isin(geo_countries)].tail(5))    # spain ==> SPAIN\n",
    "\n",
    "# Case 3\n",
    "print('\\n\\nCase 3. Find country from city name dictionary:\\n', ulist_cases[ulist_cases['City'].isin(geo_cities)].head())   # naila ==> GERMANY\n",
    "\n",
    "# Case 4\n",
    "print('\\n\\nCase 4. Map most common country grouped by city name\\n', ulist[ulist['City']=='valencia']['Country'].value_counts().sort_values(ascending=False))\n",
    "print('\\nExample 2 Moskau:', ulist[ulist['City']=='moskau']['Country'].value_counts().sort_values(ascending=False))\n",
    "      #adelberg, senningerberg, moskau and valencia, haag)"
   ]
  },
  {
   "cell_type": "code",
   "execution_count": 705,
   "metadata": {},
   "outputs": [
    {
     "data": {
      "text/plain": [
       "['COLOMBIA', 'ECUADOR', 'PHILIPPINES', 'SPAIN', 'VENEZUELA']"
      ]
     },
     "execution_count": 705,
     "metadata": {},
     "output_type": "execute_result"
    }
   ],
   "source": [
    "[k for k, v in country_city_dict.items() if 'valencia' in v]"
   ]
  },
  {
   "cell_type": "code",
   "execution_count": 706,
   "metadata": {},
   "outputs": [
    {
     "data": {
      "text/plain": [
       "['burgdorf',\n",
       " 'deurne',\n",
       " 'linz',\n",
       " 'london',\n",
       " 'nan',\n",
       " 'neunkirchen',\n",
       " 'puebla',\n",
       " 'schwarzach']"
      ]
     },
     "execution_count": 706,
     "metadata": {},
     "output_type": "execute_result"
    }
   ],
   "source": [
    "a = ulist.groupby('City').Country.nunique() > 2     # cities appear in more than a country\n",
    "a[a].index.tolist()                    # schwarzach, burgdorf\n",
    "\n",
    "# https://stackoverflow.com/questions/54518504/check-if-group-contains-same-value-in-pandas"
   ]
  },
  {
   "cell_type": "code",
   "execution_count": 707,
   "metadata": {},
   "outputs": [
    {
     "name": "stdout",
     "output_type": "stream",
     "text": [
      "Among 903 entries 8 of their cities is actually a country from the dictionary\n",
      "Among 903 entries 459 of their cities matches with a country from the dictionary\n"
     ]
    }
   ],
   "source": [
    "print('Among 903 entries {} of their cities is actually a country from the dictionary'.format(len(ulist_cases[ulist_cases['City'].str.upper().isin(geo_countries)])))\n",
    "print('Among 903 entries {} of their cities matches with a country from the dictionary'.format(len(ulist_cases[ulist_cases['City'].isin(geo_cities)])))"
   ]
  },
  {
   "cell_type": "code",
   "execution_count": 708,
   "metadata": {},
   "outputs": [],
   "source": [
    "# Case 1\n",
    "def city_finder(city):\n",
    "    if len(city.split())>=3:\n",
    "        cityname = [x for x in city.split() if x in geo_cities]   # city is actually address when city string >= 3 tokens\n",
    "        result = ''.join(cityname)\n",
    "        if result!='':\n",
    "            return result\n",
    "        else:\n",
    "            return city\n",
    "    return city\n",
    "\n",
    "ulist['City'] = ulist['City'].apply(city_finder)\n",
    "\n",
    "\n",
    "# Case 2\n",
    "ulist[\"City\"] = ulist[\"City\"].str.replace('\\W', '')   #previously tokenized by spaces and now spaces are removed\n",
    "\n",
    "case2_index = ulist_cases[ulist_cases['City'].str.upper().isin(geo_countries)].index\n",
    "\n",
    "def country_filler1(city, country):\n",
    "    country_name = [k for k, v in country_city_dict.items() if (city.upper() in k) & (city!='')]   # if city is actually a country and not a missing entry\n",
    "    result = city.upper()\n",
    "    if result != '':\n",
    "        return result\n",
    "    else:\n",
    "        return country\n",
    "    \n",
    "ulist.loc[case2_index, 'Country'] =  ulist.loc[case2_index].apply(lambda x: country_filler1(x.City, x.Country), axis=1)   # gonna mask these and continue with next cases\n",
    "\n",
    "\n",
    "# Case 3\n",
    "case3_index = ulist_cases[ulist_cases['City'].isin(geo_cities)].index\n",
    "\n",
    "def country_filler2(city, country):\n",
    "    country_name = [k for k, v in country_city_dict.items() if city in v]   # country of the city\n",
    "    result = ''.join(country_name)\n",
    "    if result in country_city_dict.keys():\n",
    "        return result\n",
    "    else:\n",
    "        return country\n",
    "    \n",
    "ulist.loc[case3_index, 'Country'] = ulist.loc[case3_index].apply(lambda x: country_filler2(x.City, x.Country), axis=1)\n",
    "\n",
    "\n",
    "# Case 4\n",
    "ulist['City'] = ulist['City'].replace('nan', np.nan)\n",
    "ulist['Country'] = ulist['Country'].replace('NAN', np.NaN)\n",
    "case4_index = ulist[ulist['Country'].isna()].index\n",
    "\n",
    "s = ulist.groupby(['City','Country']).size()\n",
    "df = s.loc[s.groupby(level=0).idxmax()].reset_index().drop(0,axis=1)\n",
    "city_country_filler = dict(df.values)\n",
    "\n",
    "ulist.loc[case4_index, 'Country'] = ulist.loc[case4_index, 'City'].map(city_country_filler)\n",
    "    \n",
    "# https://stackoverflow.com/questions/66724197/get-key-from-a-value-where-value-is-in-a-list"
   ]
  },
  {
   "cell_type": "code",
   "execution_count": 709,
   "metadata": {},
   "outputs": [
    {
     "name": "stdout",
     "output_type": "stream",
     "text": [
      "Remanining lenght of missing countries when city is available= 260\n"
     ]
    }
   ],
   "source": [
    "print('Remanining lenght of missing countries when city is available=', len(ulist[(ulist['Country'].isna()) & (ulist['City'].notnull())]))   # from 903"
   ]
  },
  {
   "cell_type": "code",
   "execution_count": 710,
   "metadata": {},
   "outputs": [
    {
     "data": {
      "text/html": [
       "<div>\n",
       "<style scoped>\n",
       "    .dataframe tbody tr th:only-of-type {\n",
       "        vertical-align: middle;\n",
       "    }\n",
       "\n",
       "    .dataframe tbody tr th {\n",
       "        vertical-align: top;\n",
       "    }\n",
       "\n",
       "    .dataframe thead th {\n",
       "        text-align: right;\n",
       "    }\n",
       "</style>\n",
       "<table border=\"1\" class=\"dataframe\">\n",
       "  <thead>\n",
       "    <tr style=\"text-align: right;\">\n",
       "      <th></th>\n",
       "      <th>Company_name</th>\n",
       "      <th>Companyname_clean</th>\n",
       "      <th>Country</th>\n",
       "      <th>Zipcode</th>\n",
       "      <th>City</th>\n",
       "      <th>Address</th>\n",
       "      <th>USt.-IdNr.</th>\n",
       "      <th>ID</th>\n",
       "    </tr>\n",
       "  </thead>\n",
       "  <tbody>\n",
       "    <tr>\n",
       "      <td>14351</td>\n",
       "      <td>Eqos Energie</td>\n",
       "      <td>eqos energie</td>\n",
       "      <td>AUSTRIA</td>\n",
       "      <td>NaN</td>\n",
       "      <td>steyr</td>\n",
       "      <td>NaN</td>\n",
       "      <td>NaN</td>\n",
       "      <td>850821</td>\n",
       "    </tr>\n",
       "    <tr>\n",
       "      <td>14364</td>\n",
       "      <td>Eqos</td>\n",
       "      <td>eqos</td>\n",
       "      <td>AUSTRIA</td>\n",
       "      <td>NaN</td>\n",
       "      <td>steyr</td>\n",
       "      <td>NaN</td>\n",
       "      <td>NaN</td>\n",
       "      <td>850713</td>\n",
       "    </tr>\n",
       "  </tbody>\n",
       "</table>\n",
       "</div>"
      ],
      "text/plain": [
       "       Company_name Companyname_clean  Country Zipcode   City Address  \\\n",
       "14351  Eqos Energie      eqos energie  AUSTRIA     NaN  steyr     NaN   \n",
       "14364          Eqos              eqos  AUSTRIA     NaN  steyr     NaN   \n",
       "\n",
       "      USt.-IdNr.      ID  \n",
       "14351        NaN  850821  \n",
       "14364        NaN  850713  "
      ]
     },
     "execution_count": 710,
     "metadata": {},
     "output_type": "execute_result"
    }
   ],
   "source": [
    "ulist[ulist['Companyname_clean'].str.startswith('eqos')]   # case 1"
   ]
  },
  {
   "cell_type": "code",
   "execution_count": 711,
   "metadata": {},
   "outputs": [
    {
     "data": {
      "text/html": [
       "<div>\n",
       "<style scoped>\n",
       "    .dataframe tbody tr th:only-of-type {\n",
       "        vertical-align: middle;\n",
       "    }\n",
       "\n",
       "    .dataframe tbody tr th {\n",
       "        vertical-align: top;\n",
       "    }\n",
       "\n",
       "    .dataframe thead th {\n",
       "        text-align: right;\n",
       "    }\n",
       "</style>\n",
       "<table border=\"1\" class=\"dataframe\">\n",
       "  <thead>\n",
       "    <tr style=\"text-align: right;\">\n",
       "      <th></th>\n",
       "      <th>Company_name</th>\n",
       "      <th>Companyname_clean</th>\n",
       "      <th>Country</th>\n",
       "      <th>Zipcode</th>\n",
       "      <th>City</th>\n",
       "      <th>Address</th>\n",
       "      <th>USt.-IdNr.</th>\n",
       "      <th>ID</th>\n",
       "    </tr>\n",
       "  </thead>\n",
       "  <tbody>\n",
       "    <tr>\n",
       "      <td>13692</td>\n",
       "      <td>ams-OSRAM Asia Pacific Pte. Ltd.</td>\n",
       "      <td>ams-osram asia pacific pte. ltd.</td>\n",
       "      <td>SINGAPORE</td>\n",
       "      <td>569877</td>\n",
       "      <td>singapore</td>\n",
       "      <td>7000 Ang Mo Kio Ave 5</td>\n",
       "      <td>NaN</td>\n",
       "      <td>290745</td>\n",
       "    </tr>\n",
       "    <tr>\n",
       "      <td>13791</td>\n",
       "      <td>TTS Tooltechnic Systems North  America, LP</td>\n",
       "      <td>tts tooltechnic systems north  america, lp</td>\n",
       "      <td>UNITEDSTATES</td>\n",
       "      <td>IN 46052</td>\n",
       "      <td>lebanon</td>\n",
       "      <td>400 N. Enterprise Blvd.</td>\n",
       "      <td>NaN</td>\n",
       "      <td>804190</td>\n",
       "    </tr>\n",
       "    <tr>\n",
       "      <td>13858</td>\n",
       "      <td>Boehringer Ingelheim Singapore Pte Ltd</td>\n",
       "      <td>boehringer ingelheim singapore pte ltd</td>\n",
       "      <td>SINGAPORE</td>\n",
       "      <td>199555</td>\n",
       "      <td>singapore</td>\n",
       "      <td>300 Beach Road</td>\n",
       "      <td>NaN</td>\n",
       "      <td>802212</td>\n",
       "    </tr>\n",
       "    <tr>\n",
       "      <td>13989</td>\n",
       "      <td>Schaeffler (Singapore) Pte. Ltd.</td>\n",
       "      <td>schaeffler (singapore) pte. ltd.</td>\n",
       "      <td>SINGAPORE</td>\n",
       "      <td>556741</td>\n",
       "      <td>singapore</td>\n",
       "      <td>151 Lorong Chuan #06-01</td>\n",
       "      <td>NaN</td>\n",
       "      <td>800092</td>\n",
       "    </tr>\n",
       "    <tr>\n",
       "      <td>14363</td>\n",
       "      <td>VIESGO INFRAESTRUCTURAS ENERGETICAS S.L</td>\n",
       "      <td>viesgo infraestructuras energeticas s.l</td>\n",
       "      <td>SPAIN</td>\n",
       "      <td>NaN</td>\n",
       "      <td>spain</td>\n",
       "      <td>NaN</td>\n",
       "      <td>NaN</td>\n",
       "      <td>850166</td>\n",
       "    </tr>\n",
       "  </tbody>\n",
       "</table>\n",
       "</div>"
      ],
      "text/plain": [
       "                                     Company_name  \\\n",
       "13692            ams-OSRAM Asia Pacific Pte. Ltd.   \n",
       "13791  TTS Tooltechnic Systems North  America, LP   \n",
       "13858      Boehringer Ingelheim Singapore Pte Ltd   \n",
       "13989            Schaeffler (Singapore) Pte. Ltd.   \n",
       "14363     VIESGO INFRAESTRUCTURAS ENERGETICAS S.L   \n",
       "\n",
       "                                Companyname_clean       Country   Zipcode  \\\n",
       "13692            ams-osram asia pacific pte. ltd.     SINGAPORE    569877   \n",
       "13791  tts tooltechnic systems north  america, lp  UNITEDSTATES  IN 46052   \n",
       "13858      boehringer ingelheim singapore pte ltd     SINGAPORE    199555   \n",
       "13989            schaeffler (singapore) pte. ltd.     SINGAPORE    556741   \n",
       "14363     viesgo infraestructuras energeticas s.l         SPAIN       NaN   \n",
       "\n",
       "            City                  Address USt.-IdNr.      ID  \n",
       "13692  singapore    7000 Ang Mo Kio Ave 5        NaN  290745  \n",
       "13791    lebanon  400 N. Enterprise Blvd.        NaN  804190  \n",
       "13858  singapore           300 Beach Road        NaN  802212  \n",
       "13989  singapore  151 Lorong Chuan #06-01        NaN  800092  \n",
       "14363      spain                      NaN        NaN  850166  "
      ]
     },
     "execution_count": 711,
     "metadata": {},
     "output_type": "execute_result"
    }
   ],
   "source": [
    "ulist.loc[case2_index].tail(5)    # case 2"
   ]
  },
  {
   "cell_type": "code",
   "execution_count": 712,
   "metadata": {},
   "outputs": [
    {
     "data": {
      "text/html": [
       "<div>\n",
       "<style scoped>\n",
       "    .dataframe tbody tr th:only-of-type {\n",
       "        vertical-align: middle;\n",
       "    }\n",
       "\n",
       "    .dataframe tbody tr th {\n",
       "        vertical-align: top;\n",
       "    }\n",
       "\n",
       "    .dataframe thead th {\n",
       "        text-align: right;\n",
       "    }\n",
       "</style>\n",
       "<table border=\"1\" class=\"dataframe\">\n",
       "  <thead>\n",
       "    <tr style=\"text-align: right;\">\n",
       "      <th></th>\n",
       "      <th>Company_name</th>\n",
       "      <th>Companyname_clean</th>\n",
       "      <th>Country</th>\n",
       "      <th>Zipcode</th>\n",
       "      <th>City</th>\n",
       "      <th>Address</th>\n",
       "      <th>USt.-IdNr.</th>\n",
       "      <th>ID</th>\n",
       "    </tr>\n",
       "  </thead>\n",
       "  <tbody>\n",
       "    <tr>\n",
       "      <td>41</td>\n",
       "      <td>SERAG-WIESSNER GmbH &amp; Co. KG</td>\n",
       "      <td>serag-wiessner gmbh &amp; co. kg</td>\n",
       "      <td>GERMANY</td>\n",
       "      <td>95119</td>\n",
       "      <td>naila</td>\n",
       "      <td>Zum Kugelfang 8-12</td>\n",
       "      <td>NaN</td>\n",
       "      <td>NaN</td>\n",
       "    </tr>\n",
       "    <tr>\n",
       "      <td>112</td>\n",
       "      <td>Amtsgericht Ulm</td>\n",
       "      <td>amtsgericht ulm</td>\n",
       "      <td>GERMANY</td>\n",
       "      <td>89073</td>\n",
       "      <td>ulm</td>\n",
       "      <td>Zeughausgasse 14</td>\n",
       "      <td>NaN</td>\n",
       "      <td>NaN</td>\n",
       "    </tr>\n",
       "    <tr>\n",
       "      <td>148</td>\n",
       "      <td>ALUTEC SYSTEM-TECHNIK GMBH</td>\n",
       "      <td>alutec system-technik gmbh</td>\n",
       "      <td>GERMANY</td>\n",
       "      <td>74385</td>\n",
       "      <td>pleidelsheim</td>\n",
       "      <td>Zeppelinstr. 11</td>\n",
       "      <td>NaN</td>\n",
       "      <td>851837</td>\n",
       "    </tr>\n",
       "    <tr>\n",
       "      <td>230</td>\n",
       "      <td>Amtsgericht Bad Waldsee</td>\n",
       "      <td>amtsgericht bad waldsee</td>\n",
       "      <td>GERMANY</td>\n",
       "      <td>88339</td>\n",
       "      <td>waldsee</td>\n",
       "      <td>Wurzacher Str. 73</td>\n",
       "      <td>NaN</td>\n",
       "      <td>NaN</td>\n",
       "    </tr>\n",
       "    <tr>\n",
       "      <td>253</td>\n",
       "      <td>Aircraft Cabin Modification GmbH</td>\n",
       "      <td>aircraft cabin modification gmbh</td>\n",
       "      <td>GERMANY</td>\n",
       "      <td>87700</td>\n",
       "      <td>memmingen</td>\n",
       "      <td>Woringer Straße 11</td>\n",
       "      <td>NaN</td>\n",
       "      <td>851303</td>\n",
       "    </tr>\n",
       "  </tbody>\n",
       "</table>\n",
       "</div>"
      ],
      "text/plain": [
       "                         Company_name                 Companyname_clean  \\\n",
       "41       SERAG-WIESSNER GmbH & Co. KG      serag-wiessner gmbh & co. kg   \n",
       "112                   Amtsgericht Ulm                   amtsgericht ulm   \n",
       "148        ALUTEC SYSTEM-TECHNIK GMBH        alutec system-technik gmbh   \n",
       "230           Amtsgericht Bad Waldsee           amtsgericht bad waldsee   \n",
       "253  Aircraft Cabin Modification GmbH  aircraft cabin modification gmbh   \n",
       "\n",
       "     Country Zipcode          City             Address USt.-IdNr.      ID  \n",
       "41   GERMANY   95119         naila  Zum Kugelfang 8-12        NaN     NaN  \n",
       "112  GERMANY   89073           ulm    Zeughausgasse 14        NaN     NaN  \n",
       "148  GERMANY   74385  pleidelsheim     Zeppelinstr. 11        NaN  851837  \n",
       "230  GERMANY   88339       waldsee   Wurzacher Str. 73        NaN     NaN  \n",
       "253  GERMANY   87700     memmingen  Woringer Straße 11        NaN  851303  "
      ]
     },
     "execution_count": 712,
     "metadata": {},
     "output_type": "execute_result"
    }
   ],
   "source": [
    "ulist.loc[case3_index].head()    # case 3"
   ]
  },
  {
   "cell_type": "code",
   "execution_count": 713,
   "metadata": {},
   "outputs": [
    {
     "data": {
      "text/html": [
       "<div>\n",
       "<style scoped>\n",
       "    .dataframe tbody tr th:only-of-type {\n",
       "        vertical-align: middle;\n",
       "    }\n",
       "\n",
       "    .dataframe tbody tr th {\n",
       "        vertical-align: top;\n",
       "    }\n",
       "\n",
       "    .dataframe thead th {\n",
       "        text-align: right;\n",
       "    }\n",
       "</style>\n",
       "<table border=\"1\" class=\"dataframe\">\n",
       "  <thead>\n",
       "    <tr style=\"text-align: right;\">\n",
       "      <th></th>\n",
       "      <th>Company_name</th>\n",
       "      <th>Companyname_clean</th>\n",
       "      <th>Country</th>\n",
       "      <th>Zipcode</th>\n",
       "      <th>City</th>\n",
       "      <th>Address</th>\n",
       "      <th>USt.-IdNr.</th>\n",
       "      <th>ID</th>\n",
       "    </tr>\n",
       "  </thead>\n",
       "  <tbody>\n",
       "    <tr>\n",
       "      <td>1198</td>\n",
       "      <td>Aeroflot</td>\n",
       "      <td>aeroflot</td>\n",
       "      <td>RUSSIANFEDERATION</td>\n",
       "      <td>119002</td>\n",
       "      <td>moskau</td>\n",
       "      <td>ul. Arbat 10</td>\n",
       "      <td>NaN</td>\n",
       "      <td>803708</td>\n",
       "    </tr>\n",
       "    <tr>\n",
       "      <td>4392</td>\n",
       "      <td>Hyperglobus Globus Hypermarkets</td>\n",
       "      <td>hyperglobus globus hypermarkets</td>\n",
       "      <td>RUSSIANFEDERATION</td>\n",
       "      <td>125493</td>\n",
       "      <td>moskau</td>\n",
       "      <td>Personalabteilung</td>\n",
       "      <td>7743543761</td>\n",
       "      <td>160024</td>\n",
       "    </tr>\n",
       "    <tr>\n",
       "      <td>7143</td>\n",
       "      <td>Elemash</td>\n",
       "      <td>elemash</td>\n",
       "      <td>RUSSIANFEDERATION</td>\n",
       "      <td>NaN</td>\n",
       "      <td>moskau</td>\n",
       "      <td>Karl-Marx-Street</td>\n",
       "      <td>NaN</td>\n",
       "      <td>851849</td>\n",
       "    </tr>\n",
       "    <tr>\n",
       "      <td>13946</td>\n",
       "      <td>JSC \"Vnukova Airport\"</td>\n",
       "      <td>jsc \"vnukova airport\"</td>\n",
       "      <td>RUSSIANFEDERATION</td>\n",
       "      <td>119027</td>\n",
       "      <td>moskau</td>\n",
       "      <td>1st, Reysovaya Str.</td>\n",
       "      <td>NaN</td>\n",
       "      <td>800439</td>\n",
       "    </tr>\n",
       "    <tr>\n",
       "      <td>14359</td>\n",
       "      <td>DME - Flughafen Domodedevo</td>\n",
       "      <td>dme - flughafen domodedevo</td>\n",
       "      <td>RUSSIANFEDERATION</td>\n",
       "      <td>NaN</td>\n",
       "      <td>moskau</td>\n",
       "      <td>NaN</td>\n",
       "      <td>NaN</td>\n",
       "      <td>803710</td>\n",
       "    </tr>\n",
       "  </tbody>\n",
       "</table>\n",
       "</div>"
      ],
      "text/plain": [
       "                          Company_name                Companyname_clean  \\\n",
       "1198                          Aeroflot                         aeroflot   \n",
       "4392   Hyperglobus Globus Hypermarkets  hyperglobus globus hypermarkets   \n",
       "7143                           Elemash                          elemash   \n",
       "13946            JSC \"Vnukova Airport\"            jsc \"vnukova airport\"   \n",
       "14359       DME - Flughafen Domodedevo       dme - flughafen domodedevo   \n",
       "\n",
       "                 Country Zipcode    City              Address  USt.-IdNr.  \\\n",
       "1198   RUSSIANFEDERATION  119002  moskau         ul. Arbat 10         NaN   \n",
       "4392   RUSSIANFEDERATION  125493  moskau    Personalabteilung  7743543761   \n",
       "7143   RUSSIANFEDERATION     NaN  moskau     Karl-Marx-Street         NaN   \n",
       "13946  RUSSIANFEDERATION  119027  moskau  1st, Reysovaya Str.         NaN   \n",
       "14359  RUSSIANFEDERATION     NaN  moskau                  NaN         NaN   \n",
       "\n",
       "           ID  \n",
       "1198   803708  \n",
       "4392   160024  \n",
       "7143   851849  \n",
       "13946  800439  \n",
       "14359  803710  "
      ]
     },
     "execution_count": 713,
     "metadata": {},
     "output_type": "execute_result"
    }
   ],
   "source": [
    "ulist[ulist['City']=='moskau']    # case 4"
   ]
  },
  {
   "cell_type": "code",
   "execution_count": 714,
   "metadata": {},
   "outputs": [],
   "source": [
    "##Notes\n",
    "# Can be more standardized\n",
    "#list(set(ulist['Country'].unique()) -set(geo_countries))\n",
    "#list(set(geo_countries)- set(ulist['Country'].unique()))\n",
    "\n",
    "# Buggy\n",
    "#ulist.loc[a[a['City'].str.upper().isin(geo_countries)].index]\n",
    "#ulist[ulist['City']=='']\n",
    "\n",
    "\n",
    "# Entries to take care of:\n",
    "#ulist[ulist['Companyname_clean']=='brose north america']\n",
    "#ulist[ulist['Companyname_clean'].str.startswith('fraport')]\n",
    "#ulist[ulist['Companyname_clean'].str.startswith('schlage')]\n",
    "\n",
    "\n",
    "# ulist[ulist['Company_name'].str.endswith(tuple(suffix_list))] some finishes with gmbh some -gmbh and some even continues"
   ]
  },
  {
   "cell_type": "markdown",
   "metadata": {},
   "source": [
    "## 1.3 Dataset Standardization\n",
    "**Prefix, Middle, Suffix removal. Column Standardization**"
   ]
  },
  {
   "cell_type": "markdown",
   "metadata": {},
   "source": [
    "**Aim is to remove suffix and rest** ==> E.g: Sensient Imaging Technologies GmbH Chemiepark Bitterfeld-Wolfen"
   ]
  },
  {
   "cell_type": "code",
   "execution_count": 715,
   "metadata": {},
   "outputs": [],
   "source": [
    "ulist = ulist.assign(Idtrack=lambda ulist: range(1, len(ulist)+1))\n",
    "ulist_original = ulist.copy()"
   ]
  },
  {
   "cell_type": "code",
   "execution_count": 716,
   "metadata": {},
   "outputs": [],
   "source": [
    "# Suffix list for company names   (ordering is important! Will be fixed)\n",
    "suffix_list = ['gmbh', 'gmbh&co.', 'ggmbh', 'gmbh+co.', 'kg-gmbh', 'gmbh&co', 'ltd.', 'se',\n",
    "      'gmbh&co.kg', 'gmbh&cokg', 'gmbh.', 'gmbh,', 'gmbh&c', '(gmbh', 'mbh',\n",
    "               'company', 'incorporated', 'corporation', 'corp.', 'corp', 'inc',\n",
    "      '& co.', '& co',  'inc.', 's.p.a.', 'n.v.', 'a.g.', 'ag', 'nuf', 's.a.', 's.f.',\n",
    "      'oao', 'co.', 'co',\n",
    "              'soc.col.', 'stg', 'd.n.o.', 'ltda.', 'v.o.s.', 'a spol.',\n",
    "      u've\\xc5\\x99. obch. spol.', 'kgaa', 'o.e.', 's.f.', 's.n.c.', 's.a.p.a.', 'j.t.d.',\n",
    "      'v.o.f.', 'sp.j.', 'og', 'sd', ' i/s', 'ay', 'snc', 'oe', 'bt.', 's.s.', 'mb',\n",
    "      'ans', 'da', 'o.d.', 'hb', 'pt',\n",
    "              'unltd', 'ultd', 'sal', 'unlimited', 'saog', 'saoc', 'aj',\n",
    "      'yoaj', 'oaj', 'akc. spol.', 'a.s.',\n",
    "              'esv', 'gie', 'kv.', 'qk',\n",
    "              'pty. ltd.', 'pty ltd', 'ltd', 'l.t.d.', 'bvba', 'd.o.o.', 'ltda', 'gmbh',\n",
    "      'g.m.b.h', 'kft.', 'kht.', 'zrt.', 'ehf.', 's.a.r.l.', 'd.o.o.e.l.', 's. de r.l.',\n",
    "      'b.v.', 'tapui',\n",
    "      'sp. z.o.o.', 'sp. z o.o.', 'spółka z o.o.',\n",
    "      's.r.l.', 's.l.', 's.l.n.e.', 'ood', 'oy', 'rt.',\n",
    "      'teo', 'uab', 'scs', 'sprl', 'limited', 'bhd.', 'sdn. bhd.', 'sdn bhd', 'as',\n",
    "      'lda.', 'tov', 'pp',\n",
    "              'pllc', 'llc', 'l.l.c.', 'plc.', 'plc', 'hf.', 'oyj',\n",
    "      'a.e.', 'nyrt.', 'p.l.c.', 'sh.a.', 's.a.', 's.r.l.', 'srl.', 'srl', 'aat', '3at', 'd.d.',\n",
    "      's.r.o.', 'spol. s r.o.', 's.m.b.a.', 'smba', 'sarl', 'nv', 'sa', 'aps',\n",
    "      'a/s', 'p/s', 'sae', 'sasu', 'eurl', 'ae', 'cpt', 'as', 'ab', 'asa', 'ooo', 'dat',\n",
    "      'vat', 'zat', 'mchj', 'a.d.',\n",
    "              'lllp', 'l.l.l.p.',\n",
    "              'llp', 'l.l.p.', 'sp.p.', 's.c.a.', 's.c.s.',\n",
    "              'gmbh & co. kg', 'lp', 'l.p.', 's.c.s.',\n",
    "      's.c.p.a', 'comm.v', 'k.d.', 'k.d.a.', 's. en c.', 'e.e.', 's.a.s.', 's. en c.',\n",
    "      'c.v.', 's.k.a.', 'sp.k.', 's.cra.', 'ky', 'scs', 'kg', 'kd', 'k/s', 'ee', 'secs',\n",
    "      'kda', 'ks', 'kb','kt',\n",
    "              'sicav',\n",
    "              'nl',\n",
    "              'vzw', 'ses.', 'gte.',\n",
    "              'private', 'pte', 'xk',\n",
    "              'p.c.', 'vof', 'snc',\n",
    "              'pllc', 'p.l.l.c.',\n",
    "              'e.u.', 's.p.', 't:mi', 'tmi', 'e.v.', 'e.c.', 'et', 'obrt',\n",
    "      'fie', 'ij', 'fop', 'xt']\n",
    "\n",
    "# Source of company suffices https://github.com/psolin/cleanco/blob/master/cleanco/termdata.py"
   ]
  },
  {
   "cell_type": "code",
   "execution_count": 717,
   "metadata": {},
   "outputs": [
    {
     "data": {
      "text/plain": [
       "0                      bistum essen\n",
       "1        kbs kleider bauer betriebs\n",
       "2                  elektro ing-plan\n",
       "3               netzdesign-vobornik\n",
       "4    niles-simmons industrieanlagen\n",
       "5                    gemac chemnitz\n",
       "6                            emdion\n",
       "7         fiege logistik stiftung &\n",
       "8              william prym holding\n",
       "9                      leoni kerpen\n",
       "Name: Companyname_clean, dtype: object"
      ]
     },
     "execution_count": 717,
     "metadata": {},
     "output_type": "execute_result"
    }
   ],
   "source": [
    "def suffix_remover(companyname):    # Running multiple times (2 is good) removes suffix effectively\n",
    "    for i in suffix_list:\n",
    "        #if i in re.split(' |-', companyname):   # doesn't work properly\n",
    "        if i == companyname.split()[0]:    # tokenization\n",
    "            return ' '.join(companyname.split()[companyname.split().index(i)+1:])    # If first index is prefix then take rest of the string\n",
    "        elif i in companyname.split():\n",
    "            return ' '.join(companyname.split()[:companyname.split().index(i)])    # suffix and rest are removed\n",
    "            #return companyname.split()[:companyname.split().index(i)]\n",
    "\n",
    "        elif i in companyname.split('-'):\n",
    "            return ' '.join(companyname.split('-')[:companyname.split('-').index(i)])\n",
    "            #return [x.replace(' ', '') for x in companyname.split('-')[:companyname.split('-').index(i)]]\n",
    "    return companyname\n",
    "\n",
    "ulist['Companyname_clean'] = ulist['Companyname_clean'].apply(suffix_remover)\n",
    "ulist['Companyname_clean'].head(10)"
   ]
  },
  {
   "cell_type": "code",
   "execution_count": 718,
   "metadata": {},
   "outputs": [
    {
     "name": "stdout",
     "output_type": "stream",
     "text": [
      "volks\n",
      "volkswagen financial services\n"
     ]
    }
   ],
   "source": [
    "# Bug fixed\n",
    "companyname='volkswagen financial services ag'\n",
    "i='ag'\n",
    "if i in companyname.split():\n",
    "    print(companyname[:companyname.index(i)-1])\n",
    "    \n",
    "if i in companyname.split():\n",
    "    print(' '.join(companyname.split()[:companyname.split().index(i)]))"
   ]
  },
  {
   "cell_type": "code",
   "execution_count": 719,
   "metadata": {},
   "outputs": [
    {
     "name": "stdout",
     "output_type": "stream",
     "text": [
      "watson\n"
     ]
    }
   ],
   "source": [
    "# Prefix updated\n",
    "companyname='as watson'\n",
    "pref=['as', 'gmbh', 'ds']\n",
    "  \n",
    "for i in pref:\n",
    "    if i == companyname.split()[0]:\n",
    "        print(' '.join(companyname.split()[companyname.split().index(i)+1:]))\n",
    "    elif i in companyname.split():\n",
    "        print(' '.join(companyname.split()[:companyname.split().index(i)]))"
   ]
  },
  {
   "cell_type": "code",
   "execution_count": 720,
   "metadata": {},
   "outputs": [
    {
     "data": {
      "text/html": [
       "<div>\n",
       "<style scoped>\n",
       "    .dataframe tbody tr th:only-of-type {\n",
       "        vertical-align: middle;\n",
       "    }\n",
       "\n",
       "    .dataframe tbody tr th {\n",
       "        vertical-align: top;\n",
       "    }\n",
       "\n",
       "    .dataframe thead th {\n",
       "        text-align: right;\n",
       "    }\n",
       "</style>\n",
       "<table border=\"1\" class=\"dataframe\">\n",
       "  <thead>\n",
       "    <tr style=\"text-align: right;\">\n",
       "      <th></th>\n",
       "      <th>Company_name</th>\n",
       "      <th>Companyname_clean</th>\n",
       "      <th>Country</th>\n",
       "      <th>Zipcode</th>\n",
       "      <th>City</th>\n",
       "      <th>Address</th>\n",
       "      <th>USt.-IdNr.</th>\n",
       "      <th>ID</th>\n",
       "      <th>Idtrack</th>\n",
       "    </tr>\n",
       "  </thead>\n",
       "  <tbody>\n",
       "  </tbody>\n",
       "</table>\n",
       "</div>"
      ],
      "text/plain": [
       "Empty DataFrame\n",
       "Columns: [Company_name, Companyname_clean, Country, Zipcode, City, Address, USt.-IdNr., ID, Idtrack]\n",
       "Index: []"
      ]
     },
     "execution_count": 720,
     "metadata": {},
     "output_type": "execute_result"
    }
   ],
   "source": [
    "ulist[ulist['Companyname_clean'] == '']"
   ]
  },
  {
   "cell_type": "code",
   "execution_count": 721,
   "metadata": {},
   "outputs": [
    {
     "data": {
      "text/html": [
       "<div>\n",
       "<style scoped>\n",
       "    .dataframe tbody tr th:only-of-type {\n",
       "        vertical-align: middle;\n",
       "    }\n",
       "\n",
       "    .dataframe tbody tr th {\n",
       "        vertical-align: top;\n",
       "    }\n",
       "\n",
       "    .dataframe thead th {\n",
       "        text-align: right;\n",
       "    }\n",
       "</style>\n",
       "<table border=\"1\" class=\"dataframe\">\n",
       "  <thead>\n",
       "    <tr style=\"text-align: right;\">\n",
       "      <th></th>\n",
       "      <th>Company_name</th>\n",
       "      <th>Companyname_clean</th>\n",
       "      <th>Country</th>\n",
       "      <th>Zipcode</th>\n",
       "      <th>City</th>\n",
       "      <th>Address</th>\n",
       "      <th>USt.-IdNr.</th>\n",
       "      <th>ID</th>\n",
       "      <th>Idtrack</th>\n",
       "    </tr>\n",
       "  </thead>\n",
       "  <tbody>\n",
       "    <tr>\n",
       "      <td>4195</td>\n",
       "      <td>AS Watson</td>\n",
       "      <td>watson</td>\n",
       "      <td>NETHERLANDS</td>\n",
       "      <td>6666 LT</td>\n",
       "      <td>heteren</td>\n",
       "      <td>Poort van Midden Gelderland Rood 24</td>\n",
       "      <td>NaN</td>\n",
       "      <td>331187</td>\n",
       "      <td>4196</td>\n",
       "    </tr>\n",
       "    <tr>\n",
       "      <td>4929</td>\n",
       "      <td>AS Watson</td>\n",
       "      <td>watson</td>\n",
       "      <td>NETHERLANDS</td>\n",
       "      <td>3972</td>\n",
       "      <td>darenswoude</td>\n",
       "      <td>Nijborg 17</td>\n",
       "      <td>NaN</td>\n",
       "      <td>803522</td>\n",
       "      <td>4930</td>\n",
       "    </tr>\n",
       "  </tbody>\n",
       "</table>\n",
       "</div>"
      ],
      "text/plain": [
       "     Company_name Companyname_clean      Country  Zipcode         City  \\\n",
       "4195    AS Watson            watson  NETHERLANDS  6666 LT      heteren   \n",
       "4929    AS Watson            watson  NETHERLANDS     3972  darenswoude   \n",
       "\n",
       "                                  Address USt.-IdNr.      ID  Idtrack  \n",
       "4195  Poort van Midden Gelderland Rood 24        NaN  331187     4196  \n",
       "4929                           Nijborg 17        NaN  803522     4930  "
      ]
     },
     "execution_count": 721,
     "metadata": {},
     "output_type": "execute_result"
    }
   ],
   "source": [
    "ulist[ulist['Company_name'] == 'AS Watson']"
   ]
  },
  {
   "cell_type": "markdown",
   "metadata": {},
   "source": [
    "## Remaining suffix problem"
   ]
  },
  {
   "cell_type": "code",
   "execution_count": 722,
   "metadata": {},
   "outputs": [
    {
     "name": "stdout",
     "output_type": "stream",
     "text": [
      "Remaining suffix as gmbh (most common): 41\n"
     ]
    }
   ],
   "source": [
    "print('Remaining suffix as gmbh (most common):', len(ulist[ulist['Companyname_clean'].str.contains('gmbh')]))"
   ]
  },
  {
   "cell_type": "code",
   "execution_count": 723,
   "metadata": {},
   "outputs": [
    {
     "data": {
      "text/plain": [
       "Company_name         BOSCH SICHERHEITSSYSTEME GMB H\n",
       "Companyname_clean    bosch sicherheitssysteme gmb h\n",
       "Country                                     GERMANY\n",
       "Zipcode                                       85630\n",
       "City                                      grasbrunn\n",
       "Address                  WERNER-VON-SIEMENS-RING 10\n",
       "USt.-IdNr.                              DE813474672\n",
       "ID                                           902003\n",
       "Idtrack                                         565\n",
       "Name: 564, dtype: object"
      ]
     },
     "execution_count": 723,
     "metadata": {},
     "output_type": "execute_result"
    }
   ],
   "source": [
    "ulist.iloc[564]"
   ]
  },
  {
   "cell_type": "code",
   "execution_count": 724,
   "metadata": {},
   "outputs": [],
   "source": [
    "ulist[\"Companyname_clean\"] = ulist[\"Companyname_clean\"].str.replace('\\W', '')      # special characters are removed, white space etc."
   ]
  },
  {
   "cell_type": "code",
   "execution_count": 725,
   "metadata": {},
   "outputs": [],
   "source": [
    "# Remove some prefix, middle, suffices from all companynames (clear typos: operational servicesGmbH & Co. KG)\n",
    "remove_list = ['gmbh']   # stopwords approach, what about stiftung, holding etc.\n",
    "\n",
    "def pre_middle_suffix_remove(companyname):   # appylying this function after special characters (+ white spaces) are removed\n",
    "    for i in remove_list:\n",
    "        if i in companyname:\n",
    "            return companyname.replace(i, '')\n",
    "    return companyname\n",
    "\n",
    "ulist['Companyname_clean'] = ulist['Companyname_clean'].apply(pre_middle_suffix_remove)"
   ]
  },
  {
   "cell_type": "code",
   "execution_count": 726,
   "metadata": {},
   "outputs": [
    {
     "name": "stdout",
     "output_type": "stream",
     "text": [
      "Original Companyname: Technimark-Eisbär GmbHKunststoff- und Metallverarb.\n",
      "Cleaned Companyname: technimarkeisbärkunststoffundmetallverarb\n",
      "Number of gmbh left: 0\n"
     ]
    }
   ],
   "source": [
    "# List of gmbh contained entries: [x for x in ulist['Companyname_clean'] if any(tag in x for tag in remove_list)]\n",
    "print('Original Companyname:', ulist.loc[554, 'Company_name'])   # An Example with GmbH\n",
    "print('Cleaned Companyname:', ulist.loc[554, 'Companyname_clean'])\n",
    "print('Number of gmbh left:', len(ulist[ulist['Companyname_clean'].str.contains('gmbh')]))"
   ]
  },
  {
   "cell_type": "code",
   "execution_count": 727,
   "metadata": {},
   "outputs": [],
   "source": [
    "# a = list(set(ulist[ulist.loc[:,['Companyname_clean', 'Country', 'City']].duplicated()].index) - set(ulist[ulist.loc[:,['Companyname_clean', 'Country', 'Zipcode', 'City']].duplicated()].index))\n",
    "# a.sort()\n",
    "# ulist.loc[a]"
   ]
  },
  {
   "cell_type": "code",
   "execution_count": 728,
   "metadata": {},
   "outputs": [],
   "source": [
    "#ulist[ulist['Companyname_clean'].str.startswith('freieund')]\n",
    "#ulist[ulist['Companyname_clean'].str.startswith('freieundhansestadthamburg')]"
   ]
  },
  {
   "cell_type": "markdown",
   "metadata": {},
   "source": [
    "## 2. Duplicates and Grouping them together"
   ]
  },
  {
   "cell_type": "code",
   "execution_count": 729,
   "metadata": {},
   "outputs": [],
   "source": [
    "# moved NA of 'USt.-IdNr.' and 'ID' columns to bottom of df so that rows with more NA's will be removed because they are at the bottom.\n",
    "sorted_duplicates = ulist.sort_values(by=[\"USt.-IdNr.\", \"ID\"], na_position='last')      # move NAs to the bottom of the df"
   ]
  },
  {
   "cell_type": "code",
   "execution_count": 730,
   "metadata": {},
   "outputs": [
    {
     "data": {
      "text/plain": [
       "Companyname_clean                              Country  City      \n",
       "freieundhansestadthamburg                      GERMANY  hamburg       6\n",
       "hiltideutschland                               GERMANY  kaufering     5\n",
       "fraport                                        GERMANY  frankfurt     5\n",
       "landeshauptstadtstuttgart                      GERMANY  stuttgart     5\n",
       "interflexdatensysteme                          GERMANY  stuttgart     4\n",
       "                                                                     ..\n",
       "zeagimmobilien                                 GERMANY  heilbronn     2\n",
       "gebäudewirtschafttrier                         GERMANY  trier         2\n",
       "jenaernahverkehr                               GERMANY  jena          2\n",
       "bombardiertransportationsharedservicesromania  ROMANIA  clujnapoca    2\n",
       "admedes                                        GERMANY  pforzheim     2\n",
       "Length: 516, dtype: int64"
      ]
     },
     "execution_count": 730,
     "metadata": {},
     "output_type": "execute_result"
    }
   ],
   "source": [
    "ulist.groupby(['Companyname_clean', 'Country', 'City']).size().sort_values(ascending=False)[:516]  # 515 companies have multiple entries"
   ]
  },
  {
   "cell_type": "code",
   "execution_count": 731,
   "metadata": {},
   "outputs": [
    {
     "data": {
      "text/html": [
       "<div>\n",
       "<style scoped>\n",
       "    .dataframe tbody tr th:only-of-type {\n",
       "        vertical-align: middle;\n",
       "    }\n",
       "\n",
       "    .dataframe tbody tr th {\n",
       "        vertical-align: top;\n",
       "    }\n",
       "\n",
       "    .dataframe thead th {\n",
       "        text-align: right;\n",
       "    }\n",
       "</style>\n",
       "<table border=\"1\" class=\"dataframe\">\n",
       "  <thead>\n",
       "    <tr style=\"text-align: right;\">\n",
       "      <th></th>\n",
       "      <th>Company_name</th>\n",
       "      <th>Companyname_clean</th>\n",
       "      <th>Country</th>\n",
       "      <th>Zipcode</th>\n",
       "      <th>City</th>\n",
       "      <th>Address</th>\n",
       "      <th>USt.-IdNr.</th>\n",
       "      <th>ID</th>\n",
       "      <th>Idtrack</th>\n",
       "    </tr>\n",
       "  </thead>\n",
       "  <tbody>\n",
       "    <tr>\n",
       "      <td>717</td>\n",
       "      <td>AURUBIS BELGIUM</td>\n",
       "      <td>aurubisbelgium</td>\n",
       "      <td>BELGIUM</td>\n",
       "      <td>2250</td>\n",
       "      <td>olen</td>\n",
       "      <td>WATERTORENSTRAAT 35</td>\n",
       "      <td>NaN</td>\n",
       "      <td>320482</td>\n",
       "      <td>718</td>\n",
       "    </tr>\n",
       "    <tr>\n",
       "      <td>8016</td>\n",
       "      <td>Aurubis AG</td>\n",
       "      <td>aurubis</td>\n",
       "      <td>GERMANY</td>\n",
       "      <td>20539</td>\n",
       "      <td>hamburg</td>\n",
       "      <td>Hovestrasse 50</td>\n",
       "      <td>NaN</td>\n",
       "      <td>NaN</td>\n",
       "      <td>8017</td>\n",
       "    </tr>\n",
       "    <tr>\n",
       "      <td>8017</td>\n",
       "      <td>Aurubis AG</td>\n",
       "      <td>aurubis</td>\n",
       "      <td>GERMANY</td>\n",
       "      <td>20539</td>\n",
       "      <td>hamburg</td>\n",
       "      <td>Hovestr. 50</td>\n",
       "      <td>DE118514155</td>\n",
       "      <td>803007</td>\n",
       "      <td>8018</td>\n",
       "    </tr>\n",
       "    <tr>\n",
       "      <td>8018</td>\n",
       "      <td>Aurubis AG</td>\n",
       "      <td>aurubis</td>\n",
       "      <td>GERMANY</td>\n",
       "      <td>20539</td>\n",
       "      <td>hamburg</td>\n",
       "      <td>Hovestr. 50</td>\n",
       "      <td>DE118514155</td>\n",
       "      <td>160616</td>\n",
       "      <td>8019</td>\n",
       "    </tr>\n",
       "  </tbody>\n",
       "</table>\n",
       "</div>"
      ],
      "text/plain": [
       "         Company_name Companyname_clean  Country Zipcode     City  \\\n",
       "717   AURUBIS BELGIUM    aurubisbelgium  BELGIUM    2250     olen   \n",
       "8016       Aurubis AG           aurubis  GERMANY   20539  hamburg   \n",
       "8017       Aurubis AG           aurubis  GERMANY   20539  hamburg   \n",
       "8018     Aurubis AG             aurubis  GERMANY   20539  hamburg   \n",
       "\n",
       "                  Address   USt.-IdNr.      ID  Idtrack  \n",
       "717   WATERTORENSTRAAT 35          NaN  320482      718  \n",
       "8016       Hovestrasse 50          NaN     NaN     8017  \n",
       "8017          Hovestr. 50  DE118514155  803007     8018  \n",
       "8018          Hovestr. 50  DE118514155  160616     8019  "
      ]
     },
     "execution_count": 731,
     "metadata": {},
     "output_type": "execute_result"
    }
   ],
   "source": [
    "ulist[ulist['Companyname_clean'].str.startswith('aurubis')]"
   ]
  },
  {
   "cell_type": "code",
   "execution_count": 732,
   "metadata": {},
   "outputs": [],
   "source": [
    "ulist['Address'] = ulist.sort_values(by=['Address'],na_position='last').groupby('Companyname_clean')['Address'].transform('first')"
   ]
  },
  {
   "cell_type": "code",
   "execution_count": 734,
   "metadata": {},
   "outputs": [
    {
     "data": {
      "text/html": [
       "<div>\n",
       "<style scoped>\n",
       "    .dataframe tbody tr th:only-of-type {\n",
       "        vertical-align: middle;\n",
       "    }\n",
       "\n",
       "    .dataframe tbody tr th {\n",
       "        vertical-align: top;\n",
       "    }\n",
       "\n",
       "    .dataframe thead th {\n",
       "        text-align: right;\n",
       "    }\n",
       "</style>\n",
       "<table border=\"1\" class=\"dataframe\">\n",
       "  <thead>\n",
       "    <tr style=\"text-align: right;\">\n",
       "      <th></th>\n",
       "      <th>Company_name</th>\n",
       "      <th>Companyname_clean</th>\n",
       "      <th>Country</th>\n",
       "      <th>Zipcode</th>\n",
       "      <th>City</th>\n",
       "      <th>Address</th>\n",
       "      <th>USt.-IdNr.</th>\n",
       "      <th>ID</th>\n",
       "      <th>Idtrack</th>\n",
       "    </tr>\n",
       "  </thead>\n",
       "  <tbody>\n",
       "    <tr>\n",
       "      <td>717</td>\n",
       "      <td>AURUBIS BELGIUM</td>\n",
       "      <td>aurubisbelgium</td>\n",
       "      <td>BELGIUM</td>\n",
       "      <td>2250</td>\n",
       "      <td>olen</td>\n",
       "      <td>WATERTORENSTRAAT 35</td>\n",
       "      <td>NaN</td>\n",
       "      <td>320482</td>\n",
       "      <td>718</td>\n",
       "    </tr>\n",
       "    <tr>\n",
       "      <td>8016</td>\n",
       "      <td>Aurubis AG</td>\n",
       "      <td>aurubis</td>\n",
       "      <td>GERMANY</td>\n",
       "      <td>20539</td>\n",
       "      <td>hamburg</td>\n",
       "      <td>Hovestr. 50</td>\n",
       "      <td>NaN</td>\n",
       "      <td>NaN</td>\n",
       "      <td>8017</td>\n",
       "    </tr>\n",
       "    <tr>\n",
       "      <td>8017</td>\n",
       "      <td>Aurubis AG</td>\n",
       "      <td>aurubis</td>\n",
       "      <td>GERMANY</td>\n",
       "      <td>20539</td>\n",
       "      <td>hamburg</td>\n",
       "      <td>Hovestr. 50</td>\n",
       "      <td>DE118514155</td>\n",
       "      <td>803007</td>\n",
       "      <td>8018</td>\n",
       "    </tr>\n",
       "    <tr>\n",
       "      <td>8018</td>\n",
       "      <td>Aurubis AG</td>\n",
       "      <td>aurubis</td>\n",
       "      <td>GERMANY</td>\n",
       "      <td>20539</td>\n",
       "      <td>hamburg</td>\n",
       "      <td>Hovestr. 50</td>\n",
       "      <td>DE118514155</td>\n",
       "      <td>160616</td>\n",
       "      <td>8019</td>\n",
       "    </tr>\n",
       "  </tbody>\n",
       "</table>\n",
       "</div>"
      ],
      "text/plain": [
       "         Company_name Companyname_clean  Country Zipcode     City  \\\n",
       "717   AURUBIS BELGIUM    aurubisbelgium  BELGIUM    2250     olen   \n",
       "8016       Aurubis AG           aurubis  GERMANY   20539  hamburg   \n",
       "8017       Aurubis AG           aurubis  GERMANY   20539  hamburg   \n",
       "8018     Aurubis AG             aurubis  GERMANY   20539  hamburg   \n",
       "\n",
       "                  Address   USt.-IdNr.      ID  Idtrack  \n",
       "717   WATERTORENSTRAAT 35          NaN  320482      718  \n",
       "8016          Hovestr. 50          NaN     NaN     8017  \n",
       "8017          Hovestr. 50  DE118514155  803007     8018  \n",
       "8018          Hovestr. 50  DE118514155  160616     8019  "
      ]
     },
     "execution_count": 734,
     "metadata": {},
     "output_type": "execute_result"
    }
   ],
   "source": [
    "ulist[ulist['Companyname_clean'].str.startswith('aurubis')]"
   ]
  },
  {
   "cell_type": "code",
   "execution_count": 49,
   "metadata": {},
   "outputs": [],
   "source": [
    "# manytoone_dict=ulist.groupby(['Companyname_clean', 'Country', 'City'], dropna=False).apply(lambda x: x['Company_name'].tolist()).to_dict()\n",
    "#dropna=False doesn't work in my pandas version. So, another approach==>"
   ]
  },
  {
   "cell_type": "code",
   "execution_count": 55,
   "metadata": {},
   "outputs": [
    {
     "data": {
      "text/plain": [
       "Company_name            0\n",
       "Companyname_clean       0\n",
       "Country               430\n",
       "Zipcode               312\n",
       "City                  648\n",
       "Address               439\n",
       "USt.-IdNr.           9701\n",
       "ID                   3677\n",
       "Idtrack                 0\n",
       "dtype: int64"
      ]
     },
     "execution_count": 55,
     "metadata": {},
     "output_type": "execute_result"
    }
   ],
   "source": [
    "ulist.isna().sum()"
   ]
  },
  {
   "cell_type": "code",
   "execution_count": 127,
   "metadata": {},
   "outputs": [],
   "source": [
    "# sort for address na last ==> try print address in many to one dictionary"
   ]
  },
  {
   "cell_type": "code",
   "execution_count": 128,
   "metadata": {},
   "outputs": [
    {
     "data": {
      "text/html": [
       "<div>\n",
       "<style scoped>\n",
       "    .dataframe tbody tr th:only-of-type {\n",
       "        vertical-align: middle;\n",
       "    }\n",
       "\n",
       "    .dataframe tbody tr th {\n",
       "        vertical-align: top;\n",
       "    }\n",
       "\n",
       "    .dataframe thead th {\n",
       "        text-align: right;\n",
       "    }\n",
       "</style>\n",
       "<table border=\"1\" class=\"dataframe\">\n",
       "  <thead>\n",
       "    <tr style=\"text-align: right;\">\n",
       "      <th></th>\n",
       "      <th>Company_name</th>\n",
       "      <th>Companyname_clean</th>\n",
       "      <th>Country</th>\n",
       "      <th>Zipcode</th>\n",
       "      <th>City</th>\n",
       "      <th>Address</th>\n",
       "      <th>USt.-IdNr.</th>\n",
       "      <th>ID</th>\n",
       "      <th>Idtrack</th>\n",
       "    </tr>\n",
       "  </thead>\n",
       "  <tbody>\n",
       "    <tr>\n",
       "      <td>110</td>\n",
       "      <td>Fraport Slovenija, d.o.o</td>\n",
       "      <td>fraportslovenijadoo</td>\n",
       "      <td>NaN</td>\n",
       "      <td>4210</td>\n",
       "      <td>brnikaerodrom</td>\n",
       "      <td>Zg. Brnik 130a</td>\n",
       "      <td>SI12574856</td>\n",
       "      <td>804393</td>\n",
       "      <td>111</td>\n",
       "    </tr>\n",
       "    <tr>\n",
       "      <td>250</td>\n",
       "      <td>Fraport Ground Services Austria GmbH</td>\n",
       "      <td>fraportgroundservicesaustria</td>\n",
       "      <td>AUSTRIA</td>\n",
       "      <td>1300</td>\n",
       "      <td>wien</td>\n",
       "      <td>World Trade Center</td>\n",
       "      <td>ATU47049206</td>\n",
       "      <td>160810</td>\n",
       "      <td>251</td>\n",
       "    </tr>\n",
       "    <tr>\n",
       "      <td>10045</td>\n",
       "      <td>FRAPORT AG</td>\n",
       "      <td>fraport</td>\n",
       "      <td>GERMANY</td>\n",
       "      <td>60547</td>\n",
       "      <td>frankfurt</td>\n",
       "      <td>Flughafen</td>\n",
       "      <td>DE114150623</td>\n",
       "      <td>160783</td>\n",
       "      <td>10046</td>\n",
       "    </tr>\n",
       "    <tr>\n",
       "      <td>10047</td>\n",
       "      <td>FRAPORT AG</td>\n",
       "      <td>fraport</td>\n",
       "      <td>GERMANY</td>\n",
       "      <td>60547</td>\n",
       "      <td>frankfurt</td>\n",
       "      <td>Flughafen</td>\n",
       "      <td>DE114150623</td>\n",
       "      <td>803054</td>\n",
       "      <td>10048</td>\n",
       "    </tr>\n",
       "    <tr>\n",
       "      <td>13513</td>\n",
       "      <td>Fraport AG ASM-LZ</td>\n",
       "      <td>fraport</td>\n",
       "      <td>GERMANY</td>\n",
       "      <td>60547</td>\n",
       "      <td>frankfurt</td>\n",
       "      <td>Airport Security Management</td>\n",
       "      <td>NaN</td>\n",
       "      <td>160160</td>\n",
       "      <td>13514</td>\n",
       "    </tr>\n",
       "    <tr>\n",
       "      <td>14101</td>\n",
       "      <td>Fraport AG IFM-FG31</td>\n",
       "      <td>fraport</td>\n",
       "      <td>GERMANY</td>\n",
       "      <td>60547</td>\n",
       "      <td>frankfurt</td>\n",
       "      <td></td>\n",
       "      <td>NaN</td>\n",
       "      <td>161023</td>\n",
       "      <td>14102</td>\n",
       "    </tr>\n",
       "    <tr>\n",
       "      <td>14102</td>\n",
       "      <td>Fraport AG IFM-FI21</td>\n",
       "      <td>fraport</td>\n",
       "      <td>GERMANY</td>\n",
       "      <td>60547</td>\n",
       "      <td>frankfurt</td>\n",
       "      <td></td>\n",
       "      <td>NaN</td>\n",
       "      <td>160018</td>\n",
       "      <td>14103</td>\n",
       "    </tr>\n",
       "  </tbody>\n",
       "</table>\n",
       "</div>"
      ],
      "text/plain": [
       "                               Company_name             Companyname_clean  \\\n",
       "110                Fraport Slovenija, d.o.o           fraportslovenijadoo   \n",
       "250    Fraport Ground Services Austria GmbH  fraportgroundservicesaustria   \n",
       "10045                          FRAPORT AG                         fraport   \n",
       "10047                            FRAPORT AG                       fraport   \n",
       "13513                     Fraport AG ASM-LZ                       fraport   \n",
       "14101                   Fraport AG IFM-FG31                       fraport   \n",
       "14102                   Fraport AG IFM-FI21                       fraport   \n",
       "\n",
       "       Country Zipcode           City                        Address  \\\n",
       "110        NaN    4210  brnikaerodrom                 Zg. Brnik 130a   \n",
       "250    AUSTRIA    1300           wien           World Trade Center     \n",
       "10045  GERMANY   60547      frankfurt                    Flughafen     \n",
       "10047  GERMANY   60547      frankfurt                      Flughafen   \n",
       "13513  GERMANY   60547      frankfurt  Airport Security Management     \n",
       "14101  GERMANY   60547      frankfurt                                  \n",
       "14102  GERMANY   60547      frankfurt                                  \n",
       "\n",
       "        USt.-IdNr.      ID  Idtrack  \n",
       "110     SI12574856  804393      111  \n",
       "250    ATU47049206  160810      251  \n",
       "10045  DE114150623  160783    10046  \n",
       "10047  DE114150623  803054    10048  \n",
       "13513          NaN  160160    13514  \n",
       "14101          NaN  161023    14102  \n",
       "14102          NaN  160018    14103  "
      ]
     },
     "execution_count": 128,
     "metadata": {},
     "output_type": "execute_result"
    }
   ],
   "source": [
    "ulist[ulist['Companyname_clean'].str.startswith('fraport')]"
   ]
  },
  {
   "cell_type": "code",
   "execution_count": 758,
   "metadata": {},
   "outputs": [],
   "source": [
    "cleanname_values = ulist.assign(City=lambda ulista: ulista.City.fillna(\"-\")).assign(Country=lambda ulista: ulista.Country.fillna(\"-\")).groupby(\n",
    "    ['Companyname_clean', 'Country', 'City'])[['Companyname_clean',  'Country', 'City']].apply(lambda g: list(map(tuple, g.values.tolist()))).to_dict()\n",
    "\n",
    "originalname_values = ulist.assign(City=lambda ulista: ulista.City.fillna(\"-\")).assign(Country=lambda ulista: ulista.Country.fillna(\"-\")).groupby(\n",
    "    ['Companyname_clean', 'Country', 'City'])[['Company_name',  'Country', 'City']].apply(lambda g: list(map(tuple, g.values.tolist()))).to_dict()\n",
    "\n",
    "#keys are simplified company names and values are originals+simplified"
   ]
  },
  {
   "cell_type": "code",
   "execution_count": 800,
   "metadata": {},
   "outputs": [],
   "source": [
    "cleanname_values = ulist.assign(City=lambda ulista: ulista.City.fillna(\"-\")).assign(Country=lambda ulista: ulista.Country.fillna(\"-\")).assign(\n",
    "    Address=lambda ulista: ulista.Address.fillna(\"-\")).groupby(\n",
    "    ['Companyname_clean', 'Country', 'City', 'Address'])[['Companyname_clean',  'Country', 'City']].apply(lambda g: list(map(tuple, g.values.tolist()))).to_dict()\n",
    "\n",
    "originalname_values = ulist.assign(City=lambda ulista: ulista.City.fillna(\"-\")).assign(Country=lambda ulista: ulista.Country.fillna(\"-\")).assign(\n",
    "    Address=lambda ulista: ulista.Address.fillna(\"-\")).groupby(\n",
    "    ['Companyname_clean', 'Country', 'City', 'Address'])[['Company_name',  'Country', 'City']].apply(lambda g: list(map(tuple, g.values.tolist()))).to_dict()\n",
    "\n",
    "#keys are simplified company names and values are originals+simplified"
   ]
  },
  {
   "cell_type": "code",
   "execution_count": 801,
   "metadata": {},
   "outputs": [
    {
     "data": {
      "text/plain": [
       "{('fraport',\n",
       "  'GERMANY',\n",
       "  'frankfurt',\n",
       "  'Airport Security Management'): [('FRAPORT AG  ',\n",
       "   'GERMANY',\n",
       "   'frankfurt'), ('FRAPORT AG', 'GERMANY', 'frankfurt'), ('Fraport AG ASM-LZ',\n",
       "   'GERMANY',\n",
       "   'frankfurt'), ('Fraport AG IFM-FG31',\n",
       "   'GERMANY',\n",
       "   'frankfurt'), ('Fraport AG IFM-FI21', 'GERMANY', 'frankfurt')]}"
      ]
     },
     "execution_count": 801,
     "metadata": {},
     "output_type": "execute_result"
    }
   ],
   "source": [
    "{k: originalname_values[k] for k in list(originalname_values)[4859:4860]}"
   ]
  },
  {
   "cell_type": "code",
   "execution_count": 802,
   "metadata": {},
   "outputs": [],
   "source": [
    "total = {}\n",
    "for x in originalname_values.keys():\n",
    "    if x in originalname_values.keys():\n",
    "        total[x] = originalname_values[x] + cleanname_values[x]"
   ]
  },
  {
   "cell_type": "code",
   "execution_count": 803,
   "metadata": {},
   "outputs": [
    {
     "data": {
      "text/plain": [
       "13938"
      ]
     },
     "execution_count": 803,
     "metadata": {},
     "output_type": "execute_result"
    }
   ],
   "source": [
    "len(total)"
   ]
  },
  {
   "cell_type": "code",
   "execution_count": 804,
   "metadata": {},
   "outputs": [
    {
     "data": {
      "text/plain": [
       "[('FRAPORT AG  ', 'GERMANY', 'frankfurt'),\n",
       " ('FRAPORT AG', 'GERMANY', 'frankfurt'),\n",
       " ('Fraport AG ASM-LZ', 'GERMANY', 'frankfurt'),\n",
       " ('Fraport AG IFM-FG31', 'GERMANY', 'frankfurt'),\n",
       " ('Fraport AG IFM-FI21', 'GERMANY', 'frankfurt'),\n",
       " ('fraport', 'GERMANY', 'frankfurt'),\n",
       " ('fraport', 'GERMANY', 'frankfurt'),\n",
       " ('fraport', 'GERMANY', 'frankfurt'),\n",
       " ('fraport', 'GERMANY', 'frankfurt'),\n",
       " ('fraport', 'GERMANY', 'frankfurt')]"
      ]
     },
     "execution_count": 804,
     "metadata": {},
     "output_type": "execute_result"
    }
   ],
   "source": [
    "total[('fraport', 'GERMANY', 'frankfurt', 'Airport Security Management')]"
   ]
  },
  {
   "cell_type": "code",
   "execution_count": 805,
   "metadata": {},
   "outputs": [
    {
     "data": {
      "text/plain": [
       "[('fraport', 'GERMANY', 'frankfurt', 'Airport Security Management')]"
      ]
     },
     "execution_count": 805,
     "metadata": {},
     "output_type": "execute_result"
    }
   ],
   "source": [
    "[k for k, v in total.items() if ('FRAPORT AG', 'GERMANY', 'frankfurt') in v]"
   ]
  },
  {
   "cell_type": "markdown",
   "metadata": {},
   "source": [
    "## Many-to-one company finding Function"
   ]
  },
  {
   "cell_type": "code",
   "execution_count": 806,
   "metadata": {},
   "outputs": [],
   "source": [
    "for i in total.keys():\n",
    "    if type(total[i]) is list:\n",
    "        total[i] = [(a.lower(),b, c) for a,b,c in total[i]]    # Converts company names all in lower case"
   ]
  },
  {
   "cell_type": "code",
   "execution_count": 807,
   "metadata": {},
   "outputs": [
    {
     "data": {
      "text/plain": [
       "[('fraport ag  ', 'GERMANY', 'frankfurt'),\n",
       " ('fraport ag', 'GERMANY', 'frankfurt'),\n",
       " ('fraport ag asm-lz', 'GERMANY', 'frankfurt'),\n",
       " ('fraport ag ifm-fg31', 'GERMANY', 'frankfurt'),\n",
       " ('fraport ag ifm-fi21', 'GERMANY', 'frankfurt'),\n",
       " ('fraport', 'GERMANY', 'frankfurt'),\n",
       " ('fraport', 'GERMANY', 'frankfurt'),\n",
       " ('fraport', 'GERMANY', 'frankfurt'),\n",
       " ('fraport', 'GERMANY', 'frankfurt'),\n",
       " ('fraport', 'GERMANY', 'frankfurt')]"
      ]
     },
     "execution_count": 807,
     "metadata": {},
     "output_type": "execute_result"
    }
   ],
   "source": [
    "(total[('fraport', 'GERMANY', 'frankfurt', 'Airport Security Management')])"
   ]
  },
  {
   "cell_type": "code",
   "execution_count": 808,
   "metadata": {},
   "outputs": [],
   "source": [
    "total = {k: set(v) for k,v in total.items()}   # Duplicated values in the keys are removed"
   ]
  },
  {
   "cell_type": "code",
   "execution_count": 809,
   "metadata": {},
   "outputs": [
    {
     "data": {
      "text/plain": [
       "{('fraport', 'GERMANY', 'frankfurt'),\n",
       " ('fraport ag', 'GERMANY', 'frankfurt'),\n",
       " ('fraport ag  ', 'GERMANY', 'frankfurt'),\n",
       " ('fraport ag asm-lz', 'GERMANY', 'frankfurt'),\n",
       " ('fraport ag ifm-fg31', 'GERMANY', 'frankfurt'),\n",
       " ('fraport ag ifm-fi21', 'GERMANY', 'frankfurt')}"
      ]
     },
     "execution_count": 809,
     "metadata": {},
     "output_type": "execute_result"
    }
   ],
   "source": [
    "(total[('fraport', 'GERMANY', 'frankfurt', 'Airport Security Management')])"
   ]
  },
  {
   "cell_type": "code",
   "execution_count": 810,
   "metadata": {},
   "outputs": [
    {
     "name": "stdout",
     "output_type": "stream",
     "text": [
      "volkswagen financial services ag\n",
      "vw financial services aktiengesellschaft\n"
     ]
    }
   ],
   "source": [
    "companyname='volkswagen financial services aktiengesellschaft'\n",
    "\n",
    "suffix_specific = {'aktiengesellschaft': 'ag', 'gesellschaft mit beschränkter haftung': 'gmbh'}\n",
    "# add https://en.wikipedia.org/wiki/List_of_legal_entity_types_by_country\n",
    "\n",
    "company_specific = {'volkswagen': 'vw'}\n",
    "mapper = {**suffix_specific, **company_specific}\n",
    "#mapper = {'aktiengesellschaft': 'ag', 'gesellschaft mit beschränkter haftung': 'gmbh'}\n",
    "\n",
    "for i in mapper.keys():\n",
    "    if i in companyname.split():\n",
    "        print(companyname.replace(i, mapper[i]))"
   ]
  },
  {
   "cell_type": "code",
   "execution_count": 811,
   "metadata": {},
   "outputs": [],
   "source": [
    "# improving\n",
    "def find_comp(x,y,z):\n",
    "    x= x.lower()\n",
    "    y= y.upper()\n",
    "    z= z.lower()\n",
    "    result = [k for k, v in total.items() if (x, y, z) in v]            # exact match\n",
    "    result_alt1 = [k for k, v in total.items() if (x, y, '-') in v]     # in case city is blank\n",
    "    result_alt2 = [k for k, v in total.items() if (x, '-', z) in v]     # in case country is blank\n",
    "    result_alt3 = [k for k, v in total.items() if (x.replace(' ',''), y, z) in v]   # remove whitespace (captures most entries without their suffix)\n",
    "    result_close = [k for k, v in total.items() if (' '.join(x.split()[:-1]), y, z) in v] # less than what you entered recommendation: input Fraport AG 2 ==> finds Fraport AG\n",
    "    \n",
    "    if result != []:\n",
    "        return result\n",
    "    elif result_alt1 != []:\n",
    "        return result_alt1\n",
    "    elif result_alt2 != []:\n",
    "        return result_alt2\n",
    "    elif result_alt3 != []:\n",
    "        return result_alt3\n",
    "    elif result_close != []:\n",
    "        return \"Are you looking for the company named *{}*?\".format(' '.join(x.split()[:-1]))  #E.g: find_comp('Fraport ag example', 'Germany', 'frankfurt')\n",
    "# if no result until here;        \n",
    "    for i in mapper.keys():     # Manuel rules here: Aktiengesellschaft=AG\n",
    "        if i in x.split():      #E.g: find_comp('Volkswagen Financial Services aktiengesellschaft', 'Germany', 'braunschweig')\n",
    "            #x = x.replace(i, mapper[i])\n",
    "            result_mapped1 = [k for k, v in total.items() if (x.replace(i, mapper[i]), y, z) in v]      # exact match after mapping manuel rules\n",
    "            result_mapped2 = [k for k, v in total.items() if (x.replace(i, mapper[i]), y, '-') in v]\n",
    "            result_mapped3 = [k for k, v in total.items() if (x.replace(i, mapper[i]), '-', z) in v]\n",
    "            result_close2 =  [k for k, v in total.items() if (' '.join(x.replace(i, mapper[i]).split()[:-1]), y, z) in v]   # for the recommendation part\n",
    "            if result_mapped1 != []:\n",
    "                return result_mapped1\n",
    "            elif result_mapped2 != []:\n",
    "                return result_mapped2\n",
    "            elif result_mapped3 != []:\n",
    "                return result_mapped3\n",
    "            elif result_close2!=[]:\n",
    "                return \"Are you looking for the company named *{}*?\".format(' '.join(x.replace(i, mapper[i]).split()[:-1]))\n",
    "        \n",
    "    else:\n",
    "        # Similarity measure later\n",
    "        return 'Not available'"
   ]
  },
  {
   "cell_type": "code",
   "execution_count": 812,
   "metadata": {},
   "outputs": [
    {
     "name": "stdout",
     "output_type": "stream",
     "text": [
      "[('1mustermannag1', 'GERMANY', '-', 'Musterstr. 7')]\n",
      "[('1mustermannag1', 'GERMANY', '-', 'Musterstr. 7')]\n",
      "[('fraport', 'GERMANY', 'frankfurt', 'Airport Security Management')]\n",
      "Not available\n"
     ]
    },
    {
     "data": {
      "text/plain": [
       "[('daikineuropenv', '-', 'oostende', 'Zandvoordestraat 300')]"
      ]
     },
     "execution_count": 812,
     "metadata": {},
     "output_type": "execute_result"
    }
   ],
   "source": [
    "print(find_comp('1Mustermann AG1', 'Germany', '-'))\n",
    "print(find_comp('1Mustermann AG1', 'Germany', 'Frankfurt'))   # Not in frankfurt but without a city entry\n",
    "\n",
    "print(find_comp('FRAPORT AG', 'Germany', 'Frankfurt'))\n",
    "print(find_comp('FRAPORT AG', 'Germany', '-'))\n",
    "\n",
    "# ulist[(ulist['Country'].isna())&(ulist['City'].notna())]\n",
    "find_comp('Daikin Europe n.v', 'Germany', 'oostende')"
   ]
  },
  {
   "cell_type": "code",
   "execution_count": 813,
   "metadata": {},
   "outputs": [
    {
     "data": {
      "text/plain": [
       "{('volkswagen financial services ag', 'GERMANY', 'braunschweig'),\n",
       " ('volkswagenfinancialservices', 'GERMANY', 'braunschweig')}"
      ]
     },
     "execution_count": 813,
     "metadata": {},
     "output_type": "execute_result"
    }
   ],
   "source": [
    "total[('volkswagenfinancialservices', 'GERMANY', 'braunschweig', 'IH-IMC')]"
   ]
  },
  {
   "cell_type": "code",
   "execution_count": 814,
   "metadata": {},
   "outputs": [
    {
     "name": "stdout",
     "output_type": "stream",
     "text": [
      "[('volkswagenfinancialservices', 'GERMANY', 'braunschweig', 'IH-IMC')]\n",
      "Are you looking for the company named *volkswagen financial services ag*?\n",
      "Are you looking for the company named *volkswagen financial services ag*?\n",
      "[('volkswagenfinancialservices', 'GERMANY', 'braunschweig', 'IH-IMC')]\n",
      "[('volkswagenfinancialservices', 'GERMANY', 'braunschweig', 'IH-IMC')]\n",
      "Not available\n"
     ]
    }
   ],
   "source": [
    "print(find_comp('Volkswagen Financial Services aktiengesellschaft', 'Germany', 'braunschweig'))   # AG = Aktiengesellschaft\n",
    "print(find_comp('Volkswagen Financial Services ag 2', 'Germany', 'braunschweig'))\n",
    "print(find_comp('Volkswagen Financial Services aktiengesellschaft 2', 'Germany', 'braunschweig'))\n",
    "print(find_comp('Volkswagen Financial Services', 'Germany', 'braunschweig'))   # 3 options: remove whitespace or suffix addition or contained in 'Volkswagen Financial Services ag'\n",
    "print(find_comp('VolkswagenFinancialServices', 'Germany', 'braunschweig'))\n",
    "print(find_comp('VolkswagenFinancialService', 'Germany', 'braunschweig'))   # similary measure later"
   ]
  },
  {
   "cell_type": "code",
   "execution_count": 815,
   "metadata": {},
   "outputs": [
    {
     "name": "stdout",
     "output_type": "stream",
     "text": [
      "Are you looking for the company named *fraport ag*?\n"
     ]
    }
   ],
   "source": [
    "print(find_comp('Fraport ag example', 'Germany', 'frankfurt'))   # Fraport AG available"
   ]
  },
  {
   "cell_type": "code",
   "execution_count": null,
   "metadata": {},
   "outputs": [],
   "source": []
  },
  {
   "cell_type": "code",
   "execution_count": null,
   "metadata": {},
   "outputs": [],
   "source": []
  },
  {
   "cell_type": "code",
   "execution_count": null,
   "metadata": {},
   "outputs": [],
   "source": []
  },
  {
   "cell_type": "markdown",
   "metadata": {},
   "source": [
    "**Next steps**\n",
    "- Dictionary will be tested more. Especially for blank entries. Working on it... with testing on specific entries like: Volkswagen Financial Services aktiengesellschaft\n",
    "- Some company names have white space and special characters. Will search a way to make input for any case more findable. Better\n",
    "- Dictionary has duplicated values for some keys and they will be removed for efficiency. Done\n",
    "- There can be well written company name and unique address to be outputed.\n",
    "- Function will be improved. Printed output, more rules in case of not matched entry (Volkswagen AG = Volkswagen Aktiengesellschaft). Also, need update for input with suffix. Working on it..."
   ]
  },
  {
   "cell_type": "code",
   "execution_count": null,
   "metadata": {},
   "outputs": [],
   "source": []
  },
  {
   "cell_type": "code",
   "execution_count": null,
   "metadata": {},
   "outputs": [],
   "source": []
  },
  {
   "cell_type": "markdown",
   "metadata": {},
   "source": [
    "Idea is grouping duplicated entries with a unique company name. Then applying same methods to companies from other data sets. First, removing suffices and then searching duplicated companies in company name, country and city columns. My goal is to finding duplicates so that I can group them under an unique company name. After that, I will append remaining unique company names to a final dataframe or a dictionary. Later, I can come back and group the duplicated ones for each unique company and create a many-to-one mapping function.\n",
    "\n",
    "At the end, inputing a company name will return a unique company name (+information too like country, city, revenue?) based on grouping same companies with varying names and a rule-based approach.\n",
    "\n",
    "For example:\n",
    "Input (Volkswagen) ==> Volkswagen AG   based on suffix (adding suffix and searching)\n",
    "\n",
    "Input (Volkswagen Aktiengesellschaft) ==> Volkswagen AG    (based on grouping same companies)\n",
    "\n",
    "Input (VW) ==> Volkswagen AG   based on a rule"
   ]
  },
  {
   "cell_type": "code",
   "execution_count": 27,
   "metadata": {},
   "outputs": [
    {
     "data": {
      "text/html": [
       "<div>\n",
       "<style scoped>\n",
       "    .dataframe tbody tr th:only-of-type {\n",
       "        vertical-align: middle;\n",
       "    }\n",
       "\n",
       "    .dataframe tbody tr th {\n",
       "        vertical-align: top;\n",
       "    }\n",
       "\n",
       "    .dataframe thead th {\n",
       "        text-align: right;\n",
       "    }\n",
       "</style>\n",
       "<table border=\"1\" class=\"dataframe\">\n",
       "  <thead>\n",
       "    <tr style=\"text-align: right;\">\n",
       "      <th></th>\n",
       "      <th>Firmenname</th>\n",
       "      <th>Firmenname_clean</th>\n",
       "      <th>Land</th>\n",
       "      <th>Postleitzahl</th>\n",
       "      <th>Ort</th>\n",
       "      <th>Straße und Hausnr.</th>\n",
       "      <th>USt.-IdNr.</th>\n",
       "      <th>ID</th>\n",
       "      <th>Idtrack</th>\n",
       "    </tr>\n",
       "  </thead>\n",
       "  <tbody>\n",
       "    <tr>\n",
       "      <td>24</td>\n",
       "      <td>R. Weiss Maschinenbau GmbH</td>\n",
       "      <td>rweissmaschinenbau</td>\n",
       "      <td>DEUTSCHLAND</td>\n",
       "      <td>74564</td>\n",
       "      <td>crailsheim</td>\n",
       "      <td>ZUR FLÜGELAU 28-30</td>\n",
       "      <td>DE190976983</td>\n",
       "      <td>181817</td>\n",
       "      <td>26</td>\n",
       "    </tr>\n",
       "    <tr>\n",
       "      <td>25</td>\n",
       "      <td>R. Weiss Automation GmbH &amp; Co. KG</td>\n",
       "      <td>rweissautomation</td>\n",
       "      <td>DEUTSCHLAND</td>\n",
       "      <td>74564</td>\n",
       "      <td>crailsheim</td>\n",
       "      <td>ZUR FLÜGELAU 28</td>\n",
       "      <td>NaN</td>\n",
       "      <td>803402</td>\n",
       "      <td>28</td>\n",
       "    </tr>\n",
       "  </tbody>\n",
       "</table>\n",
       "</div>"
      ],
      "text/plain": [
       "                           Firmenname    Firmenname_clean         Land  \\\n",
       "24       R. Weiss Maschinenbau GmbH    rweissmaschinenbau  DEUTSCHLAND   \n",
       "25  R. Weiss Automation GmbH & Co. KG    rweissautomation  DEUTSCHLAND   \n",
       "\n",
       "   Postleitzahl         Ort    Straße und Hausnr.   USt.-IdNr.      ID  \\\n",
       "24        74564  crailsheim  ZUR FLÜGELAU 28-30    DE190976983  181817   \n",
       "25        74564  crailsheim       ZUR FLÜGELAU 28          NaN  803402   \n",
       "\n",
       "    Idtrack  \n",
       "24       26  \n",
       "25       28  "
      ]
     },
     "execution_count": 27,
     "metadata": {},
     "output_type": "execute_result"
    }
   ],
   "source": [
    "ulist[ulist[\"Companyname_clean\"].str.startswith('rweiss')]   # Actually both belongs to R.WEISS Packaging GmbH & Co. KG"
   ]
  },
  {
   "cell_type": "code",
   "execution_count": 28,
   "metadata": {},
   "outputs": [],
   "source": [
    "# sintmaartenskliniek   # city different but everything else same"
   ]
  },
  {
   "cell_type": "code",
   "execution_count": 29,
   "metadata": {},
   "outputs": [],
   "source": [
    "# ulist.iloc[7659]   # general example"
   ]
  },
  {
   "cell_type": "code",
   "execution_count": 30,
   "metadata": {},
   "outputs": [
    {
     "data": {
      "text/html": [
       "<div>\n",
       "<style scoped>\n",
       "    .dataframe tbody tr th:only-of-type {\n",
       "        vertical-align: middle;\n",
       "    }\n",
       "\n",
       "    .dataframe tbody tr th {\n",
       "        vertical-align: top;\n",
       "    }\n",
       "\n",
       "    .dataframe thead th {\n",
       "        text-align: right;\n",
       "    }\n",
       "</style>\n",
       "<table border=\"1\" class=\"dataframe\">\n",
       "  <thead>\n",
       "    <tr style=\"text-align: right;\">\n",
       "      <th></th>\n",
       "      <th>Firmenname</th>\n",
       "      <th>Firmenname_clean</th>\n",
       "      <th>Land</th>\n",
       "      <th>Postleitzahl</th>\n",
       "      <th>Ort</th>\n",
       "      <th>Straße und Hausnr.</th>\n",
       "      <th>USt.-IdNr.</th>\n",
       "      <th>ID</th>\n",
       "      <th>Idtrack</th>\n",
       "    </tr>\n",
       "  </thead>\n",
       "  <tbody>\n",
       "    <tr>\n",
       "      <td>212</td>\n",
       "      <td>Volkswagen Group United kingdom Limited</td>\n",
       "      <td>volkswagengroupunitedkingdom</td>\n",
       "      <td>GROSSBRITANNIEN</td>\n",
       "      <td>MK14 5AN</td>\n",
       "      <td>miltonkeynes</td>\n",
       "      <td>Yeomans Drive</td>\n",
       "      <td>NaN</td>\n",
       "      <td>805690</td>\n",
       "      <td>221</td>\n",
       "    </tr>\n",
       "    <tr>\n",
       "      <td>741</td>\n",
       "      <td>Volkswagen Automobile Stuttgart GmbH</td>\n",
       "      <td>volkswagenautomobilestuttgart</td>\n",
       "      <td>DEUTSCHLAND</td>\n",
       "      <td>70188</td>\n",
       "      <td>stuttgart</td>\n",
       "      <td>Wangener Str. 66</td>\n",
       "      <td>NaN</td>\n",
       "      <td>NaN</td>\n",
       "      <td>768</td>\n",
       "    </tr>\n",
       "    <tr>\n",
       "      <td>969</td>\n",
       "      <td>Volkswagen Original Teile Logistik GmbH &amp; Co. KG</td>\n",
       "      <td>volkswagenoriginalteilelogistik</td>\n",
       "      <td>DEUTSCHLAND</td>\n",
       "      <td>34225</td>\n",
       "      <td>baunatal</td>\n",
       "      <td>Vertriebszentrum West</td>\n",
       "      <td>DE230960046</td>\n",
       "      <td>803202</td>\n",
       "      <td>1004</td>\n",
       "    </tr>\n",
       "    <tr>\n",
       "      <td>1060</td>\n",
       "      <td>Volkswagen Original Teile LogiSüdwest / Franke...</td>\n",
       "      <td>volkswagenoriginalteilelogisüdwestfranken</td>\n",
       "      <td>DEUTSCHLAND</td>\n",
       "      <td>97084</td>\n",
       "      <td>NaN</td>\n",
       "      <td>Unterer Kirchbergweg 65</td>\n",
       "      <td>NaN</td>\n",
       "      <td>170970</td>\n",
       "      <td>1097</td>\n",
       "    </tr>\n",
       "    <tr>\n",
       "      <td>1087</td>\n",
       "      <td>Volkswagen Infotainment GmbH</td>\n",
       "      <td>volkswageninfotainment</td>\n",
       "      <td>DEUTSCHLAND</td>\n",
       "      <td>44799</td>\n",
       "      <td>bochum</td>\n",
       "      <td>Universitätsstraße 140</td>\n",
       "      <td>DE295504619</td>\n",
       "      <td>803983</td>\n",
       "      <td>1126</td>\n",
       "    </tr>\n",
       "    <tr>\n",
       "      <td>2476</td>\n",
       "      <td>Volkswagen Business Services GmbH I-SEC; Frau ...</td>\n",
       "      <td>volkswagenbusinessservices</td>\n",
       "      <td>DEUTSCHLAND</td>\n",
       "      <td>38112</td>\n",
       "      <td>braunschweig</td>\n",
       "      <td>Schmalbachstraße 1</td>\n",
       "      <td>DE171252317</td>\n",
       "      <td>160936</td>\n",
       "      <td>2567</td>\n",
       "    </tr>\n",
       "    <tr>\n",
       "      <td>2478</td>\n",
       "      <td>Volkswagen Financial Services Digital Solution...</td>\n",
       "      <td>volkswagenfinancialservicesdigitalsolutions</td>\n",
       "      <td>DEUTSCHLAND</td>\n",
       "      <td>38112</td>\n",
       "      <td>braunschweig</td>\n",
       "      <td>Schmalbachstraße 1</td>\n",
       "      <td>DE260043656</td>\n",
       "      <td>800056</td>\n",
       "      <td>2569</td>\n",
       "    </tr>\n",
       "    <tr>\n",
       "      <td>3736</td>\n",
       "      <td>Volkswagen Immobilien GmbH</td>\n",
       "      <td>volkswagenimmobilien</td>\n",
       "      <td>DEUTSCHLAND</td>\n",
       "      <td>38440</td>\n",
       "      <td>wolfsburg</td>\n",
       "      <td>Poststr. 28</td>\n",
       "      <td>NaN</td>\n",
       "      <td>NaN</td>\n",
       "      <td>3883</td>\n",
       "    </tr>\n",
       "    <tr>\n",
       "      <td>6833</td>\n",
       "      <td>Volkswagen Osnabrück GmbH</td>\n",
       "      <td>volkswagenosnabrück</td>\n",
       "      <td>DEUTSCHLAND</td>\n",
       "      <td>49084</td>\n",
       "      <td>osnabrück</td>\n",
       "      <td>KARMANNSTRAßE 1</td>\n",
       "      <td>NaN</td>\n",
       "      <td>803445</td>\n",
       "      <td>7095</td>\n",
       "    </tr>\n",
       "    <tr>\n",
       "      <td>7652</td>\n",
       "      <td>Volkswagen Financial Services AG</td>\n",
       "      <td>volkswagenfinancialservices</td>\n",
       "      <td>DEUTSCHLAND</td>\n",
       "      <td>38112</td>\n",
       "      <td>braunschweig</td>\n",
       "      <td>IH-IMC</td>\n",
       "      <td>DE811115544</td>\n",
       "      <td>803041</td>\n",
       "      <td>7942</td>\n",
       "    </tr>\n",
       "    <tr>\n",
       "      <td>9067</td>\n",
       "      <td>Volkswagen Sachsen GmbH</td>\n",
       "      <td>volkswagensachsen</td>\n",
       "      <td>DEUTSCHLAND</td>\n",
       "      <td>8058</td>\n",
       "      <td>zwickau</td>\n",
       "      <td>Glauchauer Straße 40</td>\n",
       "      <td>DE141414869</td>\n",
       "      <td>802483</td>\n",
       "      <td>9432</td>\n",
       "    </tr>\n",
       "    <tr>\n",
       "      <td>10862</td>\n",
       "      <td>Volkswagen Argentina S.A.</td>\n",
       "      <td>volkswagenargentina</td>\n",
       "      <td>ARGENTINIEN</td>\n",
       "      <td>NaN</td>\n",
       "      <td>buenosaires</td>\n",
       "      <td>Centro Industrial Pacheco</td>\n",
       "      <td>NaN</td>\n",
       "      <td>851996</td>\n",
       "      <td>11318</td>\n",
       "    </tr>\n",
       "    <tr>\n",
       "      <td>11254</td>\n",
       "      <td>Volkswagen Kraftwerk GmbH</td>\n",
       "      <td>volkswagenkraftwerk</td>\n",
       "      <td>DEUTSCHLAND</td>\n",
       "      <td>38436</td>\n",
       "      <td>wolfsburg</td>\n",
       "      <td>Brieffach 0115</td>\n",
       "      <td>DE811115405</td>\n",
       "      <td>803444</td>\n",
       "      <td>11729</td>\n",
       "    </tr>\n",
       "    <tr>\n",
       "      <td>11255</td>\n",
       "      <td>Volkswagen Aktiengesellschaft</td>\n",
       "      <td>volkswagenaktiengesellschaft</td>\n",
       "      <td>DEUTSCHLAND</td>\n",
       "      <td>38436</td>\n",
       "      <td>wolfsburg</td>\n",
       "      <td>Brieffach 011/1875</td>\n",
       "      <td>NaN</td>\n",
       "      <td>850710</td>\n",
       "      <td>11730</td>\n",
       "    </tr>\n",
       "    <tr>\n",
       "      <td>11256</td>\n",
       "      <td>Volkswagen AG</td>\n",
       "      <td>volkswagen</td>\n",
       "      <td>DEUTSCHLAND</td>\n",
       "      <td>38436</td>\n",
       "      <td>wolfsburg</td>\n",
       "      <td>Brieffach 011/14010</td>\n",
       "      <td>DE115235681</td>\n",
       "      <td>803443</td>\n",
       "      <td>11731</td>\n",
       "    </tr>\n",
       "    <tr>\n",
       "      <td>11257</td>\n",
       "      <td>Volkswagen Coaching GmbH Rechnungswesen</td>\n",
       "      <td>volkswagencoaching</td>\n",
       "      <td>DEUTSCHLAND</td>\n",
       "      <td>38436</td>\n",
       "      <td>wolfsburg</td>\n",
       "      <td>Brieffach 011/05030</td>\n",
       "      <td>NaN</td>\n",
       "      <td>452161</td>\n",
       "      <td>11732</td>\n",
       "    </tr>\n",
       "    <tr>\n",
       "      <td>11309</td>\n",
       "      <td>Volkswagen Group Services GmbH</td>\n",
       "      <td>volkswagengroupservices</td>\n",
       "      <td>DEUTSCHLAND</td>\n",
       "      <td>38444</td>\n",
       "      <td>wolfsburg</td>\n",
       "      <td>Braunschweigerstrasse 101</td>\n",
       "      <td>DE214502654</td>\n",
       "      <td>804951</td>\n",
       "      <td>11784</td>\n",
       "    </tr>\n",
       "    <tr>\n",
       "      <td>13621</td>\n",
       "      <td>Volkswagen Financial Service (VWFS)</td>\n",
       "      <td>volkswagenfinancialservicevwfs</td>\n",
       "      <td>GROSSBRITANNIEN</td>\n",
       "      <td>11111</td>\n",
       "      <td>kent</td>\n",
       "      <td>NaN</td>\n",
       "      <td>NaN</td>\n",
       "      <td>805206</td>\n",
       "      <td>14172</td>\n",
       "    </tr>\n",
       "  </tbody>\n",
       "</table>\n",
       "</div>"
      ],
      "text/plain": [
       "                                              Firmenname  \\\n",
       "212              Volkswagen Group United kingdom Limited   \n",
       "741                 Volkswagen Automobile Stuttgart GmbH   \n",
       "969     Volkswagen Original Teile Logistik GmbH & Co. KG   \n",
       "1060   Volkswagen Original Teile LogiSüdwest / Franke...   \n",
       "1087                        Volkswagen Infotainment GmbH   \n",
       "2476   Volkswagen Business Services GmbH I-SEC; Frau ...   \n",
       "2478   Volkswagen Financial Services Digital Solution...   \n",
       "3736                          Volkswagen Immobilien GmbH   \n",
       "6833                           Volkswagen Osnabrück GmbH   \n",
       "7652                    Volkswagen Financial Services AG   \n",
       "9067                             Volkswagen Sachsen GmbH   \n",
       "10862                          Volkswagen Argentina S.A.   \n",
       "11254                          Volkswagen Kraftwerk GmbH   \n",
       "11255                      Volkswagen Aktiengesellschaft   \n",
       "11256                                      Volkswagen AG   \n",
       "11257            Volkswagen Coaching GmbH Rechnungswesen   \n",
       "11309                     Volkswagen Group Services GmbH   \n",
       "13621                Volkswagen Financial Service (VWFS)   \n",
       "\n",
       "                                  Firmenname_clean             Land  \\\n",
       "212                   volkswagengroupunitedkingdom  GROSSBRITANNIEN   \n",
       "741                  volkswagenautomobilestuttgart      DEUTSCHLAND   \n",
       "969                volkswagenoriginalteilelogistik      DEUTSCHLAND   \n",
       "1060     volkswagenoriginalteilelogisüdwestfranken      DEUTSCHLAND   \n",
       "1087                        volkswageninfotainment      DEUTSCHLAND   \n",
       "2476                    volkswagenbusinessservices      DEUTSCHLAND   \n",
       "2478   volkswagenfinancialservicesdigitalsolutions      DEUTSCHLAND   \n",
       "3736                          volkswagenimmobilien      DEUTSCHLAND   \n",
       "6833                           volkswagenosnabrück      DEUTSCHLAND   \n",
       "7652                   volkswagenfinancialservices      DEUTSCHLAND   \n",
       "9067                             volkswagensachsen      DEUTSCHLAND   \n",
       "10862                          volkswagenargentina      ARGENTINIEN   \n",
       "11254                          volkswagenkraftwerk      DEUTSCHLAND   \n",
       "11255                 volkswagenaktiengesellschaft      DEUTSCHLAND   \n",
       "11256                                   volkswagen      DEUTSCHLAND   \n",
       "11257                           volkswagencoaching      DEUTSCHLAND   \n",
       "11309                      volkswagengroupservices      DEUTSCHLAND   \n",
       "13621               volkswagenfinancialservicevwfs  GROSSBRITANNIEN   \n",
       "\n",
       "      Postleitzahl           Ort         Straße und Hausnr.   USt.-IdNr.  \\\n",
       "212       MK14 5AN  miltonkeynes              Yeomans Drive          NaN   \n",
       "741          70188     stuttgart           Wangener Str. 66          NaN   \n",
       "969          34225      baunatal      Vertriebszentrum West  DE230960046   \n",
       "1060         97084           NaN    Unterer Kirchbergweg 65          NaN   \n",
       "1087         44799        bochum     Universitätsstraße 140  DE295504619   \n",
       "2476         38112  braunschweig       Schmalbachstraße 1    DE171252317   \n",
       "2478         38112  braunschweig         Schmalbachstraße 1  DE260043656   \n",
       "3736         38440     wolfsburg                Poststr. 28          NaN   \n",
       "6833         49084     osnabrück            KARMANNSTRAßE 1          NaN   \n",
       "7652         38112  braunschweig                     IH-IMC  DE811115544   \n",
       "9067          8058       zwickau       Glauchauer Straße 40  DE141414869   \n",
       "10862          NaN   buenosaires  Centro Industrial Pacheco          NaN   \n",
       "11254        38436     wolfsburg             Brieffach 0115  DE811115405   \n",
       "11255        38436     wolfsburg         Brieffach 011/1875          NaN   \n",
       "11256        38436     wolfsburg        Brieffach 011/14010  DE115235681   \n",
       "11257        38436     wolfsburg        Brieffach 011/05030          NaN   \n",
       "11309        38444     wolfsburg  Braunschweigerstrasse 101  DE214502654   \n",
       "13621        11111          kent                        NaN          NaN   \n",
       "\n",
       "           ID  Idtrack  \n",
       "212    805690      221  \n",
       "741       NaN      768  \n",
       "969    803202     1004  \n",
       "1060   170970     1097  \n",
       "1087   803983     1126  \n",
       "2476   160936     2567  \n",
       "2478   800056     2569  \n",
       "3736      NaN     3883  \n",
       "6833   803445     7095  \n",
       "7652   803041     7942  \n",
       "9067   802483     9432  \n",
       "10862  851996    11318  \n",
       "11254  803444    11729  \n",
       "11255  850710    11730  \n",
       "11256  803443    11731  \n",
       "11257  452161    11732  \n",
       "11309  804951    11784  \n",
       "13621  805206    14172  "
      ]
     },
     "execution_count": 30,
     "metadata": {},
     "output_type": "execute_result"
    }
   ],
   "source": [
    "ulist[ulist['Company_name'].str.contains('Volkswagen')]    # volksw'ag'en 'ag' case \"ag\" now catches correct ag (suffix one)"
   ]
  },
  {
   "cell_type": "markdown",
   "metadata": {},
   "source": [
    "**Think/ask Aktiengesellschaft == AG rule based or grouped same companies**"
   ]
  },
  {
   "cell_type": "code",
   "execution_count": 31,
   "metadata": {},
   "outputs": [
    {
     "data": {
      "text/html": [
       "<div>\n",
       "<style scoped>\n",
       "    .dataframe tbody tr th:only-of-type {\n",
       "        vertical-align: middle;\n",
       "    }\n",
       "\n",
       "    .dataframe tbody tr th {\n",
       "        vertical-align: top;\n",
       "    }\n",
       "\n",
       "    .dataframe thead th {\n",
       "        text-align: right;\n",
       "    }\n",
       "</style>\n",
       "<table border=\"1\" class=\"dataframe\">\n",
       "  <thead>\n",
       "    <tr style=\"text-align: right;\">\n",
       "      <th></th>\n",
       "      <th>Firmenname</th>\n",
       "      <th>Firmenname_clean</th>\n",
       "      <th>Land</th>\n",
       "      <th>Postleitzahl</th>\n",
       "      <th>Ort</th>\n",
       "      <th>Straße und Hausnr.</th>\n",
       "      <th>USt.-IdNr.</th>\n",
       "      <th>ID</th>\n",
       "      <th>Idtrack</th>\n",
       "    </tr>\n",
       "  </thead>\n",
       "  <tbody>\n",
       "    <tr>\n",
       "      <td>0</td>\n",
       "      <td>Bistum Essen</td>\n",
       "      <td>bistumessen</td>\n",
       "      <td>DEUTSCHLAND</td>\n",
       "      <td>45127</td>\n",
       "      <td>essen</td>\n",
       "      <td>Zwölfling 16</td>\n",
       "      <td>NaN</td>\n",
       "      <td>801695</td>\n",
       "      <td>1</td>\n",
       "    </tr>\n",
       "    <tr>\n",
       "      <td>1</td>\n",
       "      <td>KBS Kleider Bauer Betriebs-GmbH</td>\n",
       "      <td>kbskleiderbauerbetriebs</td>\n",
       "      <td>ÖSTERREICH</td>\n",
       "      <td>2380</td>\n",
       "      <td>perchtoldsdorf</td>\n",
       "      <td>Zwingenstr. 5</td>\n",
       "      <td>NaN</td>\n",
       "      <td>850801</td>\n",
       "      <td>2</td>\n",
       "    </tr>\n",
       "    <tr>\n",
       "      <td>2</td>\n",
       "      <td>Elektro Ing-Plan GmbH Dresden</td>\n",
       "      <td>elektroingplan</td>\n",
       "      <td>DEUTSCHLAND</td>\n",
       "      <td>1187</td>\n",
       "      <td>dresden</td>\n",
       "      <td>Zwickauer Straße 88</td>\n",
       "      <td>NaN</td>\n",
       "      <td>851014</td>\n",
       "      <td>3</td>\n",
       "    </tr>\n",
       "    <tr>\n",
       "      <td>3</td>\n",
       "      <td>Netzdesign-Vobornik</td>\n",
       "      <td>netzdesignvobornik</td>\n",
       "      <td>DEUTSCHLAND</td>\n",
       "      <td>71083</td>\n",
       "      <td>herrenberg</td>\n",
       "      <td>Zwickauer Strasse 41</td>\n",
       "      <td>NaN</td>\n",
       "      <td>NaN</td>\n",
       "      <td>4</td>\n",
       "    </tr>\n",
       "    <tr>\n",
       "      <td>4</td>\n",
       "      <td>NILES-SIMMONS Industrieanlagen GmbH</td>\n",
       "      <td>nilessimmonsindustrieanlagen</td>\n",
       "      <td>DEUTSCHLAND</td>\n",
       "      <td>9117</td>\n",
       "      <td>chemnitz</td>\n",
       "      <td>Zwickauer Straße 355</td>\n",
       "      <td>DE140853999</td>\n",
       "      <td>802541</td>\n",
       "      <td>5</td>\n",
       "    </tr>\n",
       "  </tbody>\n",
       "</table>\n",
       "</div>"
      ],
      "text/plain": [
       "                            Firmenname              Firmenname_clean  \\\n",
       "0                         Bistum Essen                   bistumessen   \n",
       "1      KBS Kleider Bauer Betriebs-GmbH       kbskleiderbauerbetriebs   \n",
       "2        Elektro Ing-Plan GmbH Dresden                elektroingplan   \n",
       "3                  Netzdesign-Vobornik            netzdesignvobornik   \n",
       "4  NILES-SIMMONS Industrieanlagen GmbH  nilessimmonsindustrieanlagen   \n",
       "\n",
       "          Land Postleitzahl             Ort    Straße und Hausnr.  \\\n",
       "0  DEUTSCHLAND        45127           essen          Zwölfling 16   \n",
       "1   ÖSTERREICH         2380  perchtoldsdorf         Zwingenstr. 5   \n",
       "2  DEUTSCHLAND         1187         dresden   Zwickauer Straße 88   \n",
       "3  DEUTSCHLAND        71083      herrenberg  Zwickauer Strasse 41   \n",
       "4  DEUTSCHLAND         9117        chemnitz  Zwickauer Straße 355   \n",
       "\n",
       "    USt.-IdNr.      ID  Idtrack  \n",
       "0          NaN  801695        1  \n",
       "1          NaN  850801        2  \n",
       "2          NaN  851014        3  \n",
       "3          NaN     NaN        4  \n",
       "4  DE140853999  802541        5  "
      ]
     },
     "execution_count": 31,
     "metadata": {},
     "output_type": "execute_result"
    }
   ],
   "source": [
    "ulist.head()"
   ]
  },
  {
   "cell_type": "code",
   "execution_count": 32,
   "metadata": {},
   "outputs": [],
   "source": [
    "# input 2-5\n",
    "# output 1st column add"
   ]
  },
  {
   "cell_type": "markdown",
   "metadata": {},
   "source": [
    "# Next Steps\n",
    "1. Working on Prefix:\n",
    "      There are ' ' strings (if suffix in the first index of a string get the rest of that string [companyname.split().index(i):]) Done!\n",
    "2. Converting column names and Land (Country) column to English Done!\n",
    "3. Filling missing city-country pairs so that same companies can be grouped more effectively. Done (can be improved)\n",
    "3. Creating a dictionary to map many to one (groupby or duplicates) Done but might require some modifications.\n",
    "4. Function takes input and returns a unique company name and its' info   Working on it...\n",
    "5. Other datasets"
   ]
  },
  {
   "cell_type": "code",
   "execution_count": null,
   "metadata": {},
   "outputs": [],
   "source": []
  }
 ],
 "metadata": {
  "kernelspec": {
   "display_name": "Python 3",
   "language": "python",
   "name": "python3"
  },
  "language_info": {
   "codemirror_mode": {
    "name": "ipython",
    "version": 3
   },
   "file_extension": ".py",
   "mimetype": "text/x-python",
   "name": "python",
   "nbconvert_exporter": "python",
   "pygments_lexer": "ipython3",
   "version": "3.7.4"
  }
 },
 "nbformat": 4,
 "nbformat_minor": 4
}
