{
 "cells": [
  {
   "cell_type": "code",
   "execution_count": 1,
   "metadata": {},
   "outputs": [],
   "source": [
    "import pandas as pd\n",
    "import numpy as np\n",
    "import re\n",
    "from difflib import SequenceMatcher    # https://docs.python.org/3/library/difflib.html#difflib.get_close_matches\n",
    "# !pip install cleanco\n",
    "# import cleanco   # would ne useful"
   ]
  },
  {
   "cell_type": "markdown",
   "metadata": {},
   "source": [
    "# Unternehmensliste Interflex"
   ]
  },
  {
   "cell_type": "markdown",
   "metadata": {},
   "source": [
    "## 1. Dataset info and preprocessing"
   ]
  },
  {
   "cell_type": "code",
   "execution_count": 2,
   "metadata": {},
   "outputs": [
    {
     "data": {
      "text/html": [
       "<div>\n",
       "<style scoped>\n",
       "    .dataframe tbody tr th:only-of-type {\n",
       "        vertical-align: middle;\n",
       "    }\n",
       "\n",
       "    .dataframe tbody tr th {\n",
       "        vertical-align: top;\n",
       "    }\n",
       "\n",
       "    .dataframe thead th {\n",
       "        text-align: right;\n",
       "    }\n",
       "</style>\n",
       "<table border=\"1\" class=\"dataframe\">\n",
       "  <thead>\n",
       "    <tr style=\"text-align: right;\">\n",
       "      <th></th>\n",
       "      <th>Firmenname</th>\n",
       "      <th>Land</th>\n",
       "      <th>Postleitzahl</th>\n",
       "      <th>Ort</th>\n",
       "      <th>Straße und Hausnr.</th>\n",
       "      <th>USt.-IdNr.</th>\n",
       "      <th>ID</th>\n",
       "    </tr>\n",
       "  </thead>\n",
       "  <tbody>\n",
       "    <tr>\n",
       "      <td>0</td>\n",
       "      <td>Bistum Essen</td>\n",
       "      <td>Deutschland</td>\n",
       "      <td>45127</td>\n",
       "      <td>Essen</td>\n",
       "      <td>Zwölfling 16</td>\n",
       "      <td>NaN</td>\n",
       "      <td>801695</td>\n",
       "    </tr>\n",
       "    <tr>\n",
       "      <td>1</td>\n",
       "      <td>KBS Kleider Bauer Betriebs-GmbH</td>\n",
       "      <td>Österreich</td>\n",
       "      <td>2380</td>\n",
       "      <td>Perchtoldsdorf</td>\n",
       "      <td>Zwingenstr. 5</td>\n",
       "      <td>NaN</td>\n",
       "      <td>850801</td>\n",
       "    </tr>\n",
       "    <tr>\n",
       "      <td>2</td>\n",
       "      <td>Elektro Ing-Plan GmbH Dresden</td>\n",
       "      <td>Deutschland</td>\n",
       "      <td>1187</td>\n",
       "      <td>Dresden</td>\n",
       "      <td>Zwickauer Straße 88</td>\n",
       "      <td>NaN</td>\n",
       "      <td>851014</td>\n",
       "    </tr>\n",
       "    <tr>\n",
       "      <td>3</td>\n",
       "      <td>Netzdesign-Vobornik</td>\n",
       "      <td>Deutschland</td>\n",
       "      <td>71083</td>\n",
       "      <td>Herrenberg</td>\n",
       "      <td>Zwickauer Strasse 41</td>\n",
       "      <td>NaN</td>\n",
       "      <td>NaN</td>\n",
       "    </tr>\n",
       "    <tr>\n",
       "      <td>4</td>\n",
       "      <td>NILES-SIMMONS Industrieanlagen GmbH</td>\n",
       "      <td>Deutschland</td>\n",
       "      <td>9117</td>\n",
       "      <td>Chemnitz</td>\n",
       "      <td>Zwickauer Straße 355</td>\n",
       "      <td>DE140853999</td>\n",
       "      <td>802541</td>\n",
       "    </tr>\n",
       "  </tbody>\n",
       "</table>\n",
       "</div>"
      ],
      "text/plain": [
       "                            Firmenname         Land Postleitzahl  \\\n",
       "0                         Bistum Essen  Deutschland        45127   \n",
       "1      KBS Kleider Bauer Betriebs-GmbH   Österreich         2380   \n",
       "2        Elektro Ing-Plan GmbH Dresden  Deutschland         1187   \n",
       "3                  Netzdesign-Vobornik  Deutschland        71083   \n",
       "4  NILES-SIMMONS Industrieanlagen GmbH  Deutschland         9117   \n",
       "\n",
       "              Ort    Straße und Hausnr.   USt.-IdNr.      ID  \n",
       "0           Essen          Zwölfling 16          NaN  801695  \n",
       "1  Perchtoldsdorf         Zwingenstr. 5          NaN  850801  \n",
       "2         Dresden   Zwickauer Straße 88          NaN  851014  \n",
       "3      Herrenberg  Zwickauer Strasse 41          NaN     NaN  \n",
       "4        Chemnitz  Zwickauer Straße 355  DE140853999  802541  "
      ]
     },
     "execution_count": 2,
     "metadata": {},
     "output_type": "execute_result"
    }
   ],
   "source": [
    "ulist = pd.read_excel(\"Unternehmensliste_Interflex.xlsx\")\n",
    "ulist.head()"
   ]
  },
  {
   "cell_type": "code",
   "execution_count": 3,
   "metadata": {},
   "outputs": [
    {
     "data": {
      "text/plain": [
       "15"
      ]
     },
     "execution_count": 3,
     "metadata": {},
     "output_type": "execute_result"
    }
   ],
   "source": [
    "ulist.duplicated().sum()   # 15 duplicated entries are already exist"
   ]
  },
  {
   "cell_type": "code",
   "execution_count": 4,
   "metadata": {},
   "outputs": [
    {
     "data": {
      "text/plain": [
       "Firmenname            14193\n",
       "Land                     73\n",
       "Postleitzahl           4946\n",
       "Ort                    4239\n",
       "Straße und Hausnr.    12702\n",
       "USt.-IdNr.             4427\n",
       "ID                    10852\n",
       "dtype: int64"
      ]
     },
     "execution_count": 4,
     "metadata": {},
     "output_type": "execute_result"
    }
   ],
   "source": [
    "ulist.nunique()    # 73 different countries can be categorized"
   ]
  },
  {
   "cell_type": "code",
   "execution_count": 5,
   "metadata": {},
   "outputs": [
    {
     "name": "stdout",
     "output_type": "stream",
     "text": [
      "<class 'pandas.core.frame.DataFrame'>\n",
      "RangeIndex: 14550 entries, 0 to 14549\n",
      "Data columns (total 7 columns):\n",
      "Firmenname            14550 non-null object\n",
      "Land                  13477 non-null object\n",
      "Postleitzahl          14238 non-null object\n",
      "Ort                   13902 non-null object\n",
      "Straße und Hausnr.    14111 non-null object\n",
      "USt.-IdNr.            4849 non-null object\n",
      "ID                    10875 non-null object\n",
      "dtypes: object(7)\n",
      "memory usage: 795.8+ KB\n"
     ]
    }
   ],
   "source": [
    "ulist.info()"
   ]
  },
  {
   "cell_type": "code",
   "execution_count": 6,
   "metadata": {},
   "outputs": [],
   "source": [
    "ulist = (\n",
    "    ulist\n",
    "        .assign(\n",
    "            Land=ulist['Land'].astype('category'),\n",
    "            # Postleitzahl=ulist['Postleitzahl'].astype('Int64'),\n",
    "            # ID=ulist['ID'].astype('Int64')   # not working\n",
    "        )   # .info()\n",
    ")"
   ]
  },
  {
   "cell_type": "code",
   "execution_count": 7,
   "metadata": {},
   "outputs": [
    {
     "name": "stdout",
     "output_type": "stream",
     "text": [
      "<class 'pandas.core.frame.DataFrame'>\n",
      "RangeIndex: 14550 entries, 0 to 14549\n",
      "Data columns (total 7 columns):\n",
      "Firmenname            14550 non-null object\n",
      "Land                  13477 non-null category\n",
      "Postleitzahl          14238 non-null object\n",
      "Ort                   13902 non-null object\n",
      "Straße und Hausnr.    14111 non-null object\n",
      "USt.-IdNr.            4849 non-null object\n",
      "ID                    10875 non-null object\n",
      "dtypes: category(1), object(6)\n",
      "memory usage: 699.4+ KB\n"
     ]
    }
   ],
   "source": [
    "ulist.info()   # memory usage decreased by categorizing country (Land) column"
   ]
  },
  {
   "cell_type": "markdown",
   "metadata": {},
   "source": [
    "**Aim is to remove suffix and rest** ==> E.g: Sensient Imaging Technologies GmbH Chemiepark Bitterfeld-Wolfen"
   ]
  },
  {
   "cell_type": "code",
   "execution_count": 8,
   "metadata": {},
   "outputs": [],
   "source": [
    "ulist.insert(loc=1, column='Firmenname_clean', value=ulist[\"Firmenname\"].str.lower())\n",
    "\n",
    "# ulist[\"Firmenname_clean\"] = ulist[\"Firmenname\"].str.lower()   # faster\n",
    "# ulist[ulist['Firmenname'].str.endswith(tuple(suffix_list))] some finishes with gmbh some -gmbh and some even continues"
   ]
  },
  {
   "cell_type": "code",
   "execution_count": 9,
   "metadata": {},
   "outputs": [],
   "source": [
    "ulist = ulist.assign(Idtrack=lambda ulist: range(1, len(ulist)+1))\n",
    "ulist_original = ulist.copy()"
   ]
  },
  {
   "cell_type": "markdown",
   "metadata": {},
   "source": [
    "## 1.1 Dataset Standardization\n",
    "**Prefix, Middle, Suffix removal. Column Standardization**"
   ]
  },
  {
   "cell_type": "code",
   "execution_count": 10,
   "metadata": {},
   "outputs": [],
   "source": [
    "# Suffix list for company names   (ordering is important! Will be fixed)\n",
    "suffix_list = ['gmbh', 'gmbh&co.', 'ggmbh', 'gmbh+co.', 'kg-gmbh', 'gmbh&co', 'ltd.', 'se',\n",
    "      'gmbh&co.kg', 'gmbh&cokg', 'gmbh.', 'gmbh,', 'gmbh&c', '(gmbh', 'mbh',\n",
    "               'company', 'incorporated', 'corporation', 'corp.', 'corp', 'inc',\n",
    "      '& co.', '& co',  'inc.', 's.p.a.', 'n.v.', 'a.g.', 'ag', 'nuf', 's.a.', 's.f.',\n",
    "      'oao', 'co.', 'co',\n",
    "              'soc.col.', 'stg', 'd.n.o.', 'ltda.', 'v.o.s.', 'a spol.',\n",
    "      u've\\xc5\\x99. obch. spol.', 'kgaa', 'o.e.', 's.f.', 's.n.c.', 's.a.p.a.', 'j.t.d.',\n",
    "      'v.o.f.', 'sp.j.', 'og', 'sd', ' i/s', 'ay', 'snc', 'oe', 'bt.', 's.s.', 'mb',\n",
    "      'ans', 'da', 'o.d.', 'hb', 'pt',\n",
    "              'unltd', 'ultd', 'sal', 'unlimited', 'saog', 'saoc', 'aj',\n",
    "      'yoaj', 'oaj', 'akc. spol.', 'a.s.',\n",
    "              'esv', 'gie', 'kv.', 'qk',\n",
    "              'pty. ltd.', 'pty ltd', 'ltd', 'l.t.d.', 'bvba', 'd.o.o.', 'ltda', 'gmbh',\n",
    "      'g.m.b.h', 'kft.', 'kht.', 'zrt.', 'ehf.', 's.a.r.l.', 'd.o.o.e.l.', 's. de r.l.',\n",
    "      'b.v.', 'tapui',\n",
    "      'sp. z.o.o.', 'sp. z o.o.', 'spółka z o.o.',\n",
    "      's.r.l.', 's.l.', 's.l.n.e.', 'ood', 'oy', 'rt.',\n",
    "      'teo', 'uab', 'scs', 'sprl', 'limited', 'bhd.', 'sdn. bhd.', 'sdn bhd', 'as',\n",
    "      'lda.', 'tov', 'pp',\n",
    "              'pllc', 'llc', 'l.l.c.', 'plc.', 'plc', 'hf.', 'oyj',\n",
    "      'a.e.', 'nyrt.', 'p.l.c.', 'sh.a.', 's.a.', 's.r.l.', 'srl.', 'srl', 'aat', '3at', 'd.d.',\n",
    "      's.r.o.', 'spol. s r.o.', 's.m.b.a.', 'smba', 'sarl', 'nv', 'sa', 'aps',\n",
    "      'a/s', 'p/s', 'sae', 'sasu', 'eurl', 'ae', 'cpt', 'as', 'ab', 'asa', 'ooo', 'dat',\n",
    "      'vat', 'zat', 'mchj', 'a.d.',\n",
    "              'lllp', 'l.l.l.p.',\n",
    "              'llp', 'l.l.p.', 'sp.p.', 's.c.a.', 's.c.s.',\n",
    "              'gmbh & co. kg', 'lp', 'l.p.', 's.c.s.',\n",
    "      's.c.p.a', 'comm.v', 'k.d.', 'k.d.a.', 's. en c.', 'e.e.', 's.a.s.', 's. en c.',\n",
    "      'c.v.', 's.k.a.', 'sp.k.', 's.cra.', 'ky', 'scs', 'kg', 'kd', 'k/s', 'ee', 'secs',\n",
    "      'kda', 'ks', 'kb','kt',\n",
    "              'sicav',\n",
    "              'nl',\n",
    "              'vzw', 'ses.', 'gte.',\n",
    "              'private', 'pte', 'xk',\n",
    "              'p.c.', 'vof', 'snc',\n",
    "              'pllc', 'p.l.l.c.',\n",
    "              'e.u.', 's.p.', 't:mi', 'tmi', 'e.v.', 'e.c.', 'et', 'obrt',\n",
    "      'fie', 'ij', 'fop', 'xt']\n",
    "\n",
    "# Source of company suffices https://github.com/psolin/cleanco/blob/master/cleanco/termdata.py"
   ]
  },
  {
   "cell_type": "code",
   "execution_count": 11,
   "metadata": {},
   "outputs": [
    {
     "data": {
      "text/plain": [
       "0                      bistum essen\n",
       "1        kbs kleider bauer betriebs\n",
       "2                  elektro ing-plan\n",
       "3               netzdesign-vobornik\n",
       "4    niles-simmons industrieanlagen\n",
       "5                    gemac chemnitz\n",
       "6                            emdion\n",
       "7         fiege logistik stiftung &\n",
       "8              william prym holding\n",
       "9                      leoni kerpen\n",
       "Name: Firmenname_clean, dtype: object"
      ]
     },
     "execution_count": 11,
     "metadata": {},
     "output_type": "execute_result"
    }
   ],
   "source": [
    "def suffix_remover(companyname):    # Running multiple times (2 is good) removes suffix effectively\n",
    "    for i in suffix_list:\n",
    "        #if i in re.split(' |-', companyname):   # doesn't work properly\n",
    "        if i == companyname.split()[0]:\n",
    "            return ' '.join(companyname.split()[companyname.split().index(i)+1:])\n",
    "        elif i in companyname.split():    # tokenization\n",
    "            return ' '.join(companyname.split()[:companyname.split().index(i)])   # If first index is prefix then take rest of the string\n",
    "            #return companyname.split()[:companyname.split().index(i)]\n",
    "\n",
    "        elif i in companyname.split('-'):\n",
    "            return ' '.join(companyname.split('-')[:companyname.split('-').index(i)])\n",
    "            #return [x.replace(' ', '') for x in companyname.split('-')[:companyname.split('-').index(i)]]\n",
    "    return companyname\n",
    "\n",
    "ulist['Firmenname_clean'] = ulist['Firmenname_clean'].apply(suffix_remover)\n",
    "ulist['Firmenname_clean'].head(10)"
   ]
  },
  {
   "cell_type": "code",
   "execution_count": 12,
   "metadata": {},
   "outputs": [
    {
     "name": "stdout",
     "output_type": "stream",
     "text": [
      "volks\n",
      "volkswagen financial services\n"
     ]
    }
   ],
   "source": [
    "# Bug fixed\n",
    "companyname='volkswagen financial services ag'\n",
    "i='ag'\n",
    "if i in companyname.split():\n",
    "    print(companyname[:companyname.index(i)-1])\n",
    "    \n",
    "if i in companyname.split():\n",
    "    print(' '.join(companyname.split()[:companyname.split().index(i)]))"
   ]
  },
  {
   "cell_type": "code",
   "execution_count": 13,
   "metadata": {},
   "outputs": [
    {
     "name": "stdout",
     "output_type": "stream",
     "text": [
      "watson\n"
     ]
    }
   ],
   "source": [
    "# Prefix updated\n",
    "companyname='as watson'\n",
    "pref=['as', 'gmbh', 'ds']\n",
    "  \n",
    "for i in pref:\n",
    "    if i == companyname.split()[0]:\n",
    "        print(' '.join(companyname.split()[companyname.split().index(i)+1:]))\n",
    "    elif i in companyname.split():\n",
    "        print(' '.join(companyname.split()[:companyname.split().index(i)]))"
   ]
  },
  {
   "cell_type": "code",
   "execution_count": 14,
   "metadata": {},
   "outputs": [
    {
     "data": {
      "text/html": [
       "<div>\n",
       "<style scoped>\n",
       "    .dataframe tbody tr th:only-of-type {\n",
       "        vertical-align: middle;\n",
       "    }\n",
       "\n",
       "    .dataframe tbody tr th {\n",
       "        vertical-align: top;\n",
       "    }\n",
       "\n",
       "    .dataframe thead th {\n",
       "        text-align: right;\n",
       "    }\n",
       "</style>\n",
       "<table border=\"1\" class=\"dataframe\">\n",
       "  <thead>\n",
       "    <tr style=\"text-align: right;\">\n",
       "      <th></th>\n",
       "      <th>Firmenname</th>\n",
       "      <th>Firmenname_clean</th>\n",
       "      <th>Land</th>\n",
       "      <th>Postleitzahl</th>\n",
       "      <th>Ort</th>\n",
       "      <th>Straße und Hausnr.</th>\n",
       "      <th>USt.-IdNr.</th>\n",
       "      <th>ID</th>\n",
       "      <th>Idtrack</th>\n",
       "    </tr>\n",
       "  </thead>\n",
       "  <tbody>\n",
       "  </tbody>\n",
       "</table>\n",
       "</div>"
      ],
      "text/plain": [
       "Empty DataFrame\n",
       "Columns: [Firmenname, Firmenname_clean, Land, Postleitzahl, Ort, Straße und Hausnr., USt.-IdNr., ID, Idtrack]\n",
       "Index: []"
      ]
     },
     "execution_count": 14,
     "metadata": {},
     "output_type": "execute_result"
    }
   ],
   "source": [
    "ulist[ulist['Firmenname_clean'] == '']"
   ]
  },
  {
   "cell_type": "code",
   "execution_count": 15,
   "metadata": {},
   "outputs": [
    {
     "data": {
      "text/html": [
       "<div>\n",
       "<style scoped>\n",
       "    .dataframe tbody tr th:only-of-type {\n",
       "        vertical-align: middle;\n",
       "    }\n",
       "\n",
       "    .dataframe tbody tr th {\n",
       "        vertical-align: top;\n",
       "    }\n",
       "\n",
       "    .dataframe thead th {\n",
       "        text-align: right;\n",
       "    }\n",
       "</style>\n",
       "<table border=\"1\" class=\"dataframe\">\n",
       "  <thead>\n",
       "    <tr style=\"text-align: right;\">\n",
       "      <th></th>\n",
       "      <th>Firmenname</th>\n",
       "      <th>Firmenname_clean</th>\n",
       "      <th>Land</th>\n",
       "      <th>Postleitzahl</th>\n",
       "      <th>Ort</th>\n",
       "      <th>Straße und Hausnr.</th>\n",
       "      <th>USt.-IdNr.</th>\n",
       "      <th>ID</th>\n",
       "      <th>Idtrack</th>\n",
       "    </tr>\n",
       "  </thead>\n",
       "  <tbody>\n",
       "    <tr>\n",
       "      <td>4195</td>\n",
       "      <td>AS Watson</td>\n",
       "      <td>watson</td>\n",
       "      <td>Niederlande</td>\n",
       "      <td>6666 LT</td>\n",
       "      <td>Heteren</td>\n",
       "      <td>Poort van Midden Gelderland Rood 24</td>\n",
       "      <td>NaN</td>\n",
       "      <td>331187</td>\n",
       "      <td>4196</td>\n",
       "    </tr>\n",
       "    <tr>\n",
       "      <td>4929</td>\n",
       "      <td>AS Watson</td>\n",
       "      <td>watson</td>\n",
       "      <td>Niederlande</td>\n",
       "      <td>3972</td>\n",
       "      <td>DA Renswoude</td>\n",
       "      <td>Nijborg 17</td>\n",
       "      <td>NaN</td>\n",
       "      <td>803522</td>\n",
       "      <td>4930</td>\n",
       "    </tr>\n",
       "  </tbody>\n",
       "</table>\n",
       "</div>"
      ],
      "text/plain": [
       "     Firmenname Firmenname_clean         Land Postleitzahl           Ort  \\\n",
       "4195  AS Watson           watson  Niederlande      6666 LT       Heteren   \n",
       "4929  AS Watson           watson  Niederlande         3972  DA Renswoude   \n",
       "\n",
       "                       Straße und Hausnr. USt.-IdNr.      ID  Idtrack  \n",
       "4195  Poort van Midden Gelderland Rood 24        NaN  331187     4196  \n",
       "4929                           Nijborg 17        NaN  803522     4930  "
      ]
     },
     "execution_count": 15,
     "metadata": {},
     "output_type": "execute_result"
    }
   ],
   "source": [
    "ulist[ulist['Firmenname'] == 'AS Watson']"
   ]
  },
  {
   "cell_type": "code",
   "execution_count": 16,
   "metadata": {},
   "outputs": [
    {
     "name": "stdout",
     "output_type": "stream",
     "text": [
      "Remaining suffix as gmbh (most common): 41\n"
     ]
    }
   ],
   "source": [
    "print('Remaining suffix as gmbh (most common):', len(ulist[ulist['Firmenname_clean'].str.contains('gmbh')]))"
   ]
  },
  {
   "cell_type": "code",
   "execution_count": 17,
   "metadata": {},
   "outputs": [
    {
     "data": {
      "text/plain": [
       "Firmenname            BOSCH SICHERHEITSSYSTEME GMB H\n",
       "Firmenname_clean      bosch sicherheitssysteme gmb h\n",
       "Land                                     Deutschland\n",
       "Postleitzahl                                   85630\n",
       "Ort                                        Grasbrunn\n",
       "Straße und Hausnr.        WERNER-VON-SIEMENS-RING 10\n",
       "USt.-IdNr.                               DE813474672\n",
       "ID                                            902003\n",
       "Idtrack                                          565\n",
       "Name: 564, dtype: object"
      ]
     },
     "execution_count": 17,
     "metadata": {},
     "output_type": "execute_result"
    }
   ],
   "source": [
    "ulist.iloc[564]"
   ]
  },
  {
   "cell_type": "code",
   "execution_count": 18,
   "metadata": {},
   "outputs": [],
   "source": [
    "# ulist[ulist['Firmenname_clean'].str.contains('gmbh')]   # entries with typo\n",
    "# gmbh remove\n",
    "\n",
    "# [x.replace('gmbh', '') for x in ulist['Firmenname_clean'] if any(tag in x for tag in remove_list)]   # doesn't work"
   ]
  },
  {
   "cell_type": "code",
   "execution_count": 19,
   "metadata": {},
   "outputs": [],
   "source": [
    "# pipeline\n",
    "# ulist.duplicated().sum()   # remove duplicated rows in the dataframe\n",
    "ulist[\"Firmenname_clean\"] = ulist[\"Firmenname_clean\"].str.lower()   # faster\n",
    "ulist[\"Firmenname_clean\"] = ulist[\"Firmenname_clean\"].str.replace('\\W', '')      # special characters are removed\n",
    "ulist[\"Land\"] = ulist[\"Land\"].str.upper()\n",
    "ulist[\"Land\"] = ulist[\"Land\"].str.replace('\\W', '').astype('category')\n",
    "ulist[\"Ort\"] = ulist[\"Ort\"].str.lower()\n",
    "ulist[\"Ort\"] = ulist[\"Ort\"].str.replace('\\W', '')\n",
    "ulist['USt.-IdNr.'] = ulist['USt.-IdNr.'].str.replace(\" \",\"\")        # white space removed\n",
    "ulist['ID'] = ulist['ID'].astype('str').str.replace('[^0-9]', '')    # ID with only numbers\n",
    "# ulist['ID'] = ulist['ID'].astype('str').replace(r'\\D+', '', regex=True)\n",
    "ulist['ID'] = ulist['ID'].replace(r'^\\s*$', np.NaN, regex=True)      # to keep missing values instead of empty strings"
   ]
  },
  {
   "cell_type": "code",
   "execution_count": 20,
   "metadata": {},
   "outputs": [],
   "source": [
    "# Remove some prefix, middle, suffices from all companynames (clear typos: operational servicesGmbH & Co. KG)\n",
    "remove_list = ['gmbh']   # stopwords approach, what about stiftung, holding etc.\n",
    "\n",
    "def pre_middle_suffix_remove(companyname):   # appylying this function after special characters (+ white spaces) are removed\n",
    "    for i in remove_list:\n",
    "        if i in companyname:\n",
    "            return companyname.replace(i, '')\n",
    "    return companyname\n",
    "\n",
    "ulist['Firmenname_clean'] = ulist['Firmenname_clean'].apply(pre_middle_suffix_remove)"
   ]
  },
  {
   "cell_type": "code",
   "execution_count": 21,
   "metadata": {},
   "outputs": [
    {
     "name": "stdout",
     "output_type": "stream",
     "text": [
      "Original Companyname: Technimark-Eisbär GmbHKunststoff- und Metallverarb.\n",
      "Cleaned Companyname: technimarkeisbärkunststoffundmetallverarb\n",
      "Number of gmbh left: 0\n"
     ]
    }
   ],
   "source": [
    "# List of gmbh contained entries: [x for x in ulist['Firmenname_clean'] if any(tag in x for tag in remove_list)]\n",
    "print('Original Companyname:', ulist.loc[554, 'Firmenname'])   # An Example with GmbH\n",
    "print('Cleaned Companyname:', ulist.loc[554, 'Firmenname_clean'])\n",
    "print('Number of gmbh left:', len(ulist[ulist['Firmenname_clean'].str.contains('gmbh')]))"
   ]
  },
  {
   "cell_type": "code",
   "execution_count": 22,
   "metadata": {},
   "outputs": [],
   "source": [
    "# a = list(set(ulist[ulist.loc[:,['Firmenname_clean', 'Land', 'Ort']].duplicated()].index) - set(ulist[ulist.loc[:,['Firmenname_clean', 'Land', 'Postleitzahl', 'Ort']].duplicated()].index))\n",
    "# a.sort()\n",
    "# ulist.loc[a]"
   ]
  },
  {
   "cell_type": "markdown",
   "metadata": {},
   "source": [
    "## 2. Duplicates and Grouping them together"
   ]
  },
  {
   "cell_type": "code",
   "execution_count": 23,
   "metadata": {},
   "outputs": [],
   "source": [
    "# moved NA of 'USt.-IdNr.' and 'ID' columns to bottom of df so that rows with more NA's will be removed because they are at the bottom.\n",
    "sorted_duplicates = ulist.sort_values(by=[\"USt.-IdNr.\", \"ID\"], na_position='last')      # move NAs to the bottom of the df\n",
    "ulist = sorted_duplicates.drop_duplicates(subset=[\"Firmenname_clean\", \"Land\", \"Ort\"],\n",
    "                                     keep=\"first\").sort_index().reset_index(drop=True)  # drop duplicates"
   ]
  },
  {
   "cell_type": "code",
   "execution_count": 24,
   "metadata": {},
   "outputs": [
    {
     "data": {
      "text/plain": [
       "13987"
      ]
     },
     "execution_count": 24,
     "metadata": {},
     "output_type": "execute_result"
    }
   ],
   "source": [
    "len(ulist)   # it was 14090 without removing suffices"
   ]
  },
  {
   "cell_type": "code",
   "execution_count": 25,
   "metadata": {},
   "outputs": [],
   "source": [
    "a = list(set(sorted_duplicates.index) - set(sorted_duplicates.drop_duplicates(subset=[\"Firmenname_clean\", \"Land\", \"Ort\"],\n",
    "                                     keep=\"first\").index))\n",
    "# sorted_duplicates.iloc[a]"
   ]
  },
  {
   "cell_type": "code",
   "execution_count": 26,
   "metadata": {},
   "outputs": [
    {
     "data": {
      "text/plain": [
       "Firmenname_clean           Land         Ort        \n",
       "freieundhansestadthamburg  DEUTSCHLAND  hamburg        6\n",
       "hiltideutschland           DEUTSCHLAND  kaufering      5\n",
       "fraport                    DEUTSCHLAND  frankfurt      5\n",
       "landeshauptstadtstuttgart  DEUTSCHLAND  stuttgart      5\n",
       "sappipapierholding         ÖSTERREICH   gratkorn       4\n",
       "                                                      ..\n",
       "nettoaps                   DEUTSCHLAND  stavenhagen    1\n",
       "netscoutberlin             DEUTSCHLAND  berlin         1\n",
       "netmarketpms               DEUTSCHLAND  heppendorf     1\n",
       "netcomstuttgart            DEUTSCHLAND  stuttgart      1\n",
       "1001artikelmedical         DEUTSCHLAND  riesa          1\n",
       "Length: 12450, dtype: int64"
      ]
     },
     "execution_count": 26,
     "metadata": {},
     "output_type": "execute_result"
    }
   ],
   "source": [
    "sorted_duplicates.groupby(['Firmenname_clean', 'Land', 'Ort']).size().sort_values(ascending=False)"
   ]
  },
  {
   "cell_type": "code",
   "execution_count": null,
   "metadata": {},
   "outputs": [],
   "source": []
  },
  {
   "cell_type": "markdown",
   "metadata": {},
   "source": [
    "Next step is grouping duplicated entries with a unique company name. Then applying same methods to companies from other data sets. First, removing suffices and then searching duplicated companies in company name, country and city columns. My goal is to finding duplicates so that I can group them under an unique company name. After that, I will append remaining unique company names to a final dataframe or a dictionary. Later, I can come back and group the duplicated ones for each unique company and create a many-to-one mapping function.\n",
    "\n",
    "At the end, inputing a company name will return a unique company name (+information too like country, city, revenue?) based on grouping same companies with varying names and a rule-based approach.\n",
    "\n",
    "For example:\n",
    "Input (Volkswagen) ==> Volkswagen AG   based on suffix (adding suffix and searching)\n",
    "\n",
    "Input (Volkswagen Aktiengesellschaft) ==> Volkswagen AG    (based on grouping same companies)\n",
    "\n",
    "Input (VW) ==> Volkswagen AG   based on a rule"
   ]
  },
  {
   "cell_type": "code",
   "execution_count": 27,
   "metadata": {},
   "outputs": [
    {
     "data": {
      "text/html": [
       "<div>\n",
       "<style scoped>\n",
       "    .dataframe tbody tr th:only-of-type {\n",
       "        vertical-align: middle;\n",
       "    }\n",
       "\n",
       "    .dataframe tbody tr th {\n",
       "        vertical-align: top;\n",
       "    }\n",
       "\n",
       "    .dataframe thead th {\n",
       "        text-align: right;\n",
       "    }\n",
       "</style>\n",
       "<table border=\"1\" class=\"dataframe\">\n",
       "  <thead>\n",
       "    <tr style=\"text-align: right;\">\n",
       "      <th></th>\n",
       "      <th>Firmenname</th>\n",
       "      <th>Firmenname_clean</th>\n",
       "      <th>Land</th>\n",
       "      <th>Postleitzahl</th>\n",
       "      <th>Ort</th>\n",
       "      <th>Straße und Hausnr.</th>\n",
       "      <th>USt.-IdNr.</th>\n",
       "      <th>ID</th>\n",
       "      <th>Idtrack</th>\n",
       "    </tr>\n",
       "  </thead>\n",
       "  <tbody>\n",
       "    <tr>\n",
       "      <td>24</td>\n",
       "      <td>R. Weiss Maschinenbau GmbH</td>\n",
       "      <td>rweissmaschinenbau</td>\n",
       "      <td>DEUTSCHLAND</td>\n",
       "      <td>74564</td>\n",
       "      <td>crailsheim</td>\n",
       "      <td>ZUR FLÜGELAU 28-30</td>\n",
       "      <td>DE190976983</td>\n",
       "      <td>181817</td>\n",
       "      <td>26</td>\n",
       "    </tr>\n",
       "    <tr>\n",
       "      <td>25</td>\n",
       "      <td>R. Weiss Automation GmbH &amp; Co. KG</td>\n",
       "      <td>rweissautomation</td>\n",
       "      <td>DEUTSCHLAND</td>\n",
       "      <td>74564</td>\n",
       "      <td>crailsheim</td>\n",
       "      <td>ZUR FLÜGELAU 28</td>\n",
       "      <td>NaN</td>\n",
       "      <td>803402</td>\n",
       "      <td>28</td>\n",
       "    </tr>\n",
       "  </tbody>\n",
       "</table>\n",
       "</div>"
      ],
      "text/plain": [
       "                           Firmenname    Firmenname_clean         Land  \\\n",
       "24       R. Weiss Maschinenbau GmbH    rweissmaschinenbau  DEUTSCHLAND   \n",
       "25  R. Weiss Automation GmbH & Co. KG    rweissautomation  DEUTSCHLAND   \n",
       "\n",
       "   Postleitzahl         Ort    Straße und Hausnr.   USt.-IdNr.      ID  \\\n",
       "24        74564  crailsheim  ZUR FLÜGELAU 28-30    DE190976983  181817   \n",
       "25        74564  crailsheim       ZUR FLÜGELAU 28          NaN  803402   \n",
       "\n",
       "    Idtrack  \n",
       "24       26  \n",
       "25       28  "
      ]
     },
     "execution_count": 27,
     "metadata": {},
     "output_type": "execute_result"
    }
   ],
   "source": [
    "ulist[ulist[\"Firmenname_clean\"].str.startswith('rweiss')]   # Actually both belongs to R.WEISS Packaging GmbH & Co. KG"
   ]
  },
  {
   "cell_type": "code",
   "execution_count": 28,
   "metadata": {},
   "outputs": [],
   "source": [
    "# sintmaartenskliniek   # city different but everything else same"
   ]
  },
  {
   "cell_type": "code",
   "execution_count": 29,
   "metadata": {},
   "outputs": [],
   "source": [
    "# ulist.iloc[7659]   # general example"
   ]
  },
  {
   "cell_type": "code",
   "execution_count": 30,
   "metadata": {},
   "outputs": [
    {
     "data": {
      "text/html": [
       "<div>\n",
       "<style scoped>\n",
       "    .dataframe tbody tr th:only-of-type {\n",
       "        vertical-align: middle;\n",
       "    }\n",
       "\n",
       "    .dataframe tbody tr th {\n",
       "        vertical-align: top;\n",
       "    }\n",
       "\n",
       "    .dataframe thead th {\n",
       "        text-align: right;\n",
       "    }\n",
       "</style>\n",
       "<table border=\"1\" class=\"dataframe\">\n",
       "  <thead>\n",
       "    <tr style=\"text-align: right;\">\n",
       "      <th></th>\n",
       "      <th>Firmenname</th>\n",
       "      <th>Firmenname_clean</th>\n",
       "      <th>Land</th>\n",
       "      <th>Postleitzahl</th>\n",
       "      <th>Ort</th>\n",
       "      <th>Straße und Hausnr.</th>\n",
       "      <th>USt.-IdNr.</th>\n",
       "      <th>ID</th>\n",
       "      <th>Idtrack</th>\n",
       "    </tr>\n",
       "  </thead>\n",
       "  <tbody>\n",
       "    <tr>\n",
       "      <td>212</td>\n",
       "      <td>Volkswagen Group United kingdom Limited</td>\n",
       "      <td>volkswagengroupunitedkingdom</td>\n",
       "      <td>GROSSBRITANNIEN</td>\n",
       "      <td>MK14 5AN</td>\n",
       "      <td>miltonkeynes</td>\n",
       "      <td>Yeomans Drive</td>\n",
       "      <td>NaN</td>\n",
       "      <td>805690</td>\n",
       "      <td>221</td>\n",
       "    </tr>\n",
       "    <tr>\n",
       "      <td>741</td>\n",
       "      <td>Volkswagen Automobile Stuttgart GmbH</td>\n",
       "      <td>volkswagenautomobilestuttgart</td>\n",
       "      <td>DEUTSCHLAND</td>\n",
       "      <td>70188</td>\n",
       "      <td>stuttgart</td>\n",
       "      <td>Wangener Str. 66</td>\n",
       "      <td>NaN</td>\n",
       "      <td>NaN</td>\n",
       "      <td>768</td>\n",
       "    </tr>\n",
       "    <tr>\n",
       "      <td>969</td>\n",
       "      <td>Volkswagen Original Teile Logistik GmbH &amp; Co. KG</td>\n",
       "      <td>volkswagenoriginalteilelogistik</td>\n",
       "      <td>DEUTSCHLAND</td>\n",
       "      <td>34225</td>\n",
       "      <td>baunatal</td>\n",
       "      <td>Vertriebszentrum West</td>\n",
       "      <td>DE230960046</td>\n",
       "      <td>803202</td>\n",
       "      <td>1004</td>\n",
       "    </tr>\n",
       "    <tr>\n",
       "      <td>1060</td>\n",
       "      <td>Volkswagen Original Teile LogiSüdwest / Franke...</td>\n",
       "      <td>volkswagenoriginalteilelogisüdwestfranken</td>\n",
       "      <td>DEUTSCHLAND</td>\n",
       "      <td>97084</td>\n",
       "      <td>NaN</td>\n",
       "      <td>Unterer Kirchbergweg 65</td>\n",
       "      <td>NaN</td>\n",
       "      <td>170970</td>\n",
       "      <td>1097</td>\n",
       "    </tr>\n",
       "    <tr>\n",
       "      <td>1087</td>\n",
       "      <td>Volkswagen Infotainment GmbH</td>\n",
       "      <td>volkswageninfotainment</td>\n",
       "      <td>DEUTSCHLAND</td>\n",
       "      <td>44799</td>\n",
       "      <td>bochum</td>\n",
       "      <td>Universitätsstraße 140</td>\n",
       "      <td>DE295504619</td>\n",
       "      <td>803983</td>\n",
       "      <td>1126</td>\n",
       "    </tr>\n",
       "    <tr>\n",
       "      <td>2476</td>\n",
       "      <td>Volkswagen Business Services GmbH I-SEC; Frau ...</td>\n",
       "      <td>volkswagenbusinessservices</td>\n",
       "      <td>DEUTSCHLAND</td>\n",
       "      <td>38112</td>\n",
       "      <td>braunschweig</td>\n",
       "      <td>Schmalbachstraße 1</td>\n",
       "      <td>DE171252317</td>\n",
       "      <td>160936</td>\n",
       "      <td>2567</td>\n",
       "    </tr>\n",
       "    <tr>\n",
       "      <td>2478</td>\n",
       "      <td>Volkswagen Financial Services Digital Solution...</td>\n",
       "      <td>volkswagenfinancialservicesdigitalsolutions</td>\n",
       "      <td>DEUTSCHLAND</td>\n",
       "      <td>38112</td>\n",
       "      <td>braunschweig</td>\n",
       "      <td>Schmalbachstraße 1</td>\n",
       "      <td>DE260043656</td>\n",
       "      <td>800056</td>\n",
       "      <td>2569</td>\n",
       "    </tr>\n",
       "    <tr>\n",
       "      <td>3736</td>\n",
       "      <td>Volkswagen Immobilien GmbH</td>\n",
       "      <td>volkswagenimmobilien</td>\n",
       "      <td>DEUTSCHLAND</td>\n",
       "      <td>38440</td>\n",
       "      <td>wolfsburg</td>\n",
       "      <td>Poststr. 28</td>\n",
       "      <td>NaN</td>\n",
       "      <td>NaN</td>\n",
       "      <td>3883</td>\n",
       "    </tr>\n",
       "    <tr>\n",
       "      <td>6833</td>\n",
       "      <td>Volkswagen Osnabrück GmbH</td>\n",
       "      <td>volkswagenosnabrück</td>\n",
       "      <td>DEUTSCHLAND</td>\n",
       "      <td>49084</td>\n",
       "      <td>osnabrück</td>\n",
       "      <td>KARMANNSTRAßE 1</td>\n",
       "      <td>NaN</td>\n",
       "      <td>803445</td>\n",
       "      <td>7095</td>\n",
       "    </tr>\n",
       "    <tr>\n",
       "      <td>7652</td>\n",
       "      <td>Volkswagen Financial Services AG</td>\n",
       "      <td>volkswagenfinancialservices</td>\n",
       "      <td>DEUTSCHLAND</td>\n",
       "      <td>38112</td>\n",
       "      <td>braunschweig</td>\n",
       "      <td>IH-IMC</td>\n",
       "      <td>DE811115544</td>\n",
       "      <td>803041</td>\n",
       "      <td>7942</td>\n",
       "    </tr>\n",
       "    <tr>\n",
       "      <td>9067</td>\n",
       "      <td>Volkswagen Sachsen GmbH</td>\n",
       "      <td>volkswagensachsen</td>\n",
       "      <td>DEUTSCHLAND</td>\n",
       "      <td>8058</td>\n",
       "      <td>zwickau</td>\n",
       "      <td>Glauchauer Straße 40</td>\n",
       "      <td>DE141414869</td>\n",
       "      <td>802483</td>\n",
       "      <td>9432</td>\n",
       "    </tr>\n",
       "    <tr>\n",
       "      <td>10862</td>\n",
       "      <td>Volkswagen Argentina S.A.</td>\n",
       "      <td>volkswagenargentina</td>\n",
       "      <td>ARGENTINIEN</td>\n",
       "      <td>NaN</td>\n",
       "      <td>buenosaires</td>\n",
       "      <td>Centro Industrial Pacheco</td>\n",
       "      <td>NaN</td>\n",
       "      <td>851996</td>\n",
       "      <td>11318</td>\n",
       "    </tr>\n",
       "    <tr>\n",
       "      <td>11254</td>\n",
       "      <td>Volkswagen Kraftwerk GmbH</td>\n",
       "      <td>volkswagenkraftwerk</td>\n",
       "      <td>DEUTSCHLAND</td>\n",
       "      <td>38436</td>\n",
       "      <td>wolfsburg</td>\n",
       "      <td>Brieffach 0115</td>\n",
       "      <td>DE811115405</td>\n",
       "      <td>803444</td>\n",
       "      <td>11729</td>\n",
       "    </tr>\n",
       "    <tr>\n",
       "      <td>11255</td>\n",
       "      <td>Volkswagen Aktiengesellschaft</td>\n",
       "      <td>volkswagenaktiengesellschaft</td>\n",
       "      <td>DEUTSCHLAND</td>\n",
       "      <td>38436</td>\n",
       "      <td>wolfsburg</td>\n",
       "      <td>Brieffach 011/1875</td>\n",
       "      <td>NaN</td>\n",
       "      <td>850710</td>\n",
       "      <td>11730</td>\n",
       "    </tr>\n",
       "    <tr>\n",
       "      <td>11256</td>\n",
       "      <td>Volkswagen AG</td>\n",
       "      <td>volkswagen</td>\n",
       "      <td>DEUTSCHLAND</td>\n",
       "      <td>38436</td>\n",
       "      <td>wolfsburg</td>\n",
       "      <td>Brieffach 011/14010</td>\n",
       "      <td>DE115235681</td>\n",
       "      <td>803443</td>\n",
       "      <td>11731</td>\n",
       "    </tr>\n",
       "    <tr>\n",
       "      <td>11257</td>\n",
       "      <td>Volkswagen Coaching GmbH Rechnungswesen</td>\n",
       "      <td>volkswagencoaching</td>\n",
       "      <td>DEUTSCHLAND</td>\n",
       "      <td>38436</td>\n",
       "      <td>wolfsburg</td>\n",
       "      <td>Brieffach 011/05030</td>\n",
       "      <td>NaN</td>\n",
       "      <td>452161</td>\n",
       "      <td>11732</td>\n",
       "    </tr>\n",
       "    <tr>\n",
       "      <td>11309</td>\n",
       "      <td>Volkswagen Group Services GmbH</td>\n",
       "      <td>volkswagengroupservices</td>\n",
       "      <td>DEUTSCHLAND</td>\n",
       "      <td>38444</td>\n",
       "      <td>wolfsburg</td>\n",
       "      <td>Braunschweigerstrasse 101</td>\n",
       "      <td>DE214502654</td>\n",
       "      <td>804951</td>\n",
       "      <td>11784</td>\n",
       "    </tr>\n",
       "    <tr>\n",
       "      <td>13621</td>\n",
       "      <td>Volkswagen Financial Service (VWFS)</td>\n",
       "      <td>volkswagenfinancialservicevwfs</td>\n",
       "      <td>GROSSBRITANNIEN</td>\n",
       "      <td>11111</td>\n",
       "      <td>kent</td>\n",
       "      <td>NaN</td>\n",
       "      <td>NaN</td>\n",
       "      <td>805206</td>\n",
       "      <td>14172</td>\n",
       "    </tr>\n",
       "  </tbody>\n",
       "</table>\n",
       "</div>"
      ],
      "text/plain": [
       "                                              Firmenname  \\\n",
       "212              Volkswagen Group United kingdom Limited   \n",
       "741                 Volkswagen Automobile Stuttgart GmbH   \n",
       "969     Volkswagen Original Teile Logistik GmbH & Co. KG   \n",
       "1060   Volkswagen Original Teile LogiSüdwest / Franke...   \n",
       "1087                        Volkswagen Infotainment GmbH   \n",
       "2476   Volkswagen Business Services GmbH I-SEC; Frau ...   \n",
       "2478   Volkswagen Financial Services Digital Solution...   \n",
       "3736                          Volkswagen Immobilien GmbH   \n",
       "6833                           Volkswagen Osnabrück GmbH   \n",
       "7652                    Volkswagen Financial Services AG   \n",
       "9067                             Volkswagen Sachsen GmbH   \n",
       "10862                          Volkswagen Argentina S.A.   \n",
       "11254                          Volkswagen Kraftwerk GmbH   \n",
       "11255                      Volkswagen Aktiengesellschaft   \n",
       "11256                                      Volkswagen AG   \n",
       "11257            Volkswagen Coaching GmbH Rechnungswesen   \n",
       "11309                     Volkswagen Group Services GmbH   \n",
       "13621                Volkswagen Financial Service (VWFS)   \n",
       "\n",
       "                                  Firmenname_clean             Land  \\\n",
       "212                   volkswagengroupunitedkingdom  GROSSBRITANNIEN   \n",
       "741                  volkswagenautomobilestuttgart      DEUTSCHLAND   \n",
       "969                volkswagenoriginalteilelogistik      DEUTSCHLAND   \n",
       "1060     volkswagenoriginalteilelogisüdwestfranken      DEUTSCHLAND   \n",
       "1087                        volkswageninfotainment      DEUTSCHLAND   \n",
       "2476                    volkswagenbusinessservices      DEUTSCHLAND   \n",
       "2478   volkswagenfinancialservicesdigitalsolutions      DEUTSCHLAND   \n",
       "3736                          volkswagenimmobilien      DEUTSCHLAND   \n",
       "6833                           volkswagenosnabrück      DEUTSCHLAND   \n",
       "7652                   volkswagenfinancialservices      DEUTSCHLAND   \n",
       "9067                             volkswagensachsen      DEUTSCHLAND   \n",
       "10862                          volkswagenargentina      ARGENTINIEN   \n",
       "11254                          volkswagenkraftwerk      DEUTSCHLAND   \n",
       "11255                 volkswagenaktiengesellschaft      DEUTSCHLAND   \n",
       "11256                                   volkswagen      DEUTSCHLAND   \n",
       "11257                           volkswagencoaching      DEUTSCHLAND   \n",
       "11309                      volkswagengroupservices      DEUTSCHLAND   \n",
       "13621               volkswagenfinancialservicevwfs  GROSSBRITANNIEN   \n",
       "\n",
       "      Postleitzahl           Ort         Straße und Hausnr.   USt.-IdNr.  \\\n",
       "212       MK14 5AN  miltonkeynes              Yeomans Drive          NaN   \n",
       "741          70188     stuttgart           Wangener Str. 66          NaN   \n",
       "969          34225      baunatal      Vertriebszentrum West  DE230960046   \n",
       "1060         97084           NaN    Unterer Kirchbergweg 65          NaN   \n",
       "1087         44799        bochum     Universitätsstraße 140  DE295504619   \n",
       "2476         38112  braunschweig       Schmalbachstraße 1    DE171252317   \n",
       "2478         38112  braunschweig         Schmalbachstraße 1  DE260043656   \n",
       "3736         38440     wolfsburg                Poststr. 28          NaN   \n",
       "6833         49084     osnabrück            KARMANNSTRAßE 1          NaN   \n",
       "7652         38112  braunschweig                     IH-IMC  DE811115544   \n",
       "9067          8058       zwickau       Glauchauer Straße 40  DE141414869   \n",
       "10862          NaN   buenosaires  Centro Industrial Pacheco          NaN   \n",
       "11254        38436     wolfsburg             Brieffach 0115  DE811115405   \n",
       "11255        38436     wolfsburg         Brieffach 011/1875          NaN   \n",
       "11256        38436     wolfsburg        Brieffach 011/14010  DE115235681   \n",
       "11257        38436     wolfsburg        Brieffach 011/05030          NaN   \n",
       "11309        38444     wolfsburg  Braunschweigerstrasse 101  DE214502654   \n",
       "13621        11111          kent                        NaN          NaN   \n",
       "\n",
       "           ID  Idtrack  \n",
       "212    805690      221  \n",
       "741       NaN      768  \n",
       "969    803202     1004  \n",
       "1060   170970     1097  \n",
       "1087   803983     1126  \n",
       "2476   160936     2567  \n",
       "2478   800056     2569  \n",
       "3736      NaN     3883  \n",
       "6833   803445     7095  \n",
       "7652   803041     7942  \n",
       "9067   802483     9432  \n",
       "10862  851996    11318  \n",
       "11254  803444    11729  \n",
       "11255  850710    11730  \n",
       "11256  803443    11731  \n",
       "11257  452161    11732  \n",
       "11309  804951    11784  \n",
       "13621  805206    14172  "
      ]
     },
     "execution_count": 30,
     "metadata": {},
     "output_type": "execute_result"
    }
   ],
   "source": [
    "ulist[ulist['Firmenname'].str.contains('Volkswagen')]    # volksw'ag'en 'ag' case \"ag\" now catches correct ag (suffix one)"
   ]
  },
  {
   "cell_type": "markdown",
   "metadata": {},
   "source": [
    "**Think/ask Aktiengesellschaft == AG rule based or grouped same companies**"
   ]
  },
  {
   "cell_type": "code",
   "execution_count": 31,
   "metadata": {},
   "outputs": [
    {
     "data": {
      "text/html": [
       "<div>\n",
       "<style scoped>\n",
       "    .dataframe tbody tr th:only-of-type {\n",
       "        vertical-align: middle;\n",
       "    }\n",
       "\n",
       "    .dataframe tbody tr th {\n",
       "        vertical-align: top;\n",
       "    }\n",
       "\n",
       "    .dataframe thead th {\n",
       "        text-align: right;\n",
       "    }\n",
       "</style>\n",
       "<table border=\"1\" class=\"dataframe\">\n",
       "  <thead>\n",
       "    <tr style=\"text-align: right;\">\n",
       "      <th></th>\n",
       "      <th>Firmenname</th>\n",
       "      <th>Firmenname_clean</th>\n",
       "      <th>Land</th>\n",
       "      <th>Postleitzahl</th>\n",
       "      <th>Ort</th>\n",
       "      <th>Straße und Hausnr.</th>\n",
       "      <th>USt.-IdNr.</th>\n",
       "      <th>ID</th>\n",
       "      <th>Idtrack</th>\n",
       "    </tr>\n",
       "  </thead>\n",
       "  <tbody>\n",
       "    <tr>\n",
       "      <td>0</td>\n",
       "      <td>Bistum Essen</td>\n",
       "      <td>bistumessen</td>\n",
       "      <td>DEUTSCHLAND</td>\n",
       "      <td>45127</td>\n",
       "      <td>essen</td>\n",
       "      <td>Zwölfling 16</td>\n",
       "      <td>NaN</td>\n",
       "      <td>801695</td>\n",
       "      <td>1</td>\n",
       "    </tr>\n",
       "    <tr>\n",
       "      <td>1</td>\n",
       "      <td>KBS Kleider Bauer Betriebs-GmbH</td>\n",
       "      <td>kbskleiderbauerbetriebs</td>\n",
       "      <td>ÖSTERREICH</td>\n",
       "      <td>2380</td>\n",
       "      <td>perchtoldsdorf</td>\n",
       "      <td>Zwingenstr. 5</td>\n",
       "      <td>NaN</td>\n",
       "      <td>850801</td>\n",
       "      <td>2</td>\n",
       "    </tr>\n",
       "    <tr>\n",
       "      <td>2</td>\n",
       "      <td>Elektro Ing-Plan GmbH Dresden</td>\n",
       "      <td>elektroingplan</td>\n",
       "      <td>DEUTSCHLAND</td>\n",
       "      <td>1187</td>\n",
       "      <td>dresden</td>\n",
       "      <td>Zwickauer Straße 88</td>\n",
       "      <td>NaN</td>\n",
       "      <td>851014</td>\n",
       "      <td>3</td>\n",
       "    </tr>\n",
       "    <tr>\n",
       "      <td>3</td>\n",
       "      <td>Netzdesign-Vobornik</td>\n",
       "      <td>netzdesignvobornik</td>\n",
       "      <td>DEUTSCHLAND</td>\n",
       "      <td>71083</td>\n",
       "      <td>herrenberg</td>\n",
       "      <td>Zwickauer Strasse 41</td>\n",
       "      <td>NaN</td>\n",
       "      <td>NaN</td>\n",
       "      <td>4</td>\n",
       "    </tr>\n",
       "    <tr>\n",
       "      <td>4</td>\n",
       "      <td>NILES-SIMMONS Industrieanlagen GmbH</td>\n",
       "      <td>nilessimmonsindustrieanlagen</td>\n",
       "      <td>DEUTSCHLAND</td>\n",
       "      <td>9117</td>\n",
       "      <td>chemnitz</td>\n",
       "      <td>Zwickauer Straße 355</td>\n",
       "      <td>DE140853999</td>\n",
       "      <td>802541</td>\n",
       "      <td>5</td>\n",
       "    </tr>\n",
       "  </tbody>\n",
       "</table>\n",
       "</div>"
      ],
      "text/plain": [
       "                            Firmenname              Firmenname_clean  \\\n",
       "0                         Bistum Essen                   bistumessen   \n",
       "1      KBS Kleider Bauer Betriebs-GmbH       kbskleiderbauerbetriebs   \n",
       "2        Elektro Ing-Plan GmbH Dresden                elektroingplan   \n",
       "3                  Netzdesign-Vobornik            netzdesignvobornik   \n",
       "4  NILES-SIMMONS Industrieanlagen GmbH  nilessimmonsindustrieanlagen   \n",
       "\n",
       "          Land Postleitzahl             Ort    Straße und Hausnr.  \\\n",
       "0  DEUTSCHLAND        45127           essen          Zwölfling 16   \n",
       "1   ÖSTERREICH         2380  perchtoldsdorf         Zwingenstr. 5   \n",
       "2  DEUTSCHLAND         1187         dresden   Zwickauer Straße 88   \n",
       "3  DEUTSCHLAND        71083      herrenberg  Zwickauer Strasse 41   \n",
       "4  DEUTSCHLAND         9117        chemnitz  Zwickauer Straße 355   \n",
       "\n",
       "    USt.-IdNr.      ID  Idtrack  \n",
       "0          NaN  801695        1  \n",
       "1          NaN  850801        2  \n",
       "2          NaN  851014        3  \n",
       "3          NaN     NaN        4  \n",
       "4  DE140853999  802541        5  "
      ]
     },
     "execution_count": 31,
     "metadata": {},
     "output_type": "execute_result"
    }
   ],
   "source": [
    "ulist.head()"
   ]
  },
  {
   "cell_type": "code",
   "execution_count": 275,
   "metadata": {},
   "outputs": [],
   "source": [
    "# input 2-5\n",
    "# output 1st column add"
   ]
  },
  {
   "cell_type": "markdown",
   "metadata": {},
   "source": [
    "# Next Steps\n",
    "1. Working on Prefix:\n",
    "      There are ' ' strings (if suffix in the first index of a string get the rest of that string [companyname.split().index(i):]) Done!\n",
    "2. Converting Land and Ort columns to English\n",
    "3. Creating a dictionary to map many to one (groupby or duplicates)\n",
    "4. Function takes input and returns a unique company name and its' info\n",
    "5. Other datasets"
   ]
  },
  {
   "cell_type": "markdown",
   "metadata": {},
   "source": [
    "# Questions\n",
    "1. Aktiengesellschaft == AG how to catch it? Should I include Aktiengesellschaft in a list to be removed substring or special rule would be better in this case? (Maybe I can create a dictionary for cases like AG<==>Aktiengesellschaft, but might be difficult to generalize for other acronym-definition pairs.)"
   ]
  },
  {
   "cell_type": "code",
   "execution_count": null,
   "metadata": {},
   "outputs": [],
   "source": []
  }
 ],
 "metadata": {
  "kernelspec": {
   "display_name": "Python 3",
   "language": "python",
   "name": "python3"
  },
  "language_info": {
   "codemirror_mode": {
    "name": "ipython",
    "version": 3
   },
   "file_extension": ".py",
   "mimetype": "text/x-python",
   "name": "python",
   "nbconvert_exporter": "python",
   "pygments_lexer": "ipython3",
   "version": "3.7.4"
  }
 },
 "nbformat": 4,
 "nbformat_minor": 4
}
