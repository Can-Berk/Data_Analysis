{
 "cells": [
  {
   "cell_type": "code",
   "execution_count": 1,
   "metadata": {},
   "outputs": [],
   "source": [
    "import pandas as pd\n",
    "import numpy as np\n",
    "import yaml\n",
    "import json\n",
    "import re\n",
    "from difflib import SequenceMatcher    # https://docs.python.org/3/library/difflib.html#difflib.get_close_matches\n",
    "# !pip install cleanco\n",
    "# import cleanco   # can be useful"
   ]
  },
  {
   "cell_type": "code",
   "execution_count": 2,
   "metadata": {},
   "outputs": [],
   "source": [
    "def columns_preprocess(df):\n",
    "    df['Company_name'] = df['Company_name'].str.strip()   # remove whitespace before and after strings\n",
    "    df = df.astype({\"Country\": str, \"City\": str})\n",
    "    df[\"Country\"] = df[\"Country\"].str.upper().str.strip().astype('category')\n",
    "    df[\"City\"] = df[\"City\"].str.lower().str.strip().str.replace('\\W', ' ')    # lowercase cities and tokenize\n",
    "    df['Zipcode'] = df['Zipcode'].replace(r'^\\s*$', np.nan, regex=True)\n",
    "    df['Address'] = df['Address'].replace(r'^\\s*$', np.nan, regex=True)\n",
    "    df['Address'] = df['Address'].str.strip()\n",
    "    df.insert(loc=1, column='Companyname_clean', value=df[\"Company_name\"].str.lower())\n",
    "    return df"
   ]
  },
  {
   "cell_type": "code",
   "execution_count": 3,
   "metadata": {},
   "outputs": [],
   "source": [
    "def city_modify(df):   # standardizing city names with special characters\n",
    "    df[\"City\"] = df[\"City\"].str.replace('\\W', '')"
   ]
  },
  {
   "cell_type": "code",
   "execution_count": 4,
   "metadata": {},
   "outputs": [],
   "source": [
    "def companyname_clean_modify(df):   # for the remaining suffix problem\n",
    "    df[\"Companyname_clean\"] = df[\"Companyname_clean\"].str.replace('\\W', '')"
   ]
  },
  {
   "cell_type": "code",
   "execution_count": 5,
   "metadata": {},
   "outputs": [],
   "source": [
    "def dict_lowercase(dc):\n",
    "    for i in dc.keys():            # values (city names) lower case and special characters are removed\n",
    "        if type(dc[i]) is list:\n",
    "            dc[i]=  [j.lower().replace(' ','').replace('-','') for j in dc[i]]\n",
    "        else:\n",
    "            dc[i] = dc[i].lower().replace(' ','').replace('-','')\n",
    "    return dc"
   ]
  },
  {
   "cell_type": "code",
   "execution_count": 6,
   "metadata": {},
   "outputs": [],
   "source": [
    "# Case 1\n",
    "def city_finder(city):\n",
    "    if len(city.split())>=3:\n",
    "        cityname = [x for x in city.split() if x in geo_cities]   # city is actually address when city string >= 3 tokens\n",
    "        result = ''.join(cityname)\n",
    "        if result!='':\n",
    "            return result\n",
    "        else:\n",
    "            return city\n",
    "    return city\n",
    "\n",
    "# Case 2\n",
    "def country_filler1(city, country):\n",
    "    country_name = [k for k, v in country_city_dict.items() if (city.upper() in k) & (city!='')]   # if city is actually a country and not a missing entry\n",
    "    result = city.upper()\n",
    "    if result != '':\n",
    "        return result\n",
    "    else:\n",
    "        return country\n",
    "\n",
    "\n",
    "# Case 3\n",
    "def country_filler2(city, country):\n",
    "    country_name = [k for k, v in country_city_dict.items() if city in v]   # country of the city\n",
    "    result = ''.join(country_name)\n",
    "    if result in country_city_dict.keys():\n",
    "        return result\n",
    "    else:\n",
    "        return country"
   ]
  },
  {
   "cell_type": "code",
   "execution_count": 7,
   "metadata": {},
   "outputs": [],
   "source": [
    "def country_mapper(df, df_diff, df_clean):             # Dataset country name standardizer\n",
    "    country_dict = {}\n",
    "    country_list = []\n",
    "    for i in range(len(df_diff)):\n",
    "        max_similarity = 0.75   #threshold\n",
    "        most_similar_country = df_diff[i]\n",
    "        #print(most_similar_country)\n",
    "        for country in original_clear_bdata:\n",
    "            similarity_score = SequenceMatcher(None, df_clean[i], country[1]).ratio() #compare pre_postfix cleared countrynames\n",
    "            if similarity_score >= max_similarity:\n",
    "                #print(similarity_score, country[1])\n",
    "                max_similarity = similarity_score\n",
    "                most_similar_country = country[0] #turn qdata country to most similar bdata country if similarityscore is above 0.75\n",
    "    #         else:\n",
    "    #             most_similar_country = qdatadiff_countries[i]\n",
    "        country_list.append(most_similar_country)\n",
    "        country_dict = dict(zip(df_diff, country_list))\n",
    "    df['Country'] = df['Country'].map(country_dict).fillna(df['Country'])"
   ]
  },
  {
   "cell_type": "code",
   "execution_count": 8,
   "metadata": {},
   "outputs": [],
   "source": [
    "def suffix_remover(companyname):    # Running multiple times (2 is good) removes suffix effectively\n",
    "    for i in suffix_list:\n",
    "        if i == companyname.split()[0]:    # tokenization and looking for suffix in a company name\n",
    "            return ' '.join(companyname.split()[companyname.split().index(i)+1:])    # If first index is prefix then take rest of the company name\n",
    "        elif i in companyname.split():\n",
    "            return ' '.join(companyname.split()[:companyname.split().index(i)])      # If suffix is detected then remove suffix and rest of the company name\n",
    "        elif i in companyname.split('-'):\n",
    "            return ' '.join(companyname.split('-')[:companyname.split('-').index(i)])\n",
    "    return companyname"
   ]
  },
  {
   "cell_type": "code",
   "execution_count": 9,
   "metadata": {},
   "outputs": [],
   "source": [
    "def pre_middle_suffix_remove(companyname):   # appylying this function after special characters (+ white spaces) are removed\n",
    "    for i in remove_list:\n",
    "        if i in companyname:\n",
    "            return companyname.replace(i, '')\n",
    "    return companyname"
   ]
  },
  {
   "cell_type": "code",
   "execution_count": 10,
   "metadata": {},
   "outputs": [],
   "source": [
    "def mto_columns(df):\n",
    "    df['Address_mto'] = df.sort_values(by=['Address'],na_position='last').groupby(['Companyname_clean', 'Zipcode'])['Address'].transform('first')\n",
    "    df['Companyname_mto'] = df.groupby('Companyname_clean')['Company_name'].transform('first')"
   ]
  },
  {
   "cell_type": "code",
   "execution_count": 11,
   "metadata": {},
   "outputs": [],
   "source": [
    "# Many to One company finding function\n",
    "def find_comp(x,y,z,q):\n",
    "    x= x.strip().lower()   # company name\n",
    "    y= y.strip().upper()   # country\n",
    "    z= z.strip().lower()   # city\n",
    "    q= q.strip()           #zipcode\n",
    "    result = [k for k, v in total.items() if (x, y, z, q) in v]            # exact match\n",
    "    result_alt1 = [k for k, v in total.items() if (x, y, z, '-') in v]         # in case zip is blank\n",
    "    result_alt2 = [k for k, v in total.items() if (x, y, '-', q) in v]     # in case city is blank\n",
    "    result_alt3 = [k for k, v in total.items() if (x, '-', z, q) in v]     # in case country is blank\n",
    "    result_alt4 = [k for k, v in total.items() if (x.replace(' ',''), y, z, q) in v]   # remove whitespace (captures most entries without their suffix)\n",
    "    result_close = [k for k, v in total.items() if (' '.join(x.split()[:-1]), y, z, q) in v] # less than what you entered recommendation: input Fraport AG 2 ==> finds Fraport AG\n",
    "    \n",
    "    if result != []:\n",
    "        return result\n",
    "    elif result_alt1 != []:\n",
    "        return result_alt1\n",
    "    elif result_alt2 != []:\n",
    "        return result_alt2\n",
    "    elif result_alt3 != []:\n",
    "        return result_alt3\n",
    "    elif result_alt4 != []:\n",
    "        return result_alt4\n",
    "    elif result_close != []:\n",
    "        #return \"Are you looking for the company named *{}*?\".format(' '.join(x.split()[:-1]))  #E.g: find_comp('Fraport ag example', 'Germany', 'frankfurt')\n",
    "        return result_close\n",
    "# if no result until here;        \n",
    "    for i in mapper.keys():     # Manuel rules here: Aktiengesellschaft=AG\n",
    "        if i in x.split():      #E.g: find_comp('Volkswagen Financial Services aktiengesellschaft', 'Germany', 'braunschweig')\n",
    "            #x = x.replace(i, mapper[i])\n",
    "            result_mapped = [k for k, v in total.items() if (x.replace(i, mapper[i]), y, z, q) in v]      # exact match after mapping manuel rules\n",
    "            result_mapped1 = [k for k, v in total.items() if (x.replace(i, mapper[i]), y, z, '-') in v]\n",
    "            result_mapped2 = [k for k, v in total.items() if (x.replace(i, mapper[i]), y, '-', q) in v]\n",
    "            result_mapped3 = [k for k, v in total.items() if (x.replace(i, mapper[i]), '-', z, q) in v]\n",
    "            result_close2 =  [k for k, v in total.items() if (' '.join(x.replace(i, mapper[i]).split()[:-1]), y, z, q) in v]   # for the recommendation part\n",
    "            if result_mapped != []:\n",
    "                return result_mapped\n",
    "            elif result_mapped1 != []:\n",
    "                return result_mapped1\n",
    "            elif result_mapped2 != []:\n",
    "                return result_mapped2\n",
    "            elif result_mapped3 != []:\n",
    "                return result_mapped3\n",
    "            elif result_close2!=[]:\n",
    "                #return \"Are you looking for the company named *{}*?\".format(' '.join(x.replace(i, mapper[i]).split()[:-1]))\n",
    "                return result_close2\n",
    "        \n",
    "    else:\n",
    "        # Similarity measure later\n",
    "        return 'Not available'"
   ]
  },
  {
   "cell_type": "markdown",
   "metadata": {},
   "source": [
    "# 1. Read dataset"
   ]
  },
  {
   "cell_type": "code",
   "execution_count": 12,
   "metadata": {},
   "outputs": [
    {
     "data": {
      "text/html": [
       "<div>\n",
       "<style scoped>\n",
       "    .dataframe tbody tr th:only-of-type {\n",
       "        vertical-align: middle;\n",
       "    }\n",
       "\n",
       "    .dataframe tbody tr th {\n",
       "        vertical-align: top;\n",
       "    }\n",
       "\n",
       "    .dataframe thead th {\n",
       "        text-align: right;\n",
       "    }\n",
       "</style>\n",
       "<table border=\"1\" class=\"dataframe\">\n",
       "  <thead>\n",
       "    <tr style=\"text-align: right;\">\n",
       "      <th></th>\n",
       "      <th>Company_name</th>\n",
       "      <th>Country</th>\n",
       "      <th>Zipcode</th>\n",
       "      <th>City</th>\n",
       "      <th>Address</th>\n",
       "      <th>USt.-IdNr.</th>\n",
       "      <th>ID</th>\n",
       "    </tr>\n",
       "  </thead>\n",
       "  <tbody>\n",
       "    <tr>\n",
       "      <td>0</td>\n",
       "      <td>Bistum Essen</td>\n",
       "      <td>Deutschland</td>\n",
       "      <td>45127</td>\n",
       "      <td>Essen</td>\n",
       "      <td>Zwölfling 16</td>\n",
       "      <td>NaN</td>\n",
       "      <td>801695</td>\n",
       "    </tr>\n",
       "    <tr>\n",
       "      <td>1</td>\n",
       "      <td>KBS Kleider Bauer Betriebs-GmbH</td>\n",
       "      <td>Österreich</td>\n",
       "      <td>2380</td>\n",
       "      <td>Perchtoldsdorf</td>\n",
       "      <td>Zwingenstr. 5</td>\n",
       "      <td>NaN</td>\n",
       "      <td>850801</td>\n",
       "    </tr>\n",
       "    <tr>\n",
       "      <td>2</td>\n",
       "      <td>Elektro Ing-Plan GmbH Dresden</td>\n",
       "      <td>Deutschland</td>\n",
       "      <td>1187</td>\n",
       "      <td>Dresden</td>\n",
       "      <td>Zwickauer Straße 88</td>\n",
       "      <td>NaN</td>\n",
       "      <td>851014</td>\n",
       "    </tr>\n",
       "    <tr>\n",
       "      <td>3</td>\n",
       "      <td>Netzdesign-Vobornik</td>\n",
       "      <td>Deutschland</td>\n",
       "      <td>71083</td>\n",
       "      <td>Herrenberg</td>\n",
       "      <td>Zwickauer Strasse 41</td>\n",
       "      <td>NaN</td>\n",
       "      <td>NaN</td>\n",
       "    </tr>\n",
       "    <tr>\n",
       "      <td>4</td>\n",
       "      <td>NILES-SIMMONS Industrieanlagen GmbH</td>\n",
       "      <td>Deutschland</td>\n",
       "      <td>9117</td>\n",
       "      <td>Chemnitz</td>\n",
       "      <td>Zwickauer Straße 355</td>\n",
       "      <td>DE140853999</td>\n",
       "      <td>802541</td>\n",
       "    </tr>\n",
       "  </tbody>\n",
       "</table>\n",
       "</div>"
      ],
      "text/plain": [
       "                          Company_name      Country Zipcode            City  \\\n",
       "0                         Bistum Essen  Deutschland   45127           Essen   \n",
       "1      KBS Kleider Bauer Betriebs-GmbH   Österreich    2380  Perchtoldsdorf   \n",
       "2        Elektro Ing-Plan GmbH Dresden  Deutschland    1187         Dresden   \n",
       "3                  Netzdesign-Vobornik  Deutschland   71083      Herrenberg   \n",
       "4  NILES-SIMMONS Industrieanlagen GmbH  Deutschland    9117        Chemnitz   \n",
       "\n",
       "                Address   USt.-IdNr.      ID  \n",
       "0          Zwölfling 16          NaN  801695  \n",
       "1         Zwingenstr. 5          NaN  850801  \n",
       "2   Zwickauer Straße 88          NaN  851014  \n",
       "3  Zwickauer Strasse 41          NaN     NaN  \n",
       "4  Zwickauer Straße 355  DE140853999  802541  "
      ]
     },
     "execution_count": 12,
     "metadata": {},
     "output_type": "execute_result"
    }
   ],
   "source": [
    "ulist = pd.read_excel(\"Unternehmensliste_Interflex.xlsx\")\n",
    "ulist = ulist.rename(columns={'Firmenname': 'Company_name', 'Land': 'Country', 'Postleitzahl': 'Zipcode', 'Ort': 'City', 'Straße und Hausnr.': 'Address'})\n",
    "ulist.head()"
   ]
  },
  {
   "cell_type": "code",
   "execution_count": 14,
   "metadata": {},
   "outputs": [
    {
     "data": {
      "text/html": [
       "<div>\n",
       "<style scoped>\n",
       "    .dataframe tbody tr th:only-of-type {\n",
       "        vertical-align: middle;\n",
       "    }\n",
       "\n",
       "    .dataframe tbody tr th {\n",
       "        vertical-align: top;\n",
       "    }\n",
       "\n",
       "    .dataframe thead th {\n",
       "        text-align: right;\n",
       "    }\n",
       "</style>\n",
       "<table border=\"1\" class=\"dataframe\">\n",
       "  <thead>\n",
       "    <tr style=\"text-align: right;\">\n",
       "      <th></th>\n",
       "      <th>Year</th>\n",
       "      <th>Company_name</th>\n",
       "      <th>Country</th>\n",
       "      <th>City</th>\n",
       "      <th>Zipcode</th>\n",
       "      <th>Address</th>\n",
       "    </tr>\n",
       "  </thead>\n",
       "  <tbody>\n",
       "    <tr>\n",
       "      <td>0</td>\n",
       "      <td>2021</td>\n",
       "      <td>&amp; Factory, Inc.</td>\n",
       "      <td>Japan</td>\n",
       "      <td>Meguro</td>\n",
       "      <td>153-0042</td>\n",
       "      <td>3-6-28 Aobadai. Meguro-Ku</td>\n",
       "    </tr>\n",
       "    <tr>\n",
       "      <td>1</td>\n",
       "      <td>2020</td>\n",
       "      <td>&amp; Factory, Inc.</td>\n",
       "      <td>Japan</td>\n",
       "      <td>Meguro</td>\n",
       "      <td>153-0042</td>\n",
       "      <td>3-6-28 Aobadai. Meguro-Ku</td>\n",
       "    </tr>\n",
       "    <tr>\n",
       "      <td>2</td>\n",
       "      <td>2019</td>\n",
       "      <td>&amp; Factory, Inc.</td>\n",
       "      <td>Japan</td>\n",
       "      <td>Meguro</td>\n",
       "      <td>153-0042</td>\n",
       "      <td>3-6-28 Aobadai. Meguro-Ku</td>\n",
       "    </tr>\n",
       "    <tr>\n",
       "      <td>3</td>\n",
       "      <td>2018</td>\n",
       "      <td>&amp; Factory, Inc.</td>\n",
       "      <td>Japan</td>\n",
       "      <td>Meguro</td>\n",
       "      <td>153-0042</td>\n",
       "      <td>3-6-28 Aobadai. Meguro-Ku</td>\n",
       "    </tr>\n",
       "    <tr>\n",
       "      <td>4</td>\n",
       "      <td>2021</td>\n",
       "      <td>&amp;Do Holdings Co., Ltd.</td>\n",
       "      <td>Japan</td>\n",
       "      <td>Kyoto</td>\n",
       "      <td>100-0005</td>\n",
       "      <td>670 Tearaimizu-Cho. Nakagyo-Ku</td>\n",
       "    </tr>\n",
       "  </tbody>\n",
       "</table>\n",
       "</div>"
      ],
      "text/plain": [
       "   Year            Company_name Country    City   Zipcode  \\\n",
       "0  2021         & Factory, Inc.   Japan  Meguro  153-0042   \n",
       "1  2020         & Factory, Inc.   Japan  Meguro  153-0042   \n",
       "2  2019         & Factory, Inc.   Japan  Meguro  153-0042   \n",
       "3  2018         & Factory, Inc.   Japan  Meguro  153-0042   \n",
       "4  2021  &Do Holdings Co., Ltd.   Japan   Kyoto  100-0005   \n",
       "\n",
       "                          Address  \n",
       "0       3-6-28 Aobadai. Meguro-Ku  \n",
       "1       3-6-28 Aobadai. Meguro-Ku  \n",
       "2       3-6-28 Aobadai. Meguro-Ku  \n",
       "3       3-6-28 Aobadai. Meguro-Ku  \n",
       "4  670 Tearaimizu-Cho. Nakagyo-Ku  "
      ]
     },
     "execution_count": 14,
     "metadata": {},
     "output_type": "execute_result"
    }
   ],
   "source": [
    "qdata_cols = ['Year', 'Name', 'Country', 'City', 'ZipCode', 'Address']\n",
    "qdata = pd.read_excel(path + \"Quandl_Q3.xlsx\", usecols=qdata_cols)[qdata_cols]\n",
    "qdata = qdata.rename(columns={'Name': 'Company_name', 'ZipCode': 'Zipcode'})\n",
    "qdata.head()"
   ]
  },
  {
   "cell_type": "code",
   "execution_count": 15,
   "metadata": {},
   "outputs": [
    {
     "name": "stderr",
     "output_type": "stream",
     "text": [
      "C:\\ProgramData\\Anaconda3\\lib\\site-packages\\IPython\\core\\interactiveshell.py:3058: DtypeWarning: Columns (3) have mixed types. Specify dtype option on import or set low_memory=False.\n",
      "  interactivity=interactivity, compiler=compiler, result=result)\n"
     ]
    },
    {
     "data": {
      "text/html": [
       "<div>\n",
       "<style scoped>\n",
       "    .dataframe tbody tr th:only-of-type {\n",
       "        vertical-align: middle;\n",
       "    }\n",
       "\n",
       "    .dataframe tbody tr th {\n",
       "        vertical-align: top;\n",
       "    }\n",
       "\n",
       "    .dataframe thead th {\n",
       "        text-align: right;\n",
       "    }\n",
       "</style>\n",
       "<table border=\"1\" class=\"dataframe\">\n",
       "  <thead>\n",
       "    <tr style=\"text-align: right;\">\n",
       "      <th></th>\n",
       "      <th>Company_name</th>\n",
       "      <th>Country</th>\n",
       "      <th>City</th>\n",
       "      <th>Zipcode</th>\n",
       "      <th>Address</th>\n",
       "    </tr>\n",
       "  </thead>\n",
       "  <tbody>\n",
       "    <tr>\n",
       "      <td>0</td>\n",
       "      <td>Chaussures Carrefour S.E.N.C</td>\n",
       "      <td>CANADA</td>\n",
       "      <td>GRANBY</td>\n",
       "      <td>J2J 0C2</td>\n",
       "      <td>226 rue Saint-Jude N</td>\n",
       "    </tr>\n",
       "    <tr>\n",
       "      <td>1</td>\n",
       "      <td>Produits Marins F.G.R. Inc, Les</td>\n",
       "      <td>CANADA</td>\n",
       "      <td>L'tang-du-Nord</td>\n",
       "      <td>G4T 3V9</td>\n",
       "      <td>1540 ch Des Caps</td>\n",
       "    </tr>\n",
       "    <tr>\n",
       "      <td>2</td>\n",
       "      <td>Catherine Fournier Notaire Inc</td>\n",
       "      <td>CANADA</td>\n",
       "      <td>BEACONSFIELD</td>\n",
       "      <td>H9W 5S3</td>\n",
       "      <td>186 Sutton Pl bureau 1</td>\n",
       "    </tr>\n",
       "    <tr>\n",
       "      <td>3</td>\n",
       "      <td>Ferme Cripoval Inc.</td>\n",
       "      <td>CANADA</td>\n",
       "      <td>SAINT-JULES</td>\n",
       "      <td>G0N 1R0</td>\n",
       "      <td>270 Rang Saint-Bruno</td>\n",
       "    </tr>\n",
       "    <tr>\n",
       "      <td>4</td>\n",
       "      <td>3181243 Canada Inc.</td>\n",
       "      <td>CANADA</td>\n",
       "      <td>Paspbiac</td>\n",
       "      <td>G0C 2K0</td>\n",
       "      <td>180 Boul Grard-D.-Levesque O</td>\n",
       "    </tr>\n",
       "  </tbody>\n",
       "</table>\n",
       "</div>"
      ],
      "text/plain": [
       "                      Company_name Country            City  Zipcode  \\\n",
       "0     Chaussures Carrefour S.E.N.C  CANADA          GRANBY  J2J 0C2   \n",
       "1  Produits Marins F.G.R. Inc, Les  CANADA  L'tang-du-Nord  G4T 3V9   \n",
       "2   Catherine Fournier Notaire Inc  CANADA    BEACONSFIELD  H9W 5S3   \n",
       "3              Ferme Cripoval Inc.  CANADA     SAINT-JULES  G0N 1R0   \n",
       "4              3181243 Canada Inc.  CANADA        Paspbiac  G0C 2K0   \n",
       "\n",
       "                        Address  \n",
       "0          226 rue Saint-Jude N  \n",
       "1              1540 ch Des Caps  \n",
       "2        186 Sutton Pl bureau 1  \n",
       "3          270 Rang Saint-Bruno  \n",
       "4  180 Boul Grard-D.-Levesque O  "
      ]
     },
     "execution_count": 15,
     "metadata": {},
     "output_type": "execute_result"
    }
   ],
   "source": [
    "bdata_cols = ['company_name', 'country', 'city', 'zip', 'street']\n",
    "bdata = pd.read_csv(path + \"20220831_BoldData_Q3.csv\", usecols=bdata_cols)[bdata_cols]\n",
    "bdata = bdata.rename(columns={'company_name': 'Company_name', 'country': 'Country', 'city': 'City', 'zip': 'Zipcode', 'street': 'Address'})\n",
    "bdata.head()"
   ]
  },
  {
   "cell_type": "code",
   "execution_count": 16,
   "metadata": {},
   "outputs": [
    {
     "name": "stderr",
     "output_type": "stream",
     "text": [
      "C:\\ProgramData\\Anaconda3\\lib\\site-packages\\ipykernel_launcher.py:2: YAMLLoadWarning: calling yaml.load() without Loader=... is deprecated, as the default Loader is unsafe. Please read https://msg.pyyaml.org/load for full details.\n",
      "  \n"
     ]
    }
   ],
   "source": [
    "with open('countries_by_namede_modified.yml.txt', 'rt', encoding='utf8') as file:   \n",
    "     yaml_dict = yaml.load(file)\n",
    "\n",
    "country_dict = yaml_dict.get('de').get('countries')\n",
    "country_dict = {y: x for x, y in country_dict.items()}\n",
    "country_dict = {k.upper():v.upper() for k,v in country_dict.items()}\n",
    "country_dict = {k.replace('-',' '): v.replace('-',' ') for k, v in country_dict.items()}\n",
    "\n",
    "country_dict.update({'MALTA\\xa0(MALTA)':'MALTA', 'PUERTO RICO\\xa0(PUERTO RICO)': 'PUERTO RICO', 'THAILAND\\xa0(THAILAND)': 'THAILAND', 'ISRAEL\\xa0(ISRAEL)': 'ISRAEL',\n",
    "                     'JORDAN\\xa0(JORDANIEN)': 'JORDAN', 'MALAYSIA\\xa0(MALAYSIA)': 'MALAYSIA', 'GREECE\\xa0(GRIECHENLAND)': 'GREECE', 'MACEDONIA\\xa0(MAZEDONIEN)': 'MACEDONIA',\n",
    "                     'KUWAIT\\xa0(KUWAIT)': 'KUWAIT', 'SINGAPORE\\xa0(SINGAPUR)': 'SINGAPORE', 'QATAR\\xa0(KATAR)': 'QATAR', 'KAZAKHSTAN\\xa0(KASACHSTAN)': 'KAZAKHSTAN',\n",
    "                    'JAPAN\\xa0(JAPAN)': 'JAPAN', 'SOUTH KOREA\\xa0(KOREA, SÜD)': 'SOUTH KOREA', 'VIETNAM\\xa0(VIETNAM)': 'VIETNAM', 'SERBIA\\xa0(SERBIEN)': 'SERBIA',\n",
    "                    'PHILIPPINES\\xa0(PHILIPPINEN)': 'PHILIPPINES', 'NEW ZEALAND\\xa0(NEUSEELAND)': 'NEW ZEALAND', 'RUSSLAND': 'RUSSIAN FEDERATION', 'ESTLAND': 'ESTONIA',\n",
    "                     'TSCHECHIEN': 'CZECH REPUBLIC', 'CROATIA_HRVATSKA': 'CROTIA', 'VEREINIGTE EMIRATE': 'UNITED ARAB EMIRATES', 'KÖNIGREICH SAUDI-ARABIEN': 'SAUDI ARABIA',\n",
    "                     'SAUDI ARABIEN': 'SAUDI ARABIA', 'ESTLAND)': 'ESTONIA',\n",
    "                    'US':'UNITED STATES', 'USA': 'UNITED STATES', 'UK': 'UNITED KINGDOM', 'UA': 'UNITED ARAB EMIRATES'})"
   ]
  },
  {
   "cell_type": "code",
   "execution_count": 17,
   "metadata": {},
   "outputs": [],
   "source": [
    "country_citydf = pd.read_csv('worldcities.csv', usecols=['country', 'city_ascii'])   #https://simplemaps.com/data/world-cities\n",
    "country_citydf.head()\n",
    "\n",
    "country_city_dict = {k: g[\"city_ascii\"].tolist() for k,g in country_citydf.groupby(\"country\")}\n",
    "country_city_dict = {k.upper():v for k,v in country_city_dict.items()}\n",
    "\n",
    "country_city_dict = dict_lowercase(country_city_dict)\n",
    "\n",
    "geo_countries = list(country_city_dict.keys())                              # list of all countries\n",
    "geo_cities = [j for sub in list(country_city_dict.values()) for j in sub]   # list of all cities"
   ]
  },
  {
   "cell_type": "markdown",
   "metadata": {},
   "source": [
    "# 2. Dataset Specific Operations"
   ]
  },
  {
   "cell_type": "markdown",
   "metadata": {},
   "source": [
    "## 2.1 Ulist"
   ]
  },
  {
   "cell_type": "code",
   "execution_count": 18,
   "metadata": {},
   "outputs": [],
   "source": [
    "ulist = columns_preprocess(ulist)\n",
    "ulist['Country'] = ulist['Country'].map(country_dict).fillna(ulist['Country'])   # De-Eng country name mapper\n",
    "ulist_cases = ulist[(ulist['Country']=='NAN') & (ulist['City']!='nan')]    # all the entries with missing country names"
   ]
  },
  {
   "cell_type": "code",
   "execution_count": 19,
   "metadata": {},
   "outputs": [
    {
     "name": "stdout",
     "output_type": "stream",
     "text": [
      "Country missing but city is given= 903\n",
      "City is missing but country is given= 478\n",
      "Both Country and city missing= 170\n"
     ]
    }
   ],
   "source": [
    "print('Country missing but city is given=', len(ulist[(ulist['Country']=='NAN') & (ulist['City']!='nan')]))\n",
    "print('City is missing but country is given=', len(ulist[(ulist['Country']!='NAN') & (ulist['City']=='nan')]))\n",
    "print('Both Country and city missing=', len(ulist[(ulist['Country']=='NAN') & (ulist['City']=='nan')]))"
   ]
  },
  {
   "cell_type": "code",
   "execution_count": 20,
   "metadata": {},
   "outputs": [
    {
     "data": {
      "text/plain": [
       "['burgdorf',\n",
       " 'deurne',\n",
       " 'linz',\n",
       " 'london',\n",
       " 'nan',\n",
       " 'neunkirchen',\n",
       " 'puebla',\n",
       " 'schwarzach']"
      ]
     },
     "execution_count": 20,
     "metadata": {},
     "output_type": "execute_result"
    }
   ],
   "source": [
    "a = ulist.groupby('City').Country.nunique() > 2     # cities appear in more than a country\n",
    "a[a].index.tolist()                    # schwarzach, burgdorf\n",
    "\n",
    "# https://stackoverflow.com/questions/54518504/check-if-group-contains-same-value-in-pandas"
   ]
  },
  {
   "cell_type": "code",
   "execution_count": 21,
   "metadata": {},
   "outputs": [
    {
     "name": "stdout",
     "output_type": "stream",
     "text": [
      "Case 1. City name error:\n",
      "\n",
      "        Company_name Companyname_clean Country Zipcode  \\\n",
      "14351  Eqos Energie      eqos energie     NAN     NaN   \n",
      "14364          Eqos              eqos     NAN     NaN   \n",
      "\n",
      "                                                City Address USt.-IdNr.  \\\n",
      "14351  hinterbergerstraße 13  4400 steyr  österreich     NaN        NaN   \n",
      "14364                                          steyr     NaN        NaN   \n",
      "\n",
      "           ID  \n",
      "14351  850821  \n",
      "14364  850713  \n",
      "\n",
      "523 entries are longer than 2 tokens\n",
      "\n",
      "\n",
      "Case 2. City name is actually a country name\n",
      "                                      Company_name  \\\n",
      "13692            ams-OSRAM Asia Pacific Pte. Ltd.   \n",
      "13791  TTS Tooltechnic Systems North  America, LP   \n",
      "13858      Boehringer Ingelheim Singapore Pte Ltd   \n",
      "13989            Schaeffler (Singapore) Pte. Ltd.   \n",
      "14363     VIESGO INFRAESTRUCTURAS ENERGETICAS S.L   \n",
      "\n",
      "                                Companyname_clean Country   Zipcode  \\\n",
      "13692            ams-osram asia pacific pte. ltd.     NAN    569877   \n",
      "13791  tts tooltechnic systems north  america, lp     NAN  IN 46052   \n",
      "13858      boehringer ingelheim singapore pte ltd     NAN    199555   \n",
      "13989            schaeffler (singapore) pte. ltd.     NAN    556741   \n",
      "14363     viesgo infraestructuras energeticas s.l     NAN       NaN   \n",
      "\n",
      "            City                  Address USt.-IdNr.      ID  \n",
      "13692  singapore    7000 Ang Mo Kio Ave 5        NaN  290745  \n",
      "13791    lebanon  400 N. Enterprise Blvd.        NaN  804190  \n",
      "13858  singapore           300 Beach Road        NaN  802212  \n",
      "13989  singapore  151 Lorong Chuan #06-01        NaN  800092  \n",
      "14363      spain                      NaN        NaN  850166  \n",
      "\n",
      "\n",
      "Case 3. Find country from city name dictionary:\n",
      "                          Company_name                 Companyname_clean  \\\n",
      "41       SERAG-WIESSNER GmbH & Co. KG      serag-wiessner gmbh & co. kg   \n",
      "112                   Amtsgericht Ulm                   amtsgericht ulm   \n",
      "148        ALUTEC SYSTEM-TECHNIK GMBH        alutec system-technik gmbh   \n",
      "230           Amtsgericht Bad Waldsee           amtsgericht bad waldsee   \n",
      "253  Aircraft Cabin Modification GmbH  aircraft cabin modification gmbh   \n",
      "\n",
      "    Country Zipcode          City             Address USt.-IdNr.      ID  \n",
      "41      NAN   95119         naila  Zum Kugelfang 8-12        NaN     NaN  \n",
      "112     NAN   89073           ulm    Zeughausgasse 14        NaN     NaN  \n",
      "148     NAN   74385  pleidelsheim     Zeppelinstr. 11        NaN  851837  \n",
      "230     NAN   88339       waldsee   Wurzacher Str. 73        NaN     NaN  \n",
      "253     NAN   87700     memmingen  Woringer Straße 11        NaN  851303  \n",
      "\n",
      "\n",
      "Case 4. Map most common country grouped by city name\n",
      " SPAIN    3\n",
      "NAN      2\n",
      "Name: Country, dtype: int64\n",
      "\n",
      "Example 2 Moskau: NAN                   4\n",
      "RUSSIAN FEDERATION    1\n",
      "Name: Country, dtype: int64\n"
     ]
    }
   ],
   "source": [
    "# Examples\n",
    "# Case 1\n",
    "print('Case 1. City name error:\\n\\n', ulist[ulist['Companyname_clean'].str.startswith('eqos')])\n",
    "print('\\n{} entries are longer than 2 tokens'.format(len([x for x in ulist['City'].str.split() if len(x)>=3])))\n",
    "\n",
    "# Case 2\n",
    "print('\\n\\nCase 2. City name is actually a country name\\n', ulist_cases[ulist_cases['City'].str.upper().isin(geo_countries)].tail(5))    # spain ==> SPAIN\n",
    "\n",
    "# Case 3\n",
    "print('\\n\\nCase 3. Find country from city name dictionary:\\n', ulist_cases[ulist_cases['City'].isin(geo_cities)].head())   # naila ==> GERMANY\n",
    "\n",
    "# Case 4\n",
    "print('\\n\\nCase 4. Map most common country grouped by city name\\n', ulist[ulist['City']=='valencia']['Country'].value_counts().sort_values(ascending=False))\n",
    "print('\\nExample 2 Moskau:', ulist[ulist['City']=='moskau']['Country'].value_counts().sort_values(ascending=False))\n",
    "      #adelberg, senningerberg, moskau and valencia, haag)"
   ]
  },
  {
   "cell_type": "code",
   "execution_count": 22,
   "metadata": {},
   "outputs": [],
   "source": [
    "# Case 1\n",
    "ulist['City'] = ulist['City'].apply(city_finder)\n",
    "\n",
    "# Case 2\n",
    "city_modify(ulist)\n",
    "case2_index = ulist_cases[ulist_cases['City'].str.upper().isin(geo_countries)].index\n",
    "ulist.loc[case2_index, 'Country'] =  ulist.loc[case2_index].apply(lambda x: country_filler1(x.City, x.Country), axis=1)   # gonna mask these and continue with next cases\n",
    "\n",
    "# Case 3\n",
    "case3_index = ulist_cases[ulist_cases['City'].isin(geo_cities)].index\n",
    "ulist.loc[case3_index, 'Country'] = ulist.loc[case3_index].apply(lambda x: country_filler2(x.City, x.Country), axis=1)\n",
    "\n",
    "# Case 4\n",
    "ulist['City'] = ulist['City'].replace('nan', np.nan)\n",
    "ulist['Country'] = ulist['Country'].replace('NAN', np.NaN)\n",
    "case4_index = ulist[ulist['Country'].isna()].index\n",
    "\n",
    "s = ulist.groupby(['City','Country']).size()\n",
    "df = s.loc[s.groupby(level=0).idxmax()].reset_index().drop(0,axis=1)\n",
    "city_country_filler = dict(df.values)\n",
    "\n",
    "ulist.loc[case4_index, 'Country'] = ulist.loc[case4_index, 'City'].map(city_country_filler)"
   ]
  },
  {
   "cell_type": "code",
   "execution_count": 23,
   "metadata": {},
   "outputs": [
    {
     "data": {
      "text/html": [
       "<div>\n",
       "<style scoped>\n",
       "    .dataframe tbody tr th:only-of-type {\n",
       "        vertical-align: middle;\n",
       "    }\n",
       "\n",
       "    .dataframe tbody tr th {\n",
       "        vertical-align: top;\n",
       "    }\n",
       "\n",
       "    .dataframe thead th {\n",
       "        text-align: right;\n",
       "    }\n",
       "</style>\n",
       "<table border=\"1\" class=\"dataframe\">\n",
       "  <thead>\n",
       "    <tr style=\"text-align: right;\">\n",
       "      <th></th>\n",
       "      <th>Company_name</th>\n",
       "      <th>Companyname_clean</th>\n",
       "      <th>Country</th>\n",
       "      <th>Zipcode</th>\n",
       "      <th>City</th>\n",
       "      <th>Address</th>\n",
       "      <th>USt.-IdNr.</th>\n",
       "      <th>ID</th>\n",
       "    </tr>\n",
       "  </thead>\n",
       "  <tbody>\n",
       "    <tr>\n",
       "      <td>14351</td>\n",
       "      <td>Eqos Energie</td>\n",
       "      <td>eqos energie</td>\n",
       "      <td>AUSTRIA</td>\n",
       "      <td>NaN</td>\n",
       "      <td>steyr</td>\n",
       "      <td>NaN</td>\n",
       "      <td>NaN</td>\n",
       "      <td>850821</td>\n",
       "    </tr>\n",
       "    <tr>\n",
       "      <td>14364</td>\n",
       "      <td>Eqos</td>\n",
       "      <td>eqos</td>\n",
       "      <td>AUSTRIA</td>\n",
       "      <td>NaN</td>\n",
       "      <td>steyr</td>\n",
       "      <td>NaN</td>\n",
       "      <td>NaN</td>\n",
       "      <td>850713</td>\n",
       "    </tr>\n",
       "  </tbody>\n",
       "</table>\n",
       "</div>"
      ],
      "text/plain": [
       "       Company_name Companyname_clean  Country Zipcode   City Address  \\\n",
       "14351  Eqos Energie      eqos energie  AUSTRIA     NaN  steyr     NaN   \n",
       "14364          Eqos              eqos  AUSTRIA     NaN  steyr     NaN   \n",
       "\n",
       "      USt.-IdNr.      ID  \n",
       "14351        NaN  850821  \n",
       "14364        NaN  850713  "
      ]
     },
     "execution_count": 23,
     "metadata": {},
     "output_type": "execute_result"
    }
   ],
   "source": [
    "ulist[ulist['Companyname_clean'].str.startswith('eqos')]   # case 1"
   ]
  },
  {
   "cell_type": "code",
   "execution_count": 24,
   "metadata": {},
   "outputs": [
    {
     "data": {
      "text/html": [
       "<div>\n",
       "<style scoped>\n",
       "    .dataframe tbody tr th:only-of-type {\n",
       "        vertical-align: middle;\n",
       "    }\n",
       "\n",
       "    .dataframe tbody tr th {\n",
       "        vertical-align: top;\n",
       "    }\n",
       "\n",
       "    .dataframe thead th {\n",
       "        text-align: right;\n",
       "    }\n",
       "</style>\n",
       "<table border=\"1\" class=\"dataframe\">\n",
       "  <thead>\n",
       "    <tr style=\"text-align: right;\">\n",
       "      <th></th>\n",
       "      <th>Company_name</th>\n",
       "      <th>Companyname_clean</th>\n",
       "      <th>Country</th>\n",
       "      <th>Zipcode</th>\n",
       "      <th>City</th>\n",
       "      <th>Address</th>\n",
       "      <th>USt.-IdNr.</th>\n",
       "      <th>ID</th>\n",
       "    </tr>\n",
       "  </thead>\n",
       "  <tbody>\n",
       "    <tr>\n",
       "      <td>13692</td>\n",
       "      <td>ams-OSRAM Asia Pacific Pte. Ltd.</td>\n",
       "      <td>ams-osram asia pacific pte. ltd.</td>\n",
       "      <td>SINGAPORE</td>\n",
       "      <td>569877</td>\n",
       "      <td>singapore</td>\n",
       "      <td>7000 Ang Mo Kio Ave 5</td>\n",
       "      <td>NaN</td>\n",
       "      <td>290745</td>\n",
       "    </tr>\n",
       "    <tr>\n",
       "      <td>13791</td>\n",
       "      <td>TTS Tooltechnic Systems North  America, LP</td>\n",
       "      <td>tts tooltechnic systems north  america, lp</td>\n",
       "      <td>UNITED STATES</td>\n",
       "      <td>IN 46052</td>\n",
       "      <td>lebanon</td>\n",
       "      <td>400 N. Enterprise Blvd.</td>\n",
       "      <td>NaN</td>\n",
       "      <td>804190</td>\n",
       "    </tr>\n",
       "    <tr>\n",
       "      <td>13858</td>\n",
       "      <td>Boehringer Ingelheim Singapore Pte Ltd</td>\n",
       "      <td>boehringer ingelheim singapore pte ltd</td>\n",
       "      <td>SINGAPORE</td>\n",
       "      <td>199555</td>\n",
       "      <td>singapore</td>\n",
       "      <td>300 Beach Road</td>\n",
       "      <td>NaN</td>\n",
       "      <td>802212</td>\n",
       "    </tr>\n",
       "    <tr>\n",
       "      <td>13989</td>\n",
       "      <td>Schaeffler (Singapore) Pte. Ltd.</td>\n",
       "      <td>schaeffler (singapore) pte. ltd.</td>\n",
       "      <td>SINGAPORE</td>\n",
       "      <td>556741</td>\n",
       "      <td>singapore</td>\n",
       "      <td>151 Lorong Chuan #06-01</td>\n",
       "      <td>NaN</td>\n",
       "      <td>800092</td>\n",
       "    </tr>\n",
       "    <tr>\n",
       "      <td>14363</td>\n",
       "      <td>VIESGO INFRAESTRUCTURAS ENERGETICAS S.L</td>\n",
       "      <td>viesgo infraestructuras energeticas s.l</td>\n",
       "      <td>SPAIN</td>\n",
       "      <td>NaN</td>\n",
       "      <td>spain</td>\n",
       "      <td>NaN</td>\n",
       "      <td>NaN</td>\n",
       "      <td>850166</td>\n",
       "    </tr>\n",
       "  </tbody>\n",
       "</table>\n",
       "</div>"
      ],
      "text/plain": [
       "                                     Company_name  \\\n",
       "13692            ams-OSRAM Asia Pacific Pte. Ltd.   \n",
       "13791  TTS Tooltechnic Systems North  America, LP   \n",
       "13858      Boehringer Ingelheim Singapore Pte Ltd   \n",
       "13989            Schaeffler (Singapore) Pte. Ltd.   \n",
       "14363     VIESGO INFRAESTRUCTURAS ENERGETICAS S.L   \n",
       "\n",
       "                                Companyname_clean        Country   Zipcode  \\\n",
       "13692            ams-osram asia pacific pte. ltd.      SINGAPORE    569877   \n",
       "13791  tts tooltechnic systems north  america, lp  UNITED STATES  IN 46052   \n",
       "13858      boehringer ingelheim singapore pte ltd      SINGAPORE    199555   \n",
       "13989            schaeffler (singapore) pte. ltd.      SINGAPORE    556741   \n",
       "14363     viesgo infraestructuras energeticas s.l          SPAIN       NaN   \n",
       "\n",
       "            City                  Address USt.-IdNr.      ID  \n",
       "13692  singapore    7000 Ang Mo Kio Ave 5        NaN  290745  \n",
       "13791    lebanon  400 N. Enterprise Blvd.        NaN  804190  \n",
       "13858  singapore           300 Beach Road        NaN  802212  \n",
       "13989  singapore  151 Lorong Chuan #06-01        NaN  800092  \n",
       "14363      spain                      NaN        NaN  850166  "
      ]
     },
     "execution_count": 24,
     "metadata": {},
     "output_type": "execute_result"
    }
   ],
   "source": [
    "ulist.loc[case2_index].tail(5)    # case 2"
   ]
  },
  {
   "cell_type": "code",
   "execution_count": 25,
   "metadata": {},
   "outputs": [
    {
     "data": {
      "text/html": [
       "<div>\n",
       "<style scoped>\n",
       "    .dataframe tbody tr th:only-of-type {\n",
       "        vertical-align: middle;\n",
       "    }\n",
       "\n",
       "    .dataframe tbody tr th {\n",
       "        vertical-align: top;\n",
       "    }\n",
       "\n",
       "    .dataframe thead th {\n",
       "        text-align: right;\n",
       "    }\n",
       "</style>\n",
       "<table border=\"1\" class=\"dataframe\">\n",
       "  <thead>\n",
       "    <tr style=\"text-align: right;\">\n",
       "      <th></th>\n",
       "      <th>Company_name</th>\n",
       "      <th>Companyname_clean</th>\n",
       "      <th>Country</th>\n",
       "      <th>Zipcode</th>\n",
       "      <th>City</th>\n",
       "      <th>Address</th>\n",
       "      <th>USt.-IdNr.</th>\n",
       "      <th>ID</th>\n",
       "    </tr>\n",
       "  </thead>\n",
       "  <tbody>\n",
       "    <tr>\n",
       "      <td>41</td>\n",
       "      <td>SERAG-WIESSNER GmbH &amp; Co. KG</td>\n",
       "      <td>serag-wiessner gmbh &amp; co. kg</td>\n",
       "      <td>GERMANY</td>\n",
       "      <td>95119</td>\n",
       "      <td>naila</td>\n",
       "      <td>Zum Kugelfang 8-12</td>\n",
       "      <td>NaN</td>\n",
       "      <td>NaN</td>\n",
       "    </tr>\n",
       "    <tr>\n",
       "      <td>112</td>\n",
       "      <td>Amtsgericht Ulm</td>\n",
       "      <td>amtsgericht ulm</td>\n",
       "      <td>GERMANY</td>\n",
       "      <td>89073</td>\n",
       "      <td>ulm</td>\n",
       "      <td>Zeughausgasse 14</td>\n",
       "      <td>NaN</td>\n",
       "      <td>NaN</td>\n",
       "    </tr>\n",
       "    <tr>\n",
       "      <td>148</td>\n",
       "      <td>ALUTEC SYSTEM-TECHNIK GMBH</td>\n",
       "      <td>alutec system-technik gmbh</td>\n",
       "      <td>GERMANY</td>\n",
       "      <td>74385</td>\n",
       "      <td>pleidelsheim</td>\n",
       "      <td>Zeppelinstr. 11</td>\n",
       "      <td>NaN</td>\n",
       "      <td>851837</td>\n",
       "    </tr>\n",
       "    <tr>\n",
       "      <td>230</td>\n",
       "      <td>Amtsgericht Bad Waldsee</td>\n",
       "      <td>amtsgericht bad waldsee</td>\n",
       "      <td>GERMANY</td>\n",
       "      <td>88339</td>\n",
       "      <td>waldsee</td>\n",
       "      <td>Wurzacher Str. 73</td>\n",
       "      <td>NaN</td>\n",
       "      <td>NaN</td>\n",
       "    </tr>\n",
       "    <tr>\n",
       "      <td>253</td>\n",
       "      <td>Aircraft Cabin Modification GmbH</td>\n",
       "      <td>aircraft cabin modification gmbh</td>\n",
       "      <td>GERMANY</td>\n",
       "      <td>87700</td>\n",
       "      <td>memmingen</td>\n",
       "      <td>Woringer Straße 11</td>\n",
       "      <td>NaN</td>\n",
       "      <td>851303</td>\n",
       "    </tr>\n",
       "  </tbody>\n",
       "</table>\n",
       "</div>"
      ],
      "text/plain": [
       "                         Company_name                 Companyname_clean  \\\n",
       "41       SERAG-WIESSNER GmbH & Co. KG      serag-wiessner gmbh & co. kg   \n",
       "112                   Amtsgericht Ulm                   amtsgericht ulm   \n",
       "148        ALUTEC SYSTEM-TECHNIK GMBH        alutec system-technik gmbh   \n",
       "230           Amtsgericht Bad Waldsee           amtsgericht bad waldsee   \n",
       "253  Aircraft Cabin Modification GmbH  aircraft cabin modification gmbh   \n",
       "\n",
       "     Country Zipcode          City             Address USt.-IdNr.      ID  \n",
       "41   GERMANY   95119         naila  Zum Kugelfang 8-12        NaN     NaN  \n",
       "112  GERMANY   89073           ulm    Zeughausgasse 14        NaN     NaN  \n",
       "148  GERMANY   74385  pleidelsheim     Zeppelinstr. 11        NaN  851837  \n",
       "230  GERMANY   88339       waldsee   Wurzacher Str. 73        NaN     NaN  \n",
       "253  GERMANY   87700     memmingen  Woringer Straße 11        NaN  851303  "
      ]
     },
     "execution_count": 25,
     "metadata": {},
     "output_type": "execute_result"
    }
   ],
   "source": [
    "ulist.loc[case3_index].head()    # case 3"
   ]
  },
  {
   "cell_type": "code",
   "execution_count": 26,
   "metadata": {},
   "outputs": [
    {
     "data": {
      "text/html": [
       "<div>\n",
       "<style scoped>\n",
       "    .dataframe tbody tr th:only-of-type {\n",
       "        vertical-align: middle;\n",
       "    }\n",
       "\n",
       "    .dataframe tbody tr th {\n",
       "        vertical-align: top;\n",
       "    }\n",
       "\n",
       "    .dataframe thead th {\n",
       "        text-align: right;\n",
       "    }\n",
       "</style>\n",
       "<table border=\"1\" class=\"dataframe\">\n",
       "  <thead>\n",
       "    <tr style=\"text-align: right;\">\n",
       "      <th></th>\n",
       "      <th>Company_name</th>\n",
       "      <th>Companyname_clean</th>\n",
       "      <th>Country</th>\n",
       "      <th>Zipcode</th>\n",
       "      <th>City</th>\n",
       "      <th>Address</th>\n",
       "      <th>USt.-IdNr.</th>\n",
       "      <th>ID</th>\n",
       "    </tr>\n",
       "  </thead>\n",
       "  <tbody>\n",
       "    <tr>\n",
       "      <td>1198</td>\n",
       "      <td>Aeroflot</td>\n",
       "      <td>aeroflot</td>\n",
       "      <td>RUSSIAN FEDERATION</td>\n",
       "      <td>119002</td>\n",
       "      <td>moskau</td>\n",
       "      <td>ul. Arbat 10</td>\n",
       "      <td>NaN</td>\n",
       "      <td>803708</td>\n",
       "    </tr>\n",
       "    <tr>\n",
       "      <td>4392</td>\n",
       "      <td>Hyperglobus Globus Hypermarkets</td>\n",
       "      <td>hyperglobus globus hypermarkets</td>\n",
       "      <td>RUSSIAN FEDERATION</td>\n",
       "      <td>125493</td>\n",
       "      <td>moskau</td>\n",
       "      <td>Personalabteilung</td>\n",
       "      <td>7743543761</td>\n",
       "      <td>160024</td>\n",
       "    </tr>\n",
       "    <tr>\n",
       "      <td>7143</td>\n",
       "      <td>Elemash</td>\n",
       "      <td>elemash</td>\n",
       "      <td>RUSSIAN FEDERATION</td>\n",
       "      <td>NaN</td>\n",
       "      <td>moskau</td>\n",
       "      <td>Karl-Marx-Street</td>\n",
       "      <td>NaN</td>\n",
       "      <td>851849</td>\n",
       "    </tr>\n",
       "    <tr>\n",
       "      <td>13946</td>\n",
       "      <td>JSC \"Vnukova Airport\"</td>\n",
       "      <td>jsc \"vnukova airport\"</td>\n",
       "      <td>RUSSIAN FEDERATION</td>\n",
       "      <td>119027</td>\n",
       "      <td>moskau</td>\n",
       "      <td>1st, Reysovaya Str.</td>\n",
       "      <td>NaN</td>\n",
       "      <td>800439</td>\n",
       "    </tr>\n",
       "    <tr>\n",
       "      <td>14359</td>\n",
       "      <td>DME - Flughafen Domodedevo</td>\n",
       "      <td>dme - flughafen domodedevo</td>\n",
       "      <td>RUSSIAN FEDERATION</td>\n",
       "      <td>NaN</td>\n",
       "      <td>moskau</td>\n",
       "      <td>NaN</td>\n",
       "      <td>NaN</td>\n",
       "      <td>803710</td>\n",
       "    </tr>\n",
       "  </tbody>\n",
       "</table>\n",
       "</div>"
      ],
      "text/plain": [
       "                          Company_name                Companyname_clean  \\\n",
       "1198                          Aeroflot                         aeroflot   \n",
       "4392   Hyperglobus Globus Hypermarkets  hyperglobus globus hypermarkets   \n",
       "7143                           Elemash                          elemash   \n",
       "13946            JSC \"Vnukova Airport\"            jsc \"vnukova airport\"   \n",
       "14359       DME - Flughafen Domodedevo       dme - flughafen domodedevo   \n",
       "\n",
       "                  Country Zipcode    City              Address  USt.-IdNr.  \\\n",
       "1198   RUSSIAN FEDERATION  119002  moskau         ul. Arbat 10         NaN   \n",
       "4392   RUSSIAN FEDERATION  125493  moskau    Personalabteilung  7743543761   \n",
       "7143   RUSSIAN FEDERATION     NaN  moskau     Karl-Marx-Street         NaN   \n",
       "13946  RUSSIAN FEDERATION  119027  moskau  1st, Reysovaya Str.         NaN   \n",
       "14359  RUSSIAN FEDERATION     NaN  moskau                  NaN         NaN   \n",
       "\n",
       "           ID  \n",
       "1198   803708  \n",
       "4392   160024  \n",
       "7143   851849  \n",
       "13946  800439  \n",
       "14359  803710  "
      ]
     },
     "execution_count": 26,
     "metadata": {},
     "output_type": "execute_result"
    }
   ],
   "source": [
    "ulist[ulist['City']=='moskau']    # case 4"
   ]
  },
  {
   "cell_type": "markdown",
   "metadata": {},
   "source": [
    "## 2.2 Bdata"
   ]
  },
  {
   "cell_type": "code",
   "execution_count": 27,
   "metadata": {},
   "outputs": [
    {
     "name": "stderr",
     "output_type": "stream",
     "text": [
      "C:\\ProgramData\\Anaconda3\\lib\\site-packages\\pandas\\core\\strings.py:1843: UserWarning: This pattern has match groups. To actually get the groups, use str.extract.\n",
      "  return func(self, *args, **kwargs)\n"
     ]
    }
   ],
   "source": [
    "# Update the city of an entry to zip when second letter of country is lower case. After that, update the country of an entry to city. Later, match zipcodes with country names\n",
    "country_err = bdata.loc[(bdata[\"Country\"].str[1].str.islower()) | (bdata[\"Country\"].str[2].fillna('').str.islower())].index\n",
    "\n",
    "bdata.loc[country_err, \"Zipcode\"] = bdata.loc[country_err, \"City\"]\n",
    "bdata.loc[country_err, \"City\"] = bdata.loc[country_err, \"Country\"]\n",
    "\n",
    "#1 country name entries with digits and special character ('\\\\N')\n",
    "country_err2 = bdata.loc[bdata[\"Country\"].str.startswith('\\\\N'), \"Country\"].index   # new row character\n",
    "#2 country name entries with with digits\n",
    "country_err3 = bdata.loc[bdata[\"Country\"].str.contains('(\\d+)'), \"Country\"].index   # contains digit\n",
    "\n",
    "# Country column rows to be updated\n",
    "country_update_index = list(country_err) + list(country_err2) + list(country_err3)\n",
    "\n",
    "country_updater = [x+1 for x in country_update_index]\n",
    "bdata.loc[country_update_index, \"Country\"] = bdata.loc[country_updater, \"Country\"].values"
   ]
  },
  {
   "cell_type": "code",
   "execution_count": 28,
   "metadata": {},
   "outputs": [],
   "source": [
    "bdata = columns_preprocess(bdata)    # preprocess bdata columns\n",
    "city_modify(bdata)                   # remove special characters and whitespace from city names"
   ]
  },
  {
   "cell_type": "code",
   "execution_count": 29,
   "metadata": {},
   "outputs": [],
   "source": [
    "bdata.loc[bdata[\"Country\"].str.startswith('\\\\N'), \"Country\"] = None    # Country name \\\\N are replaced with None\n",
    "bdata['Country'] = bdata['Country'].fillna(method = 'ffill')           # Missing country names are filled with the previous notnull entry"
   ]
  },
  {
   "cell_type": "markdown",
   "metadata": {},
   "source": [
    "# 2.3 Qdata"
   ]
  },
  {
   "cell_type": "code",
   "execution_count": 30,
   "metadata": {},
   "outputs": [],
   "source": [
    "qdata = (\n",
    "    qdata\n",
    "        .assign(\n",
    "            Year=qdata.Year.astype(\"int16\"),\n",
    "            Country=qdata.Country.astype(\"category\")   \n",
    "        )\n",
    ")\n",
    "\n",
    "qdata = qdata[qdata[\"Year\"]==2021].drop(columns=[\"Year\"]).reset_index(drop=True)   # Take only one year data"
   ]
  },
  {
   "cell_type": "code",
   "execution_count": 31,
   "metadata": {},
   "outputs": [],
   "source": [
    "qdata = columns_preprocess(qdata)    # preprocess qdata columns\n",
    "city_modify(qdata)                   # remove special characters and whitespace from city names"
   ]
  },
  {
   "cell_type": "markdown",
   "metadata": {},
   "source": [
    "# 3. Dataset feature standardization"
   ]
  },
  {
   "cell_type": "code",
   "execution_count": 32,
   "metadata": {},
   "outputs": [
    {
     "name": "stdout",
     "output_type": "stream",
     "text": [
      "Number of different country names in Qdata data: 14\n",
      "Number of different country names in Ulist data: 7\n"
     ]
    }
   ],
   "source": [
    "bdata_countries = list(bdata[\"Country\"].unique())             # Ground truth country names from bdata\n",
    "\n",
    "qdatadiff_countries = list(set(qdata[\"Country\"].unique()) - set(bdata[\"Country\"].unique()))\n",
    "ulistdiff_countries = list(set(ulist[\"Country\"].unique()) - set(bdata[\"Country\"].unique()))\n",
    "del ulistdiff_countries[0]   # nan\n",
    "print('Number of different country names in Qdata data:', len(qdatadiff_countries))\n",
    "print('Number of different country names in Ulist data:', len(ulistdiff_countries))"
   ]
  },
  {
   "cell_type": "code",
   "execution_count": 33,
   "metadata": {},
   "outputs": [],
   "source": [
    "prefix_postfix = ['OF', 'AND', '&', 'THE', 'REP', 'IS', 'ST', 'SAINT', 'FED', 'N', 'NORTH', 'SOUTH', 'EAST', 'WEST', 'UK', 'FEDERATION', '(BURMA)']    # prefix to be removed\n",
    "\n",
    "bdata_clear = []\n",
    "for country in range(len(bdata_countries)):\n",
    "    without_prefix = [x for x in bdata_countries[country].split() if x not in prefix_postfix]\n",
    "    result = ' '.join(without_prefix)\n",
    "    bdata_clear.append(result)\n",
    "original_clear_bdata = list(zip(bdata_countries, bdata_clear))   #to work with similarity score\n",
    "\n",
    "\n",
    "qdatadiff_clear = []\n",
    "for country in range(len(qdatadiff_countries)):\n",
    "    without_prefix = [x for x in qdatadiff_countries[country].split() if x not in prefix_postfix]\n",
    "    result = ' '.join(without_prefix)\n",
    "    qdatadiff_clear.append(result)\n",
    "    \n",
    "ulistdiff_clear = []\n",
    "for country in range(len(ulistdiff_countries)):\n",
    "    without_prefix = [x for x in ulistdiff_countries[country].split() if x not in prefix_postfix]\n",
    "    result = ' '.join(without_prefix)\n",
    "    ulistdiff_clear.append(result)\n",
    "    \n",
    "# https://stackoverflow.com/questions/25346058/removing-list-of-words-from-a-string"
   ]
  },
  {
   "cell_type": "code",
   "execution_count": 34,
   "metadata": {},
   "outputs": [],
   "source": [
    "country_mapper(ulist, ulistdiff_countries, ulistdiff_clear)     # Dataset countries are standardized (Ground truth country names are from bdata)\n",
    "country_mapper(qdata, qdatadiff_countries, qdatadiff_clear)"
   ]
  },
  {
   "cell_type": "code",
   "execution_count": 35,
   "metadata": {},
   "outputs": [
    {
     "data": {
      "text/html": [
       "<div>\n",
       "<style scoped>\n",
       "    .dataframe tbody tr th:only-of-type {\n",
       "        vertical-align: middle;\n",
       "    }\n",
       "\n",
       "    .dataframe tbody tr th {\n",
       "        vertical-align: top;\n",
       "    }\n",
       "\n",
       "    .dataframe thead th {\n",
       "        text-align: right;\n",
       "    }\n",
       "</style>\n",
       "<table border=\"1\" class=\"dataframe\">\n",
       "  <thead>\n",
       "    <tr style=\"text-align: right;\">\n",
       "      <th></th>\n",
       "      <th>Company_name</th>\n",
       "      <th>Companyname_clean</th>\n",
       "      <th>Country</th>\n",
       "      <th>Zipcode</th>\n",
       "      <th>City</th>\n",
       "      <th>Address</th>\n",
       "      <th>USt.-IdNr.</th>\n",
       "      <th>ID</th>\n",
       "    </tr>\n",
       "  </thead>\n",
       "  <tbody>\n",
       "    <tr>\n",
       "      <td>6950</td>\n",
       "      <td>C/o Boots</td>\n",
       "      <td>c/o boots</td>\n",
       "      <td>UNITED KINGDOM</td>\n",
       "      <td>11111</td>\n",
       "      <td>newcastle</td>\n",
       "      <td>Kingston Retail Park</td>\n",
       "      <td>NaN</td>\n",
       "      <td>88002918</td>\n",
       "    </tr>\n",
       "    <tr>\n",
       "      <td>13785</td>\n",
       "      <td>Kaestle Boos Architects</td>\n",
       "      <td>kaestle boos architects</td>\n",
       "      <td>UNITED STATES</td>\n",
       "      <td>11111</td>\n",
       "      <td>newbritain</td>\n",
       "      <td>416 Slater Road</td>\n",
       "      <td>NaN</td>\n",
       "      <td>8400524</td>\n",
       "    </tr>\n",
       "    <tr>\n",
       "      <td>13828</td>\n",
       "      <td>RGA Associates</td>\n",
       "      <td>rga associates</td>\n",
       "      <td>UNITED STATES</td>\n",
       "      <td>11111</td>\n",
       "      <td>newyork</td>\n",
       "      <td>350 West 39th St.</td>\n",
       "      <td>NaN</td>\n",
       "      <td>84005233</td>\n",
       "    </tr>\n",
       "    <tr>\n",
       "      <td>13904</td>\n",
       "      <td>Brose New Boston, Inc.</td>\n",
       "      <td>brose new boston, inc.</td>\n",
       "      <td>UNITED STATES</td>\n",
       "      <td>MI 48164</td>\n",
       "      <td>newboston</td>\n",
       "      <td>23400 Bell Road</td>\n",
       "      <td>NaN</td>\n",
       "      <td>802300</td>\n",
       "    </tr>\n",
       "    <tr>\n",
       "      <td>13905</td>\n",
       "      <td>Brose North America</td>\n",
       "      <td>brose north america</td>\n",
       "      <td>UNITED STATES</td>\n",
       "      <td>11111</td>\n",
       "      <td>newboston</td>\n",
       "      <td>23400 Bell Rd</td>\n",
       "      <td>NaN</td>\n",
       "      <td>84005296</td>\n",
       "    </tr>\n",
       "    <tr>\n",
       "      <td>13911</td>\n",
       "      <td>BMW of North America</td>\n",
       "      <td>bmw of north america</td>\n",
       "      <td>UNITED STATES</td>\n",
       "      <td>11111</td>\n",
       "      <td>newbury</td>\n",
       "      <td>2201 Corporate Center Dr.</td>\n",
       "      <td>NaN</td>\n",
       "      <td>840052112</td>\n",
       "    </tr>\n",
       "    <tr>\n",
       "      <td>14180</td>\n",
       "      <td>Continental Automotive Systems</td>\n",
       "      <td>continental automotive systems</td>\n",
       "      <td>UNITED STATES</td>\n",
       "      <td>11111</td>\n",
       "      <td>newport</td>\n",
       "      <td>NaN</td>\n",
       "      <td>NaN</td>\n",
       "      <td>84005297</td>\n",
       "    </tr>\n",
       "  </tbody>\n",
       "</table>\n",
       "</div>"
      ],
      "text/plain": [
       "                         Company_name               Companyname_clean  \\\n",
       "6950                        C/o Boots                       c/o boots   \n",
       "13785         Kaestle Boos Architects         kaestle boos architects   \n",
       "13828                  RGA Associates                  rga associates   \n",
       "13904          Brose New Boston, Inc.          brose new boston, inc.   \n",
       "13905             Brose North America             brose north america   \n",
       "13911            BMW of North America            bmw of north america   \n",
       "14180  Continental Automotive Systems  continental automotive systems   \n",
       "\n",
       "              Country   Zipcode        City                    Address  \\\n",
       "6950   UNITED KINGDOM     11111   newcastle       Kingston Retail Park   \n",
       "13785   UNITED STATES     11111  newbritain            416 Slater Road   \n",
       "13828   UNITED STATES     11111     newyork          350 West 39th St.   \n",
       "13904   UNITED STATES  MI 48164   newboston            23400 Bell Road   \n",
       "13905   UNITED STATES     11111   newboston              23400 Bell Rd   \n",
       "13911   UNITED STATES     11111     newbury  2201 Corporate Center Dr.   \n",
       "14180   UNITED STATES     11111     newport                        NaN   \n",
       "\n",
       "      USt.-IdNr.         ID  \n",
       "6950         NaN   88002918  \n",
       "13785        NaN    8400524  \n",
       "13828        NaN   84005233  \n",
       "13904        NaN     802300  \n",
       "13905        NaN   84005296  \n",
       "13911        NaN  840052112  \n",
       "14180        NaN   84005297  "
      ]
     },
     "execution_count": 35,
     "metadata": {},
     "output_type": "execute_result"
    }
   ],
   "source": [
    "ulist[ulist.City.astype(str).str.startswith('new')]"
   ]
  },
  {
   "cell_type": "markdown",
   "metadata": {},
   "source": [
    "# 4. Suffix work (Currently only for Ulist data)"
   ]
  },
  {
   "cell_type": "code",
   "execution_count": 36,
   "metadata": {},
   "outputs": [],
   "source": [
    "# Suffix list for company names (Will be improved)\n",
    "suffix_list = ['gmbh', 'gmbh&co.', 'ggmbh', 'gmbh+co.', 'kg-gmbh', 'gmbh&co', 'ltd.', 'se',\n",
    "      'gmbh&co.kg', 'gmbh&cokg', 'gmbh.', 'gmbh,', 'gmbh&c', '(gmbh', 'mbh',\n",
    "               'company', 'incorporated', 'corporation', 'corp.', 'corp', 'inc',\n",
    "      '& co.', '& co',  'inc.', 's.p.a.', 'n.v.', 'a.g.', 'ag', 'nuf', 's.a.', 's.f.',\n",
    "      'oao', 'co.', 'co',\n",
    "              'soc.col.', 'stg', 'd.n.o.', 'ltda.', 'v.o.s.', 'a spol.',\n",
    "      u've\\xc5\\x99. obch. spol.', 'kgaa', 'o.e.', 's.f.', 's.n.c.', 's.a.p.a.', 'j.t.d.',\n",
    "      'v.o.f.', 'sp.j.', 'og', 'sd', ' i/s', 'ay', 'snc', 'oe', 'bt.', 's.s.', 'mb',\n",
    "      'ans', 'da', 'o.d.', 'hb', 'pt',\n",
    "              'unltd', 'ultd', 'sal', 'unlimited', 'saog', 'saoc', 'aj',\n",
    "      'yoaj', 'oaj', 'akc. spol.', 'a.s.',\n",
    "              'esv', 'gie', 'kv.', 'qk',\n",
    "              'pty. ltd.', 'pty ltd', 'ltd', 'l.t.d.', 'bvba', 'd.o.o.', 'ltda', 'gmbh',\n",
    "      'g.m.b.h', 'kft.', 'kht.', 'zrt.', 'ehf.', 's.a.r.l.', 'd.o.o.e.l.', 's. de r.l.',\n",
    "      'b.v.', 'tapui',\n",
    "      'sp. z.o.o.', 'sp. z o.o.', 'spółka z o.o.',\n",
    "      's.r.l.', 's.l.', 's.l.n.e.', 'ood', 'oy', 'rt.',\n",
    "      'teo', 'uab', 'scs', 'sprl', 'limited', 'bhd.', 'sdn. bhd.', 'sdn bhd', 'as',\n",
    "      'lda.', 'tov', 'pp',\n",
    "              'pllc', 'llc', 'l.l.c.', 'plc.', 'plc', 'hf.', 'oyj',\n",
    "      'a.e.', 'nyrt.', 'p.l.c.', 'sh.a.', 's.a.', 's.r.l.', 'srl.', 'srl', 'aat', '3at', 'd.d.',\n",
    "      's.r.o.', 'spol. s r.o.', 's.m.b.a.', 'smba', 'sarl', 'nv', 'sa', 'aps',\n",
    "      'a/s', 'p/s', 'sae', 'sasu', 'eurl', 'ae', 'cpt', 'as', 'ab', 'asa', 'ooo', 'dat',\n",
    "      'vat', 'zat', 'mchj', 'a.d.',\n",
    "              'lllp', 'l.l.l.p.',\n",
    "              'llp', 'l.l.p.', 'sp.p.', 's.c.a.', 's.c.s.',\n",
    "              'gmbh & co. kg', 'lp', 'l.p.', 's.c.s.',\n",
    "      's.c.p.a', 'comm.v', 'k.d.', 'k.d.a.', 's. en c.', 'e.e.', 's.a.s.', 's. en c.',\n",
    "      'c.v.', 's.k.a.', 'sp.k.', 's.cra.', 'ky', 'scs', 'kg', 'kd', 'k/s', 'ee', 'secs',\n",
    "      'kda', 'ks', 'kb','kt',\n",
    "              'sicav',\n",
    "              'nl',\n",
    "              'vzw', 'ses.', 'gte.',\n",
    "              'private', 'pte', 'xk',\n",
    "              'p.c.', 'vof', 'snc',\n",
    "              'pllc', 'p.l.l.c.',\n",
    "              'e.u.', 's.p.', 't:mi', 'tmi', 'e.v.', 'e.c.', 'et', 'obrt',\n",
    "      'fie', 'ij', 'fop', 'xt']\n",
    "\n",
    "# Source of company suffices https://github.com/psolin/cleanco/blob/master/cleanco/termdata.py"
   ]
  },
  {
   "cell_type": "markdown",
   "metadata": {},
   "source": [
    "### Find suffix in company name tokens"
   ]
  },
  {
   "cell_type": "code",
   "execution_count": 37,
   "metadata": {},
   "outputs": [],
   "source": [
    "ulist['Companyname_clean'] = ulist['Companyname_clean'].apply(suffix_remover)\n",
    "ulist['Companyname_clean'].head(10)"
   ]
  },
  {
   "cell_type": "code",
   "execution_count": 54,
   "metadata": {},
   "outputs": [
    {
     "name": "stdout",
     "output_type": "stream",
     "text": [
      "volks\n",
      "volkswagen financial services\n"
     ]
    }
   ],
   "source": [
    "# Bug fixed\n",
    "companyname='volkswagen financial services ag'\n",
    "i='ag'\n",
    "if i in companyname.split():\n",
    "    print(companyname[:companyname.index(i)-1])\n",
    "    \n",
    "if i in companyname.split():\n",
    "    print(' '.join(companyname.split()[:companyname.split().index(i)]))"
   ]
  },
  {
   "cell_type": "code",
   "execution_count": 55,
   "metadata": {},
   "outputs": [
    {
     "name": "stdout",
     "output_type": "stream",
     "text": [
      "watson\n"
     ]
    }
   ],
   "source": [
    "# Prefix updated\n",
    "companyname='as watson'\n",
    "pref=['as', 'gmbh', 'ds']\n",
    "  \n",
    "for i in pref:\n",
    "    if i == companyname.split()[0]:\n",
    "        print(' '.join(companyname.split()[companyname.split().index(i)+1:]))\n",
    "    elif i in companyname.split():\n",
    "        print(' '.join(companyname.split()[:companyname.split().index(i)]))"
   ]
  },
  {
   "cell_type": "markdown",
   "metadata": {},
   "source": [
    "### Find suffix and prefix in company name tokens"
   ]
  },
  {
   "cell_type": "code",
   "execution_count": 56,
   "metadata": {},
   "outputs": [
    {
     "name": "stdout",
     "output_type": "stream",
     "text": [
      "Remaining suffix as gmbh (most common): 0\n"
     ]
    }
   ],
   "source": [
    "print('Remaining suffix as gmbh (most common):', len(ulist[ulist['Companyname_clean'].str.contains('gmbh')]))"
   ]
  },
  {
   "cell_type": "code",
   "execution_count": 38,
   "metadata": {},
   "outputs": [],
   "source": [
    "companyname_clean_modify(ulist)       # remove whitespace in suffix&prefix removed companynames\n",
    "companyname_clean_modify(bdata)\n",
    "companyname_clean_modify(qdata)"
   ]
  },
  {
   "cell_type": "code",
   "execution_count": 57,
   "metadata": {},
   "outputs": [
    {
     "name": "stdout",
     "output_type": "stream",
     "text": [
      "Original Companyname: Technimark-Eisbär GmbHKunststoff- und Metallverarb.\n",
      "Cleaned Companyname: technimarkeisbärkunststoffundmetallverarb\n"
     ]
    }
   ],
   "source": [
    "print('Original Companyname:', ulist.loc[554, 'Company_name'])   # An Example with GmbH\n",
    "print('Cleaned Companyname:', ulist.loc[554, 'Companyname_clean'])"
   ]
  },
  {
   "cell_type": "code",
   "execution_count": 39,
   "metadata": {},
   "outputs": [],
   "source": [
    "remove_list = ['gmbh']  # Remove from companynames (Will be extended)\n",
    "\n",
    "ulist['Companyname_clean'] = ulist['Companyname_clean'].apply(pre_middle_suffix_remove)\n",
    "bdata['Companyname_clean'] = bdata['Companyname_clean'].astype(str).apply(pre_middle_suffix_remove)\n",
    "qdata['Companyname_clean'] = qdata['Companyname_clean'].apply(pre_middle_suffix_remove)"
   ]
  },
  {
   "cell_type": "code",
   "execution_count": 40,
   "metadata": {},
   "outputs": [],
   "source": [
    "ulist['Companyname_clean'] = ulist['Companyname_clean'].apply(pre_middle_suffix_remove)\n",
    "bdata['Companyname_clean'] = bdata['Companyname_clean'].astype(str).apply(pre_middle_suffix_remove)\n",
    "qdata['Companyname_clean'] = qdata['Companyname_clean'].apply(pre_middle_suffix_remove)"
   ]
  },
  {
   "cell_type": "code",
   "execution_count": 43,
   "metadata": {},
   "outputs": [
    {
     "name": "stdout",
     "output_type": "stream",
     "text": [
      "Remaining suffix as gmbh (most common): 0\n",
      "Remaining suffix as gmbh (most common): 0\n",
      "Remaining suffix as gmbh (most common): 0\n"
     ]
    }
   ],
   "source": [
    "print('Remaining suffix as gmbh (most common):', len(ulist[ulist['Companyname_clean'].str.contains('gmbh')]))\n",
    "print('Remaining suffix as gmbh (most common):', len(bdata[bdata['Companyname_clean'].str.contains('gmbh', na=False)]))\n",
    "print('Remaining suffix as gmbh (most common):', len(qdata[qdata['Companyname_clean'].str.contains('gmbh')]))"
   ]
  },
  {
   "cell_type": "markdown",
   "metadata": {},
   "source": [
    "# Many-to-One Dictionary"
   ]
  },
  {
   "cell_type": "code",
   "execution_count": 44,
   "metadata": {},
   "outputs": [],
   "source": [
    "mto_columns(ulist)\n",
    "# mto_columns(bdata)\n",
    "# mto_columns(qdata)"
   ]
  },
  {
   "cell_type": "code",
   "execution_count": 45,
   "metadata": {},
   "outputs": [
    {
     "data": {
      "text/html": [
       "<div>\n",
       "<style scoped>\n",
       "    .dataframe tbody tr th:only-of-type {\n",
       "        vertical-align: middle;\n",
       "    }\n",
       "\n",
       "    .dataframe tbody tr th {\n",
       "        vertical-align: top;\n",
       "    }\n",
       "\n",
       "    .dataframe thead th {\n",
       "        text-align: right;\n",
       "    }\n",
       "</style>\n",
       "<table border=\"1\" class=\"dataframe\">\n",
       "  <thead>\n",
       "    <tr style=\"text-align: right;\">\n",
       "      <th></th>\n",
       "      <th>Company_name</th>\n",
       "      <th>Companyname_clean</th>\n",
       "      <th>Country</th>\n",
       "      <th>Zipcode</th>\n",
       "      <th>City</th>\n",
       "      <th>Address</th>\n",
       "      <th>USt.-IdNr.</th>\n",
       "      <th>ID</th>\n",
       "      <th>Address_mto</th>\n",
       "      <th>Companyname_mto</th>\n",
       "    </tr>\n",
       "  </thead>\n",
       "  <tbody>\n",
       "    <tr>\n",
       "      <td>717</td>\n",
       "      <td>AURUBIS BELGIUM</td>\n",
       "      <td>aurubisbelgium</td>\n",
       "      <td>BELGIUM</td>\n",
       "      <td>2250</td>\n",
       "      <td>olen</td>\n",
       "      <td>WATERTORENSTRAAT 35</td>\n",
       "      <td>NaN</td>\n",
       "      <td>320482</td>\n",
       "      <td>WATERTORENSTRAAT 35</td>\n",
       "      <td>AURUBIS BELGIUM</td>\n",
       "    </tr>\n",
       "    <tr>\n",
       "      <td>8016</td>\n",
       "      <td>Aurubis AG</td>\n",
       "      <td>aurubis</td>\n",
       "      <td>GERMANY</td>\n",
       "      <td>20539</td>\n",
       "      <td>hamburg</td>\n",
       "      <td>Hovestrasse 50</td>\n",
       "      <td>NaN</td>\n",
       "      <td>NaN</td>\n",
       "      <td>Hovestr. 50</td>\n",
       "      <td>Aurubis AG</td>\n",
       "    </tr>\n",
       "    <tr>\n",
       "      <td>8017</td>\n",
       "      <td>Aurubis AG</td>\n",
       "      <td>aurubis</td>\n",
       "      <td>GERMANY</td>\n",
       "      <td>20539</td>\n",
       "      <td>hamburg</td>\n",
       "      <td>Hovestr. 50</td>\n",
       "      <td>DE118514155</td>\n",
       "      <td>803007</td>\n",
       "      <td>Hovestr. 50</td>\n",
       "      <td>Aurubis AG</td>\n",
       "    </tr>\n",
       "    <tr>\n",
       "      <td>8018</td>\n",
       "      <td>Aurubis AG</td>\n",
       "      <td>aurubis</td>\n",
       "      <td>GERMANY</td>\n",
       "      <td>20539</td>\n",
       "      <td>hamburg</td>\n",
       "      <td>Hovestr. 50</td>\n",
       "      <td>DE118514155</td>\n",
       "      <td>160616</td>\n",
       "      <td>Hovestr. 50</td>\n",
       "      <td>Aurubis AG</td>\n",
       "    </tr>\n",
       "  </tbody>\n",
       "</table>\n",
       "</div>"
      ],
      "text/plain": [
       "         Company_name Companyname_clean  Country Zipcode     City  \\\n",
       "717   AURUBIS BELGIUM    aurubisbelgium  BELGIUM    2250     olen   \n",
       "8016       Aurubis AG           aurubis  GERMANY   20539  hamburg   \n",
       "8017       Aurubis AG           aurubis  GERMANY   20539  hamburg   \n",
       "8018       Aurubis AG           aurubis  GERMANY   20539  hamburg   \n",
       "\n",
       "                  Address   USt.-IdNr.      ID          Address_mto  \\\n",
       "717   WATERTORENSTRAAT 35          NaN  320482  WATERTORENSTRAAT 35   \n",
       "8016       Hovestrasse 50          NaN     NaN          Hovestr. 50   \n",
       "8017          Hovestr. 50  DE118514155  803007          Hovestr. 50   \n",
       "8018          Hovestr. 50  DE118514155  160616          Hovestr. 50   \n",
       "\n",
       "      Companyname_mto  \n",
       "717   AURUBIS BELGIUM  \n",
       "8016       Aurubis AG  \n",
       "8017       Aurubis AG  \n",
       "8018       Aurubis AG  "
      ]
     },
     "execution_count": 45,
     "metadata": {},
     "output_type": "execute_result"
    }
   ],
   "source": [
    "ulist[ulist['Companyname_clean'].str.startswith('aurubis')]   # simple example"
   ]
  },
  {
   "cell_type": "code",
   "execution_count": 46,
   "metadata": {},
   "outputs": [
    {
     "data": {
      "text/plain": [
       "Companyname_clean                  Country  City                 Zipcode  Address_mto                  Companyname_mto                                         \n",
       "fraport                            GERMANY  frankfurt            60547    Airport Security Management  FRAPORT AG                                                  5\n",
       "hiltideutschland                   GERMANY  kaufering            86916    Hiltistr. 2                  Hilti Deutschland AG                                        5\n",
       "sappipapierholding                 AUSTRIA  gratkorn             8101     BRUCKER STRASSE 21           Sappi Papier Holding GmbH                                   4\n",
       "interflexdatensysteme              GERMANY  stuttgart            70567    Epplestr. 225 Haus 3         Interflex Datensysteme GmbH                                 4\n",
       "dhlhubleipzig                      GERMANY  schkeuditz           4435     Hermann-Koehl-Strasse 1      DHL Hub Leipzig GmbH c/o DHL Express Network                3\n",
       "                                                                                                                                                                  ..\n",
       "festodidactic                      GERMANY  esslingen            73707    Postfach 100710              Festo  Didactic SE                                          1\n",
       "fiegedeutschlandstiftung           GERMANY  weinstadtendersbach  71384    Birkelstraße 14              Fiege Deutschland Stiftung GmbH & Co. KG                    1\n",
       "fiegeessen                         GERMANY  essen                45356    Hafenstr. 70                 FIEGE Essen GmbH & Co. KG                                   1\n",
       "fxmeillerfahrzeugumaschinenfabrik  GERMANY  münchen              80997    Ambossstr. 4                 F.X. Meiller Fahrzeug- u Maschinen- fabrik GmbH & Co. KG    1\n",
       "fertigungstechniknord              GERMANY  gadebusch            19205    Trittauer Str. 5             Fertigungstechnik Nord GmbH                                 1\n",
       "Length: 516, dtype: int64"
      ]
     },
     "execution_count": 46,
     "metadata": {},
     "output_type": "execute_result"
    }
   ],
   "source": [
    "ulist.groupby(['Companyname_clean', 'Country', 'City', 'Zipcode', 'Address_mto', 'Companyname_mto']).size().sort_values(ascending=False)[:516]  # 515 companies have multiple entries"
   ]
  },
  {
   "cell_type": "code",
   "execution_count": 47,
   "metadata": {},
   "outputs": [],
   "source": [
    "cleanname_values = ulist.assign(City=lambda ulista: ulista.City.fillna(\"-\")).assign(Country=lambda ulista: ulista.Country.fillna(\"-\")).assign(\n",
    "    Zipcode=lambda ulista: ulista.Zipcode.astype(str).fillna(\"-\")).assign(Address_mto=lambda ulista: ulista.Address_mto.fillna(\"-\")).groupby(\n",
    "    ['Companyname_clean', 'Country', 'City', 'Zipcode', 'Address_mto', 'Companyname_mto'])[['Companyname_clean',  'Country', 'City', 'Zipcode']].apply(lambda g: list(map(tuple, g.values.tolist()))).to_dict()\n",
    "\n",
    "originalname_values = ulist.assign(City=lambda ulista: ulista.City.fillna(\"-\")).assign(Country=lambda ulista: ulista.Country.fillna(\"-\")).assign(\n",
    "    Zipcode=lambda ulista: ulista.Zipcode.astype(str).fillna(\"-\")).assign(Address_mto=lambda ulista: ulista.Address_mto.fillna(\"-\")).groupby(\n",
    "    ['Companyname_clean', 'Country', 'City', 'Zipcode', 'Address_mto', 'Companyname_mto'])[['Company_name',  'Country', 'City', 'Zipcode']].apply(lambda g: list(map(tuple, g.values.tolist()))).to_dict()\n",
    "\n",
    "#keys are simplified company names and values are originals+simplified"
   ]
  },
  {
   "cell_type": "code",
   "execution_count": 48,
   "metadata": {},
   "outputs": [],
   "source": [
    "# Creating a dictionary to store input-output pairs\n",
    "total = {}\n",
    "for x in originalname_values.keys():\n",
    "    if x in originalname_values.keys():\n",
    "        total[x] = originalname_values[x] + cleanname_values[x]\n",
    "\n",
    "# Converts all company names in lower case so that function finds them more efficiently        \n",
    "for i in total.keys():\n",
    "    if type(total[i]) is list:\n",
    "        total[i] = [(a.lower(),b, c, d) for a,b,c,d in total[i]]    \n",
    "\n",
    "# Duplicated values in the keys are removed        \n",
    "total = {k: set(v) for k,v in total.items()}"
   ]
  },
  {
   "cell_type": "code",
   "execution_count": 51,
   "metadata": {},
   "outputs": [
    {
     "data": {
      "text/plain": [
       "{('freieundhansestadthamburg',\n",
       "  'GERMANY',\n",
       "  'hamburg',\n",
       "  '20095',\n",
       "  'Finanzbehörde Hamburg',\n",
       "  'Freie und Hansestadt Hamburg'): [('Freie und Hansestadt Hamburg',\n",
       "   'GERMANY',\n",
       "   'hamburg',\n",
       "   '20095'),\n",
       "  ('Freie und Hansestadt Hamburg', 'GERMANY', 'hamburg', '20095')],\n",
       " ('freieundhansestadthamburg',\n",
       "  'GERMANY',\n",
       "  'hamburg',\n",
       "  '20097',\n",
       "  'Schulbau Hamburg',\n",
       "  'Freie und Hansestadt Hamburg'): [('Freie und Hansestadt Hamburg',\n",
       "   'GERMANY',\n",
       "   'hamburg',\n",
       "   '20097')],\n",
       " ('freieundhansestadthamburg',\n",
       "  'GERMANY',\n",
       "  'hamburg',\n",
       "  '20354',\n",
       "  'Kulturbehörde Hamburg',\n",
       "  'Freie und Hansestadt Hamburg'): [('Freie und Hansestadt Hamburg',\n",
       "   'GERMANY',\n",
       "   'hamburg',\n",
       "   '20354')],\n",
       " ('freieundhansestadthamburg',\n",
       "  'GERMANY',\n",
       "  'hamburg',\n",
       "  '22222',\n",
       "  'Behörde f. Stadtentw. u. Wohne',\n",
       "  'Freie und Hansestadt Hamburg'): [('Freie und Hansestadt Hamburg',\n",
       "   'GERMANY',\n",
       "   'hamburg',\n",
       "   '22222'),\n",
       "  ('Freie und Hansestadt Hamburg', 'GERMANY', 'hamburg', '22222')],\n",
       " ('freieundhansestadthamburgbehfürarbeitsozialesfami',\n",
       "  'GERMANY',\n",
       "  'hamburg',\n",
       "  '22222',\n",
       "  'Integrat Amt  Zentrale Dienste',\n",
       "  'Freie und Hansestadt Hamburg Beh für Arbeit, Soziales, Fami'): [('Freie und Hansestadt Hamburg Beh für Arbeit, Soziales, Fami',\n",
       "   'GERMANY',\n",
       "   'hamburg',\n",
       "   '22222')]}"
      ]
     },
     "execution_count": 51,
     "metadata": {},
     "output_type": "execute_result"
    }
   ],
   "source": [
    "# ulist[ulist['Companyname_clean']=='freieundhansestadthamburg']    # complex example\n",
    "{k: originalname_values[k] for k in list(originalname_values)[4923:4928]}\n",
    "#[k for k, v in total.items() if ('freieundhansestadthamburg', 'GERMANY', 'hamburg', '20095') in v]   # include zipcode for input\n",
    "#[k for k, v in total.items() if ('freieundhansestadthamburg', 'GERMANY', 'hamburg', '20097') in v]"
   ]
  },
  {
   "cell_type": "code",
   "execution_count": 52,
   "metadata": {},
   "outputs": [],
   "source": [
    "# Suffix and company abbreviation pairs (Will be improved)\n",
    "suffix_specific = {'aktiengesellschaft': 'ag', 'gesellschaft mit beschränkter haftung': 'gmbh'}\n",
    "# add https://en.wikipedia.org/wiki/List_of_legal_entity_types_by_country\n",
    "\n",
    "company_specific = {'volkswagen': 'vw'}\n",
    "mapper = {**suffix_specific, **company_specific}"
   ]
  },
  {
   "cell_type": "code",
   "execution_count": 53,
   "metadata": {},
   "outputs": [
    {
     "name": "stdout",
     "output_type": "stream",
     "text": [
      "volkswagen financial services ag\n",
      "vw financial services aktiengesellschaft\n"
     ]
    }
   ],
   "source": [
    "companyname='volkswagen financial services aktiengesellschaft'\n",
    "\n",
    "for i in mapper.keys():\n",
    "    if i in companyname.split():\n",
    "        print(companyname.replace(i, mapper[i]))"
   ]
  },
  {
   "cell_type": "code",
   "execution_count": 43,
   "metadata": {},
   "outputs": [
    {
     "name": "stdout",
     "output_type": "stream",
     "text": [
      "[('1mustermannag1', 'GERMANY', '-', '31135', 'Musterstr. 7', '1Mustermann AG1')]\n",
      "[('1mustermannag1', 'GERMANY', '-', '31135', 'Musterstr. 7', '1Mustermann AG1')]\n",
      "[('fraport', 'GERMANY', 'frankfurt', '60547', 'Airport Security Management', 'FRAPORT AG')]\n",
      "Not available\n",
      "[('volkswagenfinancialservices', 'GERMANY', 'braunschweig', '38112', 'IH-IMC', 'Volkswagen Financial Services AG')]\n",
      "[('volkswagenfinancialservices', 'GERMANY', 'braunschweig', '38112', 'IH-IMC', 'Volkswagen Financial Services AG')]\n",
      "[('volkswagenfinancialservices', 'GERMANY', 'braunschweig', '38112', 'IH-IMC', 'Volkswagen Financial Services AG')]\n",
      "[('volkswagenfinancialservices', 'GERMANY', 'braunschweig', '38112', 'IH-IMC', 'Volkswagen Financial Services AG')]\n",
      "[('volkswagenfinancialservices', 'GERMANY', 'braunschweig', '38112', 'IH-IMC', 'Volkswagen Financial Services AG')]\n",
      "Not available\n"
     ]
    }
   ],
   "source": [
    "# Some examples with different cases\n",
    "print(find_comp('1Mustermann AG1', 'Germany', '-', '31135'))\n",
    "print(find_comp('1Mustermann AG1 ', 'Germany', 'Frankfurt', '31135'))   # Actually '1Mustermann' is not located in Frankfurt but entry is without a city\n",
    "\n",
    "print(find_comp('FRAPORT AG', 'Germany', 'Frankfurt', '60547'))\n",
    "print(find_comp('FRAPORT AG', 'Germany', '-', '60547'))\n",
    "\n",
    "print(find_comp('Volkswagen Financial Services aktiengesellschaft', 'Germany', 'braunschweig', '38112'))   # AG = Aktiengesellschaft\n",
    "print(find_comp('Volkswagen Financial Services ag 2', 'Germany', 'braunschweig', '38112'))   # return original key\n",
    "print(find_comp('Volkswagen Financial Services aktiengesellschaft 2', 'Germany', 'braunschweig', '38112'))\n",
    "print(find_comp('Volkswagen Financial Services', 'Germany', 'braunschweig', '38112'))   # 3 options: remove whitespace or suffix addition or contained in 'Volkswagen Financial Services ag'\n",
    "print(find_comp('VolkswagenFinancialServices', 'Germany', 'braunschweig', '38112'))\n",
    "print(find_comp('VolkswagenFinancialService', 'Germany', 'braunschweig', '38112'))   # similary measure later"
   ]
  },
  {
   "cell_type": "code",
   "execution_count": null,
   "metadata": {},
   "outputs": [],
   "source": []
  }
 ],
 "metadata": {
  "kernelspec": {
   "display_name": "Python 3",
   "language": "python",
   "name": "python3"
  },
  "language_info": {
   "codemirror_mode": {
    "name": "ipython",
    "version": 3
   },
   "file_extension": ".py",
   "mimetype": "text/x-python",
   "name": "python",
   "nbconvert_exporter": "python",
   "pygments_lexer": "ipython3",
   "version": "3.7.4"
  }
 },
 "nbformat": 4,
 "nbformat_minor": 4
}
