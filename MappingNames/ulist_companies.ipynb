{
 "cells": [
  {
   "cell_type": "code",
   "execution_count": 1,
   "metadata": {},
   "outputs": [],
   "source": [
    "import pandas as pd\n",
    "import numpy as np\n",
    "import yaml\n",
    "import re\n",
    "from difflib import SequenceMatcher    # https://docs.python.org/3/library/difflib.html#difflib.get_close_matches\n",
    "# !pip install cleanco\n",
    "# import cleanco   # would ne useful"
   ]
  },
  {
   "cell_type": "markdown",
   "metadata": {},
   "source": [
    "# Unternehmensliste Interflex"
   ]
  },
  {
   "cell_type": "markdown",
   "metadata": {},
   "source": [
    "## 1. Dataset info and preprocessing"
   ]
  },
  {
   "cell_type": "code",
   "execution_count": 216,
   "metadata": {},
   "outputs": [
    {
     "data": {
      "text/html": [
       "<div>\n",
       "<style scoped>\n",
       "    .dataframe tbody tr th:only-of-type {\n",
       "        vertical-align: middle;\n",
       "    }\n",
       "\n",
       "    .dataframe tbody tr th {\n",
       "        vertical-align: top;\n",
       "    }\n",
       "\n",
       "    .dataframe thead th {\n",
       "        text-align: right;\n",
       "    }\n",
       "</style>\n",
       "<table border=\"1\" class=\"dataframe\">\n",
       "  <thead>\n",
       "    <tr style=\"text-align: right;\">\n",
       "      <th></th>\n",
       "      <th>Firmenname</th>\n",
       "      <th>Land</th>\n",
       "      <th>Postleitzahl</th>\n",
       "      <th>Ort</th>\n",
       "      <th>Straße und Hausnr.</th>\n",
       "      <th>USt.-IdNr.</th>\n",
       "      <th>ID</th>\n",
       "    </tr>\n",
       "  </thead>\n",
       "  <tbody>\n",
       "    <tr>\n",
       "      <td>0</td>\n",
       "      <td>Bistum Essen</td>\n",
       "      <td>Deutschland</td>\n",
       "      <td>45127</td>\n",
       "      <td>Essen</td>\n",
       "      <td>Zwölfling 16</td>\n",
       "      <td>NaN</td>\n",
       "      <td>801695</td>\n",
       "    </tr>\n",
       "    <tr>\n",
       "      <td>1</td>\n",
       "      <td>KBS Kleider Bauer Betriebs-GmbH</td>\n",
       "      <td>Österreich</td>\n",
       "      <td>2380</td>\n",
       "      <td>Perchtoldsdorf</td>\n",
       "      <td>Zwingenstr. 5</td>\n",
       "      <td>NaN</td>\n",
       "      <td>850801</td>\n",
       "    </tr>\n",
       "    <tr>\n",
       "      <td>2</td>\n",
       "      <td>Elektro Ing-Plan GmbH Dresden</td>\n",
       "      <td>Deutschland</td>\n",
       "      <td>1187</td>\n",
       "      <td>Dresden</td>\n",
       "      <td>Zwickauer Straße 88</td>\n",
       "      <td>NaN</td>\n",
       "      <td>851014</td>\n",
       "    </tr>\n",
       "    <tr>\n",
       "      <td>3</td>\n",
       "      <td>Netzdesign-Vobornik</td>\n",
       "      <td>Deutschland</td>\n",
       "      <td>71083</td>\n",
       "      <td>Herrenberg</td>\n",
       "      <td>Zwickauer Strasse 41</td>\n",
       "      <td>NaN</td>\n",
       "      <td>NaN</td>\n",
       "    </tr>\n",
       "    <tr>\n",
       "      <td>4</td>\n",
       "      <td>NILES-SIMMONS Industrieanlagen GmbH</td>\n",
       "      <td>Deutschland</td>\n",
       "      <td>9117</td>\n",
       "      <td>Chemnitz</td>\n",
       "      <td>Zwickauer Straße 355</td>\n",
       "      <td>DE140853999</td>\n",
       "      <td>802541</td>\n",
       "    </tr>\n",
       "  </tbody>\n",
       "</table>\n",
       "</div>"
      ],
      "text/plain": [
       "                            Firmenname         Land Postleitzahl  \\\n",
       "0                         Bistum Essen  Deutschland        45127   \n",
       "1      KBS Kleider Bauer Betriebs-GmbH   Österreich         2380   \n",
       "2        Elektro Ing-Plan GmbH Dresden  Deutschland         1187   \n",
       "3                  Netzdesign-Vobornik  Deutschland        71083   \n",
       "4  NILES-SIMMONS Industrieanlagen GmbH  Deutschland         9117   \n",
       "\n",
       "              Ort    Straße und Hausnr.   USt.-IdNr.      ID  \n",
       "0           Essen          Zwölfling 16          NaN  801695  \n",
       "1  Perchtoldsdorf         Zwingenstr. 5          NaN  850801  \n",
       "2         Dresden   Zwickauer Straße 88          NaN  851014  \n",
       "3      Herrenberg  Zwickauer Strasse 41          NaN     NaN  \n",
       "4        Chemnitz  Zwickauer Straße 355  DE140853999  802541  "
      ]
     },
     "execution_count": 216,
     "metadata": {},
     "output_type": "execute_result"
    }
   ],
   "source": [
    "ulist = pd.read_excel(\"Unternehmensliste_Interflex.xlsx\")\n",
    "ulist.head()"
   ]
  },
  {
   "cell_type": "code",
   "execution_count": 217,
   "metadata": {},
   "outputs": [],
   "source": [
    "# pipeline\n",
    "ulist = ulist.rename(columns={'Firmenname': 'Company_name', 'Land': 'Country', 'Postleitzahl': 'Zipcode', 'Ort': 'City', 'Straße und Hausnr.': 'Address'})\n",
    "\n",
    "ulist[\"Country\"] = ulist[\"Country\"].str.upper()\n",
    "ulist[\"Country\"] = ulist[\"Country\"].str.replace('\\W', '').astype('category')\n",
    "ulist[\"City\"] = ulist[\"City\"].str.lower()\n",
    "ulist[\"City\"] = ulist[\"City\"].str.replace('\\W', '')\n",
    "ulist['USt.-IdNr.'] = ulist['USt.-IdNr.'].str.replace(\" \",\"\")        # white space removed\n",
    "ulist['ID'] = ulist['ID'].astype('str').str.replace('[^0-9]', '')    # ID with only numbers\n",
    "# ulist['ID'] = ulist['ID'].astype('str').replace(r'\\D+', '', regex=True)\n",
    "ulist['ID'] = ulist['ID'].replace(r'^\\s*$', np.NaN, regex=True)      # to keep missing values instead of empty strings\n",
    "\n",
    "ulist.insert(loc=1, column='Companyname_clean', value=ulist[\"Company_name\"].str.lower())   # New Company name column to standardize"
   ]
  },
  {
   "cell_type": "code",
   "execution_count": 218,
   "metadata": {},
   "outputs": [],
   "source": [
    "#from pathlib import Path\n",
    "#yaml_dict = yaml.safe_load(Path(\"countries_by_namede.yml.txt\", encoding='utf8').read_text())"
   ]
  },
  {
   "cell_type": "code",
   "execution_count": 219,
   "metadata": {},
   "outputs": [
    {
     "name": "stderr",
     "output_type": "stream",
     "text": [
      "C:\\ProgramData\\Anaconda3\\lib\\site-packages\\ipykernel_launcher.py:2: YAMLLoadWarning: calling yaml.load() without Loader=... is deprecated, as the default Loader is unsafe. Please read https://msg.pyyaml.org/load for full details.\n",
      "  \n"
     ]
    }
   ],
   "source": [
    "with open('countries_by_namede.yml.txt', 'rt', encoding='utf8') as file:   \n",
    "     yaml_dict = yaml.load(file)\n",
    "        \n",
    "# https://stackoverflow.com/questions/58340498/reading-yaml-file-in-python-with-accents-and-special-charactets\n",
    "\n",
    "country_dict = yaml_dict.get('de').get('countries')\n",
    "\n",
    "# https://gist.githubusercontent.com/pex/3153011/raw/859b1b8c1d3ff5c93b5e5f2aa02694ee404141d7/countries_by_name.de.yml\n",
    "country_dict = {y: x for x, y in country_dict.items()}\n",
    "country_dict = {k.upper():v.upper() for k,v in country_dict.items()}"
   ]
  },
  {
   "cell_type": "code",
   "execution_count": 220,
   "metadata": {},
   "outputs": [],
   "source": [
    "country_dict.update({'MALTAMALTA':'MALTA', 'PUERTORICOPUERTORICO': 'PUERTORICO', 'THAILANDTHAILAND': 'THAILAND', 'ISRAELISRAEL': 'ISRAEL',\n",
    "                     'JORDANJORDANIEN': 'JORDAN', 'MALAYSIAMALAYSIA': 'MALAYSIA', 'GREECEGRIECHENLAND': 'GREECE', 'MACEDONIAMAZEDONIEN': 'MACEDONIA',\n",
    "                     'KUWAITKUWAIT': 'KUWAIT', 'SINGAPORESINGAPUR': 'SINGAPORE', 'QATARKATAR': 'QATAR', 'KAZAKHSTANKASACHSTAN': 'KAZAKHSTAN',\n",
    "                    'JAPANJAPAN': 'JAPAN', 'SOUTHKOREAKOREASÜD': 'SOUTHKORE', 'VIETNAMVIETNAM': 'VIETNAM', 'SERBIASERBIEN': 'SERBIA',\n",
    "                    'PHILIPPINESPHILIPPINEN': 'PHILIPPINES', 'NEWZEALANDNEUSEELAND': 'NEWZEALAND', 'RUSSLAND': 'RUSSIANFEDERATION', 'UA': 'UNITEDARAB_EMIRATES',\n",
    "                     'TSCHECHIEN': 'CZECHREPUBLIC', 'VEREINIGTEEMIRATE': 'UNITEDARAB_EMIRATES', 'KÖNIGREICHSAUDIARABIEN': 'SAUDIARABIA', 'ESTLAND': 'ESTONIA'})"
   ]
  },
  {
   "cell_type": "code",
   "execution_count": 221,
   "metadata": {},
   "outputs": [
    {
     "name": "stdout",
     "output_type": "stream",
     "text": [
      "Number of missing values in country column before= 1073\n",
      "Number of missing values in country column after mapping Eng-De country names= 1085\n"
     ]
    },
    {
     "data": {
      "text/html": [
       "<div>\n",
       "<style scoped>\n",
       "    .dataframe tbody tr th:only-of-type {\n",
       "        vertical-align: middle;\n",
       "    }\n",
       "\n",
       "    .dataframe tbody tr th {\n",
       "        vertical-align: top;\n",
       "    }\n",
       "\n",
       "    .dataframe thead th {\n",
       "        text-align: right;\n",
       "    }\n",
       "</style>\n",
       "<table border=\"1\" class=\"dataframe\">\n",
       "  <thead>\n",
       "    <tr style=\"text-align: right;\">\n",
       "      <th></th>\n",
       "      <th>Company_name</th>\n",
       "      <th>Companyname_clean</th>\n",
       "      <th>Country</th>\n",
       "      <th>Zipcode</th>\n",
       "      <th>City</th>\n",
       "      <th>Address</th>\n",
       "      <th>USt.-IdNr.</th>\n",
       "      <th>ID</th>\n",
       "    </tr>\n",
       "  </thead>\n",
       "  <tbody>\n",
       "    <tr>\n",
       "      <td>994</td>\n",
       "      <td>BMW Sverige Aktiebolag</td>\n",
       "      <td>bmw sverige aktiebolag</td>\n",
       "      <td>SWEDEN</td>\n",
       "      <td>191 27</td>\n",
       "      <td>sollentuna</td>\n",
       "      <td>Vetenskapsvägen 10</td>\n",
       "      <td>SE556313500201</td>\n",
       "      <td>171249</td>\n",
       "    </tr>\n",
       "    <tr>\n",
       "      <td>2158</td>\n",
       "      <td>OKG Aktiebolag</td>\n",
       "      <td>okg aktiebolag</td>\n",
       "      <td>SWEDEN</td>\n",
       "      <td>57283</td>\n",
       "      <td>oskarshamm</td>\n",
       "      <td>Simpevarp</td>\n",
       "      <td>SE556063372801</td>\n",
       "      <td>170964</td>\n",
       "    </tr>\n",
       "    <tr>\n",
       "      <td>5242</td>\n",
       "      <td>QUALITY INTERIORS &amp; AUTOMATION SPECIALIST</td>\n",
       "      <td>quality interiors &amp; automation specialist</td>\n",
       "      <td>TURKSCAICOSISLANDS</td>\n",
       "      <td>TKCA 1ZZ</td>\n",
       "      <td>turkscaicosislands</td>\n",
       "      <td>MORRIS PLAZA, SUITE #8</td>\n",
       "      <td>NaN</td>\n",
       "      <td>850539</td>\n",
       "    </tr>\n",
       "    <tr>\n",
       "      <td>5896</td>\n",
       "      <td>ABB Power Grids Sweden AB</td>\n",
       "      <td>abb power grids sweden ab</td>\n",
       "      <td>SWEDEN</td>\n",
       "      <td>77180</td>\n",
       "      <td>ludvika</td>\n",
       "      <td>Lyviksvägen 3</td>\n",
       "      <td>NaN</td>\n",
       "      <td>NaN</td>\n",
       "    </tr>\n",
       "    <tr>\n",
       "      <td>6114</td>\n",
       "      <td>PT. Schaeffler Bearings Indonesia</td>\n",
       "      <td>pt. schaeffler bearings indonesia</td>\n",
       "      <td>INDONESIA</td>\n",
       "      <td>12920</td>\n",
       "      <td>jakarta</td>\n",
       "      <td>Lippo Kuningan 19th Floor Unit A &amp; F</td>\n",
       "      <td>NaN</td>\n",
       "      <td>NaN</td>\n",
       "    </tr>\n",
       "    <tr>\n",
       "      <td>9570</td>\n",
       "      <td>Aviator</td>\n",
       "      <td>aviator</td>\n",
       "      <td>SWEDEN</td>\n",
       "      <td>19046</td>\n",
       "      <td>stockholm</td>\n",
       "      <td>Generatorgatan 11</td>\n",
       "      <td>NaN</td>\n",
       "      <td>165160</td>\n",
       "    </tr>\n",
       "    <tr>\n",
       "      <td>10020</td>\n",
       "      <td>Brose Sweden AB</td>\n",
       "      <td>brose sweden ab</td>\n",
       "      <td>SWEDEN</td>\n",
       "      <td>42337</td>\n",
       "      <td>NaN</td>\n",
       "      <td>Flygfältsgatan 4</td>\n",
       "      <td>NaN</td>\n",
       "      <td>135228</td>\n",
       "    </tr>\n",
       "    <tr>\n",
       "      <td>11352</td>\n",
       "      <td>Boehringer Ingelheim Colombia</td>\n",
       "      <td>boehringer ingelheim colombia</td>\n",
       "      <td>COLOMBIA</td>\n",
       "      <td>NaN</td>\n",
       "      <td>bogotadc</td>\n",
       "      <td>Carrera 11 N 84-09 Piso 5 Torre Sur</td>\n",
       "      <td>860000753-8</td>\n",
       "      <td>804487</td>\n",
       "    </tr>\n",
       "    <tr>\n",
       "      <td>13580</td>\n",
       "      <td>Bombardier Transportation Sweden AB</td>\n",
       "      <td>bombardier transportation sweden ab</td>\n",
       "      <td>SWEDEN</td>\n",
       "      <td>SE-721 73</td>\n",
       "      <td>västeras</td>\n",
       "      <td>Accounts Payable Västeras</td>\n",
       "      <td>NaN</td>\n",
       "      <td>452518</td>\n",
       "    </tr>\n",
       "    <tr>\n",
       "      <td>13910</td>\n",
       "      <td>Schaeffler Philippines Inc</td>\n",
       "      <td>schaeffler philippines inc</td>\n",
       "      <td>PHILIPPINES</td>\n",
       "      <td>1229</td>\n",
       "      <td>makaticity</td>\n",
       "      <td>221 Salcedo Street</td>\n",
       "      <td>NaN</td>\n",
       "      <td>851866</td>\n",
       "    </tr>\n",
       "    <tr>\n",
       "      <td>13966</td>\n",
       "      <td>Schaeffler (Singapore) Pte. Ltd.</td>\n",
       "      <td>schaeffler (singapore) pte. ltd.</td>\n",
       "      <td>SINGAPORE</td>\n",
       "      <td>539775</td>\n",
       "      <td>singapore</td>\n",
       "      <td>18 Tai Seng, #09-07/08</td>\n",
       "      <td>NaN</td>\n",
       "      <td>851066</td>\n",
       "    </tr>\n",
       "    <tr>\n",
       "      <td>14377</td>\n",
       "      <td>PT Hyundai Indonesia Motor</td>\n",
       "      <td>pt hyundai indonesia motor</td>\n",
       "      <td>INDONESIA</td>\n",
       "      <td>NaN</td>\n",
       "      <td>NaN</td>\n",
       "      <td>NaN</td>\n",
       "      <td>NaN</td>\n",
       "      <td>850936</td>\n",
       "    </tr>\n",
       "  </tbody>\n",
       "</table>\n",
       "</div>"
      ],
      "text/plain": [
       "                                    Company_name  \\\n",
       "994                     BMW Sverige Aktiebolag     \n",
       "2158                              OKG Aktiebolag   \n",
       "5242   QUALITY INTERIORS & AUTOMATION SPECIALIST   \n",
       "5896                   ABB Power Grids Sweden AB   \n",
       "6114           PT. Schaeffler Bearings Indonesia   \n",
       "9570                                   Aviator     \n",
       "10020                            Brose Sweden AB   \n",
       "11352              Boehringer Ingelheim Colombia   \n",
       "13580      Bombardier Transportation Sweden AB     \n",
       "13910                 Schaeffler Philippines Inc   \n",
       "13966           Schaeffler (Singapore) Pte. Ltd.   \n",
       "14377                 PT Hyundai Indonesia Motor   \n",
       "\n",
       "                               Companyname_clean             Country  \\\n",
       "994                     bmw sverige aktiebolag                SWEDEN   \n",
       "2158                              okg aktiebolag              SWEDEN   \n",
       "5242   quality interiors & automation specialist  TURKSCAICOSISLANDS   \n",
       "5896                   abb power grids sweden ab              SWEDEN   \n",
       "6114           pt. schaeffler bearings indonesia           INDONESIA   \n",
       "9570                                   aviator                SWEDEN   \n",
       "10020                            brose sweden ab              SWEDEN   \n",
       "11352              boehringer ingelheim colombia            COLOMBIA   \n",
       "13580      bombardier transportation sweden ab                SWEDEN   \n",
       "13910                 schaeffler philippines inc         PHILIPPINES   \n",
       "13966           schaeffler (singapore) pte. ltd.           SINGAPORE   \n",
       "14377                 pt hyundai indonesia motor           INDONESIA   \n",
       "\n",
       "         Zipcode                City                               Address  \\\n",
       "994       191 27          sollentuna                  Vetenskapsvägen 10     \n",
       "2158       57283          oskarshamm                             Simpevarp   \n",
       "5242    TKCA 1ZZ  turkscaicosislands                MORRIS PLAZA, SUITE #8   \n",
       "5896       77180             ludvika                         Lyviksvägen 3   \n",
       "6114       12920             jakarta  Lippo Kuningan 19th Floor Unit A & F   \n",
       "9570       19046           stockholm                   Generatorgatan 11     \n",
       "10020      42337                 NaN                      Flygfältsgatan 4   \n",
       "11352        NaN            bogotadc   Carrera 11 N 84-09 Piso 5 Torre Sur   \n",
       "13580  SE-721 73            västeras           Accounts Payable Västeras     \n",
       "13910       1229          makaticity                    221 Salcedo Street   \n",
       "13966     539775           singapore                18 Tai Seng, #09-07/08   \n",
       "14377        NaN                 NaN                                   NaN   \n",
       "\n",
       "           USt.-IdNr.      ID  \n",
       "994    SE556313500201  171249  \n",
       "2158   SE556063372801  170964  \n",
       "5242              NaN  850539  \n",
       "5896              NaN     NaN  \n",
       "6114              NaN     NaN  \n",
       "9570              NaN  165160  \n",
       "10020             NaN  135228  \n",
       "11352     860000753-8  804487  \n",
       "13580             NaN  452518  \n",
       "13910             NaN  851866  \n",
       "13966             NaN  851066  \n",
       "14377             NaN  850936  "
      ]
     },
     "execution_count": 221,
     "metadata": {},
     "output_type": "execute_result"
    }
   ],
   "source": [
    "# list(set(ulist['Country'].unique()) - set(country_dict.keys()))\n",
    "# sorted(list(set(country_dict.keys())- set(ulist['Country'].unique())))\n",
    "print('Number of missing values in country column before=', ulist['Country'].map(country_dict).fillna(ulist['Country']).isna().sum())\n",
    "print('Number of missing values in country column after mapping Eng-De country names=', ulist['Country'].map(country_dict).isna().sum())\n",
    "ulist.loc[ulist['Country'].isna() != ulist['Country'].map(country_dict).isna()]\n"
   ]
  },
  {
   "cell_type": "markdown",
   "metadata": {},
   "source": [
    "Country names of remaining 12 rows are already in English!"
   ]
  },
  {
   "cell_type": "code",
   "execution_count": 222,
   "metadata": {},
   "outputs": [],
   "source": [
    "ulist['Country'] = ulist['Country'].map(country_dict).fillna(ulist['Country'])"
   ]
  },
  {
   "cell_type": "code",
   "execution_count": 223,
   "metadata": {},
   "outputs": [
    {
     "data": {
      "text/plain": [
       "16"
      ]
     },
     "execution_count": 223,
     "metadata": {},
     "output_type": "execute_result"
    }
   ],
   "source": [
    "ulist.duplicated().sum()   # 16 duplicated entries are already exist"
   ]
  },
  {
   "cell_type": "code",
   "execution_count": 224,
   "metadata": {},
   "outputs": [
    {
     "data": {
      "text/plain": [
       "Company_name         14193\n",
       "Companyname_clean    14154\n",
       "Country                 67\n",
       "Zipcode               4946\n",
       "City                  3748\n",
       "Address              12702\n",
       "USt.-IdNr.            4242\n",
       "ID                   10850\n",
       "dtype: int64"
      ]
     },
     "execution_count": 224,
     "metadata": {},
     "output_type": "execute_result"
    }
   ],
   "source": [
    "ulist.nunique()    # 73 different countries can be categorized"
   ]
  },
  {
   "cell_type": "code",
   "execution_count": 225,
   "metadata": {},
   "outputs": [
    {
     "name": "stdout",
     "output_type": "stream",
     "text": [
      "<class 'pandas.core.frame.DataFrame'>\n",
      "RangeIndex: 14550 entries, 0 to 14549\n",
      "Data columns (total 8 columns):\n",
      "Company_name         14550 non-null object\n",
      "Companyname_clean    14550 non-null object\n",
      "Country              13477 non-null object\n",
      "Zipcode              14238 non-null object\n",
      "City                 13902 non-null object\n",
      "Address              14111 non-null object\n",
      "USt.-IdNr.           4849 non-null object\n",
      "ID                   10873 non-null object\n",
      "dtypes: object(8)\n",
      "memory usage: 909.5+ KB\n"
     ]
    }
   ],
   "source": [
    "ulist.info()"
   ]
  },
  {
   "cell_type": "code",
   "execution_count": 226,
   "metadata": {},
   "outputs": [],
   "source": [
    "ulist = (\n",
    "    ulist\n",
    "        .assign(\n",
    "            Country=ulist['Country'].astype('category'),\n",
    "            # Zipcode=ulist['Zipcode'].astype('Int64'),\n",
    "            # ID=ulist['ID'].astype('Int64')   # not working\n",
    "        )   # .info()\n",
    ")"
   ]
  },
  {
   "cell_type": "code",
   "execution_count": 227,
   "metadata": {},
   "outputs": [
    {
     "name": "stdout",
     "output_type": "stream",
     "text": [
      "<class 'pandas.core.frame.DataFrame'>\n",
      "RangeIndex: 14550 entries, 0 to 14549\n",
      "Data columns (total 8 columns):\n",
      "Company_name         14550 non-null object\n",
      "Companyname_clean    14550 non-null object\n",
      "Country              13477 non-null category\n",
      "Zipcode              14238 non-null object\n",
      "City                 13902 non-null object\n",
      "Address              14111 non-null object\n",
      "USt.-IdNr.           4849 non-null object\n",
      "ID                   10873 non-null object\n",
      "dtypes: category(1), object(7)\n",
      "memory usage: 813.1+ KB\n"
     ]
    }
   ],
   "source": [
    "ulist.info()   # memory usage decreased by categorizing country (Country) column"
   ]
  },
  {
   "cell_type": "markdown",
   "metadata": {},
   "source": [
    "**Aim is to remove suffix and rest** ==> E.g: Sensient Imaging Technologies GmbH Chemiepark Bitterfeld-Wolfen"
   ]
  },
  {
   "cell_type": "code",
   "execution_count": 228,
   "metadata": {},
   "outputs": [],
   "source": [
    "# ulist[ulist['Company_name'].str.endswith(tuple(suffix_list))] some finishes with gmbh some -gmbh and some even continues"
   ]
  },
  {
   "cell_type": "code",
   "execution_count": 229,
   "metadata": {},
   "outputs": [],
   "source": [
    "ulist = ulist.assign(Idtrack=lambda ulist: range(1, len(ulist)+1))\n",
    "ulist_original = ulist.copy()"
   ]
  },
  {
   "cell_type": "markdown",
   "metadata": {},
   "source": [
    "## 1.1 Dataset Standardization\n",
    "**Prefix, Middle, Suffix removal. Column Standardization**"
   ]
  },
  {
   "cell_type": "code",
   "execution_count": 230,
   "metadata": {},
   "outputs": [],
   "source": [
    "# Suffix list for company names   (ordering is important! Will be fixed)\n",
    "suffix_list = ['gmbh', 'gmbh&co.', 'ggmbh', 'gmbh+co.', 'kg-gmbh', 'gmbh&co', 'ltd.', 'se',\n",
    "      'gmbh&co.kg', 'gmbh&cokg', 'gmbh.', 'gmbh,', 'gmbh&c', '(gmbh', 'mbh',\n",
    "               'company', 'incorporated', 'corporation', 'corp.', 'corp', 'inc',\n",
    "      '& co.', '& co',  'inc.', 's.p.a.', 'n.v.', 'a.g.', 'ag', 'nuf', 's.a.', 's.f.',\n",
    "      'oao', 'co.', 'co',\n",
    "              'soc.col.', 'stg', 'd.n.o.', 'ltda.', 'v.o.s.', 'a spol.',\n",
    "      u've\\xc5\\x99. obch. spol.', 'kgaa', 'o.e.', 's.f.', 's.n.c.', 's.a.p.a.', 'j.t.d.',\n",
    "      'v.o.f.', 'sp.j.', 'og', 'sd', ' i/s', 'ay', 'snc', 'oe', 'bt.', 's.s.', 'mb',\n",
    "      'ans', 'da', 'o.d.', 'hb', 'pt',\n",
    "              'unltd', 'ultd', 'sal', 'unlimited', 'saog', 'saoc', 'aj',\n",
    "      'yoaj', 'oaj', 'akc. spol.', 'a.s.',\n",
    "              'esv', 'gie', 'kv.', 'qk',\n",
    "              'pty. ltd.', 'pty ltd', 'ltd', 'l.t.d.', 'bvba', 'd.o.o.', 'ltda', 'gmbh',\n",
    "      'g.m.b.h', 'kft.', 'kht.', 'zrt.', 'ehf.', 's.a.r.l.', 'd.o.o.e.l.', 's. de r.l.',\n",
    "      'b.v.', 'tapui',\n",
    "      'sp. z.o.o.', 'sp. z o.o.', 'spółka z o.o.',\n",
    "      's.r.l.', 's.l.', 's.l.n.e.', 'ood', 'oy', 'rt.',\n",
    "      'teo', 'uab', 'scs', 'sprl', 'limited', 'bhd.', 'sdn. bhd.', 'sdn bhd', 'as',\n",
    "      'lda.', 'tov', 'pp',\n",
    "              'pllc', 'llc', 'l.l.c.', 'plc.', 'plc', 'hf.', 'oyj',\n",
    "      'a.e.', 'nyrt.', 'p.l.c.', 'sh.a.', 's.a.', 's.r.l.', 'srl.', 'srl', 'aat', '3at', 'd.d.',\n",
    "      's.r.o.', 'spol. s r.o.', 's.m.b.a.', 'smba', 'sarl', 'nv', 'sa', 'aps',\n",
    "      'a/s', 'p/s', 'sae', 'sasu', 'eurl', 'ae', 'cpt', 'as', 'ab', 'asa', 'ooo', 'dat',\n",
    "      'vat', 'zat', 'mchj', 'a.d.',\n",
    "              'lllp', 'l.l.l.p.',\n",
    "              'llp', 'l.l.p.', 'sp.p.', 's.c.a.', 's.c.s.',\n",
    "              'gmbh & co. kg', 'lp', 'l.p.', 's.c.s.',\n",
    "      's.c.p.a', 'comm.v', 'k.d.', 'k.d.a.', 's. en c.', 'e.e.', 's.a.s.', 's. en c.',\n",
    "      'c.v.', 's.k.a.', 'sp.k.', 's.cra.', 'ky', 'scs', 'kg', 'kd', 'k/s', 'ee', 'secs',\n",
    "      'kda', 'ks', 'kb','kt',\n",
    "              'sicav',\n",
    "              'nl',\n",
    "              'vzw', 'ses.', 'gte.',\n",
    "              'private', 'pte', 'xk',\n",
    "              'p.c.', 'vof', 'snc',\n",
    "              'pllc', 'p.l.l.c.',\n",
    "              'e.u.', 's.p.', 't:mi', 'tmi', 'e.v.', 'e.c.', 'et', 'obrt',\n",
    "      'fie', 'ij', 'fop', 'xt']\n",
    "\n",
    "# Source of company suffices https://github.com/psolin/cleanco/blob/master/cleanco/termdata.py"
   ]
  },
  {
   "cell_type": "code",
   "execution_count": 231,
   "metadata": {},
   "outputs": [
    {
     "data": {
      "text/plain": [
       "0                      bistum essen\n",
       "1        kbs kleider bauer betriebs\n",
       "2                  elektro ing-plan\n",
       "3               netzdesign-vobornik\n",
       "4    niles-simmons industrieanlagen\n",
       "5                    gemac chemnitz\n",
       "6                            emdion\n",
       "7         fiege logistik stiftung &\n",
       "8              william prym holding\n",
       "9                      leoni kerpen\n",
       "Name: Companyname_clean, dtype: object"
      ]
     },
     "execution_count": 231,
     "metadata": {},
     "output_type": "execute_result"
    }
   ],
   "source": [
    "def suffix_remover(companyname):    # Running multiple times (2 is good) removes suffix effectively\n",
    "    for i in suffix_list:\n",
    "        #if i in re.split(' |-', companyname):   # doesn't work properly\n",
    "        if i == companyname.split()[0]:\n",
    "            return ' '.join(companyname.split()[companyname.split().index(i)+1:])\n",
    "        elif i in companyname.split():    # tokenization\n",
    "            return ' '.join(companyname.split()[:companyname.split().index(i)])   # If first index is prefix then take rest of the string\n",
    "            #return companyname.split()[:companyname.split().index(i)]\n",
    "\n",
    "        elif i in companyname.split('-'):\n",
    "            return ' '.join(companyname.split('-')[:companyname.split('-').index(i)])\n",
    "            #return [x.replace(' ', '') for x in companyname.split('-')[:companyname.split('-').index(i)]]\n",
    "    return companyname\n",
    "\n",
    "ulist['Companyname_clean'] = ulist['Companyname_clean'].apply(suffix_remover)\n",
    "ulist['Companyname_clean'].head(10)"
   ]
  },
  {
   "cell_type": "code",
   "execution_count": 232,
   "metadata": {},
   "outputs": [
    {
     "name": "stdout",
     "output_type": "stream",
     "text": [
      "volks\n",
      "volkswagen financial services\n"
     ]
    }
   ],
   "source": [
    "# Bug fixed\n",
    "companyname='volkswagen financial services ag'\n",
    "i='ag'\n",
    "if i in companyname.split():\n",
    "    print(companyname[:companyname.index(i)-1])\n",
    "    \n",
    "if i in companyname.split():\n",
    "    print(' '.join(companyname.split()[:companyname.split().index(i)]))"
   ]
  },
  {
   "cell_type": "code",
   "execution_count": 233,
   "metadata": {},
   "outputs": [
    {
     "name": "stdout",
     "output_type": "stream",
     "text": [
      "watson\n"
     ]
    }
   ],
   "source": [
    "# Prefix updated\n",
    "companyname='as watson'\n",
    "pref=['as', 'gmbh', 'ds']\n",
    "  \n",
    "for i in pref:\n",
    "    if i == companyname.split()[0]:\n",
    "        print(' '.join(companyname.split()[companyname.split().index(i)+1:]))\n",
    "    elif i in companyname.split():\n",
    "        print(' '.join(companyname.split()[:companyname.split().index(i)]))"
   ]
  },
  {
   "cell_type": "code",
   "execution_count": 234,
   "metadata": {},
   "outputs": [
    {
     "data": {
      "text/html": [
       "<div>\n",
       "<style scoped>\n",
       "    .dataframe tbody tr th:only-of-type {\n",
       "        vertical-align: middle;\n",
       "    }\n",
       "\n",
       "    .dataframe tbody tr th {\n",
       "        vertical-align: top;\n",
       "    }\n",
       "\n",
       "    .dataframe thead th {\n",
       "        text-align: right;\n",
       "    }\n",
       "</style>\n",
       "<table border=\"1\" class=\"dataframe\">\n",
       "  <thead>\n",
       "    <tr style=\"text-align: right;\">\n",
       "      <th></th>\n",
       "      <th>Company_name</th>\n",
       "      <th>Companyname_clean</th>\n",
       "      <th>Country</th>\n",
       "      <th>Zipcode</th>\n",
       "      <th>City</th>\n",
       "      <th>Address</th>\n",
       "      <th>USt.-IdNr.</th>\n",
       "      <th>ID</th>\n",
       "      <th>Idtrack</th>\n",
       "    </tr>\n",
       "  </thead>\n",
       "  <tbody>\n",
       "  </tbody>\n",
       "</table>\n",
       "</div>"
      ],
      "text/plain": [
       "Empty DataFrame\n",
       "Columns: [Company_name, Companyname_clean, Country, Zipcode, City, Address, USt.-IdNr., ID, Idtrack]\n",
       "Index: []"
      ]
     },
     "execution_count": 234,
     "metadata": {},
     "output_type": "execute_result"
    }
   ],
   "source": [
    "ulist[ulist['Companyname_clean'] == '']"
   ]
  },
  {
   "cell_type": "code",
   "execution_count": 235,
   "metadata": {},
   "outputs": [
    {
     "data": {
      "text/html": [
       "<div>\n",
       "<style scoped>\n",
       "    .dataframe tbody tr th:only-of-type {\n",
       "        vertical-align: middle;\n",
       "    }\n",
       "\n",
       "    .dataframe tbody tr th {\n",
       "        vertical-align: top;\n",
       "    }\n",
       "\n",
       "    .dataframe thead th {\n",
       "        text-align: right;\n",
       "    }\n",
       "</style>\n",
       "<table border=\"1\" class=\"dataframe\">\n",
       "  <thead>\n",
       "    <tr style=\"text-align: right;\">\n",
       "      <th></th>\n",
       "      <th>Company_name</th>\n",
       "      <th>Companyname_clean</th>\n",
       "      <th>Country</th>\n",
       "      <th>Zipcode</th>\n",
       "      <th>City</th>\n",
       "      <th>Address</th>\n",
       "      <th>USt.-IdNr.</th>\n",
       "      <th>ID</th>\n",
       "      <th>Idtrack</th>\n",
       "    </tr>\n",
       "  </thead>\n",
       "  <tbody>\n",
       "    <tr>\n",
       "      <td>4195</td>\n",
       "      <td>AS Watson</td>\n",
       "      <td>watson</td>\n",
       "      <td>NETHERLANDS</td>\n",
       "      <td>6666 LT</td>\n",
       "      <td>heteren</td>\n",
       "      <td>Poort van Midden Gelderland Rood 24</td>\n",
       "      <td>NaN</td>\n",
       "      <td>331187</td>\n",
       "      <td>4196</td>\n",
       "    </tr>\n",
       "    <tr>\n",
       "      <td>4929</td>\n",
       "      <td>AS Watson</td>\n",
       "      <td>watson</td>\n",
       "      <td>NETHERLANDS</td>\n",
       "      <td>3972</td>\n",
       "      <td>darenswoude</td>\n",
       "      <td>Nijborg 17</td>\n",
       "      <td>NaN</td>\n",
       "      <td>803522</td>\n",
       "      <td>4930</td>\n",
       "    </tr>\n",
       "  </tbody>\n",
       "</table>\n",
       "</div>"
      ],
      "text/plain": [
       "     Company_name Companyname_clean      Country  Zipcode         City  \\\n",
       "4195    AS Watson            watson  NETHERLANDS  6666 LT      heteren   \n",
       "4929    AS Watson            watson  NETHERLANDS     3972  darenswoude   \n",
       "\n",
       "                                  Address USt.-IdNr.      ID  Idtrack  \n",
       "4195  Poort van Midden Gelderland Rood 24        NaN  331187     4196  \n",
       "4929                           Nijborg 17        NaN  803522     4930  "
      ]
     },
     "execution_count": 235,
     "metadata": {},
     "output_type": "execute_result"
    }
   ],
   "source": [
    "ulist[ulist['Company_name'] == 'AS Watson']"
   ]
  },
  {
   "cell_type": "markdown",
   "metadata": {},
   "source": [
    "## Remaining suffix problem"
   ]
  },
  {
   "cell_type": "code",
   "execution_count": 236,
   "metadata": {},
   "outputs": [
    {
     "name": "stdout",
     "output_type": "stream",
     "text": [
      "Remaining suffix as gmbh (most common): 41\n"
     ]
    }
   ],
   "source": [
    "print('Remaining suffix as gmbh (most common):', len(ulist[ulist['Companyname_clean'].str.contains('gmbh')]))"
   ]
  },
  {
   "cell_type": "code",
   "execution_count": 237,
   "metadata": {},
   "outputs": [
    {
     "data": {
      "text/plain": [
       "Company_name         BOSCH SICHERHEITSSYSTEME GMB H\n",
       "Companyname_clean    bosch sicherheitssysteme gmb h\n",
       "Country                                     GERMANY\n",
       "Zipcode                                       85630\n",
       "City                                      grasbrunn\n",
       "Address                  WERNER-VON-SIEMENS-RING 10\n",
       "USt.-IdNr.                              DE813474672\n",
       "ID                                           902003\n",
       "Idtrack                                         565\n",
       "Name: 564, dtype: object"
      ]
     },
     "execution_count": 237,
     "metadata": {},
     "output_type": "execute_result"
    }
   ],
   "source": [
    "ulist.iloc[564]"
   ]
  },
  {
   "cell_type": "code",
   "execution_count": 238,
   "metadata": {},
   "outputs": [],
   "source": [
    "# ulist[ulist['Companyname_clean'].str.contains('gmbh')]   # entries with typo\n",
    "# gmbh remove\n",
    "\n",
    "# [x.replace('gmbh', '') for x in ulist['Companyname_clean'] if any(tag in x for tag in remove_list)]   # doesn't work"
   ]
  },
  {
   "cell_type": "code",
   "execution_count": 239,
   "metadata": {},
   "outputs": [],
   "source": [
    "ulist[\"Companyname_clean\"] = ulist[\"Companyname_clean\"].str.replace('\\W', '')      # special characters are removed, white space etc."
   ]
  },
  {
   "cell_type": "code",
   "execution_count": 240,
   "metadata": {},
   "outputs": [],
   "source": [
    "# Remove some prefix, middle, suffices from all companynames (clear typos: operational servicesGmbH & Co. KG)\n",
    "remove_list = ['gmbh']   # stopwords approach, what about stiftung, holding etc.\n",
    "\n",
    "def pre_middle_suffix_remove(companyname):   # appylying this function after special characters (+ white spaces) are removed\n",
    "    for i in remove_list:\n",
    "        if i in companyname:\n",
    "            return companyname.replace(i, '')\n",
    "    return companyname\n",
    "\n",
    "ulist['Companyname_clean'] = ulist['Companyname_clean'].apply(pre_middle_suffix_remove)"
   ]
  },
  {
   "cell_type": "code",
   "execution_count": 241,
   "metadata": {},
   "outputs": [
    {
     "name": "stdout",
     "output_type": "stream",
     "text": [
      "Original Companyname: Technimark-Eisbär GmbHKunststoff- und Metallverarb.\n",
      "Cleaned Companyname: technimarkeisbärkunststoffundmetallverarb\n",
      "Number of gmbh left: 0\n"
     ]
    }
   ],
   "source": [
    "# List of gmbh contained entries: [x for x in ulist['Companyname_clean'] if any(tag in x for tag in remove_list)]\n",
    "print('Original Companyname:', ulist.loc[554, 'Company_name'])   # An Example with GmbH\n",
    "print('Cleaned Companyname:', ulist.loc[554, 'Companyname_clean'])\n",
    "print('Number of gmbh left:', len(ulist[ulist['Companyname_clean'].str.contains('gmbh')]))"
   ]
  },
  {
   "cell_type": "code",
   "execution_count": 242,
   "metadata": {},
   "outputs": [],
   "source": [
    "# a = list(set(ulist[ulist.loc[:,['Companyname_clean', 'Country', 'City']].duplicated()].index) - set(ulist[ulist.loc[:,['Companyname_clean', 'Country', 'Zipcode', 'City']].duplicated()].index))\n",
    "# a.sort()\n",
    "# ulist.loc[a]"
   ]
  },
  {
   "cell_type": "markdown",
   "metadata": {},
   "source": [
    "## 2. Duplicates and Grouping them together"
   ]
  },
  {
   "cell_type": "code",
   "execution_count": 243,
   "metadata": {},
   "outputs": [],
   "source": [
    "# moved NA of 'USt.-IdNr.' and 'ID' columns to bottom of df so that rows with more NA's will be removed because they are at the bottom.\n",
    "sorted_duplicates = ulist.sort_values(by=[\"USt.-IdNr.\", \"ID\"], na_position='last')      # move NAs to the bottom of the df\n",
    "ulist2 = sorted_duplicates.drop_duplicates(subset=[\"Companyname_clean\", \"Country\", \"City\"],\n",
    "                                     keep=\"first\").sort_index().reset_index(drop=True)  # drop duplicates"
   ]
  },
  {
   "cell_type": "code",
   "execution_count": 262,
   "metadata": {},
   "outputs": [
    {
     "data": {
      "text/plain": [
       "14550"
      ]
     },
     "execution_count": 262,
     "metadata": {},
     "output_type": "execute_result"
    }
   ],
   "source": [
    "len(ulist)"
   ]
  },
  {
   "cell_type": "code",
   "execution_count": 245,
   "metadata": {},
   "outputs": [],
   "source": [
    "#a = list(set(sorted_duplicates.index) - set(sorted_duplicates.drop_duplicates(subset=[\"Companyname_clean\", \"Country\", \"City\"],\n",
    "#                                     keep=\"first\").index))\n",
    "# sorted_duplicates.iloc[a]"
   ]
  },
  {
   "cell_type": "code",
   "execution_count": 246,
   "metadata": {},
   "outputs": [
    {
     "data": {
      "text/plain": [
       "Companyname_clean          Country      City         \n",
       "freieundhansestadthamburg  GERMANY      hamburg          6\n",
       "landeshauptstadtstuttgart  GERMANY      stuttgart        5\n",
       "fraport                    GERMANY      frankfurt        5\n",
       "hiltideutschland           GERMANY      kaufering        5\n",
       "interflexdatensysteme      GERMANY      stuttgart        4\n",
       "                                                        ..\n",
       "uniquesicherheitsdienste   SWITZERLAND  zürich           2\n",
       "omoda                      NETHERLANDS  zierikzee        2\n",
       "airbusdeutschland          GERMANY      hamburg          2\n",
       "rossmannonline             GERMANY      großburgwedel    2\n",
       "ewaldgelatine              GERMANY      badsobernheim    1\n",
       "Length: 516, dtype: int64"
      ]
     },
     "execution_count": 246,
     "metadata": {},
     "output_type": "execute_result"
    }
   ],
   "source": [
    "ulist.groupby(['Companyname_clean', 'Country', 'City']).size().sort_values(ascending=False)[:516]  # 515 companies have multiple entries"
   ]
  },
  {
   "cell_type": "code",
   "execution_count": 247,
   "metadata": {},
   "outputs": [],
   "source": [
    "# manytoone_dict=ulist.groupby(['Companyname_clean', 'Country', 'City'], dropna=False).apply(lambda x: x['Company_name'].tolist()).to_dict()\n",
    "#dropna=False doesn't work in my pandas version. So, another approach==>"
   ]
  },
  {
   "cell_type": "code",
   "execution_count": 248,
   "metadata": {},
   "outputs": [],
   "source": [
    "ulist['Country'] = ulist['Country'].cat.add_categories('-')   # NA values labeled as -\n",
    "manytoone_dict = ulist.assign(City=lambda ulista: ulista.City.fillna(\"-\")).assign(Country=lambda ulista: ulista.Country.fillna(\"-\")).groupby(\n",
    "    ['Companyname_clean', 'Country', 'City']).apply(lambda x: x['Company_name'].tolist()).to_dict()"
   ]
  },
  {
   "cell_type": "code",
   "execution_count": 261,
   "metadata": {},
   "outputs": [
    {
     "data": {
      "text/plain": [
       "{('1001artikelmedical', 'GERMANY', 'riesa'): ['1001 ARTIKEL MEDICAL GmbH'],\n",
       " ('11880solutions', 'GERMANY', 'rostock'): ['11 88 0 Solutions AG'],\n",
       " ('118811dienummer', 'AUSTRIA', 'wien'): ['118811 Die Nummer GmbH '],\n",
       " ('11telecommunication', 'GERMANY', 'montabaur'): ['1&1 Telecommunication SE'],\n",
       " ('11telecommunicaton',\n",
       "  'GERMANY',\n",
       "  'montabaur'): ['1 & 1 Telecommunicaton AG Montabaur Zentraler Rechnungseingang']}"
      ]
     },
     "execution_count": 261,
     "metadata": {},
     "output_type": "execute_result"
    }
   ],
   "source": [
    "{k: manytoone_dict[k] for k in list(manytoone_dict)[:5]}    # First 5 items in the dictionary. Not sure if it is suitable for the end function"
   ]
  },
  {
   "cell_type": "code",
   "execution_count": null,
   "metadata": {},
   "outputs": [],
   "source": []
  },
  {
   "cell_type": "code",
   "execution_count": null,
   "metadata": {},
   "outputs": [],
   "source": []
  },
  {
   "cell_type": "markdown",
   "metadata": {},
   "source": [
    "Next step is grouping duplicated entries with a unique company name. Then applying same methods to companies from other data sets. First, removing suffices and then searching duplicated companies in company name, country and city columns. My goal is to finding duplicates so that I can group them under an unique company name. After that, I will append remaining unique company names to a final dataframe or a dictionary. Later, I can come back and group the duplicated ones for each unique company and create a many-to-one mapping function.\n",
    "\n",
    "At the end, inputing a company name will return a unique company name (+information too like country, city, revenue?) based on grouping same companies with varying names and a rule-based approach.\n",
    "\n",
    "For example:\n",
    "Input (Volkswagen) ==> Volkswagen AG   based on suffix (adding suffix and searching)\n",
    "\n",
    "Input (Volkswagen Aktiengesellschaft) ==> Volkswagen AG    (based on grouping same companies)\n",
    "\n",
    "Input (VW) ==> Volkswagen AG   based on a rule"
   ]
  },
  {
   "cell_type": "code",
   "execution_count": 27,
   "metadata": {},
   "outputs": [
    {
     "data": {
      "text/html": [
       "<div>\n",
       "<style scoped>\n",
       "    .dataframe tbody tr th:only-of-type {\n",
       "        vertical-align: middle;\n",
       "    }\n",
       "\n",
       "    .dataframe tbody tr th {\n",
       "        vertical-align: top;\n",
       "    }\n",
       "\n",
       "    .dataframe thead th {\n",
       "        text-align: right;\n",
       "    }\n",
       "</style>\n",
       "<table border=\"1\" class=\"dataframe\">\n",
       "  <thead>\n",
       "    <tr style=\"text-align: right;\">\n",
       "      <th></th>\n",
       "      <th>Firmenname</th>\n",
       "      <th>Firmenname_clean</th>\n",
       "      <th>Land</th>\n",
       "      <th>Postleitzahl</th>\n",
       "      <th>Ort</th>\n",
       "      <th>Straße und Hausnr.</th>\n",
       "      <th>USt.-IdNr.</th>\n",
       "      <th>ID</th>\n",
       "      <th>Idtrack</th>\n",
       "    </tr>\n",
       "  </thead>\n",
       "  <tbody>\n",
       "    <tr>\n",
       "      <td>24</td>\n",
       "      <td>R. Weiss Maschinenbau GmbH</td>\n",
       "      <td>rweissmaschinenbau</td>\n",
       "      <td>DEUTSCHLAND</td>\n",
       "      <td>74564</td>\n",
       "      <td>crailsheim</td>\n",
       "      <td>ZUR FLÜGELAU 28-30</td>\n",
       "      <td>DE190976983</td>\n",
       "      <td>181817</td>\n",
       "      <td>26</td>\n",
       "    </tr>\n",
       "    <tr>\n",
       "      <td>25</td>\n",
       "      <td>R. Weiss Automation GmbH &amp; Co. KG</td>\n",
       "      <td>rweissautomation</td>\n",
       "      <td>DEUTSCHLAND</td>\n",
       "      <td>74564</td>\n",
       "      <td>crailsheim</td>\n",
       "      <td>ZUR FLÜGELAU 28</td>\n",
       "      <td>NaN</td>\n",
       "      <td>803402</td>\n",
       "      <td>28</td>\n",
       "    </tr>\n",
       "  </tbody>\n",
       "</table>\n",
       "</div>"
      ],
      "text/plain": [
       "                           Firmenname    Firmenname_clean         Land  \\\n",
       "24       R. Weiss Maschinenbau GmbH    rweissmaschinenbau  DEUTSCHLAND   \n",
       "25  R. Weiss Automation GmbH & Co. KG    rweissautomation  DEUTSCHLAND   \n",
       "\n",
       "   Postleitzahl         Ort    Straße und Hausnr.   USt.-IdNr.      ID  \\\n",
       "24        74564  crailsheim  ZUR FLÜGELAU 28-30    DE190976983  181817   \n",
       "25        74564  crailsheim       ZUR FLÜGELAU 28          NaN  803402   \n",
       "\n",
       "    Idtrack  \n",
       "24       26  \n",
       "25       28  "
      ]
     },
     "execution_count": 27,
     "metadata": {},
     "output_type": "execute_result"
    }
   ],
   "source": [
    "ulist[ulist[\"Companyname_clean\"].str.startswith('rweiss')]   # Actually both belongs to R.WEISS Packaging GmbH & Co. KG"
   ]
  },
  {
   "cell_type": "code",
   "execution_count": 28,
   "metadata": {},
   "outputs": [],
   "source": [
    "# sintmaartenskliniek   # city different but everything else same"
   ]
  },
  {
   "cell_type": "code",
   "execution_count": 29,
   "metadata": {},
   "outputs": [],
   "source": [
    "# ulist.iloc[7659]   # general example"
   ]
  },
  {
   "cell_type": "code",
   "execution_count": 30,
   "metadata": {},
   "outputs": [
    {
     "data": {
      "text/html": [
       "<div>\n",
       "<style scoped>\n",
       "    .dataframe tbody tr th:only-of-type {\n",
       "        vertical-align: middle;\n",
       "    }\n",
       "\n",
       "    .dataframe tbody tr th {\n",
       "        vertical-align: top;\n",
       "    }\n",
       "\n",
       "    .dataframe thead th {\n",
       "        text-align: right;\n",
       "    }\n",
       "</style>\n",
       "<table border=\"1\" class=\"dataframe\">\n",
       "  <thead>\n",
       "    <tr style=\"text-align: right;\">\n",
       "      <th></th>\n",
       "      <th>Firmenname</th>\n",
       "      <th>Firmenname_clean</th>\n",
       "      <th>Land</th>\n",
       "      <th>Postleitzahl</th>\n",
       "      <th>Ort</th>\n",
       "      <th>Straße und Hausnr.</th>\n",
       "      <th>USt.-IdNr.</th>\n",
       "      <th>ID</th>\n",
       "      <th>Idtrack</th>\n",
       "    </tr>\n",
       "  </thead>\n",
       "  <tbody>\n",
       "    <tr>\n",
       "      <td>212</td>\n",
       "      <td>Volkswagen Group United kingdom Limited</td>\n",
       "      <td>volkswagengroupunitedkingdom</td>\n",
       "      <td>GROSSBRITANNIEN</td>\n",
       "      <td>MK14 5AN</td>\n",
       "      <td>miltonkeynes</td>\n",
       "      <td>Yeomans Drive</td>\n",
       "      <td>NaN</td>\n",
       "      <td>805690</td>\n",
       "      <td>221</td>\n",
       "    </tr>\n",
       "    <tr>\n",
       "      <td>741</td>\n",
       "      <td>Volkswagen Automobile Stuttgart GmbH</td>\n",
       "      <td>volkswagenautomobilestuttgart</td>\n",
       "      <td>DEUTSCHLAND</td>\n",
       "      <td>70188</td>\n",
       "      <td>stuttgart</td>\n",
       "      <td>Wangener Str. 66</td>\n",
       "      <td>NaN</td>\n",
       "      <td>NaN</td>\n",
       "      <td>768</td>\n",
       "    </tr>\n",
       "    <tr>\n",
       "      <td>969</td>\n",
       "      <td>Volkswagen Original Teile Logistik GmbH &amp; Co. KG</td>\n",
       "      <td>volkswagenoriginalteilelogistik</td>\n",
       "      <td>DEUTSCHLAND</td>\n",
       "      <td>34225</td>\n",
       "      <td>baunatal</td>\n",
       "      <td>Vertriebszentrum West</td>\n",
       "      <td>DE230960046</td>\n",
       "      <td>803202</td>\n",
       "      <td>1004</td>\n",
       "    </tr>\n",
       "    <tr>\n",
       "      <td>1060</td>\n",
       "      <td>Volkswagen Original Teile LogiSüdwest / Franke...</td>\n",
       "      <td>volkswagenoriginalteilelogisüdwestfranken</td>\n",
       "      <td>DEUTSCHLAND</td>\n",
       "      <td>97084</td>\n",
       "      <td>NaN</td>\n",
       "      <td>Unterer Kirchbergweg 65</td>\n",
       "      <td>NaN</td>\n",
       "      <td>170970</td>\n",
       "      <td>1097</td>\n",
       "    </tr>\n",
       "    <tr>\n",
       "      <td>1087</td>\n",
       "      <td>Volkswagen Infotainment GmbH</td>\n",
       "      <td>volkswageninfotainment</td>\n",
       "      <td>DEUTSCHLAND</td>\n",
       "      <td>44799</td>\n",
       "      <td>bochum</td>\n",
       "      <td>Universitätsstraße 140</td>\n",
       "      <td>DE295504619</td>\n",
       "      <td>803983</td>\n",
       "      <td>1126</td>\n",
       "    </tr>\n",
       "    <tr>\n",
       "      <td>2476</td>\n",
       "      <td>Volkswagen Business Services GmbH I-SEC; Frau ...</td>\n",
       "      <td>volkswagenbusinessservices</td>\n",
       "      <td>DEUTSCHLAND</td>\n",
       "      <td>38112</td>\n",
       "      <td>braunschweig</td>\n",
       "      <td>Schmalbachstraße 1</td>\n",
       "      <td>DE171252317</td>\n",
       "      <td>160936</td>\n",
       "      <td>2567</td>\n",
       "    </tr>\n",
       "    <tr>\n",
       "      <td>2478</td>\n",
       "      <td>Volkswagen Financial Services Digital Solution...</td>\n",
       "      <td>volkswagenfinancialservicesdigitalsolutions</td>\n",
       "      <td>DEUTSCHLAND</td>\n",
       "      <td>38112</td>\n",
       "      <td>braunschweig</td>\n",
       "      <td>Schmalbachstraße 1</td>\n",
       "      <td>DE260043656</td>\n",
       "      <td>800056</td>\n",
       "      <td>2569</td>\n",
       "    </tr>\n",
       "    <tr>\n",
       "      <td>3736</td>\n",
       "      <td>Volkswagen Immobilien GmbH</td>\n",
       "      <td>volkswagenimmobilien</td>\n",
       "      <td>DEUTSCHLAND</td>\n",
       "      <td>38440</td>\n",
       "      <td>wolfsburg</td>\n",
       "      <td>Poststr. 28</td>\n",
       "      <td>NaN</td>\n",
       "      <td>NaN</td>\n",
       "      <td>3883</td>\n",
       "    </tr>\n",
       "    <tr>\n",
       "      <td>6833</td>\n",
       "      <td>Volkswagen Osnabrück GmbH</td>\n",
       "      <td>volkswagenosnabrück</td>\n",
       "      <td>DEUTSCHLAND</td>\n",
       "      <td>49084</td>\n",
       "      <td>osnabrück</td>\n",
       "      <td>KARMANNSTRAßE 1</td>\n",
       "      <td>NaN</td>\n",
       "      <td>803445</td>\n",
       "      <td>7095</td>\n",
       "    </tr>\n",
       "    <tr>\n",
       "      <td>7652</td>\n",
       "      <td>Volkswagen Financial Services AG</td>\n",
       "      <td>volkswagenfinancialservices</td>\n",
       "      <td>DEUTSCHLAND</td>\n",
       "      <td>38112</td>\n",
       "      <td>braunschweig</td>\n",
       "      <td>IH-IMC</td>\n",
       "      <td>DE811115544</td>\n",
       "      <td>803041</td>\n",
       "      <td>7942</td>\n",
       "    </tr>\n",
       "    <tr>\n",
       "      <td>9067</td>\n",
       "      <td>Volkswagen Sachsen GmbH</td>\n",
       "      <td>volkswagensachsen</td>\n",
       "      <td>DEUTSCHLAND</td>\n",
       "      <td>8058</td>\n",
       "      <td>zwickau</td>\n",
       "      <td>Glauchauer Straße 40</td>\n",
       "      <td>DE141414869</td>\n",
       "      <td>802483</td>\n",
       "      <td>9432</td>\n",
       "    </tr>\n",
       "    <tr>\n",
       "      <td>10862</td>\n",
       "      <td>Volkswagen Argentina S.A.</td>\n",
       "      <td>volkswagenargentina</td>\n",
       "      <td>ARGENTINIEN</td>\n",
       "      <td>NaN</td>\n",
       "      <td>buenosaires</td>\n",
       "      <td>Centro Industrial Pacheco</td>\n",
       "      <td>NaN</td>\n",
       "      <td>851996</td>\n",
       "      <td>11318</td>\n",
       "    </tr>\n",
       "    <tr>\n",
       "      <td>11254</td>\n",
       "      <td>Volkswagen Kraftwerk GmbH</td>\n",
       "      <td>volkswagenkraftwerk</td>\n",
       "      <td>DEUTSCHLAND</td>\n",
       "      <td>38436</td>\n",
       "      <td>wolfsburg</td>\n",
       "      <td>Brieffach 0115</td>\n",
       "      <td>DE811115405</td>\n",
       "      <td>803444</td>\n",
       "      <td>11729</td>\n",
       "    </tr>\n",
       "    <tr>\n",
       "      <td>11255</td>\n",
       "      <td>Volkswagen Aktiengesellschaft</td>\n",
       "      <td>volkswagenaktiengesellschaft</td>\n",
       "      <td>DEUTSCHLAND</td>\n",
       "      <td>38436</td>\n",
       "      <td>wolfsburg</td>\n",
       "      <td>Brieffach 011/1875</td>\n",
       "      <td>NaN</td>\n",
       "      <td>850710</td>\n",
       "      <td>11730</td>\n",
       "    </tr>\n",
       "    <tr>\n",
       "      <td>11256</td>\n",
       "      <td>Volkswagen AG</td>\n",
       "      <td>volkswagen</td>\n",
       "      <td>DEUTSCHLAND</td>\n",
       "      <td>38436</td>\n",
       "      <td>wolfsburg</td>\n",
       "      <td>Brieffach 011/14010</td>\n",
       "      <td>DE115235681</td>\n",
       "      <td>803443</td>\n",
       "      <td>11731</td>\n",
       "    </tr>\n",
       "    <tr>\n",
       "      <td>11257</td>\n",
       "      <td>Volkswagen Coaching GmbH Rechnungswesen</td>\n",
       "      <td>volkswagencoaching</td>\n",
       "      <td>DEUTSCHLAND</td>\n",
       "      <td>38436</td>\n",
       "      <td>wolfsburg</td>\n",
       "      <td>Brieffach 011/05030</td>\n",
       "      <td>NaN</td>\n",
       "      <td>452161</td>\n",
       "      <td>11732</td>\n",
       "    </tr>\n",
       "    <tr>\n",
       "      <td>11309</td>\n",
       "      <td>Volkswagen Group Services GmbH</td>\n",
       "      <td>volkswagengroupservices</td>\n",
       "      <td>DEUTSCHLAND</td>\n",
       "      <td>38444</td>\n",
       "      <td>wolfsburg</td>\n",
       "      <td>Braunschweigerstrasse 101</td>\n",
       "      <td>DE214502654</td>\n",
       "      <td>804951</td>\n",
       "      <td>11784</td>\n",
       "    </tr>\n",
       "    <tr>\n",
       "      <td>13621</td>\n",
       "      <td>Volkswagen Financial Service (VWFS)</td>\n",
       "      <td>volkswagenfinancialservicevwfs</td>\n",
       "      <td>GROSSBRITANNIEN</td>\n",
       "      <td>11111</td>\n",
       "      <td>kent</td>\n",
       "      <td>NaN</td>\n",
       "      <td>NaN</td>\n",
       "      <td>805206</td>\n",
       "      <td>14172</td>\n",
       "    </tr>\n",
       "  </tbody>\n",
       "</table>\n",
       "</div>"
      ],
      "text/plain": [
       "                                              Firmenname  \\\n",
       "212              Volkswagen Group United kingdom Limited   \n",
       "741                 Volkswagen Automobile Stuttgart GmbH   \n",
       "969     Volkswagen Original Teile Logistik GmbH & Co. KG   \n",
       "1060   Volkswagen Original Teile LogiSüdwest / Franke...   \n",
       "1087                        Volkswagen Infotainment GmbH   \n",
       "2476   Volkswagen Business Services GmbH I-SEC; Frau ...   \n",
       "2478   Volkswagen Financial Services Digital Solution...   \n",
       "3736                          Volkswagen Immobilien GmbH   \n",
       "6833                           Volkswagen Osnabrück GmbH   \n",
       "7652                    Volkswagen Financial Services AG   \n",
       "9067                             Volkswagen Sachsen GmbH   \n",
       "10862                          Volkswagen Argentina S.A.   \n",
       "11254                          Volkswagen Kraftwerk GmbH   \n",
       "11255                      Volkswagen Aktiengesellschaft   \n",
       "11256                                      Volkswagen AG   \n",
       "11257            Volkswagen Coaching GmbH Rechnungswesen   \n",
       "11309                     Volkswagen Group Services GmbH   \n",
       "13621                Volkswagen Financial Service (VWFS)   \n",
       "\n",
       "                                  Firmenname_clean             Land  \\\n",
       "212                   volkswagengroupunitedkingdom  GROSSBRITANNIEN   \n",
       "741                  volkswagenautomobilestuttgart      DEUTSCHLAND   \n",
       "969                volkswagenoriginalteilelogistik      DEUTSCHLAND   \n",
       "1060     volkswagenoriginalteilelogisüdwestfranken      DEUTSCHLAND   \n",
       "1087                        volkswageninfotainment      DEUTSCHLAND   \n",
       "2476                    volkswagenbusinessservices      DEUTSCHLAND   \n",
       "2478   volkswagenfinancialservicesdigitalsolutions      DEUTSCHLAND   \n",
       "3736                          volkswagenimmobilien      DEUTSCHLAND   \n",
       "6833                           volkswagenosnabrück      DEUTSCHLAND   \n",
       "7652                   volkswagenfinancialservices      DEUTSCHLAND   \n",
       "9067                             volkswagensachsen      DEUTSCHLAND   \n",
       "10862                          volkswagenargentina      ARGENTINIEN   \n",
       "11254                          volkswagenkraftwerk      DEUTSCHLAND   \n",
       "11255                 volkswagenaktiengesellschaft      DEUTSCHLAND   \n",
       "11256                                   volkswagen      DEUTSCHLAND   \n",
       "11257                           volkswagencoaching      DEUTSCHLAND   \n",
       "11309                      volkswagengroupservices      DEUTSCHLAND   \n",
       "13621               volkswagenfinancialservicevwfs  GROSSBRITANNIEN   \n",
       "\n",
       "      Postleitzahl           Ort         Straße und Hausnr.   USt.-IdNr.  \\\n",
       "212       MK14 5AN  miltonkeynes              Yeomans Drive          NaN   \n",
       "741          70188     stuttgart           Wangener Str. 66          NaN   \n",
       "969          34225      baunatal      Vertriebszentrum West  DE230960046   \n",
       "1060         97084           NaN    Unterer Kirchbergweg 65          NaN   \n",
       "1087         44799        bochum     Universitätsstraße 140  DE295504619   \n",
       "2476         38112  braunschweig       Schmalbachstraße 1    DE171252317   \n",
       "2478         38112  braunschweig         Schmalbachstraße 1  DE260043656   \n",
       "3736         38440     wolfsburg                Poststr. 28          NaN   \n",
       "6833         49084     osnabrück            KARMANNSTRAßE 1          NaN   \n",
       "7652         38112  braunschweig                     IH-IMC  DE811115544   \n",
       "9067          8058       zwickau       Glauchauer Straße 40  DE141414869   \n",
       "10862          NaN   buenosaires  Centro Industrial Pacheco          NaN   \n",
       "11254        38436     wolfsburg             Brieffach 0115  DE811115405   \n",
       "11255        38436     wolfsburg         Brieffach 011/1875          NaN   \n",
       "11256        38436     wolfsburg        Brieffach 011/14010  DE115235681   \n",
       "11257        38436     wolfsburg        Brieffach 011/05030          NaN   \n",
       "11309        38444     wolfsburg  Braunschweigerstrasse 101  DE214502654   \n",
       "13621        11111          kent                        NaN          NaN   \n",
       "\n",
       "           ID  Idtrack  \n",
       "212    805690      221  \n",
       "741       NaN      768  \n",
       "969    803202     1004  \n",
       "1060   170970     1097  \n",
       "1087   803983     1126  \n",
       "2476   160936     2567  \n",
       "2478   800056     2569  \n",
       "3736      NaN     3883  \n",
       "6833   803445     7095  \n",
       "7652   803041     7942  \n",
       "9067   802483     9432  \n",
       "10862  851996    11318  \n",
       "11254  803444    11729  \n",
       "11255  850710    11730  \n",
       "11256  803443    11731  \n",
       "11257  452161    11732  \n",
       "11309  804951    11784  \n",
       "13621  805206    14172  "
      ]
     },
     "execution_count": 30,
     "metadata": {},
     "output_type": "execute_result"
    }
   ],
   "source": [
    "ulist[ulist['Company_name'].str.contains('Volkswagen')]    # volksw'ag'en 'ag' case \"ag\" now catches correct ag (suffix one)"
   ]
  },
  {
   "cell_type": "markdown",
   "metadata": {},
   "source": [
    "**Think/ask Aktiengesellschaft == AG rule based or grouped same companies**"
   ]
  },
  {
   "cell_type": "code",
   "execution_count": 31,
   "metadata": {},
   "outputs": [
    {
     "data": {
      "text/html": [
       "<div>\n",
       "<style scoped>\n",
       "    .dataframe tbody tr th:only-of-type {\n",
       "        vertical-align: middle;\n",
       "    }\n",
       "\n",
       "    .dataframe tbody tr th {\n",
       "        vertical-align: top;\n",
       "    }\n",
       "\n",
       "    .dataframe thead th {\n",
       "        text-align: right;\n",
       "    }\n",
       "</style>\n",
       "<table border=\"1\" class=\"dataframe\">\n",
       "  <thead>\n",
       "    <tr style=\"text-align: right;\">\n",
       "      <th></th>\n",
       "      <th>Firmenname</th>\n",
       "      <th>Firmenname_clean</th>\n",
       "      <th>Land</th>\n",
       "      <th>Postleitzahl</th>\n",
       "      <th>Ort</th>\n",
       "      <th>Straße und Hausnr.</th>\n",
       "      <th>USt.-IdNr.</th>\n",
       "      <th>ID</th>\n",
       "      <th>Idtrack</th>\n",
       "    </tr>\n",
       "  </thead>\n",
       "  <tbody>\n",
       "    <tr>\n",
       "      <td>0</td>\n",
       "      <td>Bistum Essen</td>\n",
       "      <td>bistumessen</td>\n",
       "      <td>DEUTSCHLAND</td>\n",
       "      <td>45127</td>\n",
       "      <td>essen</td>\n",
       "      <td>Zwölfling 16</td>\n",
       "      <td>NaN</td>\n",
       "      <td>801695</td>\n",
       "      <td>1</td>\n",
       "    </tr>\n",
       "    <tr>\n",
       "      <td>1</td>\n",
       "      <td>KBS Kleider Bauer Betriebs-GmbH</td>\n",
       "      <td>kbskleiderbauerbetriebs</td>\n",
       "      <td>ÖSTERREICH</td>\n",
       "      <td>2380</td>\n",
       "      <td>perchtoldsdorf</td>\n",
       "      <td>Zwingenstr. 5</td>\n",
       "      <td>NaN</td>\n",
       "      <td>850801</td>\n",
       "      <td>2</td>\n",
       "    </tr>\n",
       "    <tr>\n",
       "      <td>2</td>\n",
       "      <td>Elektro Ing-Plan GmbH Dresden</td>\n",
       "      <td>elektroingplan</td>\n",
       "      <td>DEUTSCHLAND</td>\n",
       "      <td>1187</td>\n",
       "      <td>dresden</td>\n",
       "      <td>Zwickauer Straße 88</td>\n",
       "      <td>NaN</td>\n",
       "      <td>851014</td>\n",
       "      <td>3</td>\n",
       "    </tr>\n",
       "    <tr>\n",
       "      <td>3</td>\n",
       "      <td>Netzdesign-Vobornik</td>\n",
       "      <td>netzdesignvobornik</td>\n",
       "      <td>DEUTSCHLAND</td>\n",
       "      <td>71083</td>\n",
       "      <td>herrenberg</td>\n",
       "      <td>Zwickauer Strasse 41</td>\n",
       "      <td>NaN</td>\n",
       "      <td>NaN</td>\n",
       "      <td>4</td>\n",
       "    </tr>\n",
       "    <tr>\n",
       "      <td>4</td>\n",
       "      <td>NILES-SIMMONS Industrieanlagen GmbH</td>\n",
       "      <td>nilessimmonsindustrieanlagen</td>\n",
       "      <td>DEUTSCHLAND</td>\n",
       "      <td>9117</td>\n",
       "      <td>chemnitz</td>\n",
       "      <td>Zwickauer Straße 355</td>\n",
       "      <td>DE140853999</td>\n",
       "      <td>802541</td>\n",
       "      <td>5</td>\n",
       "    </tr>\n",
       "  </tbody>\n",
       "</table>\n",
       "</div>"
      ],
      "text/plain": [
       "                            Firmenname              Firmenname_clean  \\\n",
       "0                         Bistum Essen                   bistumessen   \n",
       "1      KBS Kleider Bauer Betriebs-GmbH       kbskleiderbauerbetriebs   \n",
       "2        Elektro Ing-Plan GmbH Dresden                elektroingplan   \n",
       "3                  Netzdesign-Vobornik            netzdesignvobornik   \n",
       "4  NILES-SIMMONS Industrieanlagen GmbH  nilessimmonsindustrieanlagen   \n",
       "\n",
       "          Land Postleitzahl             Ort    Straße und Hausnr.  \\\n",
       "0  DEUTSCHLAND        45127           essen          Zwölfling 16   \n",
       "1   ÖSTERREICH         2380  perchtoldsdorf         Zwingenstr. 5   \n",
       "2  DEUTSCHLAND         1187         dresden   Zwickauer Straße 88   \n",
       "3  DEUTSCHLAND        71083      herrenberg  Zwickauer Strasse 41   \n",
       "4  DEUTSCHLAND         9117        chemnitz  Zwickauer Straße 355   \n",
       "\n",
       "    USt.-IdNr.      ID  Idtrack  \n",
       "0          NaN  801695        1  \n",
       "1          NaN  850801        2  \n",
       "2          NaN  851014        3  \n",
       "3          NaN     NaN        4  \n",
       "4  DE140853999  802541        5  "
      ]
     },
     "execution_count": 31,
     "metadata": {},
     "output_type": "execute_result"
    }
   ],
   "source": [
    "ulist.head()"
   ]
  },
  {
   "cell_type": "code",
   "execution_count": 32,
   "metadata": {},
   "outputs": [],
   "source": [
    "# input 2-5\n",
    "# output 1st column add"
   ]
  },
  {
   "cell_type": "markdown",
   "metadata": {},
   "source": [
    "# Next Steps\n",
    "1. Working on Prefix:\n",
    "      There are ' ' strings (if suffix in the first index of a string get the rest of that string [companyname.split().index(i):]) Done!\n",
    "2. Converting column names and Land (Country) column to English Done!\n",
    "3. Creating a dictionary to map many to one (groupby or duplicates) Working on it... (Before that I want to fill missing city-country pairs so that same companies can be grouped more effectively.)\n",
    "4. Function takes input and returns a unique company name and its' info\n",
    "5. Other datasets"
   ]
  },
  {
   "cell_type": "code",
   "execution_count": 255,
   "metadata": {},
   "outputs": [],
   "source": [
    "# https://raw.githubusercontent.com/shivammathur/countrycity/main/data/geo.json"
   ]
  },
  {
   "cell_type": "markdown",
   "metadata": {},
   "source": [
    "# Questions\n",
    "1. Aktiengesellschaft == AG how to catch it? Should I include Aktiengesellschaft in a list to be removed substring or special rule would be better in this case? (Maybe I can create a dictionary for cases like AG<==>Aktiengesellschaft, but might be difficult to generalize for other acronym-definition pairs.)\n",
    "2. Many countries are missing. It is a problem for finding same companies in the dataset. Should I try to fill them as correct as possible?\n",
    "3. Missing values in country and city columns making it difficult to group same companies. How can I approach these missing entries?"
   ]
  },
  {
   "cell_type": "code",
   "execution_count": null,
   "metadata": {},
   "outputs": [],
   "source": []
  }
 ],
 "metadata": {
  "kernelspec": {
   "display_name": "Python 3",
   "language": "python",
   "name": "python3"
  },
  "language_info": {
   "codemirror_mode": {
    "name": "ipython",
    "version": 3
   },
   "file_extension": ".py",
   "mimetype": "text/x-python",
   "name": "python",
   "nbconvert_exporter": "python",
   "pygments_lexer": "ipython3",
   "version": "3.7.4"
  }
 },
 "nbformat": 4,
 "nbformat_minor": 4
}
