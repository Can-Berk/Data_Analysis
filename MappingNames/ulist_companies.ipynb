{
 "cells": [
  {
   "cell_type": "code",
   "execution_count": 1,
   "metadata": {},
   "outputs": [],
   "source": [
    "import pandas as pd\n",
    "import numpy as np\n",
    "import re\n",
    "from difflib import SequenceMatcher    # https://docs.python.org/3/library/difflib.html#difflib.get_close_matches\n",
    "# from cleanco import cleanco   # would ne useful"
   ]
  },
  {
   "cell_type": "markdown",
   "metadata": {},
   "source": [
    "# Unternehmensliste Interflex"
   ]
  },
  {
   "cell_type": "code",
   "execution_count": 2,
   "metadata": {},
   "outputs": [
    {
     "data": {
      "text/html": [
       "<div>\n",
       "<style scoped>\n",
       "    .dataframe tbody tr th:only-of-type {\n",
       "        vertical-align: middle;\n",
       "    }\n",
       "\n",
       "    .dataframe tbody tr th {\n",
       "        vertical-align: top;\n",
       "    }\n",
       "\n",
       "    .dataframe thead th {\n",
       "        text-align: right;\n",
       "    }\n",
       "</style>\n",
       "<table border=\"1\" class=\"dataframe\">\n",
       "  <thead>\n",
       "    <tr style=\"text-align: right;\">\n",
       "      <th></th>\n",
       "      <th>Firmenname</th>\n",
       "      <th>Land</th>\n",
       "      <th>Postleitzahl</th>\n",
       "      <th>Ort</th>\n",
       "      <th>Straße und Hausnr.</th>\n",
       "      <th>USt.-IdNr.</th>\n",
       "      <th>ID</th>\n",
       "    </tr>\n",
       "  </thead>\n",
       "  <tbody>\n",
       "    <tr>\n",
       "      <td>0</td>\n",
       "      <td>Bistum Essen</td>\n",
       "      <td>Deutschland</td>\n",
       "      <td>45127</td>\n",
       "      <td>Essen</td>\n",
       "      <td>Zwölfling 16</td>\n",
       "      <td>NaN</td>\n",
       "      <td>801695</td>\n",
       "    </tr>\n",
       "    <tr>\n",
       "      <td>1</td>\n",
       "      <td>KBS Kleider Bauer Betriebs-GmbH</td>\n",
       "      <td>Österreich</td>\n",
       "      <td>2380</td>\n",
       "      <td>Perchtoldsdorf</td>\n",
       "      <td>Zwingenstr. 5</td>\n",
       "      <td>NaN</td>\n",
       "      <td>850801</td>\n",
       "    </tr>\n",
       "    <tr>\n",
       "      <td>2</td>\n",
       "      <td>Elektro Ing-Plan GmbH Dresden</td>\n",
       "      <td>Deutschland</td>\n",
       "      <td>1187</td>\n",
       "      <td>Dresden</td>\n",
       "      <td>Zwickauer Straße 88</td>\n",
       "      <td>NaN</td>\n",
       "      <td>851014</td>\n",
       "    </tr>\n",
       "    <tr>\n",
       "      <td>3</td>\n",
       "      <td>Netzdesign-Vobornik</td>\n",
       "      <td>Deutschland</td>\n",
       "      <td>71083</td>\n",
       "      <td>Herrenberg</td>\n",
       "      <td>Zwickauer Strasse 41</td>\n",
       "      <td>NaN</td>\n",
       "      <td>NaN</td>\n",
       "    </tr>\n",
       "    <tr>\n",
       "      <td>4</td>\n",
       "      <td>NILES-SIMMONS Industrieanlagen GmbH</td>\n",
       "      <td>Deutschland</td>\n",
       "      <td>9117</td>\n",
       "      <td>Chemnitz</td>\n",
       "      <td>Zwickauer Straße 355</td>\n",
       "      <td>DE140853999</td>\n",
       "      <td>802541</td>\n",
       "    </tr>\n",
       "  </tbody>\n",
       "</table>\n",
       "</div>"
      ],
      "text/plain": [
       "                            Firmenname         Land Postleitzahl  \\\n",
       "0                         Bistum Essen  Deutschland        45127   \n",
       "1      KBS Kleider Bauer Betriebs-GmbH   Österreich         2380   \n",
       "2        Elektro Ing-Plan GmbH Dresden  Deutschland         1187   \n",
       "3                  Netzdesign-Vobornik  Deutschland        71083   \n",
       "4  NILES-SIMMONS Industrieanlagen GmbH  Deutschland         9117   \n",
       "\n",
       "              Ort    Straße und Hausnr.   USt.-IdNr.      ID  \n",
       "0           Essen          Zwölfling 16          NaN  801695  \n",
       "1  Perchtoldsdorf         Zwingenstr. 5          NaN  850801  \n",
       "2         Dresden   Zwickauer Straße 88          NaN  851014  \n",
       "3      Herrenberg  Zwickauer Strasse 41          NaN     NaN  \n",
       "4        Chemnitz  Zwickauer Straße 355  DE140853999  802541  "
      ]
     },
     "execution_count": 2,
     "metadata": {},
     "output_type": "execute_result"
    }
   ],
   "source": [
    "ulist = pd.read_excel(\"Unternehmensliste_Interflex.xlsx\")\n",
    "ulist.head()"
   ]
  },
  {
   "cell_type": "code",
   "execution_count": 3,
   "metadata": {},
   "outputs": [],
   "source": [
    "ulist = ulist.assign(Idtrack=lambda ulist: range(1, len(ulist)+1))\n",
    "ulist_original = ulist.copy()"
   ]
  },
  {
   "cell_type": "markdown",
   "metadata": {},
   "source": [
    "**Aim is to remove suffix and rest** ==> E.g: Sensient Imaging Technologies GmbH Chemiepark Bitterfeld-Wolfen"
   ]
  },
  {
   "cell_type": "code",
   "execution_count": 4,
   "metadata": {},
   "outputs": [],
   "source": [
    "ulist[\"Firmenname\"] = ulist[\"Firmenname\"].str.lower()   # faster\n",
    "# ulist[ulist['Firmenname'].str.endswith(tuple(suffix_list))] some finishes with gmbh some -gmbh and some even continues"
   ]
  },
  {
   "cell_type": "code",
   "execution_count": 5,
   "metadata": {},
   "outputs": [],
   "source": [
    "# Suffix list for company names   (ordering is important! Will be fixed)\n",
    "suffix_list = ['gmbh', 'gmbh&co.', 'ggmbh', 'gmbh+co.', 'kg-gmbh', 'gmbh&co', 'ltd.', 'se',\n",
    "      'gmbh&co.kg', 'gmbh&cokg', 'gmbh.', 'gmbh,', 'gmbh&c'\n",
    "               'company', 'incorporated', 'corporation', 'corp.', 'corp', 'inc',\n",
    "      '& co.', '& co',  'inc.', 's.p.a.', 'n.v.', 'a.g.', 'ag', 'nuf', 's.a.', 's.f.',\n",
    "      'oao', 'co.', 'co',\n",
    "              'soc.col.', 'stg', 'd.n.o.', 'ltda.', 'v.o.s.', 'a spol.',\n",
    "      u've\\xc5\\x99. obch. spol.', 'kgaa', 'o.e.', 's.f.', 's.n.c.', 's.a.p.a.', 'j.t.d.',\n",
    "      'v.o.f.', 'sp.j.', 'og', 'sd', ' i/s', 'ay', 'snc', 'oe', 'bt.', 's.s.', 'mb',\n",
    "      'ans', 'da', 'o.d.', 'hb', 'pt',\n",
    "              'unltd', 'ultd', 'sal', 'unlimited', 'saog', 'saoc', 'aj',\n",
    "      'yoaj', 'oaj', 'akc. spol.', 'a.s.',\n",
    "              'esv', 'gie', 'kv.', 'qk',\n",
    "              'pty. ltd.', 'pty ltd', 'ltd', 'l.t.d.', 'bvba', 'd.o.o.', 'ltda', 'gmbh',\n",
    "      'g.m.b.h', 'kft.', 'kht.', 'zrt.', 'ehf.', 's.a.r.l.', 'd.o.o.e.l.', 's. de r.l.',\n",
    "      'b.v.', 'tapui',\n",
    "      'sp. z.o.o.', 'sp. z o.o.', 'spółka z o.o.',\n",
    "      's.r.l.', 's.l.', 's.l.n.e.', 'ood', 'oy', 'rt.',\n",
    "      'teo', 'uab', 'scs', 'sprl', 'limited', 'bhd.', 'sdn. bhd.', 'sdn bhd', 'as',\n",
    "      'lda.', 'tov', 'pp',\n",
    "              'pllc', 'llc', 'l.l.c.', 'plc.', 'plc', 'hf.', 'oyj',\n",
    "      'a.e.', 'nyrt.', 'p.l.c.', 'sh.a.', 's.a.', 's.r.l.', 'srl.', 'srl', 'aat', '3at', 'd.d.',\n",
    "      's.r.o.', 'spol. s r.o.', 's.m.b.a.', 'smba', 'sarl', 'nv', 'sa', 'aps',\n",
    "      'a/s', 'p/s', 'sae', 'sasu', 'eurl', 'ae', 'cpt', 'as', 'ab', 'asa', 'ooo', 'dat',\n",
    "      'vat', 'zat', 'mchj', 'a.d.',\n",
    "              'lllp', 'l.l.l.p.',\n",
    "              'llp', 'l.l.p.', 'sp.p.', 's.c.a.', 's.c.s.',\n",
    "              'gmbh & co. kg', 'lp', 'l.p.', 's.c.s.',\n",
    "      's.c.p.a', 'comm.v', 'k.d.', 'k.d.a.', 's. en c.', 'e.e.', 's.a.s.', 's. en c.',\n",
    "      'c.v.', 's.k.a.', 'sp.k.', 's.cra.', 'ky', 'scs', 'kg', 'kd', 'k/s', 'ee', 'secs',\n",
    "      'kda', 'ks', 'kb','kt',\n",
    "              'sicav',\n",
    "              'nl',\n",
    "              'vzw', 'ses.', 'gte.',\n",
    "              'private', 'pte', 'xk',\n",
    "              'p.c.', 'vof', 'snc',\n",
    "              'pllc', 'p.l.l.c.',\n",
    "              'e.u.', 's.p.', 't:mi', 'tmi', 'e.v.', 'e.c.', 'et', 'obrt',\n",
    "      'fie', 'ij', 'fop', 'xt']\n",
    "\n",
    "# Source of company suffices https://github.com/psolin/cleanco/blob/master/cleanco/termdata.py"
   ]
  },
  {
   "cell_type": "code",
   "execution_count": 6,
   "metadata": {},
   "outputs": [],
   "source": [
    "#suffix_list += ['-{}'.format(x) for x in suffix_list]   # add dash symbol in front of suffices\n",
    "#city_names =    # Bistum Essen ==> Bistum?"
   ]
  },
  {
   "cell_type": "code",
   "execution_count": 7,
   "metadata": {},
   "outputs": [],
   "source": [
    "def suffix_remover(companyname):\n",
    "    for i in suffix_list:\n",
    "        #if i in re.split(' |-', companyname):   # doesn't work properly\n",
    "        if i in companyname.split():    # tokenization\n",
    "            return companyname[:companyname.index(i)-1]\n",
    "        elif i in companyname.split('-'):\n",
    "            return companyname[:companyname.index(i)-1]\n",
    "    return companyname"
   ]
  },
  {
   "cell_type": "code",
   "execution_count": 8,
   "metadata": {},
   "outputs": [
    {
     "data": {
      "text/plain": [
       "0                      bistum essen\n",
       "1        kbs kleider bauer betriebs\n",
       "2                  elektro ing-plan\n",
       "3               netzdesign-vobornik\n",
       "4    niles-simmons industrieanlagen\n",
       "Name: Firmenname, dtype: object"
      ]
     },
     "execution_count": 8,
     "metadata": {},
     "output_type": "execute_result"
    }
   ],
   "source": [
    "ulist['Firmenname'] = ulist['Firmenname'].apply(suffix_remover)\n",
    "ulist['Firmenname'].head()"
   ]
  },
  {
   "cell_type": "code",
   "execution_count": 11,
   "metadata": {},
   "outputs": [
    {
     "name": "stdout",
     "output_type": "stream",
     "text": [
      "Remaining suffix as gmbh (most common): 43\n"
     ]
    }
   ],
   "source": [
    "print('Remaining suffix as gmbh (most common):', len(ulist[ulist['Firmenname'].str.contains('gmbh')]))"
   ]
  },
  {
   "cell_type": "code",
   "execution_count": 12,
   "metadata": {},
   "outputs": [],
   "source": [
    "#[x for x in ulist['Firmenname'] if any(i in x for i in suffix_list)]\n",
    "\n",
    "# https://stackoverflow.com/questions/4843158/how-to-check-if-a-string-is-a-substring-of-items-in-a-list-of-strings\n",
    "\n",
    "# def remafterellipsis(text):\n",
    "#     for i in suffix_list:\n",
    "#         wher = text.find(i)\n",
    "#         if wher != -1:\n",
    "#             #print(i)\n",
    "#             #print(text[:wher])\n",
    "#             return text[:wher]\n",
    "#     return text\n",
    "# \n",
    "# ulist['Firmenname'].apply(remafterellipsis)"
   ]
  },
  {
   "cell_type": "code",
   "execution_count": 13,
   "metadata": {},
   "outputs": [
    {
     "data": {
      "text/plain": [
       "15"
      ]
     },
     "execution_count": 13,
     "metadata": {},
     "output_type": "execute_result"
    }
   ],
   "source": [
    "ulist.iloc[:,:-1].duplicated().sum() \n",
    "#need to remove Idtracker column to find duplicates because it increments for each entry"
   ]
  },
  {
   "cell_type": "code",
   "execution_count": 14,
   "metadata": {},
   "outputs": [
    {
     "data": {
      "text/plain": [
       "Firmenname            13548\n",
       "Land                     73\n",
       "Postleitzahl           4946\n",
       "Ort                    4239\n",
       "Straße und Hausnr.    12702\n",
       "USt.-IdNr.             4427\n",
       "ID                    10852\n",
       "Idtrack               14550\n",
       "dtype: int64"
      ]
     },
     "execution_count": 14,
     "metadata": {},
     "output_type": "execute_result"
    }
   ],
   "source": [
    "ulist.nunique()"
   ]
  },
  {
   "cell_type": "code",
   "execution_count": 15,
   "metadata": {},
   "outputs": [
    {
     "name": "stdout",
     "output_type": "stream",
     "text": [
      "<class 'pandas.core.frame.DataFrame'>\n",
      "RangeIndex: 14550 entries, 0 to 14549\n",
      "Data columns (total 8 columns):\n",
      "Firmenname            14550 non-null object\n",
      "Land                  13477 non-null object\n",
      "Postleitzahl          14238 non-null object\n",
      "Ort                   13902 non-null object\n",
      "Straße und Hausnr.    14111 non-null object\n",
      "USt.-IdNr.            4849 non-null object\n",
      "ID                    10875 non-null object\n",
      "Idtrack               14550 non-null int32\n",
      "dtypes: int32(1), object(7)\n",
      "memory usage: 852.7+ KB\n"
     ]
    }
   ],
   "source": [
    "ulist.info()"
   ]
  },
  {
   "cell_type": "code",
   "execution_count": 16,
   "metadata": {},
   "outputs": [],
   "source": [
    "ulist = (\n",
    "    ulist\n",
    "        .assign(\n",
    "            Land=ulist['Land'].astype('category'),\n",
    "            # Postleitzahl=ulist['Postleitzahl'].astype('Int64'),\n",
    "            # ID=ulist['ID'].astype('Int64')   # not working\n",
    "        )   # .info()\n",
    ")"
   ]
  },
  {
   "cell_type": "code",
   "execution_count": 17,
   "metadata": {},
   "outputs": [
    {
     "name": "stdout",
     "output_type": "stream",
     "text": [
      "<class 'pandas.core.frame.DataFrame'>\n",
      "RangeIndex: 14550 entries, 0 to 14549\n",
      "Data columns (total 8 columns):\n",
      "Firmenname            14550 non-null object\n",
      "Land                  13477 non-null category\n",
      "Postleitzahl          14238 non-null object\n",
      "Ort                   13902 non-null object\n",
      "Straße und Hausnr.    14111 non-null object\n",
      "USt.-IdNr.            4849 non-null object\n",
      "ID                    10875 non-null object\n",
      "Idtrack               14550 non-null int32\n",
      "dtypes: category(1), int32(1), object(6)\n",
      "memory usage: 756.3+ KB\n"
     ]
    }
   ],
   "source": [
    "ulist.info()"
   ]
  },
  {
   "cell_type": "code",
   "execution_count": 18,
   "metadata": {},
   "outputs": [],
   "source": [
    "# pipeline\n",
    "# ulist.duplicated().sum()   # remove duplicated rows in the dataframe\n",
    "ulist[\"Firmenname\"] = ulist[\"Firmenname\"].str.lower()   # faster\n",
    "ulist[\"Firmenname\"] = ulist[\"Firmenname\"].str.replace('\\W', '')      # special characters are removed\n",
    "ulist[\"Land\"] = ulist[\"Land\"].str.upper()\n",
    "ulist[\"Land\"] = ulist[\"Land\"].str.replace('\\W', '').astype('category')\n",
    "ulist[\"Ort\"] = ulist[\"Ort\"].str.lower()\n",
    "ulist[\"Ort\"] = ulist[\"Ort\"].str.replace('\\W', '')\n",
    "ulist['USt.-IdNr.'] = ulist['USt.-IdNr.'].str.replace(\" \",\"\")        # white space removed\n",
    "ulist['ID'] = ulist['ID'].astype('str').str.replace('[^0-9]', '')    # ID with only numbers\n",
    "# ulist['ID'] = ulist['ID'].astype('str').replace(r'\\D+', '', regex=True)\n",
    "ulist['ID'] = ulist['ID'].replace(r'^\\s*$', np.NaN, regex=True)      # to keep missing values instead of empty strings"
   ]
  },
  {
   "cell_type": "code",
   "execution_count": 19,
   "metadata": {},
   "outputs": [],
   "source": [
    "# a = list(set(ulist[ulist.loc[:,['Firmenname', 'Land', 'Ort']].duplicated()].index) - set(ulist[ulist.loc[:,['Firmenname', 'Land', 'Postleitzahl', 'Ort']].duplicated()].index))\n",
    "# a.sort()\n",
    "# ulist.loc[a]"
   ]
  },
  {
   "cell_type": "code",
   "execution_count": 20,
   "metadata": {},
   "outputs": [],
   "source": [
    "# moved NA of 'USt.-IdNr.' and 'ID' columns to bottom of df so that rows with more NA's will be removed because they are at the bottom.\n",
    "sorted_duplicates = ulist.sort_values(by=[\"USt.-IdNr.\", \"ID\"], na_position='last')      # move NAs to the bottom of the df\n",
    "ulist = sorted_duplicates.drop_duplicates(subset=[\"Firmenname\", \"Land\", \"Ort\"],\n",
    "                                     keep=\"first\").sort_index().reset_index(drop=True)  # drop duplicates"
   ]
  },
  {
   "cell_type": "code",
   "execution_count": 21,
   "metadata": {},
   "outputs": [
    {
     "data": {
      "text/html": [
       "<div>\n",
       "<style scoped>\n",
       "    .dataframe tbody tr th:only-of-type {\n",
       "        vertical-align: middle;\n",
       "    }\n",
       "\n",
       "    .dataframe tbody tr th {\n",
       "        vertical-align: top;\n",
       "    }\n",
       "\n",
       "    .dataframe thead th {\n",
       "        text-align: right;\n",
       "    }\n",
       "</style>\n",
       "<table border=\"1\" class=\"dataframe\">\n",
       "  <thead>\n",
       "    <tr style=\"text-align: right;\">\n",
       "      <th></th>\n",
       "      <th>Firmenname</th>\n",
       "      <th>Land</th>\n",
       "      <th>Postleitzahl</th>\n",
       "      <th>Ort</th>\n",
       "      <th>Straße und Hausnr.</th>\n",
       "      <th>USt.-IdNr.</th>\n",
       "      <th>ID</th>\n",
       "      <th>Idtrack</th>\n",
       "    </tr>\n",
       "  </thead>\n",
       "  <tbody>\n",
       "    <tr>\n",
       "      <td>24</td>\n",
       "      <td>rweissmaschinenbau</td>\n",
       "      <td>DEUTSCHLAND</td>\n",
       "      <td>74564</td>\n",
       "      <td>crailsheim</td>\n",
       "      <td>ZUR FLÜGELAU 28-30</td>\n",
       "      <td>DE190976983</td>\n",
       "      <td>181817</td>\n",
       "      <td>26</td>\n",
       "    </tr>\n",
       "    <tr>\n",
       "      <td>25</td>\n",
       "      <td>rweissautomation</td>\n",
       "      <td>DEUTSCHLAND</td>\n",
       "      <td>74564</td>\n",
       "      <td>crailsheim</td>\n",
       "      <td>ZUR FLÜGELAU 28</td>\n",
       "      <td>NaN</td>\n",
       "      <td>803402</td>\n",
       "      <td>28</td>\n",
       "    </tr>\n",
       "  </tbody>\n",
       "</table>\n",
       "</div>"
      ],
      "text/plain": [
       "            Firmenname         Land Postleitzahl         Ort  \\\n",
       "24  rweissmaschinenbau  DEUTSCHLAND        74564  crailsheim   \n",
       "25    rweissautomation  DEUTSCHLAND        74564  crailsheim   \n",
       "\n",
       "      Straße und Hausnr.   USt.-IdNr.      ID  Idtrack  \n",
       "24  ZUR FLÜGELAU 28-30    DE190976983  181817       26  \n",
       "25       ZUR FLÜGELAU 28          NaN  803402       28  "
      ]
     },
     "execution_count": 21,
     "metadata": {},
     "output_type": "execute_result"
    }
   ],
   "source": [
    "ulist[ulist[\"Firmenname\"].str.startswith('rweiss')]   # Actually both belongs to R.WEISS Packaging GmbH & Co. KG"
   ]
  },
  {
   "cell_type": "code",
   "execution_count": 22,
   "metadata": {},
   "outputs": [
    {
     "data": {
      "text/plain": [
       "13992"
      ]
     },
     "execution_count": 22,
     "metadata": {},
     "output_type": "execute_result"
    }
   ],
   "source": [
    "len(ulist)   # it was 14090 without removing suffices"
   ]
  },
  {
   "cell_type": "code",
   "execution_count": 25,
   "metadata": {},
   "outputs": [],
   "source": [
    "middle = ['stiftung', 'holding']    # can be found in the middle of a company name   .str.contains()"
   ]
  },
  {
   "cell_type": "code",
   "execution_count": 24,
   "metadata": {},
   "outputs": [],
   "source": [
    "# sintmaartenskliniek   # city different but everything else same"
   ]
  },
  {
   "cell_type": "code",
   "execution_count": 29,
   "metadata": {},
   "outputs": [
    {
     "data": {
      "text/html": [
       "<div>\n",
       "<style scoped>\n",
       "    .dataframe tbody tr th:only-of-type {\n",
       "        vertical-align: middle;\n",
       "    }\n",
       "\n",
       "    .dataframe tbody tr th {\n",
       "        vertical-align: top;\n",
       "    }\n",
       "\n",
       "    .dataframe thead th {\n",
       "        text-align: right;\n",
       "    }\n",
       "</style>\n",
       "<table border=\"1\" class=\"dataframe\">\n",
       "  <thead>\n",
       "    <tr style=\"text-align: right;\">\n",
       "      <th></th>\n",
       "      <th>Firmenname</th>\n",
       "      <th>Land</th>\n",
       "      <th>Postleitzahl</th>\n",
       "      <th>Ort</th>\n",
       "      <th>Straße und Hausnr.</th>\n",
       "      <th>USt.-IdNr.</th>\n",
       "      <th>ID</th>\n",
       "      <th>Idtrack</th>\n",
       "    </tr>\n",
       "  </thead>\n",
       "  <tbody>\n",
       "    <tr>\n",
       "      <td>97</td>\n",
       "      <td>qsgmbhgenthin</td>\n",
       "      <td>DEUTSCHLAND</td>\n",
       "      <td>39307</td>\n",
       "      <td>genthin</td>\n",
       "      <td>Ziegeleistr. 56</td>\n",
       "      <td>DE139333681</td>\n",
       "      <td>150616</td>\n",
       "      <td>103</td>\n",
       "    </tr>\n",
       "    <tr>\n",
       "      <td>155</td>\n",
       "      <td>gfvgesellschaftfürvermögensverwaltungmbh</td>\n",
       "      <td>DEUTSCHLAND</td>\n",
       "      <td>45096</td>\n",
       "      <td>essen</td>\n",
       "      <td>Zentraler Rechnungseingang</td>\n",
       "      <td>NaN</td>\n",
       "      <td>804621</td>\n",
       "      <td>162</td>\n",
       "    </tr>\n",
       "    <tr>\n",
       "      <td>182</td>\n",
       "      <td>msgmbhbereichmanagement</td>\n",
       "      <td>DEUTSCHLAND</td>\n",
       "      <td>9130</td>\n",
       "      <td>chemnitz</td>\n",
       "      <td>Zeisigwaldstraße 101</td>\n",
       "      <td>NaN</td>\n",
       "      <td>160399</td>\n",
       "      <td>190</td>\n",
       "    </tr>\n",
       "    <tr>\n",
       "      <td>299</td>\n",
       "      <td>operationalservicesgmbh</td>\n",
       "      <td>DEUTSCHLAND</td>\n",
       "      <td>1307</td>\n",
       "      <td>NaN</td>\n",
       "      <td>Wintergartenstraße 4</td>\n",
       "      <td>NaN</td>\n",
       "      <td>141099</td>\n",
       "      <td>312</td>\n",
       "    </tr>\n",
       "    <tr>\n",
       "      <td>536</td>\n",
       "      <td>technimarkeisbärgmbhkunststoffundmetallverarb</td>\n",
       "      <td>DEUTSCHLAND</td>\n",
       "      <td>52477</td>\n",
       "      <td>NaN</td>\n",
       "      <td>Werner-von-Siemens-Straße 7-9</td>\n",
       "      <td>NaN</td>\n",
       "      <td>120800</td>\n",
       "      <td>555</td>\n",
       "    </tr>\n",
       "    <tr>\n",
       "      <td>...</td>\n",
       "      <td>...</td>\n",
       "      <td>...</td>\n",
       "      <td>...</td>\n",
       "      <td>...</td>\n",
       "      <td>...</td>\n",
       "      <td>...</td>\n",
       "      <td>...</td>\n",
       "      <td>...</td>\n",
       "    </tr>\n",
       "    <tr>\n",
       "      <td>11898</td>\n",
       "      <td>zevzwickauerenergieversgmbh</td>\n",
       "      <td>DEUTSCHLAND</td>\n",
       "      <td>8056</td>\n",
       "      <td>zwickau</td>\n",
       "      <td>Bahnhofstraße 4</td>\n",
       "      <td>DE141379256</td>\n",
       "      <td>802588</td>\n",
       "      <td>12385</td>\n",
       "    </tr>\n",
       "    <tr>\n",
       "      <td>12379</td>\n",
       "      <td>altmannböhninggmbhniederlassungdresden</td>\n",
       "      <td>DEUTSCHLAND</td>\n",
       "      <td>1458</td>\n",
       "      <td>NaN</td>\n",
       "      <td>An den Schindertannen 4</td>\n",
       "      <td>NaN</td>\n",
       "      <td>141001</td>\n",
       "      <td>12883</td>\n",
       "    </tr>\n",
       "    <tr>\n",
       "      <td>12842</td>\n",
       "      <td>erzgebirgsklinikumggmbhhauszschopau</td>\n",
       "      <td>DEUTSCHLAND</td>\n",
       "      <td>9405</td>\n",
       "      <td>zschopau</td>\n",
       "      <td>Alte Marienberger Str. 52</td>\n",
       "      <td>NaN</td>\n",
       "      <td>850387</td>\n",
       "      <td>13358</td>\n",
       "    </tr>\n",
       "    <tr>\n",
       "      <td>12968</td>\n",
       "      <td>sigmagrundstücksundverwaltungsgmbhvertretendur...</td>\n",
       "      <td>DEUTSCHLAND</td>\n",
       "      <td>82027</td>\n",
       "      <td>grünwald</td>\n",
       "      <td>Albert Immobilienverw.Ges.mbH</td>\n",
       "      <td>NaN</td>\n",
       "      <td>171092</td>\n",
       "      <td>13494</td>\n",
       "    </tr>\n",
       "    <tr>\n",
       "      <td>13083</td>\n",
       "      <td>idgmbh</td>\n",
       "      <td>DEUTSCHLAND</td>\n",
       "      <td>50969</td>\n",
       "      <td>köln</td>\n",
       "      <td>Abt. BWS-RW</td>\n",
       "      <td>DE811850000</td>\n",
       "      <td>121908</td>\n",
       "      <td>13613</td>\n",
       "    </tr>\n",
       "  </tbody>\n",
       "</table>\n",
       "<p>75 rows × 8 columns</p>\n",
       "</div>"
      ],
      "text/plain": [
       "                                              Firmenname         Land  \\\n",
       "97                                         qsgmbhgenthin  DEUTSCHLAND   \n",
       "155             gfvgesellschaftfürvermögensverwaltungmbh  DEUTSCHLAND   \n",
       "182                              msgmbhbereichmanagement  DEUTSCHLAND   \n",
       "299                              operationalservicesgmbh  DEUTSCHLAND   \n",
       "536        technimarkeisbärgmbhkunststoffundmetallverarb  DEUTSCHLAND   \n",
       "...                                                  ...          ...   \n",
       "11898                        zevzwickauerenergieversgmbh  DEUTSCHLAND   \n",
       "12379             altmannböhninggmbhniederlassungdresden  DEUTSCHLAND   \n",
       "12842                erzgebirgsklinikumggmbhhauszschopau  DEUTSCHLAND   \n",
       "12968  sigmagrundstücksundverwaltungsgmbhvertretendur...  DEUTSCHLAND   \n",
       "13083                                             idgmbh  DEUTSCHLAND   \n",
       "\n",
       "      Postleitzahl       Ort             Straße und Hausnr.   USt.-IdNr.  \\\n",
       "97           39307   genthin                Ziegeleistr. 56  DE139333681   \n",
       "155          45096     essen     Zentraler Rechnungseingang          NaN   \n",
       "182           9130  chemnitz         Zeisigwaldstraße 101            NaN   \n",
       "299           1307       NaN           Wintergartenstraße 4          NaN   \n",
       "536          52477       NaN  Werner-von-Siemens-Straße 7-9          NaN   \n",
       "...            ...       ...                            ...          ...   \n",
       "11898         8056   zwickau                Bahnhofstraße 4  DE141379256   \n",
       "12379         1458       NaN        An den Schindertannen 4          NaN   \n",
       "12842         9405  zschopau      Alte Marienberger Str. 52          NaN   \n",
       "12968        82027  grünwald  Albert Immobilienverw.Ges.mbH          NaN   \n",
       "13083        50969      köln                    Abt. BWS-RW  DE811850000   \n",
       "\n",
       "           ID  Idtrack  \n",
       "97     150616      103  \n",
       "155    804621      162  \n",
       "182    160399      190  \n",
       "299    141099      312  \n",
       "536    120800      555  \n",
       "...       ...      ...  \n",
       "11898  802588    12385  \n",
       "12379  141001    12883  \n",
       "12842  850387    13358  \n",
       "12968  171092    13494  \n",
       "13083  121908    13613  \n",
       "\n",
       "[75 rows x 8 columns]"
      ]
     },
     "execution_count": 29,
     "metadata": {},
     "output_type": "execute_result"
    }
   ],
   "source": [
    "ulist[ulist['Firmenname'].str.contains('gmbh')]"
   ]
  },
  {
   "cell_type": "markdown",
   "metadata": {},
   "source": [
    "Next step is grouping duplicated entries within a unique company name. Then applying same methods to companies from other data sets. First, removing suffices and then searching duplicated companies in company name, country and city columns. My goal is to decrease the size of data sets by removing duplicates. After that, I will append remaining unique company names to a final dataframe or a dictionary. Later, I can come back and group the duplicated ones for each unique company and create a many-to-one mapping function.\n",
    "\n",
    "At the end, inputing a company name will return a unique company name (+information too like country, city, revenue?) based on grouping same companies with varying names and a rule-based approach.\n",
    "\n",
    "For example:\n",
    "Input (Volkswagen) ==> Volkswagen AG   based on suffix (adding suffix and searching)\n",
    "\n",
    "Input (Volkswagen Aktiengesellschaft) ==> Volkswagen AG    (based on grouping same companies)\n",
    "\n",
    "Input (VW) ==> Volkswagen AG   based on a rule"
   ]
  },
  {
   "cell_type": "code",
   "execution_count": 38,
   "metadata": {},
   "outputs": [],
   "source": [
    "#ulist[ulist['Firmenname'].str.contains('volkswagen')]"
   ]
  },
  {
   "cell_type": "markdown",
   "metadata": {},
   "source": [
    "# My questions so far\n",
    "1. This dataset includes mostly German companies, while other datasets have no German companies. So, there will be mostly one-to-one mapping from this dataset. Is it normal or are there companies from other datasets to be matched with this dataset even though they are in different countries?\n",
    "2. Country names are in German in this dataset. Should I convert them to English?\n",
    "3. Are USt.-IdNr. and ID columns in this dataset important? Or they will be dropped?\n",
    "4. What should many-to-one function return along with a company name? Country, city etc?"
   ]
  },
  {
   "cell_type": "code",
   "execution_count": null,
   "metadata": {},
   "outputs": [],
   "source": []
  }
 ],
 "metadata": {
  "kernelspec": {
   "display_name": "Python 3",
   "language": "python",
   "name": "python3"
  },
  "language_info": {
   "codemirror_mode": {
    "name": "ipython",
    "version": 3
   },
   "file_extension": ".py",
   "mimetype": "text/x-python",
   "name": "python",
   "nbconvert_exporter": "python",
   "pygments_lexer": "ipython3",
   "version": "3.7.4"
  }
 },
 "nbformat": 4,
 "nbformat_minor": 4
}
