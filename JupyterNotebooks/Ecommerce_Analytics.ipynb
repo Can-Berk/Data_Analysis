{
  "cells": [
    {
      "cell_type": "markdown",
      "metadata": {
        "id": "7YHiPp4Lc3td"
      },
      "source": [
        "# E-commerce Data Analysis\n",
        "\n",
        "1. **EDA and preprocessing:** E-commerce dataset will be analyzed and processed for next steps.\n",
        "2. **Cohort and Retention Analysis:** Conduct cohort analysis and find out monthly retention rates.\n",
        "3. **RFM:** Customers of an online retailer will be classified into clusters based on transactions over a year.\n",
        "4. **CLTV:** Find out expected transactions, revenues from customers and their lifetime values to the retailer.\n",
        "5. **Time-series analysis:** Forecasting revenue for next month."
      ]
    },
    {
      "cell_type": "code",
      "execution_count": 1,
      "metadata": {
        "id": "lHxIERs5c3tl"
      },
      "outputs": [],
      "source": [
        "import pandas as pd\n",
        "import numpy as np\n",
        "import matplotlib.pyplot as plt\n",
        "%matplotlib inline\n",
        "# from datetime import datetime, timedelta\n",
        "\n",
        "import datetime as dt\n",
        "import seaborn as sns"
      ]
    },
    {
      "cell_type": "markdown",
      "metadata": {
        "id": "HlVF3YQec3tm"
      },
      "source": [
        "# 1. Data Preprocessing and Exploration"
      ]
    },
    {
      "cell_type": "code",
      "execution_count": 2,
      "metadata": {
        "colab": {
          "base_uri": "https://localhost:8080/",
          "height": 380
        },
        "id": "G8OT_ngVc3tn",
        "outputId": "5712685c-a00b-4619-a2d7-e558cc3118d2"
      },
      "outputs": [
        {
          "output_type": "stream",
          "name": "stdout",
          "text": [
            "(541909, 8)\n",
            "InvoiceNo       object\n",
            "StockCode       object\n",
            "Description     object\n",
            "Quantity         int64\n",
            "InvoiceDate     object\n",
            "UnitPrice      float64\n",
            "CustomerID     float64\n",
            "Country         object\n",
            "dtype: object\n"
          ]
        },
        {
          "output_type": "execute_result",
          "data": {
            "text/plain": [
              "  InvoiceNo StockCode                          Description  Quantity  \\\n",
              "0    536365    85123A   WHITE HANGING HEART T-LIGHT HOLDER         6   \n",
              "1    536365     71053                  WHITE METAL LANTERN         6   \n",
              "2    536365    84406B       CREAM CUPID HEARTS COAT HANGER         8   \n",
              "3    536365    84029G  KNITTED UNION FLAG HOT WATER BOTTLE         6   \n",
              "4    536365    84029E       RED WOOLLY HOTTIE WHITE HEART.         6   \n",
              "\n",
              "      InvoiceDate  UnitPrice  CustomerID         Country  \n",
              "0  12/1/2010 8:26       2.55     17850.0  United Kingdom  \n",
              "1  12/1/2010 8:26       3.39     17850.0  United Kingdom  \n",
              "2  12/1/2010 8:26       2.75     17850.0  United Kingdom  \n",
              "3  12/1/2010 8:26       3.39     17850.0  United Kingdom  \n",
              "4  12/1/2010 8:26       3.39     17850.0  United Kingdom  "
            ],
            "text/html": [
              "\n",
              "  <div id=\"df-48f7c209-8c46-4d40-87a7-de4cee26bca0\">\n",
              "    <div class=\"colab-df-container\">\n",
              "      <div>\n",
              "<style scoped>\n",
              "    .dataframe tbody tr th:only-of-type {\n",
              "        vertical-align: middle;\n",
              "    }\n",
              "\n",
              "    .dataframe tbody tr th {\n",
              "        vertical-align: top;\n",
              "    }\n",
              "\n",
              "    .dataframe thead th {\n",
              "        text-align: right;\n",
              "    }\n",
              "</style>\n",
              "<table border=\"1\" class=\"dataframe\">\n",
              "  <thead>\n",
              "    <tr style=\"text-align: right;\">\n",
              "      <th></th>\n",
              "      <th>InvoiceNo</th>\n",
              "      <th>StockCode</th>\n",
              "      <th>Description</th>\n",
              "      <th>Quantity</th>\n",
              "      <th>InvoiceDate</th>\n",
              "      <th>UnitPrice</th>\n",
              "      <th>CustomerID</th>\n",
              "      <th>Country</th>\n",
              "    </tr>\n",
              "  </thead>\n",
              "  <tbody>\n",
              "    <tr>\n",
              "      <th>0</th>\n",
              "      <td>536365</td>\n",
              "      <td>85123A</td>\n",
              "      <td>WHITE HANGING HEART T-LIGHT HOLDER</td>\n",
              "      <td>6</td>\n",
              "      <td>12/1/2010 8:26</td>\n",
              "      <td>2.55</td>\n",
              "      <td>17850.0</td>\n",
              "      <td>United Kingdom</td>\n",
              "    </tr>\n",
              "    <tr>\n",
              "      <th>1</th>\n",
              "      <td>536365</td>\n",
              "      <td>71053</td>\n",
              "      <td>WHITE METAL LANTERN</td>\n",
              "      <td>6</td>\n",
              "      <td>12/1/2010 8:26</td>\n",
              "      <td>3.39</td>\n",
              "      <td>17850.0</td>\n",
              "      <td>United Kingdom</td>\n",
              "    </tr>\n",
              "    <tr>\n",
              "      <th>2</th>\n",
              "      <td>536365</td>\n",
              "      <td>84406B</td>\n",
              "      <td>CREAM CUPID HEARTS COAT HANGER</td>\n",
              "      <td>8</td>\n",
              "      <td>12/1/2010 8:26</td>\n",
              "      <td>2.75</td>\n",
              "      <td>17850.0</td>\n",
              "      <td>United Kingdom</td>\n",
              "    </tr>\n",
              "    <tr>\n",
              "      <th>3</th>\n",
              "      <td>536365</td>\n",
              "      <td>84029G</td>\n",
              "      <td>KNITTED UNION FLAG HOT WATER BOTTLE</td>\n",
              "      <td>6</td>\n",
              "      <td>12/1/2010 8:26</td>\n",
              "      <td>3.39</td>\n",
              "      <td>17850.0</td>\n",
              "      <td>United Kingdom</td>\n",
              "    </tr>\n",
              "    <tr>\n",
              "      <th>4</th>\n",
              "      <td>536365</td>\n",
              "      <td>84029E</td>\n",
              "      <td>RED WOOLLY HOTTIE WHITE HEART.</td>\n",
              "      <td>6</td>\n",
              "      <td>12/1/2010 8:26</td>\n",
              "      <td>3.39</td>\n",
              "      <td>17850.0</td>\n",
              "      <td>United Kingdom</td>\n",
              "    </tr>\n",
              "  </tbody>\n",
              "</table>\n",
              "</div>\n",
              "      <button class=\"colab-df-convert\" onclick=\"convertToInteractive('df-48f7c209-8c46-4d40-87a7-de4cee26bca0')\"\n",
              "              title=\"Convert this dataframe to an interactive table.\"\n",
              "              style=\"display:none;\">\n",
              "        \n",
              "  <svg xmlns=\"http://www.w3.org/2000/svg\" height=\"24px\"viewBox=\"0 0 24 24\"\n",
              "       width=\"24px\">\n",
              "    <path d=\"M0 0h24v24H0V0z\" fill=\"none\"/>\n",
              "    <path d=\"M18.56 5.44l.94 2.06.94-2.06 2.06-.94-2.06-.94-.94-2.06-.94 2.06-2.06.94zm-11 1L8.5 8.5l.94-2.06 2.06-.94-2.06-.94L8.5 2.5l-.94 2.06-2.06.94zm10 10l.94 2.06.94-2.06 2.06-.94-2.06-.94-.94-2.06-.94 2.06-2.06.94z\"/><path d=\"M17.41 7.96l-1.37-1.37c-.4-.4-.92-.59-1.43-.59-.52 0-1.04.2-1.43.59L10.3 9.45l-7.72 7.72c-.78.78-.78 2.05 0 2.83L4 21.41c.39.39.9.59 1.41.59.51 0 1.02-.2 1.41-.59l7.78-7.78 2.81-2.81c.8-.78.8-2.07 0-2.86zM5.41 20L4 18.59l7.72-7.72 1.47 1.35L5.41 20z\"/>\n",
              "  </svg>\n",
              "      </button>\n",
              "      \n",
              "  <style>\n",
              "    .colab-df-container {\n",
              "      display:flex;\n",
              "      flex-wrap:wrap;\n",
              "      gap: 12px;\n",
              "    }\n",
              "\n",
              "    .colab-df-convert {\n",
              "      background-color: #E8F0FE;\n",
              "      border: none;\n",
              "      border-radius: 50%;\n",
              "      cursor: pointer;\n",
              "      display: none;\n",
              "      fill: #1967D2;\n",
              "      height: 32px;\n",
              "      padding: 0 0 0 0;\n",
              "      width: 32px;\n",
              "    }\n",
              "\n",
              "    .colab-df-convert:hover {\n",
              "      background-color: #E2EBFA;\n",
              "      box-shadow: 0px 1px 2px rgba(60, 64, 67, 0.3), 0px 1px 3px 1px rgba(60, 64, 67, 0.15);\n",
              "      fill: #174EA6;\n",
              "    }\n",
              "\n",
              "    [theme=dark] .colab-df-convert {\n",
              "      background-color: #3B4455;\n",
              "      fill: #D2E3FC;\n",
              "    }\n",
              "\n",
              "    [theme=dark] .colab-df-convert:hover {\n",
              "      background-color: #434B5C;\n",
              "      box-shadow: 0px 1px 3px 1px rgba(0, 0, 0, 0.15);\n",
              "      filter: drop-shadow(0px 1px 2px rgba(0, 0, 0, 0.3));\n",
              "      fill: #FFFFFF;\n",
              "    }\n",
              "  </style>\n",
              "\n",
              "      <script>\n",
              "        const buttonEl =\n",
              "          document.querySelector('#df-48f7c209-8c46-4d40-87a7-de4cee26bca0 button.colab-df-convert');\n",
              "        buttonEl.style.display =\n",
              "          google.colab.kernel.accessAllowed ? 'block' : 'none';\n",
              "\n",
              "        async function convertToInteractive(key) {\n",
              "          const element = document.querySelector('#df-48f7c209-8c46-4d40-87a7-de4cee26bca0');\n",
              "          const dataTable =\n",
              "            await google.colab.kernel.invokeFunction('convertToInteractive',\n",
              "                                                     [key], {});\n",
              "          if (!dataTable) return;\n",
              "\n",
              "          const docLinkHtml = 'Like what you see? Visit the ' +\n",
              "            '<a target=\"_blank\" href=https://colab.research.google.com/notebooks/data_table.ipynb>data table notebook</a>'\n",
              "            + ' to learn more about interactive tables.';\n",
              "          element.innerHTML = '';\n",
              "          dataTable['output_type'] = 'display_data';\n",
              "          await google.colab.output.renderOutput(dataTable, element);\n",
              "          const docLink = document.createElement('div');\n",
              "          docLink.innerHTML = docLinkHtml;\n",
              "          element.appendChild(docLink);\n",
              "        }\n",
              "      </script>\n",
              "    </div>\n",
              "  </div>\n",
              "  "
            ]
          },
          "metadata": {},
          "execution_count": 2
        }
      ],
      "source": [
        "data = pd.read_csv(\"https://raw.githubusercontent.com/Can-Berk/Data_Analysis/main/Datasets/uk_retailer_data.csv\", encoding= 'unicode_escape')\n",
        "print(data.shape)\n",
        "print(data.dtypes)\n",
        "data.head()"
      ]
    },
    {
      "cell_type": "markdown",
      "metadata": {
        "id": "cwM1qynuc3to"
      },
      "source": [
        "Dataset contains of 541,909 transactions and each rows contains information on transaction details.\n",
        "\n",
        "    -InvoiceNo is a nominal 6 digit feature that comes from a single purchase. Starting with 'C' stands for cancelled order.\n",
        "    -StockCode is a nominal distinct product code.\n",
        "    -Description is a nominal product name.\n",
        "    -Quantity is a numeric feature that shows how many of any given product purchased in the order.\n",
        "    -InvoiceDate shows the transaction date and time.\n",
        "    -UnitPrice is a numeric feature that stands for price of item\n",
        "    -CustomerID is a nominal distinct customer code.\n",
        "    -Country is a nominal feature that shows country of customer."
      ]
    },
    {
      "cell_type": "markdown",
      "metadata": {
        "id": "2zjHhWUdc3tp"
      },
      "source": [
        "Invoice date should be datetime type."
      ]
    },
    {
      "cell_type": "code",
      "execution_count": 3,
      "metadata": {
        "id": "5uMCPLeYc3tr"
      },
      "outputs": [],
      "source": [
        "data['InvoiceDate'] = pd.to_datetime(data['InvoiceDate'], format=\"%m/%d/%Y %H:%M\").dt.date"
      ]
    },
    {
      "cell_type": "code",
      "execution_count": 4,
      "metadata": {
        "colab": {
          "base_uri": "https://localhost:8080/"
        },
        "id": "gosrypt9c3tr",
        "outputId": "b5f77faa-0fd9-4032-b586-fad42658f2d9"
      },
      "outputs": [
        {
          "output_type": "stream",
          "name": "stdout",
          "text": [
            "Starting Date: 2010-12-01\n",
            "Last Date: 2011-12-09\n"
          ]
        }
      ],
      "source": [
        "print(\"Starting Date: {}\\nLast Date: {}\".format(data['InvoiceDate'].min(), data['InvoiceDate'].max()))"
      ]
    },
    {
      "cell_type": "code",
      "execution_count": 5,
      "metadata": {
        "colab": {
          "base_uri": "https://localhost:8080/",
          "height": 300
        },
        "id": "D2Q3CkyCc3tt",
        "outputId": "06d54b18-fd40-4933-8bc3-c0e3c61df863"
      },
      "outputs": [
        {
          "output_type": "execute_result",
          "data": {
            "text/plain": [
              "            Quantity      UnitPrice     CustomerID\n",
              "count  541909.000000  541909.000000  406829.000000\n",
              "mean        9.552250       4.611114   15287.690570\n",
              "std       218.081158      96.759853    1713.600303\n",
              "min    -80995.000000  -11062.060000   12346.000000\n",
              "25%         1.000000       1.250000   13953.000000\n",
              "50%         3.000000       2.080000   15152.000000\n",
              "75%        10.000000       4.130000   16791.000000\n",
              "max     80995.000000   38970.000000   18287.000000"
            ],
            "text/html": [
              "\n",
              "  <div id=\"df-be851e0b-3f77-4e64-84d1-7cfbb7120d31\">\n",
              "    <div class=\"colab-df-container\">\n",
              "      <div>\n",
              "<style scoped>\n",
              "    .dataframe tbody tr th:only-of-type {\n",
              "        vertical-align: middle;\n",
              "    }\n",
              "\n",
              "    .dataframe tbody tr th {\n",
              "        vertical-align: top;\n",
              "    }\n",
              "\n",
              "    .dataframe thead th {\n",
              "        text-align: right;\n",
              "    }\n",
              "</style>\n",
              "<table border=\"1\" class=\"dataframe\">\n",
              "  <thead>\n",
              "    <tr style=\"text-align: right;\">\n",
              "      <th></th>\n",
              "      <th>Quantity</th>\n",
              "      <th>UnitPrice</th>\n",
              "      <th>CustomerID</th>\n",
              "    </tr>\n",
              "  </thead>\n",
              "  <tbody>\n",
              "    <tr>\n",
              "      <th>count</th>\n",
              "      <td>541909.000000</td>\n",
              "      <td>541909.000000</td>\n",
              "      <td>406829.000000</td>\n",
              "    </tr>\n",
              "    <tr>\n",
              "      <th>mean</th>\n",
              "      <td>9.552250</td>\n",
              "      <td>4.611114</td>\n",
              "      <td>15287.690570</td>\n",
              "    </tr>\n",
              "    <tr>\n",
              "      <th>std</th>\n",
              "      <td>218.081158</td>\n",
              "      <td>96.759853</td>\n",
              "      <td>1713.600303</td>\n",
              "    </tr>\n",
              "    <tr>\n",
              "      <th>min</th>\n",
              "      <td>-80995.000000</td>\n",
              "      <td>-11062.060000</td>\n",
              "      <td>12346.000000</td>\n",
              "    </tr>\n",
              "    <tr>\n",
              "      <th>25%</th>\n",
              "      <td>1.000000</td>\n",
              "      <td>1.250000</td>\n",
              "      <td>13953.000000</td>\n",
              "    </tr>\n",
              "    <tr>\n",
              "      <th>50%</th>\n",
              "      <td>3.000000</td>\n",
              "      <td>2.080000</td>\n",
              "      <td>15152.000000</td>\n",
              "    </tr>\n",
              "    <tr>\n",
              "      <th>75%</th>\n",
              "      <td>10.000000</td>\n",
              "      <td>4.130000</td>\n",
              "      <td>16791.000000</td>\n",
              "    </tr>\n",
              "    <tr>\n",
              "      <th>max</th>\n",
              "      <td>80995.000000</td>\n",
              "      <td>38970.000000</td>\n",
              "      <td>18287.000000</td>\n",
              "    </tr>\n",
              "  </tbody>\n",
              "</table>\n",
              "</div>\n",
              "      <button class=\"colab-df-convert\" onclick=\"convertToInteractive('df-be851e0b-3f77-4e64-84d1-7cfbb7120d31')\"\n",
              "              title=\"Convert this dataframe to an interactive table.\"\n",
              "              style=\"display:none;\">\n",
              "        \n",
              "  <svg xmlns=\"http://www.w3.org/2000/svg\" height=\"24px\"viewBox=\"0 0 24 24\"\n",
              "       width=\"24px\">\n",
              "    <path d=\"M0 0h24v24H0V0z\" fill=\"none\"/>\n",
              "    <path d=\"M18.56 5.44l.94 2.06.94-2.06 2.06-.94-2.06-.94-.94-2.06-.94 2.06-2.06.94zm-11 1L8.5 8.5l.94-2.06 2.06-.94-2.06-.94L8.5 2.5l-.94 2.06-2.06.94zm10 10l.94 2.06.94-2.06 2.06-.94-2.06-.94-.94-2.06-.94 2.06-2.06.94z\"/><path d=\"M17.41 7.96l-1.37-1.37c-.4-.4-.92-.59-1.43-.59-.52 0-1.04.2-1.43.59L10.3 9.45l-7.72 7.72c-.78.78-.78 2.05 0 2.83L4 21.41c.39.39.9.59 1.41.59.51 0 1.02-.2 1.41-.59l7.78-7.78 2.81-2.81c.8-.78.8-2.07 0-2.86zM5.41 20L4 18.59l7.72-7.72 1.47 1.35L5.41 20z\"/>\n",
              "  </svg>\n",
              "      </button>\n",
              "      \n",
              "  <style>\n",
              "    .colab-df-container {\n",
              "      display:flex;\n",
              "      flex-wrap:wrap;\n",
              "      gap: 12px;\n",
              "    }\n",
              "\n",
              "    .colab-df-convert {\n",
              "      background-color: #E8F0FE;\n",
              "      border: none;\n",
              "      border-radius: 50%;\n",
              "      cursor: pointer;\n",
              "      display: none;\n",
              "      fill: #1967D2;\n",
              "      height: 32px;\n",
              "      padding: 0 0 0 0;\n",
              "      width: 32px;\n",
              "    }\n",
              "\n",
              "    .colab-df-convert:hover {\n",
              "      background-color: #E2EBFA;\n",
              "      box-shadow: 0px 1px 2px rgba(60, 64, 67, 0.3), 0px 1px 3px 1px rgba(60, 64, 67, 0.15);\n",
              "      fill: #174EA6;\n",
              "    }\n",
              "\n",
              "    [theme=dark] .colab-df-convert {\n",
              "      background-color: #3B4455;\n",
              "      fill: #D2E3FC;\n",
              "    }\n",
              "\n",
              "    [theme=dark] .colab-df-convert:hover {\n",
              "      background-color: #434B5C;\n",
              "      box-shadow: 0px 1px 3px 1px rgba(0, 0, 0, 0.15);\n",
              "      filter: drop-shadow(0px 1px 2px rgba(0, 0, 0, 0.3));\n",
              "      fill: #FFFFFF;\n",
              "    }\n",
              "  </style>\n",
              "\n",
              "      <script>\n",
              "        const buttonEl =\n",
              "          document.querySelector('#df-be851e0b-3f77-4e64-84d1-7cfbb7120d31 button.colab-df-convert');\n",
              "        buttonEl.style.display =\n",
              "          google.colab.kernel.accessAllowed ? 'block' : 'none';\n",
              "\n",
              "        async function convertToInteractive(key) {\n",
              "          const element = document.querySelector('#df-be851e0b-3f77-4e64-84d1-7cfbb7120d31');\n",
              "          const dataTable =\n",
              "            await google.colab.kernel.invokeFunction('convertToInteractive',\n",
              "                                                     [key], {});\n",
              "          if (!dataTable) return;\n",
              "\n",
              "          const docLinkHtml = 'Like what you see? Visit the ' +\n",
              "            '<a target=\"_blank\" href=https://colab.research.google.com/notebooks/data_table.ipynb>data table notebook</a>'\n",
              "            + ' to learn more about interactive tables.';\n",
              "          element.innerHTML = '';\n",
              "          dataTable['output_type'] = 'display_data';\n",
              "          await google.colab.output.renderOutput(dataTable, element);\n",
              "          const docLink = document.createElement('div');\n",
              "          docLink.innerHTML = docLinkHtml;\n",
              "          element.appendChild(docLink);\n",
              "        }\n",
              "      </script>\n",
              "    </div>\n",
              "  </div>\n",
              "  "
            ]
          },
          "metadata": {},
          "execution_count": 5
        }
      ],
      "source": [
        "data.describe()"
      ]
    },
    {
      "cell_type": "code",
      "execution_count": 6,
      "metadata": {
        "colab": {
          "base_uri": "https://localhost:8080/"
        },
        "id": "ZafjXA5Ac3tt",
        "outputId": "8254c630-da0e-487f-a56e-ed5be984d852"
      },
      "outputs": [
        {
          "output_type": "execute_result",
          "data": {
            "text/plain": [
              "dtype('O')"
            ]
          },
          "metadata": {},
          "execution_count": 6
        }
      ],
      "source": [
        "(data['InvoiceDate']).dtype"
      ]
    },
    {
      "cell_type": "markdown",
      "metadata": {
        "id": "qkaOzRqyc3tu"
      },
      "source": [
        "Extreme outliers in UnitPrice will be handled later as they affect predictions negatively."
      ]
    },
    {
      "cell_type": "markdown",
      "metadata": {
        "id": "thWTIpQSc3tv"
      },
      "source": [
        "## Missing Values"
      ]
    },
    {
      "cell_type": "code",
      "execution_count": 7,
      "metadata": {
        "colab": {
          "base_uri": "https://localhost:8080/",
          "height": 300
        },
        "id": "nSPwt3n1c3tw",
        "outputId": "5ea4c5aa-df81-45b0-cf81-4511af7b88d3"
      },
      "outputs": [
        {
          "output_type": "execute_result",
          "data": {
            "text/plain": [
              "             total_null     prc\n",
              "InvoiceNo             0   0.00%\n",
              "StockCode             0   0.00%\n",
              "Description        1454   0.27%\n",
              "Quantity              0   0.00%\n",
              "InvoiceDate           0   0.00%\n",
              "UnitPrice             0   0.00%\n",
              "CustomerID       135080  24.93%\n",
              "Country               0   0.00%"
            ],
            "text/html": [
              "\n",
              "  <div id=\"df-cab1223f-b485-4d20-ba8d-20b48c925313\">\n",
              "    <div class=\"colab-df-container\">\n",
              "      <div>\n",
              "<style scoped>\n",
              "    .dataframe tbody tr th:only-of-type {\n",
              "        vertical-align: middle;\n",
              "    }\n",
              "\n",
              "    .dataframe tbody tr th {\n",
              "        vertical-align: top;\n",
              "    }\n",
              "\n",
              "    .dataframe thead th {\n",
              "        text-align: right;\n",
              "    }\n",
              "</style>\n",
              "<table border=\"1\" class=\"dataframe\">\n",
              "  <thead>\n",
              "    <tr style=\"text-align: right;\">\n",
              "      <th></th>\n",
              "      <th>total_null</th>\n",
              "      <th>prc</th>\n",
              "    </tr>\n",
              "  </thead>\n",
              "  <tbody>\n",
              "    <tr>\n",
              "      <th>InvoiceNo</th>\n",
              "      <td>0</td>\n",
              "      <td>0.00%</td>\n",
              "    </tr>\n",
              "    <tr>\n",
              "      <th>StockCode</th>\n",
              "      <td>0</td>\n",
              "      <td>0.00%</td>\n",
              "    </tr>\n",
              "    <tr>\n",
              "      <th>Description</th>\n",
              "      <td>1454</td>\n",
              "      <td>0.27%</td>\n",
              "    </tr>\n",
              "    <tr>\n",
              "      <th>Quantity</th>\n",
              "      <td>0</td>\n",
              "      <td>0.00%</td>\n",
              "    </tr>\n",
              "    <tr>\n",
              "      <th>InvoiceDate</th>\n",
              "      <td>0</td>\n",
              "      <td>0.00%</td>\n",
              "    </tr>\n",
              "    <tr>\n",
              "      <th>UnitPrice</th>\n",
              "      <td>0</td>\n",
              "      <td>0.00%</td>\n",
              "    </tr>\n",
              "    <tr>\n",
              "      <th>CustomerID</th>\n",
              "      <td>135080</td>\n",
              "      <td>24.93%</td>\n",
              "    </tr>\n",
              "    <tr>\n",
              "      <th>Country</th>\n",
              "      <td>0</td>\n",
              "      <td>0.00%</td>\n",
              "    </tr>\n",
              "  </tbody>\n",
              "</table>\n",
              "</div>\n",
              "      <button class=\"colab-df-convert\" onclick=\"convertToInteractive('df-cab1223f-b485-4d20-ba8d-20b48c925313')\"\n",
              "              title=\"Convert this dataframe to an interactive table.\"\n",
              "              style=\"display:none;\">\n",
              "        \n",
              "  <svg xmlns=\"http://www.w3.org/2000/svg\" height=\"24px\"viewBox=\"0 0 24 24\"\n",
              "       width=\"24px\">\n",
              "    <path d=\"M0 0h24v24H0V0z\" fill=\"none\"/>\n",
              "    <path d=\"M18.56 5.44l.94 2.06.94-2.06 2.06-.94-2.06-.94-.94-2.06-.94 2.06-2.06.94zm-11 1L8.5 8.5l.94-2.06 2.06-.94-2.06-.94L8.5 2.5l-.94 2.06-2.06.94zm10 10l.94 2.06.94-2.06 2.06-.94-2.06-.94-.94-2.06-.94 2.06-2.06.94z\"/><path d=\"M17.41 7.96l-1.37-1.37c-.4-.4-.92-.59-1.43-.59-.52 0-1.04.2-1.43.59L10.3 9.45l-7.72 7.72c-.78.78-.78 2.05 0 2.83L4 21.41c.39.39.9.59 1.41.59.51 0 1.02-.2 1.41-.59l7.78-7.78 2.81-2.81c.8-.78.8-2.07 0-2.86zM5.41 20L4 18.59l7.72-7.72 1.47 1.35L5.41 20z\"/>\n",
              "  </svg>\n",
              "      </button>\n",
              "      \n",
              "  <style>\n",
              "    .colab-df-container {\n",
              "      display:flex;\n",
              "      flex-wrap:wrap;\n",
              "      gap: 12px;\n",
              "    }\n",
              "\n",
              "    .colab-df-convert {\n",
              "      background-color: #E8F0FE;\n",
              "      border: none;\n",
              "      border-radius: 50%;\n",
              "      cursor: pointer;\n",
              "      display: none;\n",
              "      fill: #1967D2;\n",
              "      height: 32px;\n",
              "      padding: 0 0 0 0;\n",
              "      width: 32px;\n",
              "    }\n",
              "\n",
              "    .colab-df-convert:hover {\n",
              "      background-color: #E2EBFA;\n",
              "      box-shadow: 0px 1px 2px rgba(60, 64, 67, 0.3), 0px 1px 3px 1px rgba(60, 64, 67, 0.15);\n",
              "      fill: #174EA6;\n",
              "    }\n",
              "\n",
              "    [theme=dark] .colab-df-convert {\n",
              "      background-color: #3B4455;\n",
              "      fill: #D2E3FC;\n",
              "    }\n",
              "\n",
              "    [theme=dark] .colab-df-convert:hover {\n",
              "      background-color: #434B5C;\n",
              "      box-shadow: 0px 1px 3px 1px rgba(0, 0, 0, 0.15);\n",
              "      filter: drop-shadow(0px 1px 2px rgba(0, 0, 0, 0.3));\n",
              "      fill: #FFFFFF;\n",
              "    }\n",
              "  </style>\n",
              "\n",
              "      <script>\n",
              "        const buttonEl =\n",
              "          document.querySelector('#df-cab1223f-b485-4d20-ba8d-20b48c925313 button.colab-df-convert');\n",
              "        buttonEl.style.display =\n",
              "          google.colab.kernel.accessAllowed ? 'block' : 'none';\n",
              "\n",
              "        async function convertToInteractive(key) {\n",
              "          const element = document.querySelector('#df-cab1223f-b485-4d20-ba8d-20b48c925313');\n",
              "          const dataTable =\n",
              "            await google.colab.kernel.invokeFunction('convertToInteractive',\n",
              "                                                     [key], {});\n",
              "          if (!dataTable) return;\n",
              "\n",
              "          const docLinkHtml = 'Like what you see? Visit the ' +\n",
              "            '<a target=\"_blank\" href=https://colab.research.google.com/notebooks/data_table.ipynb>data table notebook</a>'\n",
              "            + ' to learn more about interactive tables.';\n",
              "          element.innerHTML = '';\n",
              "          dataTable['output_type'] = 'display_data';\n",
              "          await google.colab.output.renderOutput(dataTable, element);\n",
              "          const docLink = document.createElement('div');\n",
              "          docLink.innerHTML = docLinkHtml;\n",
              "          element.appendChild(docLink);\n",
              "        }\n",
              "      </script>\n",
              "    </div>\n",
              "  </div>\n",
              "  "
            ]
          },
          "metadata": {},
          "execution_count": 7
        }
      ],
      "source": [
        "null_data = data.isnull().sum()\n",
        "null_percent = null_data.apply(lambda x: x/len(data)*100)\n",
        "null = null_data.to_frame(name=\"total_null\").join(null_percent.to_frame(name=\"prc\"))\n",
        "null['prc'] = null['prc'].apply(\"{:,.2f}%\".format)\n",
        "null"
      ]
    },
    {
      "cell_type": "code",
      "execution_count": 8,
      "metadata": {
        "colab": {
          "base_uri": "https://localhost:8080/"
        },
        "id": "SxDWsRA3c3tw",
        "outputId": "8a5da591-e8e5-4f50-bb82-d6b7667469d9"
      },
      "outputs": [
        {
          "output_type": "execute_result",
          "data": {
            "text/plain": [
              "False    133626\n",
              "True       1454\n",
              "Name: Description, dtype: int64"
            ]
          },
          "metadata": {},
          "execution_count": 8
        }
      ],
      "source": [
        "data[data['CustomerID'].isnull()]['Description'].isnull().value_counts()    # Missing description among null CustomerID entries"
      ]
    },
    {
      "cell_type": "code",
      "execution_count": 9,
      "metadata": {
        "colab": {
          "base_uri": "https://localhost:8080/",
          "height": 206
        },
        "id": "He75ialkc3tx",
        "outputId": "89b95f3b-92ac-4873-bf3f-fb8f3270082a"
      },
      "outputs": [
        {
          "output_type": "execute_result",
          "data": {
            "text/plain": [
              "     InvoiceNo StockCode Description  Quantity InvoiceDate  UnitPrice  \\\n",
              "622     536414     22139         NaN        56  2010-12-01        0.0   \n",
              "1970    536545     21134         NaN         1  2010-12-01        0.0   \n",
              "1971    536546     22145         NaN         1  2010-12-01        0.0   \n",
              "1972    536547     37509         NaN         1  2010-12-01        0.0   \n",
              "1987    536549    85226A         NaN         1  2010-12-01        0.0   \n",
              "\n",
              "      CustomerID         Country  \n",
              "622          NaN  United Kingdom  \n",
              "1970         NaN  United Kingdom  \n",
              "1971         NaN  United Kingdom  \n",
              "1972         NaN  United Kingdom  \n",
              "1987         NaN  United Kingdom  "
            ],
            "text/html": [
              "\n",
              "  <div id=\"df-bf384675-6279-41f9-a0ab-88b7ad1ccdf3\">\n",
              "    <div class=\"colab-df-container\">\n",
              "      <div>\n",
              "<style scoped>\n",
              "    .dataframe tbody tr th:only-of-type {\n",
              "        vertical-align: middle;\n",
              "    }\n",
              "\n",
              "    .dataframe tbody tr th {\n",
              "        vertical-align: top;\n",
              "    }\n",
              "\n",
              "    .dataframe thead th {\n",
              "        text-align: right;\n",
              "    }\n",
              "</style>\n",
              "<table border=\"1\" class=\"dataframe\">\n",
              "  <thead>\n",
              "    <tr style=\"text-align: right;\">\n",
              "      <th></th>\n",
              "      <th>InvoiceNo</th>\n",
              "      <th>StockCode</th>\n",
              "      <th>Description</th>\n",
              "      <th>Quantity</th>\n",
              "      <th>InvoiceDate</th>\n",
              "      <th>UnitPrice</th>\n",
              "      <th>CustomerID</th>\n",
              "      <th>Country</th>\n",
              "    </tr>\n",
              "  </thead>\n",
              "  <tbody>\n",
              "    <tr>\n",
              "      <th>622</th>\n",
              "      <td>536414</td>\n",
              "      <td>22139</td>\n",
              "      <td>NaN</td>\n",
              "      <td>56</td>\n",
              "      <td>2010-12-01</td>\n",
              "      <td>0.0</td>\n",
              "      <td>NaN</td>\n",
              "      <td>United Kingdom</td>\n",
              "    </tr>\n",
              "    <tr>\n",
              "      <th>1970</th>\n",
              "      <td>536545</td>\n",
              "      <td>21134</td>\n",
              "      <td>NaN</td>\n",
              "      <td>1</td>\n",
              "      <td>2010-12-01</td>\n",
              "      <td>0.0</td>\n",
              "      <td>NaN</td>\n",
              "      <td>United Kingdom</td>\n",
              "    </tr>\n",
              "    <tr>\n",
              "      <th>1971</th>\n",
              "      <td>536546</td>\n",
              "      <td>22145</td>\n",
              "      <td>NaN</td>\n",
              "      <td>1</td>\n",
              "      <td>2010-12-01</td>\n",
              "      <td>0.0</td>\n",
              "      <td>NaN</td>\n",
              "      <td>United Kingdom</td>\n",
              "    </tr>\n",
              "    <tr>\n",
              "      <th>1972</th>\n",
              "      <td>536547</td>\n",
              "      <td>37509</td>\n",
              "      <td>NaN</td>\n",
              "      <td>1</td>\n",
              "      <td>2010-12-01</td>\n",
              "      <td>0.0</td>\n",
              "      <td>NaN</td>\n",
              "      <td>United Kingdom</td>\n",
              "    </tr>\n",
              "    <tr>\n",
              "      <th>1987</th>\n",
              "      <td>536549</td>\n",
              "      <td>85226A</td>\n",
              "      <td>NaN</td>\n",
              "      <td>1</td>\n",
              "      <td>2010-12-01</td>\n",
              "      <td>0.0</td>\n",
              "      <td>NaN</td>\n",
              "      <td>United Kingdom</td>\n",
              "    </tr>\n",
              "  </tbody>\n",
              "</table>\n",
              "</div>\n",
              "      <button class=\"colab-df-convert\" onclick=\"convertToInteractive('df-bf384675-6279-41f9-a0ab-88b7ad1ccdf3')\"\n",
              "              title=\"Convert this dataframe to an interactive table.\"\n",
              "              style=\"display:none;\">\n",
              "        \n",
              "  <svg xmlns=\"http://www.w3.org/2000/svg\" height=\"24px\"viewBox=\"0 0 24 24\"\n",
              "       width=\"24px\">\n",
              "    <path d=\"M0 0h24v24H0V0z\" fill=\"none\"/>\n",
              "    <path d=\"M18.56 5.44l.94 2.06.94-2.06 2.06-.94-2.06-.94-.94-2.06-.94 2.06-2.06.94zm-11 1L8.5 8.5l.94-2.06 2.06-.94-2.06-.94L8.5 2.5l-.94 2.06-2.06.94zm10 10l.94 2.06.94-2.06 2.06-.94-2.06-.94-.94-2.06-.94 2.06-2.06.94z\"/><path d=\"M17.41 7.96l-1.37-1.37c-.4-.4-.92-.59-1.43-.59-.52 0-1.04.2-1.43.59L10.3 9.45l-7.72 7.72c-.78.78-.78 2.05 0 2.83L4 21.41c.39.39.9.59 1.41.59.51 0 1.02-.2 1.41-.59l7.78-7.78 2.81-2.81c.8-.78.8-2.07 0-2.86zM5.41 20L4 18.59l7.72-7.72 1.47 1.35L5.41 20z\"/>\n",
              "  </svg>\n",
              "      </button>\n",
              "      \n",
              "  <style>\n",
              "    .colab-df-container {\n",
              "      display:flex;\n",
              "      flex-wrap:wrap;\n",
              "      gap: 12px;\n",
              "    }\n",
              "\n",
              "    .colab-df-convert {\n",
              "      background-color: #E8F0FE;\n",
              "      border: none;\n",
              "      border-radius: 50%;\n",
              "      cursor: pointer;\n",
              "      display: none;\n",
              "      fill: #1967D2;\n",
              "      height: 32px;\n",
              "      padding: 0 0 0 0;\n",
              "      width: 32px;\n",
              "    }\n",
              "\n",
              "    .colab-df-convert:hover {\n",
              "      background-color: #E2EBFA;\n",
              "      box-shadow: 0px 1px 2px rgba(60, 64, 67, 0.3), 0px 1px 3px 1px rgba(60, 64, 67, 0.15);\n",
              "      fill: #174EA6;\n",
              "    }\n",
              "\n",
              "    [theme=dark] .colab-df-convert {\n",
              "      background-color: #3B4455;\n",
              "      fill: #D2E3FC;\n",
              "    }\n",
              "\n",
              "    [theme=dark] .colab-df-convert:hover {\n",
              "      background-color: #434B5C;\n",
              "      box-shadow: 0px 1px 3px 1px rgba(0, 0, 0, 0.15);\n",
              "      filter: drop-shadow(0px 1px 2px rgba(0, 0, 0, 0.3));\n",
              "      fill: #FFFFFF;\n",
              "    }\n",
              "  </style>\n",
              "\n",
              "      <script>\n",
              "        const buttonEl =\n",
              "          document.querySelector('#df-bf384675-6279-41f9-a0ab-88b7ad1ccdf3 button.colab-df-convert');\n",
              "        buttonEl.style.display =\n",
              "          google.colab.kernel.accessAllowed ? 'block' : 'none';\n",
              "\n",
              "        async function convertToInteractive(key) {\n",
              "          const element = document.querySelector('#df-bf384675-6279-41f9-a0ab-88b7ad1ccdf3');\n",
              "          const dataTable =\n",
              "            await google.colab.kernel.invokeFunction('convertToInteractive',\n",
              "                                                     [key], {});\n",
              "          if (!dataTable) return;\n",
              "\n",
              "          const docLinkHtml = 'Like what you see? Visit the ' +\n",
              "            '<a target=\"_blank\" href=https://colab.research.google.com/notebooks/data_table.ipynb>data table notebook</a>'\n",
              "            + ' to learn more about interactive tables.';\n",
              "          element.innerHTML = '';\n",
              "          dataTable['output_type'] = 'display_data';\n",
              "          await google.colab.output.renderOutput(dataTable, element);\n",
              "          const docLink = document.createElement('div');\n",
              "          docLink.innerHTML = docLinkHtml;\n",
              "          element.appendChild(docLink);\n",
              "        }\n",
              "      </script>\n",
              "    </div>\n",
              "  </div>\n",
              "  "
            ]
          },
          "metadata": {},
          "execution_count": 9
        }
      ],
      "source": [
        "data[(data['CustomerID'].isnull()) & (data['Description'].isnull())].head()"
      ]
    },
    {
      "cell_type": "markdown",
      "metadata": {
        "id": "J_XH806-c3tx"
      },
      "source": [
        "Total 135,080 missing data in CustomerID which comprimises 24.93% of the total data and among them 1454 of them have missing Description. All of the Unit prices are 0 for items without Customer ID. Reason to record them isn't clear and imputing values are not possible with the data available. Therefore, I'm going to drop the entries with missing values along with the duplicated entries."
      ]
    },
    {
      "cell_type": "code",
      "execution_count": 10,
      "metadata": {
        "id": "zcr0qvpWc3ty"
      },
      "outputs": [],
      "source": [
        "data.dropna(inplace=True)"
      ]
    },
    {
      "cell_type": "markdown",
      "metadata": {
        "id": "QQiFNSRcc3ty"
      },
      "source": [
        "## Duplicated entries"
      ]
    },
    {
      "cell_type": "code",
      "execution_count": 11,
      "metadata": {
        "colab": {
          "base_uri": "https://localhost:8080/"
        },
        "id": "gq41sPZvc3tz",
        "outputId": "b9e66720-bd9d-4693-cca5-da759f62e1ec"
      },
      "outputs": [
        {
          "output_type": "stream",
          "name": "stdout",
          "text": [
            "Total duplicated entries= 5226\n",
            "Data length updated to= 401603\n"
          ]
        }
      ],
      "source": [
        "print('Total duplicated entries= {}'.format(data.duplicated().sum()))\n",
        "data.drop_duplicates(inplace=True)\n",
        "print('Data length updated to= {}'.format(len(data)))"
      ]
    },
    {
      "cell_type": "markdown",
      "metadata": {
        "id": "HhxGHY_ic3tz"
      },
      "source": [
        "## Exploration"
      ]
    },
    {
      "cell_type": "markdown",
      "metadata": {
        "id": "klDa13Ptc3t0"
      },
      "source": [
        "**Unique products, customers, transactions**"
      ]
    },
    {
      "cell_type": "code",
      "execution_count": 12,
      "metadata": {
        "colab": {
          "base_uri": "https://localhost:8080/",
          "height": 81
        },
        "id": "3dkH8ormc3t0",
        "outputId": "d59a7186-133c-463a-962e-e5d3b7402d95"
      },
      "outputs": [
        {
          "output_type": "execute_result",
          "data": {
            "text/plain": [
              "        Customers  Products  Transactions\n",
              "Unique       4372      3684         22190"
            ],
            "text/html": [
              "\n",
              "  <div id=\"df-688383b8-d292-451f-a808-ff39d1b36ea6\">\n",
              "    <div class=\"colab-df-container\">\n",
              "      <div>\n",
              "<style scoped>\n",
              "    .dataframe tbody tr th:only-of-type {\n",
              "        vertical-align: middle;\n",
              "    }\n",
              "\n",
              "    .dataframe tbody tr th {\n",
              "        vertical-align: top;\n",
              "    }\n",
              "\n",
              "    .dataframe thead th {\n",
              "        text-align: right;\n",
              "    }\n",
              "</style>\n",
              "<table border=\"1\" class=\"dataframe\">\n",
              "  <thead>\n",
              "    <tr style=\"text-align: right;\">\n",
              "      <th></th>\n",
              "      <th>Customers</th>\n",
              "      <th>Products</th>\n",
              "      <th>Transactions</th>\n",
              "    </tr>\n",
              "  </thead>\n",
              "  <tbody>\n",
              "    <tr>\n",
              "      <th>Unique</th>\n",
              "      <td>4372</td>\n",
              "      <td>3684</td>\n",
              "      <td>22190</td>\n",
              "    </tr>\n",
              "  </tbody>\n",
              "</table>\n",
              "</div>\n",
              "      <button class=\"colab-df-convert\" onclick=\"convertToInteractive('df-688383b8-d292-451f-a808-ff39d1b36ea6')\"\n",
              "              title=\"Convert this dataframe to an interactive table.\"\n",
              "              style=\"display:none;\">\n",
              "        \n",
              "  <svg xmlns=\"http://www.w3.org/2000/svg\" height=\"24px\"viewBox=\"0 0 24 24\"\n",
              "       width=\"24px\">\n",
              "    <path d=\"M0 0h24v24H0V0z\" fill=\"none\"/>\n",
              "    <path d=\"M18.56 5.44l.94 2.06.94-2.06 2.06-.94-2.06-.94-.94-2.06-.94 2.06-2.06.94zm-11 1L8.5 8.5l.94-2.06 2.06-.94-2.06-.94L8.5 2.5l-.94 2.06-2.06.94zm10 10l.94 2.06.94-2.06 2.06-.94-2.06-.94-.94-2.06-.94 2.06-2.06.94z\"/><path d=\"M17.41 7.96l-1.37-1.37c-.4-.4-.92-.59-1.43-.59-.52 0-1.04.2-1.43.59L10.3 9.45l-7.72 7.72c-.78.78-.78 2.05 0 2.83L4 21.41c.39.39.9.59 1.41.59.51 0 1.02-.2 1.41-.59l7.78-7.78 2.81-2.81c.8-.78.8-2.07 0-2.86zM5.41 20L4 18.59l7.72-7.72 1.47 1.35L5.41 20z\"/>\n",
              "  </svg>\n",
              "      </button>\n",
              "      \n",
              "  <style>\n",
              "    .colab-df-container {\n",
              "      display:flex;\n",
              "      flex-wrap:wrap;\n",
              "      gap: 12px;\n",
              "    }\n",
              "\n",
              "    .colab-df-convert {\n",
              "      background-color: #E8F0FE;\n",
              "      border: none;\n",
              "      border-radius: 50%;\n",
              "      cursor: pointer;\n",
              "      display: none;\n",
              "      fill: #1967D2;\n",
              "      height: 32px;\n",
              "      padding: 0 0 0 0;\n",
              "      width: 32px;\n",
              "    }\n",
              "\n",
              "    .colab-df-convert:hover {\n",
              "      background-color: #E2EBFA;\n",
              "      box-shadow: 0px 1px 2px rgba(60, 64, 67, 0.3), 0px 1px 3px 1px rgba(60, 64, 67, 0.15);\n",
              "      fill: #174EA6;\n",
              "    }\n",
              "\n",
              "    [theme=dark] .colab-df-convert {\n",
              "      background-color: #3B4455;\n",
              "      fill: #D2E3FC;\n",
              "    }\n",
              "\n",
              "    [theme=dark] .colab-df-convert:hover {\n",
              "      background-color: #434B5C;\n",
              "      box-shadow: 0px 1px 3px 1px rgba(0, 0, 0, 0.15);\n",
              "      filter: drop-shadow(0px 1px 2px rgba(0, 0, 0, 0.3));\n",
              "      fill: #FFFFFF;\n",
              "    }\n",
              "  </style>\n",
              "\n",
              "      <script>\n",
              "        const buttonEl =\n",
              "          document.querySelector('#df-688383b8-d292-451f-a808-ff39d1b36ea6 button.colab-df-convert');\n",
              "        buttonEl.style.display =\n",
              "          google.colab.kernel.accessAllowed ? 'block' : 'none';\n",
              "\n",
              "        async function convertToInteractive(key) {\n",
              "          const element = document.querySelector('#df-688383b8-d292-451f-a808-ff39d1b36ea6');\n",
              "          const dataTable =\n",
              "            await google.colab.kernel.invokeFunction('convertToInteractive',\n",
              "                                                     [key], {});\n",
              "          if (!dataTable) return;\n",
              "\n",
              "          const docLinkHtml = 'Like what you see? Visit the ' +\n",
              "            '<a target=\"_blank\" href=https://colab.research.google.com/notebooks/data_table.ipynb>data table notebook</a>'\n",
              "            + ' to learn more about interactive tables.';\n",
              "          element.innerHTML = '';\n",
              "          dataTable['output_type'] = 'display_data';\n",
              "          await google.colab.output.renderOutput(dataTable, element);\n",
              "          const docLink = document.createElement('div');\n",
              "          docLink.innerHTML = docLinkHtml;\n",
              "          element.appendChild(docLink);\n",
              "        }\n",
              "      </script>\n",
              "    </div>\n",
              "  </div>\n",
              "  "
            ]
          },
          "metadata": {},
          "execution_count": 12
        }
      ],
      "source": [
        "pd.DataFrame([{\"Customers\": data['CustomerID'].nunique(),\n",
        "               \"Products\": data['StockCode'].nunique(),\n",
        "               \"Transactions\": data['InvoiceNo'].nunique()}], index=[\"Unique\"])"
      ]
    },
    {
      "cell_type": "markdown",
      "metadata": {
        "id": "5HWVFHjac3t1"
      },
      "source": [
        "Total of 4372 customers had 22,190 transactions over 3684 products."
      ]
    },
    {
      "cell_type": "markdown",
      "metadata": {
        "id": "qHPA-8bIc3t1"
      },
      "source": [
        "### Outliers"
      ]
    },
    {
      "cell_type": "markdown",
      "metadata": {
        "id": "5LQrymBTc3t2"
      },
      "source": [
        "***2 Options are: replace outliers or remove them***"
      ]
    },
    {
      "cell_type": "code",
      "execution_count": 13,
      "metadata": {
        "id": "VPyvCSg4c3t2"
      },
      "outputs": [],
      "source": [
        "# low_price = data['UnitPrice'].quantile(0.01)\n",
        "# high_price = data['UnitPrice'].quantile(0.99)\n",
        "# print((low_price, high_price))\n",
        "\n",
        "# low_quantity = data['Quantity'].quantile(0.01)\n",
        "# high_quantity = data['Quantity'].quantile(0.99)\n",
        "# print((low_quantity, high_quantity))\n",
        "\n",
        "# data = data[(data['UnitPrice']<high_price) & (data['UnitPrice']>low_price)]\n",
        "# data = data[(data['Quantity']<high_quantity) & (data['Quantity']>low_quantity)]"
      ]
    },
    {
      "cell_type": "markdown",
      "metadata": {
        "id": "q4WbDirkc3t2"
      },
      "source": [
        "**Cancelled orders**"
      ]
    },
    {
      "cell_type": "code",
      "execution_count": 14,
      "metadata": {
        "colab": {
          "base_uri": "https://localhost:8080/",
          "height": 206
        },
        "id": "iuADTiHCc3t2",
        "outputId": "3dba1796-6585-4dc5-cf30-9ac8d7403efe"
      },
      "outputs": [
        {
          "output_type": "execute_result",
          "data": {
            "text/plain": [
              "    InvoiceNo StockCode                       Description  Quantity  \\\n",
              "141   C536379         D                          Discount        -1   \n",
              "154   C536383    35004C   SET OF 3 COLOURED  FLYING DUCKS        -1   \n",
              "235   C536391     22556    PLASTERS IN TIN CIRCUS PARADE        -12   \n",
              "236   C536391     21984  PACK OF 12 PINK PAISLEY TISSUES        -24   \n",
              "237   C536391     21983  PACK OF 12 BLUE PAISLEY TISSUES        -24   \n",
              "\n",
              "    InvoiceDate  UnitPrice  CustomerID         Country  \n",
              "141  2010-12-01      27.50     14527.0  United Kingdom  \n",
              "154  2010-12-01       4.65     15311.0  United Kingdom  \n",
              "235  2010-12-01       1.65     17548.0  United Kingdom  \n",
              "236  2010-12-01       0.29     17548.0  United Kingdom  \n",
              "237  2010-12-01       0.29     17548.0  United Kingdom  "
            ],
            "text/html": [
              "\n",
              "  <div id=\"df-42a8f7f3-f03e-4262-9e2a-c6873890b9ab\">\n",
              "    <div class=\"colab-df-container\">\n",
              "      <div>\n",
              "<style scoped>\n",
              "    .dataframe tbody tr th:only-of-type {\n",
              "        vertical-align: middle;\n",
              "    }\n",
              "\n",
              "    .dataframe tbody tr th {\n",
              "        vertical-align: top;\n",
              "    }\n",
              "\n",
              "    .dataframe thead th {\n",
              "        text-align: right;\n",
              "    }\n",
              "</style>\n",
              "<table border=\"1\" class=\"dataframe\">\n",
              "  <thead>\n",
              "    <tr style=\"text-align: right;\">\n",
              "      <th></th>\n",
              "      <th>InvoiceNo</th>\n",
              "      <th>StockCode</th>\n",
              "      <th>Description</th>\n",
              "      <th>Quantity</th>\n",
              "      <th>InvoiceDate</th>\n",
              "      <th>UnitPrice</th>\n",
              "      <th>CustomerID</th>\n",
              "      <th>Country</th>\n",
              "    </tr>\n",
              "  </thead>\n",
              "  <tbody>\n",
              "    <tr>\n",
              "      <th>141</th>\n",
              "      <td>C536379</td>\n",
              "      <td>D</td>\n",
              "      <td>Discount</td>\n",
              "      <td>-1</td>\n",
              "      <td>2010-12-01</td>\n",
              "      <td>27.50</td>\n",
              "      <td>14527.0</td>\n",
              "      <td>United Kingdom</td>\n",
              "    </tr>\n",
              "    <tr>\n",
              "      <th>154</th>\n",
              "      <td>C536383</td>\n",
              "      <td>35004C</td>\n",
              "      <td>SET OF 3 COLOURED  FLYING DUCKS</td>\n",
              "      <td>-1</td>\n",
              "      <td>2010-12-01</td>\n",
              "      <td>4.65</td>\n",
              "      <td>15311.0</td>\n",
              "      <td>United Kingdom</td>\n",
              "    </tr>\n",
              "    <tr>\n",
              "      <th>235</th>\n",
              "      <td>C536391</td>\n",
              "      <td>22556</td>\n",
              "      <td>PLASTERS IN TIN CIRCUS PARADE</td>\n",
              "      <td>-12</td>\n",
              "      <td>2010-12-01</td>\n",
              "      <td>1.65</td>\n",
              "      <td>17548.0</td>\n",
              "      <td>United Kingdom</td>\n",
              "    </tr>\n",
              "    <tr>\n",
              "      <th>236</th>\n",
              "      <td>C536391</td>\n",
              "      <td>21984</td>\n",
              "      <td>PACK OF 12 PINK PAISLEY TISSUES</td>\n",
              "      <td>-24</td>\n",
              "      <td>2010-12-01</td>\n",
              "      <td>0.29</td>\n",
              "      <td>17548.0</td>\n",
              "      <td>United Kingdom</td>\n",
              "    </tr>\n",
              "    <tr>\n",
              "      <th>237</th>\n",
              "      <td>C536391</td>\n",
              "      <td>21983</td>\n",
              "      <td>PACK OF 12 BLUE PAISLEY TISSUES</td>\n",
              "      <td>-24</td>\n",
              "      <td>2010-12-01</td>\n",
              "      <td>0.29</td>\n",
              "      <td>17548.0</td>\n",
              "      <td>United Kingdom</td>\n",
              "    </tr>\n",
              "  </tbody>\n",
              "</table>\n",
              "</div>\n",
              "      <button class=\"colab-df-convert\" onclick=\"convertToInteractive('df-42a8f7f3-f03e-4262-9e2a-c6873890b9ab')\"\n",
              "              title=\"Convert this dataframe to an interactive table.\"\n",
              "              style=\"display:none;\">\n",
              "        \n",
              "  <svg xmlns=\"http://www.w3.org/2000/svg\" height=\"24px\"viewBox=\"0 0 24 24\"\n",
              "       width=\"24px\">\n",
              "    <path d=\"M0 0h24v24H0V0z\" fill=\"none\"/>\n",
              "    <path d=\"M18.56 5.44l.94 2.06.94-2.06 2.06-.94-2.06-.94-.94-2.06-.94 2.06-2.06.94zm-11 1L8.5 8.5l.94-2.06 2.06-.94-2.06-.94L8.5 2.5l-.94 2.06-2.06.94zm10 10l.94 2.06.94-2.06 2.06-.94-2.06-.94-.94-2.06-.94 2.06-2.06.94z\"/><path d=\"M17.41 7.96l-1.37-1.37c-.4-.4-.92-.59-1.43-.59-.52 0-1.04.2-1.43.59L10.3 9.45l-7.72 7.72c-.78.78-.78 2.05 0 2.83L4 21.41c.39.39.9.59 1.41.59.51 0 1.02-.2 1.41-.59l7.78-7.78 2.81-2.81c.8-.78.8-2.07 0-2.86zM5.41 20L4 18.59l7.72-7.72 1.47 1.35L5.41 20z\"/>\n",
              "  </svg>\n",
              "      </button>\n",
              "      \n",
              "  <style>\n",
              "    .colab-df-container {\n",
              "      display:flex;\n",
              "      flex-wrap:wrap;\n",
              "      gap: 12px;\n",
              "    }\n",
              "\n",
              "    .colab-df-convert {\n",
              "      background-color: #E8F0FE;\n",
              "      border: none;\n",
              "      border-radius: 50%;\n",
              "      cursor: pointer;\n",
              "      display: none;\n",
              "      fill: #1967D2;\n",
              "      height: 32px;\n",
              "      padding: 0 0 0 0;\n",
              "      width: 32px;\n",
              "    }\n",
              "\n",
              "    .colab-df-convert:hover {\n",
              "      background-color: #E2EBFA;\n",
              "      box-shadow: 0px 1px 2px rgba(60, 64, 67, 0.3), 0px 1px 3px 1px rgba(60, 64, 67, 0.15);\n",
              "      fill: #174EA6;\n",
              "    }\n",
              "\n",
              "    [theme=dark] .colab-df-convert {\n",
              "      background-color: #3B4455;\n",
              "      fill: #D2E3FC;\n",
              "    }\n",
              "\n",
              "    [theme=dark] .colab-df-convert:hover {\n",
              "      background-color: #434B5C;\n",
              "      box-shadow: 0px 1px 3px 1px rgba(0, 0, 0, 0.15);\n",
              "      filter: drop-shadow(0px 1px 2px rgba(0, 0, 0, 0.3));\n",
              "      fill: #FFFFFF;\n",
              "    }\n",
              "  </style>\n",
              "\n",
              "      <script>\n",
              "        const buttonEl =\n",
              "          document.querySelector('#df-42a8f7f3-f03e-4262-9e2a-c6873890b9ab button.colab-df-convert');\n",
              "        buttonEl.style.display =\n",
              "          google.colab.kernel.accessAllowed ? 'block' : 'none';\n",
              "\n",
              "        async function convertToInteractive(key) {\n",
              "          const element = document.querySelector('#df-42a8f7f3-f03e-4262-9e2a-c6873890b9ab');\n",
              "          const dataTable =\n",
              "            await google.colab.kernel.invokeFunction('convertToInteractive',\n",
              "                                                     [key], {});\n",
              "          if (!dataTable) return;\n",
              "\n",
              "          const docLinkHtml = 'Like what you see? Visit the ' +\n",
              "            '<a target=\"_blank\" href=https://colab.research.google.com/notebooks/data_table.ipynb>data table notebook</a>'\n",
              "            + ' to learn more about interactive tables.';\n",
              "          element.innerHTML = '';\n",
              "          dataTable['output_type'] = 'display_data';\n",
              "          await google.colab.output.renderOutput(dataTable, element);\n",
              "          const docLink = document.createElement('div');\n",
              "          docLink.innerHTML = docLinkHtml;\n",
              "          element.appendChild(docLink);\n",
              "        }\n",
              "      </script>\n",
              "    </div>\n",
              "  </div>\n",
              "  "
            ]
          },
          "metadata": {},
          "execution_count": 14
        }
      ],
      "source": [
        "# data['Cancelled_orders'] = np.where(data['InvoiceNo'].str.startswith('C'), 'Yes', 'No')\n",
        "cancelled_orders = data[data['InvoiceNo'].str.startswith(\"C\")]\n",
        "cancelled_orders.head()"
      ]
    },
    {
      "cell_type": "code",
      "execution_count": 15,
      "metadata": {
        "colab": {
          "base_uri": "https://localhost:8080/"
        },
        "id": "TwmL0n5fc3t3",
        "outputId": "556e9def-b33e-4a4a-fe25-a81ad336fc45"
      },
      "outputs": [
        {
          "output_type": "execute_result",
          "data": {
            "text/plain": [
              "22190"
            ]
          },
          "metadata": {},
          "execution_count": 15
        }
      ],
      "source": [
        "data['InvoiceNo'].nunique()"
      ]
    },
    {
      "cell_type": "code",
      "execution_count": 16,
      "metadata": {
        "scrolled": true,
        "colab": {
          "base_uri": "https://localhost:8080/"
        },
        "id": "NQl0Wj3Ic3t3",
        "outputId": "17e070f1-727a-4c8f-c54e-d59fe722a794"
      },
      "outputs": [
        {
          "output_type": "stream",
          "name": "stdout",
          "text": [
            "Percentage of cancelled orders among the transactions: 16.47%\n"
          ]
        }
      ],
      "source": [
        "print('Percentage of cancelled orders among the transactions: {:.2f}%'.format(cancelled_orders['InvoiceNo'].nunique()/data['InvoiceNo'].nunique()*100))"
      ]
    },
    {
      "cell_type": "markdown",
      "metadata": {
        "id": "3--cNlYHc3t4"
      },
      "source": [
        "There are 22,190 transactions in total and 16.47% of them are cancelled. They are going to be removed as not good data for prediction."
      ]
    },
    {
      "cell_type": "markdown",
      "metadata": {
        "id": "xuQMmRLnc3t4"
      },
      "source": [
        "**Gonna remove negative quantities, however, this part can be improved by negating cancelled orders by matching given-cancelled orders.**"
      ]
    },
    {
      "cell_type": "code",
      "execution_count": 17,
      "metadata": {
        "id": "luyOtorIc3t4"
      },
      "outputs": [],
      "source": [
        "data = data[data['Quantity']>0]"
      ]
    },
    {
      "cell_type": "markdown",
      "metadata": {
        "id": "SYzUk5hRc3t4"
      },
      "source": [
        "**Adding a Total Price column**"
      ]
    },
    {
      "cell_type": "code",
      "execution_count": 18,
      "metadata": {
        "id": "wirKPgqrc3t5"
      },
      "outputs": [],
      "source": [
        "data = data.assign(TotalPrice=lambda data: data['Quantity']*data['UnitPrice'])"
      ]
    },
    {
      "cell_type": "code",
      "execution_count": 19,
      "metadata": {
        "colab": {
          "base_uri": "https://localhost:8080/",
          "height": 424
        },
        "id": "nV32WChsc3t5",
        "outputId": "5e850fae-37cd-434d-f06b-97554caabf7a"
      },
      "outputs": [
        {
          "output_type": "execute_result",
          "data": {
            "text/plain": [
              "       InvoiceNo StockCode                          Description  Quantity  \\\n",
              "0         536365    85123A   WHITE HANGING HEART T-LIGHT HOLDER         6   \n",
              "1         536365     71053                  WHITE METAL LANTERN         6   \n",
              "2         536365    84406B       CREAM CUPID HEARTS COAT HANGER         8   \n",
              "3         536365    84029G  KNITTED UNION FLAG HOT WATER BOTTLE         6   \n",
              "4         536365    84029E       RED WOOLLY HOTTIE WHITE HEART.         6   \n",
              "...          ...       ...                                  ...       ...   \n",
              "392726    581587     22613          PACK OF 20 SPACEBOY NAPKINS        12   \n",
              "392727    581587     22899         CHILDREN'S APRON DOLLY GIRL          6   \n",
              "392728    581587     23254        CHILDRENS CUTLERY DOLLY GIRL          4   \n",
              "392729    581587     23255      CHILDRENS CUTLERY CIRCUS PARADE         4   \n",
              "392730    581587     22138        BAKING SET 9 PIECE RETROSPOT          3   \n",
              "\n",
              "       InvoiceDate  UnitPrice  CustomerID         Country  TotalPrice  \n",
              "0       2010-12-01       2.55     17850.0  United Kingdom       15.30  \n",
              "1       2010-12-01       3.39     17850.0  United Kingdom       20.34  \n",
              "2       2010-12-01       2.75     17850.0  United Kingdom       22.00  \n",
              "3       2010-12-01       3.39     17850.0  United Kingdom       20.34  \n",
              "4       2010-12-01       3.39     17850.0  United Kingdom       20.34  \n",
              "...            ...        ...         ...             ...         ...  \n",
              "392726  2011-12-09       0.85     12680.0          France       10.20  \n",
              "392727  2011-12-09       2.10     12680.0          France       12.60  \n",
              "392728  2011-12-09       4.15     12680.0          France       16.60  \n",
              "392729  2011-12-09       4.15     12680.0          France       16.60  \n",
              "392730  2011-12-09       4.95     12680.0          France       14.85  \n",
              "\n",
              "[392731 rows x 9 columns]"
            ],
            "text/html": [
              "\n",
              "  <div id=\"df-de752a14-9732-4ae7-9469-fbe5c8cf2d1c\">\n",
              "    <div class=\"colab-df-container\">\n",
              "      <div>\n",
              "<style scoped>\n",
              "    .dataframe tbody tr th:only-of-type {\n",
              "        vertical-align: middle;\n",
              "    }\n",
              "\n",
              "    .dataframe tbody tr th {\n",
              "        vertical-align: top;\n",
              "    }\n",
              "\n",
              "    .dataframe thead th {\n",
              "        text-align: right;\n",
              "    }\n",
              "</style>\n",
              "<table border=\"1\" class=\"dataframe\">\n",
              "  <thead>\n",
              "    <tr style=\"text-align: right;\">\n",
              "      <th></th>\n",
              "      <th>InvoiceNo</th>\n",
              "      <th>StockCode</th>\n",
              "      <th>Description</th>\n",
              "      <th>Quantity</th>\n",
              "      <th>InvoiceDate</th>\n",
              "      <th>UnitPrice</th>\n",
              "      <th>CustomerID</th>\n",
              "      <th>Country</th>\n",
              "      <th>TotalPrice</th>\n",
              "    </tr>\n",
              "  </thead>\n",
              "  <tbody>\n",
              "    <tr>\n",
              "      <th>0</th>\n",
              "      <td>536365</td>\n",
              "      <td>85123A</td>\n",
              "      <td>WHITE HANGING HEART T-LIGHT HOLDER</td>\n",
              "      <td>6</td>\n",
              "      <td>2010-12-01</td>\n",
              "      <td>2.55</td>\n",
              "      <td>17850.0</td>\n",
              "      <td>United Kingdom</td>\n",
              "      <td>15.30</td>\n",
              "    </tr>\n",
              "    <tr>\n",
              "      <th>1</th>\n",
              "      <td>536365</td>\n",
              "      <td>71053</td>\n",
              "      <td>WHITE METAL LANTERN</td>\n",
              "      <td>6</td>\n",
              "      <td>2010-12-01</td>\n",
              "      <td>3.39</td>\n",
              "      <td>17850.0</td>\n",
              "      <td>United Kingdom</td>\n",
              "      <td>20.34</td>\n",
              "    </tr>\n",
              "    <tr>\n",
              "      <th>2</th>\n",
              "      <td>536365</td>\n",
              "      <td>84406B</td>\n",
              "      <td>CREAM CUPID HEARTS COAT HANGER</td>\n",
              "      <td>8</td>\n",
              "      <td>2010-12-01</td>\n",
              "      <td>2.75</td>\n",
              "      <td>17850.0</td>\n",
              "      <td>United Kingdom</td>\n",
              "      <td>22.00</td>\n",
              "    </tr>\n",
              "    <tr>\n",
              "      <th>3</th>\n",
              "      <td>536365</td>\n",
              "      <td>84029G</td>\n",
              "      <td>KNITTED UNION FLAG HOT WATER BOTTLE</td>\n",
              "      <td>6</td>\n",
              "      <td>2010-12-01</td>\n",
              "      <td>3.39</td>\n",
              "      <td>17850.0</td>\n",
              "      <td>United Kingdom</td>\n",
              "      <td>20.34</td>\n",
              "    </tr>\n",
              "    <tr>\n",
              "      <th>4</th>\n",
              "      <td>536365</td>\n",
              "      <td>84029E</td>\n",
              "      <td>RED WOOLLY HOTTIE WHITE HEART.</td>\n",
              "      <td>6</td>\n",
              "      <td>2010-12-01</td>\n",
              "      <td>3.39</td>\n",
              "      <td>17850.0</td>\n",
              "      <td>United Kingdom</td>\n",
              "      <td>20.34</td>\n",
              "    </tr>\n",
              "    <tr>\n",
              "      <th>...</th>\n",
              "      <td>...</td>\n",
              "      <td>...</td>\n",
              "      <td>...</td>\n",
              "      <td>...</td>\n",
              "      <td>...</td>\n",
              "      <td>...</td>\n",
              "      <td>...</td>\n",
              "      <td>...</td>\n",
              "      <td>...</td>\n",
              "    </tr>\n",
              "    <tr>\n",
              "      <th>392726</th>\n",
              "      <td>581587</td>\n",
              "      <td>22613</td>\n",
              "      <td>PACK OF 20 SPACEBOY NAPKINS</td>\n",
              "      <td>12</td>\n",
              "      <td>2011-12-09</td>\n",
              "      <td>0.85</td>\n",
              "      <td>12680.0</td>\n",
              "      <td>France</td>\n",
              "      <td>10.20</td>\n",
              "    </tr>\n",
              "    <tr>\n",
              "      <th>392727</th>\n",
              "      <td>581587</td>\n",
              "      <td>22899</td>\n",
              "      <td>CHILDREN'S APRON DOLLY GIRL</td>\n",
              "      <td>6</td>\n",
              "      <td>2011-12-09</td>\n",
              "      <td>2.10</td>\n",
              "      <td>12680.0</td>\n",
              "      <td>France</td>\n",
              "      <td>12.60</td>\n",
              "    </tr>\n",
              "    <tr>\n",
              "      <th>392728</th>\n",
              "      <td>581587</td>\n",
              "      <td>23254</td>\n",
              "      <td>CHILDRENS CUTLERY DOLLY GIRL</td>\n",
              "      <td>4</td>\n",
              "      <td>2011-12-09</td>\n",
              "      <td>4.15</td>\n",
              "      <td>12680.0</td>\n",
              "      <td>France</td>\n",
              "      <td>16.60</td>\n",
              "    </tr>\n",
              "    <tr>\n",
              "      <th>392729</th>\n",
              "      <td>581587</td>\n",
              "      <td>23255</td>\n",
              "      <td>CHILDRENS CUTLERY CIRCUS PARADE</td>\n",
              "      <td>4</td>\n",
              "      <td>2011-12-09</td>\n",
              "      <td>4.15</td>\n",
              "      <td>12680.0</td>\n",
              "      <td>France</td>\n",
              "      <td>16.60</td>\n",
              "    </tr>\n",
              "    <tr>\n",
              "      <th>392730</th>\n",
              "      <td>581587</td>\n",
              "      <td>22138</td>\n",
              "      <td>BAKING SET 9 PIECE RETROSPOT</td>\n",
              "      <td>3</td>\n",
              "      <td>2011-12-09</td>\n",
              "      <td>4.95</td>\n",
              "      <td>12680.0</td>\n",
              "      <td>France</td>\n",
              "      <td>14.85</td>\n",
              "    </tr>\n",
              "  </tbody>\n",
              "</table>\n",
              "<p>392731 rows × 9 columns</p>\n",
              "</div>\n",
              "      <button class=\"colab-df-convert\" onclick=\"convertToInteractive('df-de752a14-9732-4ae7-9469-fbe5c8cf2d1c')\"\n",
              "              title=\"Convert this dataframe to an interactive table.\"\n",
              "              style=\"display:none;\">\n",
              "        \n",
              "  <svg xmlns=\"http://www.w3.org/2000/svg\" height=\"24px\"viewBox=\"0 0 24 24\"\n",
              "       width=\"24px\">\n",
              "    <path d=\"M0 0h24v24H0V0z\" fill=\"none\"/>\n",
              "    <path d=\"M18.56 5.44l.94 2.06.94-2.06 2.06-.94-2.06-.94-.94-2.06-.94 2.06-2.06.94zm-11 1L8.5 8.5l.94-2.06 2.06-.94-2.06-.94L8.5 2.5l-.94 2.06-2.06.94zm10 10l.94 2.06.94-2.06 2.06-.94-2.06-.94-.94-2.06-.94 2.06-2.06.94z\"/><path d=\"M17.41 7.96l-1.37-1.37c-.4-.4-.92-.59-1.43-.59-.52 0-1.04.2-1.43.59L10.3 9.45l-7.72 7.72c-.78.78-.78 2.05 0 2.83L4 21.41c.39.39.9.59 1.41.59.51 0 1.02-.2 1.41-.59l7.78-7.78 2.81-2.81c.8-.78.8-2.07 0-2.86zM5.41 20L4 18.59l7.72-7.72 1.47 1.35L5.41 20z\"/>\n",
              "  </svg>\n",
              "      </button>\n",
              "      \n",
              "  <style>\n",
              "    .colab-df-container {\n",
              "      display:flex;\n",
              "      flex-wrap:wrap;\n",
              "      gap: 12px;\n",
              "    }\n",
              "\n",
              "    .colab-df-convert {\n",
              "      background-color: #E8F0FE;\n",
              "      border: none;\n",
              "      border-radius: 50%;\n",
              "      cursor: pointer;\n",
              "      display: none;\n",
              "      fill: #1967D2;\n",
              "      height: 32px;\n",
              "      padding: 0 0 0 0;\n",
              "      width: 32px;\n",
              "    }\n",
              "\n",
              "    .colab-df-convert:hover {\n",
              "      background-color: #E2EBFA;\n",
              "      box-shadow: 0px 1px 2px rgba(60, 64, 67, 0.3), 0px 1px 3px 1px rgba(60, 64, 67, 0.15);\n",
              "      fill: #174EA6;\n",
              "    }\n",
              "\n",
              "    [theme=dark] .colab-df-convert {\n",
              "      background-color: #3B4455;\n",
              "      fill: #D2E3FC;\n",
              "    }\n",
              "\n",
              "    [theme=dark] .colab-df-convert:hover {\n",
              "      background-color: #434B5C;\n",
              "      box-shadow: 0px 1px 3px 1px rgba(0, 0, 0, 0.15);\n",
              "      filter: drop-shadow(0px 1px 2px rgba(0, 0, 0, 0.3));\n",
              "      fill: #FFFFFF;\n",
              "    }\n",
              "  </style>\n",
              "\n",
              "      <script>\n",
              "        const buttonEl =\n",
              "          document.querySelector('#df-de752a14-9732-4ae7-9469-fbe5c8cf2d1c button.colab-df-convert');\n",
              "        buttonEl.style.display =\n",
              "          google.colab.kernel.accessAllowed ? 'block' : 'none';\n",
              "\n",
              "        async function convertToInteractive(key) {\n",
              "          const element = document.querySelector('#df-de752a14-9732-4ae7-9469-fbe5c8cf2d1c');\n",
              "          const dataTable =\n",
              "            await google.colab.kernel.invokeFunction('convertToInteractive',\n",
              "                                                     [key], {});\n",
              "          if (!dataTable) return;\n",
              "\n",
              "          const docLinkHtml = 'Like what you see? Visit the ' +\n",
              "            '<a target=\"_blank\" href=https://colab.research.google.com/notebooks/data_table.ipynb>data table notebook</a>'\n",
              "            + ' to learn more about interactive tables.';\n",
              "          element.innerHTML = '';\n",
              "          dataTable['output_type'] = 'display_data';\n",
              "          await google.colab.output.renderOutput(dataTable, element);\n",
              "          const docLink = document.createElement('div');\n",
              "          docLink.innerHTML = docLinkHtml;\n",
              "          element.appendChild(docLink);\n",
              "        }\n",
              "      </script>\n",
              "    </div>\n",
              "  </div>\n",
              "  "
            ]
          },
          "metadata": {},
          "execution_count": 19
        }
      ],
      "source": [
        "data.reset_index(drop=True, inplace=True); data"
      ]
    },
    {
      "cell_type": "markdown",
      "metadata": {
        "id": "spWRY_6Uc3t5"
      },
      "source": [
        "**Most popular products**"
      ]
    },
    {
      "cell_type": "code",
      "execution_count": 20,
      "metadata": {
        "colab": {
          "base_uri": "https://localhost:8080/",
          "height": 532
        },
        "id": "DDh9KW7cc3t6",
        "outputId": "51e0386d-68d4-4ef1-e609-b162adb94641"
      },
      "outputs": [
        {
          "output_type": "stream",
          "name": "stderr",
          "text": [
            "/usr/local/lib/python3.7/dist-packages/seaborn/_decorators.py:43: FutureWarning: Pass the following variables as keyword args: x, y. From version 0.12, the only valid positional argument will be `data`, and passing other arguments without an explicit keyword will result in an error or misinterpretation.\n",
            "  FutureWarning\n"
          ]
        },
        {
          "output_type": "display_data",
          "data": {
            "text/plain": [
              "<Figure size 432x288 with 1 Axes>"
            ],
            "image/png": "[encoded data removed]"
          },
          "metadata": {
            "needs_background": "light"
          }
        }
      ],
      "source": [
        "popular_products = data['Description'].value_counts().sort_values(ascending=False).iloc[:20]\n",
        "sns.barplot(popular_products.index, popular_products.values, palette=\"Blues_d\")\n",
        "plt.xticks(rotation=90)\n",
        "plt.ylabel(\"Occurences\")\n",
        "plt.title(\"Common Products\")\n",
        "plt.show()"
      ]
    },
    {
      "cell_type": "markdown",
      "metadata": {
        "id": "PAW9eCs0c3t6"
      },
      "source": [
        "**Most common country**"
      ]
    },
    {
      "cell_type": "code",
      "execution_count": 21,
      "metadata": {
        "colab": {
          "base_uri": "https://localhost:8080/",
          "height": 421
        },
        "id": "glFj0p3rc3t6",
        "outputId": "64eeb230-5bb1-4286-a4a3-1a7c09eb8b74"
      },
      "outputs": [
        {
          "output_type": "stream",
          "name": "stderr",
          "text": [
            "/usr/local/lib/python3.7/dist-packages/seaborn/_decorators.py:43: FutureWarning: Pass the following variables as keyword args: x, y. From version 0.12, the only valid positional argument will be `data`, and passing other arguments without an explicit keyword will result in an error or misinterpretation.\n",
            "  FutureWarning\n"
          ]
        },
        {
          "output_type": "display_data",
          "data": {
            "text/plain": [
              "<Figure size 432x288 with 1 Axes>"
            ],
            "image/png": "[encoded data removed]"
          },
          "metadata": {
            "needs_background": "light"
          }
        }
      ],
      "source": [
        "country_customers=data.iloc[data['CustomerID'].unique()].groupby(['Country'])['CustomerID'].count().sort_values(ascending=False)\n",
        "sns.barplot(country_customers.index, country_customers.values)\n",
        "plt.xticks(rotation=90)\n",
        "plt.ylabel(\"Occurences\")\n",
        "plt.title(\"Common Products\")\n",
        "plt.show()"
      ]
    },
    {
      "cell_type": "markdown",
      "metadata": {
        "id": "qqK4UK8Cc3t6"
      },
      "source": [
        "Most customers are located in United Kingdom."
      ]
    },
    {
      "cell_type": "markdown",
      "metadata": {
        "id": "Lpmrm4mvc3t7"
      },
      "source": [
        "**Most products sold to these countries**"
      ]
    },
    {
      "cell_type": "code",
      "execution_count": 22,
      "metadata": {
        "colab": {
          "base_uri": "https://localhost:8080/",
          "height": 407
        },
        "id": "ljan-cqvc3t7",
        "outputId": "5ba3b9f1-a8fa-4db6-ab1d-919b855c5caa"
      },
      "outputs": [
        {
          "output_type": "stream",
          "name": "stderr",
          "text": [
            "/usr/local/lib/python3.7/dist-packages/seaborn/_decorators.py:43: FutureWarning: Pass the following variables as keyword args: x, y. From version 0.12, the only valid positional argument will be `data`, and passing other arguments without an explicit keyword will result in an error or misinterpretation.\n",
            "  FutureWarning\n"
          ]
        },
        {
          "output_type": "display_data",
          "data": {
            "text/plain": [
              "<Figure size 432x288 with 1 Axes>"
            ],
            "image/png": "[encoded data removed]"
          },
          "metadata": {
            "needs_background": "light"
          }
        }
      ],
      "source": [
        "country_orders = data['Country'].value_counts().sort_values(ascending=False).iloc[:10]\n",
        "sns.barplot(country_orders.index, country_orders.values)\n",
        "plt.xticks(rotation=90)\n",
        "plt.ylabel(\"Occurences\")\n",
        "plt.title(\"Common Products\")\n",
        "plt.show()"
      ]
    },
    {
      "cell_type": "markdown",
      "metadata": {
        "id": "2HibLwSPc3t7"
      },
      "source": [
        "Similarly most products are sold to customers in United Kingdom."
      ]
    },
    {
      "cell_type": "markdown",
      "metadata": {
        "id": "Y_ta0Be5c3t8"
      },
      "source": [
        "**Most spending customers**"
      ]
    },
    {
      "cell_type": "code",
      "execution_count": 23,
      "metadata": {
        "scrolled": true,
        "colab": {
          "base_uri": "https://localhost:8080/",
          "height": 424
        },
        "id": "P_l-hY61c3t8",
        "outputId": "8141ccc6-042b-4c77-b995-d39415498f9e"
      },
      "outputs": [
        {
          "output_type": "execute_result",
          "data": {
            "text/plain": [
              "      CustomerID         Country  Quantity_bought\n",
              "4019     17841.0  United Kingdom             7676\n",
              "1888     14911.0            EIRE             5672\n",
              "1298     14096.0  United Kingdom             5111\n",
              "334      12748.0  United Kingdom             4413\n",
              "1670     14606.0  United Kingdom             2677\n",
              "...          ...             ...              ...\n",
              "605      13135.0  United Kingdom                1\n",
              "728      13302.0  United Kingdom                1\n",
              "4082     17923.0  United Kingdom                1\n",
              "643      13185.0  United Kingdom                1\n",
              "0        12346.0  United Kingdom                1\n",
              "\n",
              "[4347 rows x 3 columns]"
            ],
            "text/html": [
              "\n",
              "  <div id=\"df-721b1b73-ec9a-4010-a5ff-6c4a1ce1fbef\">\n",
              "    <div class=\"colab-df-container\">\n",
              "      <div>\n",
              "<style scoped>\n",
              "    .dataframe tbody tr th:only-of-type {\n",
              "        vertical-align: middle;\n",
              "    }\n",
              "\n",
              "    .dataframe tbody tr th {\n",
              "        vertical-align: top;\n",
              "    }\n",
              "\n",
              "    .dataframe thead th {\n",
              "        text-align: right;\n",
              "    }\n",
              "</style>\n",
              "<table border=\"1\" class=\"dataframe\">\n",
              "  <thead>\n",
              "    <tr style=\"text-align: right;\">\n",
              "      <th></th>\n",
              "      <th>CustomerID</th>\n",
              "      <th>Country</th>\n",
              "      <th>Quantity_bought</th>\n",
              "    </tr>\n",
              "  </thead>\n",
              "  <tbody>\n",
              "    <tr>\n",
              "      <th>4019</th>\n",
              "      <td>17841.0</td>\n",
              "      <td>United Kingdom</td>\n",
              "      <td>7676</td>\n",
              "    </tr>\n",
              "    <tr>\n",
              "      <th>1888</th>\n",
              "      <td>14911.0</td>\n",
              "      <td>EIRE</td>\n",
              "      <td>5672</td>\n",
              "    </tr>\n",
              "    <tr>\n",
              "      <th>1298</th>\n",
              "      <td>14096.0</td>\n",
              "      <td>United Kingdom</td>\n",
              "      <td>5111</td>\n",
              "    </tr>\n",
              "    <tr>\n",
              "      <th>334</th>\n",
              "      <td>12748.0</td>\n",
              "      <td>United Kingdom</td>\n",
              "      <td>4413</td>\n",
              "    </tr>\n",
              "    <tr>\n",
              "      <th>1670</th>\n",
              "      <td>14606.0</td>\n",
              "      <td>United Kingdom</td>\n",
              "      <td>2677</td>\n",
              "    </tr>\n",
              "    <tr>\n",
              "      <th>...</th>\n",
              "      <td>...</td>\n",
              "      <td>...</td>\n",
              "      <td>...</td>\n",
              "    </tr>\n",
              "    <tr>\n",
              "      <th>605</th>\n",
              "      <td>13135.0</td>\n",
              "      <td>United Kingdom</td>\n",
              "      <td>1</td>\n",
              "    </tr>\n",
              "    <tr>\n",
              "      <th>728</th>\n",
              "      <td>13302.0</td>\n",
              "      <td>United Kingdom</td>\n",
              "      <td>1</td>\n",
              "    </tr>\n",
              "    <tr>\n",
              "      <th>4082</th>\n",
              "      <td>17923.0</td>\n",
              "      <td>United Kingdom</td>\n",
              "      <td>1</td>\n",
              "    </tr>\n",
              "    <tr>\n",
              "      <th>643</th>\n",
              "      <td>13185.0</td>\n",
              "      <td>United Kingdom</td>\n",
              "      <td>1</td>\n",
              "    </tr>\n",
              "    <tr>\n",
              "      <th>0</th>\n",
              "      <td>12346.0</td>\n",
              "      <td>United Kingdom</td>\n",
              "      <td>1</td>\n",
              "    </tr>\n",
              "  </tbody>\n",
              "</table>\n",
              "<p>4347 rows × 3 columns</p>\n",
              "</div>\n",
              "      <button class=\"colab-df-convert\" onclick=\"convertToInteractive('df-721b1b73-ec9a-4010-a5ff-6c4a1ce1fbef')\"\n",
              "              title=\"Convert this dataframe to an interactive table.\"\n",
              "              style=\"display:none;\">\n",
              "        \n",
              "  <svg xmlns=\"http://www.w3.org/2000/svg\" height=\"24px\"viewBox=\"0 0 24 24\"\n",
              "       width=\"24px\">\n",
              "    <path d=\"M0 0h24v24H0V0z\" fill=\"none\"/>\n",
              "    <path d=\"M18.56 5.44l.94 2.06.94-2.06 2.06-.94-2.06-.94-.94-2.06-.94 2.06-2.06.94zm-11 1L8.5 8.5l.94-2.06 2.06-.94-2.06-.94L8.5 2.5l-.94 2.06-2.06.94zm10 10l.94 2.06.94-2.06 2.06-.94-2.06-.94-.94-2.06-.94 2.06-2.06.94z\"/><path d=\"M17.41 7.96l-1.37-1.37c-.4-.4-.92-.59-1.43-.59-.52 0-1.04.2-1.43.59L10.3 9.45l-7.72 7.72c-.78.78-.78 2.05 0 2.83L4 21.41c.39.39.9.59 1.41.59.51 0 1.02-.2 1.41-.59l7.78-7.78 2.81-2.81c.8-.78.8-2.07 0-2.86zM5.41 20L4 18.59l7.72-7.72 1.47 1.35L5.41 20z\"/>\n",
              "  </svg>\n",
              "      </button>\n",
              "      \n",
              "  <style>\n",
              "    .colab-df-container {\n",
              "      display:flex;\n",
              "      flex-wrap:wrap;\n",
              "      gap: 12px;\n",
              "    }\n",
              "\n",
              "    .colab-df-convert {\n",
              "      background-color: #E8F0FE;\n",
              "      border: none;\n",
              "      border-radius: 50%;\n",
              "      cursor: pointer;\n",
              "      display: none;\n",
              "      fill: #1967D2;\n",
              "      height: 32px;\n",
              "      padding: 0 0 0 0;\n",
              "      width: 32px;\n",
              "    }\n",
              "\n",
              "    .colab-df-convert:hover {\n",
              "      background-color: #E2EBFA;\n",
              "      box-shadow: 0px 1px 2px rgba(60, 64, 67, 0.3), 0px 1px 3px 1px rgba(60, 64, 67, 0.15);\n",
              "      fill: #174EA6;\n",
              "    }\n",
              "\n",
              "    [theme=dark] .colab-df-convert {\n",
              "      background-color: #3B4455;\n",
              "      fill: #D2E3FC;\n",
              "    }\n",
              "\n",
              "    [theme=dark] .colab-df-convert:hover {\n",
              "      background-color: #434B5C;\n",
              "      box-shadow: 0px 1px 3px 1px rgba(0, 0, 0, 0.15);\n",
              "      filter: drop-shadow(0px 1px 2px rgba(0, 0, 0, 0.3));\n",
              "      fill: #FFFFFF;\n",
              "    }\n",
              "  </style>\n",
              "\n",
              "      <script>\n",
              "        const buttonEl =\n",
              "          document.querySelector('#df-721b1b73-ec9a-4010-a5ff-6c4a1ce1fbef button.colab-df-convert');\n",
              "        buttonEl.style.display =\n",
              "          google.colab.kernel.accessAllowed ? 'block' : 'none';\n",
              "\n",
              "        async function convertToInteractive(key) {\n",
              "          const element = document.querySelector('#df-721b1b73-ec9a-4010-a5ff-6c4a1ce1fbef');\n",
              "          const dataTable =\n",
              "            await google.colab.kernel.invokeFunction('convertToInteractive',\n",
              "                                                     [key], {});\n",
              "          if (!dataTable) return;\n",
              "\n",
              "          const docLinkHtml = 'Like what you see? Visit the ' +\n",
              "            '<a target=\"_blank\" href=https://colab.research.google.com/notebooks/data_table.ipynb>data table notebook</a>'\n",
              "            + ' to learn more about interactive tables.';\n",
              "          element.innerHTML = '';\n",
              "          dataTable['output_type'] = 'display_data';\n",
              "          await google.colab.output.renderOutput(dataTable, element);\n",
              "          const docLink = document.createElement('div');\n",
              "          docLink.innerHTML = docLinkHtml;\n",
              "          element.appendChild(docLink);\n",
              "        }\n",
              "      </script>\n",
              "    </div>\n",
              "  </div>\n",
              "  "
            ]
          },
          "metadata": {},
          "execution_count": 23
        }
      ],
      "source": [
        "data.groupby(['CustomerID', 'Country'], as_index=False)['InvoiceNo'].count().rename(columns={'InvoiceNo': 'Quantity_bought'}).sort_values(by='Quantity_bought', ascending=False)"
      ]
    },
    {
      "cell_type": "markdown",
      "metadata": {
        "id": "S1xH4LMQc3t8"
      },
      "source": [
        "Customer with ID: 17841 from United Kingdom has the highest number of quantity bought from the retailer."
      ]
    },
    {
      "cell_type": "code",
      "execution_count": 24,
      "metadata": {
        "colab": {
          "base_uri": "https://localhost:8080/",
          "height": 363
        },
        "id": "B0TebqR3c3t8",
        "outputId": "9556b3a1-8ce0-4d39-c410-7fe2729b84e5"
      },
      "outputs": [
        {
          "output_type": "execute_result",
          "data": {
            "text/plain": [
              "       CustomerID  TotalSpent\n",
              "12891     16446.0   168469.60\n",
              "0         12346.0    77183.60\n",
              "9022      15098.0    38970.00\n",
              "15870     17450.0    31698.16\n",
              "164       12415.0    22775.93\n",
              "18016     18102.0    22206.00\n",
              "15867     17450.0    22104.80\n",
              "169       12415.0    21880.44\n",
              "10900     15749.0    21535.90\n",
              "7438      14646.0    20277.92"
            ],
            "text/html": [
              "\n",
              "  <div id=\"df-01c34104-74d0-4ef3-9d40-fcee9892f1ce\">\n",
              "    <div class=\"colab-df-container\">\n",
              "      <div>\n",
              "<style scoped>\n",
              "    .dataframe tbody tr th:only-of-type {\n",
              "        vertical-align: middle;\n",
              "    }\n",
              "\n",
              "    .dataframe tbody tr th {\n",
              "        vertical-align: top;\n",
              "    }\n",
              "\n",
              "    .dataframe thead th {\n",
              "        text-align: right;\n",
              "    }\n",
              "</style>\n",
              "<table border=\"1\" class=\"dataframe\">\n",
              "  <thead>\n",
              "    <tr style=\"text-align: right;\">\n",
              "      <th></th>\n",
              "      <th>CustomerID</th>\n",
              "      <th>TotalSpent</th>\n",
              "    </tr>\n",
              "  </thead>\n",
              "  <tbody>\n",
              "    <tr>\n",
              "      <th>12891</th>\n",
              "      <td>16446.0</td>\n",
              "      <td>168469.60</td>\n",
              "    </tr>\n",
              "    <tr>\n",
              "      <th>0</th>\n",
              "      <td>12346.0</td>\n",
              "      <td>77183.60</td>\n",
              "    </tr>\n",
              "    <tr>\n",
              "      <th>9022</th>\n",
              "      <td>15098.0</td>\n",
              "      <td>38970.00</td>\n",
              "    </tr>\n",
              "    <tr>\n",
              "      <th>15870</th>\n",
              "      <td>17450.0</td>\n",
              "      <td>31698.16</td>\n",
              "    </tr>\n",
              "    <tr>\n",
              "      <th>164</th>\n",
              "      <td>12415.0</td>\n",
              "      <td>22775.93</td>\n",
              "    </tr>\n",
              "    <tr>\n",
              "      <th>18016</th>\n",
              "      <td>18102.0</td>\n",
              "      <td>22206.00</td>\n",
              "    </tr>\n",
              "    <tr>\n",
              "      <th>15867</th>\n",
              "      <td>17450.0</td>\n",
              "      <td>22104.80</td>\n",
              "    </tr>\n",
              "    <tr>\n",
              "      <th>169</th>\n",
              "      <td>12415.0</td>\n",
              "      <td>21880.44</td>\n",
              "    </tr>\n",
              "    <tr>\n",
              "      <th>10900</th>\n",
              "      <td>15749.0</td>\n",
              "      <td>21535.90</td>\n",
              "    </tr>\n",
              "    <tr>\n",
              "      <th>7438</th>\n",
              "      <td>14646.0</td>\n",
              "      <td>20277.92</td>\n",
              "    </tr>\n",
              "  </tbody>\n",
              "</table>\n",
              "</div>\n",
              "      <button class=\"colab-df-convert\" onclick=\"convertToInteractive('df-01c34104-74d0-4ef3-9d40-fcee9892f1ce')\"\n",
              "              title=\"Convert this dataframe to an interactive table.\"\n",
              "              style=\"display:none;\">\n",
              "        \n",
              "  <svg xmlns=\"http://www.w3.org/2000/svg\" height=\"24px\"viewBox=\"0 0 24 24\"\n",
              "       width=\"24px\">\n",
              "    <path d=\"M0 0h24v24H0V0z\" fill=\"none\"/>\n",
              "    <path d=\"M18.56 5.44l.94 2.06.94-2.06 2.06-.94-2.06-.94-.94-2.06-.94 2.06-2.06.94zm-11 1L8.5 8.5l.94-2.06 2.06-.94-2.06-.94L8.5 2.5l-.94 2.06-2.06.94zm10 10l.94 2.06.94-2.06 2.06-.94-2.06-.94-.94-2.06-.94 2.06-2.06.94z\"/><path d=\"M17.41 7.96l-1.37-1.37c-.4-.4-.92-.59-1.43-.59-.52 0-1.04.2-1.43.59L10.3 9.45l-7.72 7.72c-.78.78-.78 2.05 0 2.83L4 21.41c.39.39.9.59 1.41.59.51 0 1.02-.2 1.41-.59l7.78-7.78 2.81-2.81c.8-.78.8-2.07 0-2.86zM5.41 20L4 18.59l7.72-7.72 1.47 1.35L5.41 20z\"/>\n",
              "  </svg>\n",
              "      </button>\n",
              "      \n",
              "  <style>\n",
              "    .colab-df-container {\n",
              "      display:flex;\n",
              "      flex-wrap:wrap;\n",
              "      gap: 12px;\n",
              "    }\n",
              "\n",
              "    .colab-df-convert {\n",
              "      background-color: #E8F0FE;\n",
              "      border: none;\n",
              "      border-radius: 50%;\n",
              "      cursor: pointer;\n",
              "      display: none;\n",
              "      fill: #1967D2;\n",
              "      height: 32px;\n",
              "      padding: 0 0 0 0;\n",
              "      width: 32px;\n",
              "    }\n",
              "\n",
              "    .colab-df-convert:hover {\n",
              "      background-color: #E2EBFA;\n",
              "      box-shadow: 0px 1px 2px rgba(60, 64, 67, 0.3), 0px 1px 3px 1px rgba(60, 64, 67, 0.15);\n",
              "      fill: #174EA6;\n",
              "    }\n",
              "\n",
              "    [theme=dark] .colab-df-convert {\n",
              "      background-color: #3B4455;\n",
              "      fill: #D2E3FC;\n",
              "    }\n",
              "\n",
              "    [theme=dark] .colab-df-convert:hover {\n",
              "      background-color: #434B5C;\n",
              "      box-shadow: 0px 1px 3px 1px rgba(0, 0, 0, 0.15);\n",
              "      filter: drop-shadow(0px 1px 2px rgba(0, 0, 0, 0.3));\n",
              "      fill: #FFFFFF;\n",
              "    }\n",
              "  </style>\n",
              "\n",
              "      <script>\n",
              "        const buttonEl =\n",
              "          document.querySelector('#df-01c34104-74d0-4ef3-9d40-fcee9892f1ce button.colab-df-convert');\n",
              "        buttonEl.style.display =\n",
              "          google.colab.kernel.accessAllowed ? 'block' : 'none';\n",
              "\n",
              "        async function convertToInteractive(key) {\n",
              "          const element = document.querySelector('#df-01c34104-74d0-4ef3-9d40-fcee9892f1ce');\n",
              "          const dataTable =\n",
              "            await google.colab.kernel.invokeFunction('convertToInteractive',\n",
              "                                                     [key], {});\n",
              "          if (!dataTable) return;\n",
              "\n",
              "          const docLinkHtml = 'Like what you see? Visit the ' +\n",
              "            '<a target=\"_blank\" href=https://colab.research.google.com/notebooks/data_table.ipynb>data table notebook</a>'\n",
              "            + ' to learn more about interactive tables.';\n",
              "          element.innerHTML = '';\n",
              "          dataTable['output_type'] = 'display_data';\n",
              "          await google.colab.output.renderOutput(dataTable, element);\n",
              "          const docLink = document.createElement('div');\n",
              "          docLink.innerHTML = docLinkHtml;\n",
              "          element.appendChild(docLink);\n",
              "        }\n",
              "      </script>\n",
              "    </div>\n",
              "  </div>\n",
              "  "
            ]
          },
          "metadata": {},
          "execution_count": 24
        }
      ],
      "source": [
        "total_spending = data.groupby(['CustomerID', 'InvoiceNo'], as_index=False)['TotalPrice'].sum().rename(columns={'TotalPrice': 'TotalSpent'})\n",
        "total_spending[['CustomerID', 'TotalSpent']].sort_values(by='TotalSpent', ascending=False).iloc[:10]"
      ]
    },
    {
      "cell_type": "markdown",
      "metadata": {
        "id": "CiSgHUfUc3t9"
      },
      "source": [
        "CustomerID:16446.0 has the biggest amount spent with 168,469.60€."
      ]
    },
    {
      "cell_type": "markdown",
      "metadata": {
        "id": "73QbofpZc3t9"
      },
      "source": [
        "# 2.A Cohort Analysis - Monthly\n",
        "Cohort analysis is a tool to measure user engagement over time. It helps to know whether user engagement is actually getting better over time or is only appearing to improve because of growth."
      ]
    },
    {
      "cell_type": "code",
      "execution_count": 25,
      "metadata": {
        "id": "5jgyGbEmc3t9"
      },
      "outputs": [],
      "source": [
        "# data['InvoiceCohort'] = [x.strftime(\"%Y-%m\") for x in data['InvoiceDate']]\n",
        "data['InvoiceCohort'] = pd.to_datetime(data['InvoiceDate']).dt.to_period('M')\n",
        "data['InvoiceCohort'] = data.groupby(['CustomerID'])['InvoiceCohort'].transform(min)\n",
        "# InvoiceCohort column shows the first time purchase"
      ]
    },
    {
      "cell_type": "code",
      "execution_count": 26,
      "metadata": {
        "colab": {
          "base_uri": "https://localhost:8080/",
          "height": 206
        },
        "id": "tz_6F9Omc3t9",
        "outputId": "a71b5874-2f4b-4197-d3e5-1c51f0d6c3d2"
      },
      "outputs": [
        {
          "output_type": "execute_result",
          "data": {
            "text/plain": [
              "  InvoiceNo StockCode                          Description  Quantity  \\\n",
              "0    536365    85123A   WHITE HANGING HEART T-LIGHT HOLDER         6   \n",
              "1    536365     71053                  WHITE METAL LANTERN         6   \n",
              "2    536365    84406B       CREAM CUPID HEARTS COAT HANGER         8   \n",
              "3    536365    84029G  KNITTED UNION FLAG HOT WATER BOTTLE         6   \n",
              "4    536365    84029E       RED WOOLLY HOTTIE WHITE HEART.         6   \n",
              "\n",
              "  InvoiceDate  UnitPrice  CustomerID         Country  TotalPrice InvoiceCohort  \n",
              "0  2010-12-01       2.55     17850.0  United Kingdom       15.30       2010-12  \n",
              "1  2010-12-01       3.39     17850.0  United Kingdom       20.34       2010-12  \n",
              "2  2010-12-01       2.75     17850.0  United Kingdom       22.00       2010-12  \n",
              "3  2010-12-01       3.39     17850.0  United Kingdom       20.34       2010-12  \n",
              "4  2010-12-01       3.39     17850.0  United Kingdom       20.34       2010-12  "
            ],
            "text/html": [
              "\n",
              "  <div id=\"df-13221fe0-df30-45ef-ab4c-c4fdaa391781\">\n",
              "    <div class=\"colab-df-container\">\n",
              "      <div>\n",
              "<style scoped>\n",
              "    .dataframe tbody tr th:only-of-type {\n",
              "        vertical-align: middle;\n",
              "    }\n",
              "\n",
              "    .dataframe tbody tr th {\n",
              "        vertical-align: top;\n",
              "    }\n",
              "\n",
              "    .dataframe thead th {\n",
              "        text-align: right;\n",
              "    }\n",
              "</style>\n",
              "<table border=\"1\" class=\"dataframe\">\n",
              "  <thead>\n",
              "    <tr style=\"text-align: right;\">\n",
              "      <th></th>\n",
              "      <th>InvoiceNo</th>\n",
              "      <th>StockCode</th>\n",
              "      <th>Description</th>\n",
              "      <th>Quantity</th>\n",
              "      <th>InvoiceDate</th>\n",
              "      <th>UnitPrice</th>\n",
              "      <th>CustomerID</th>\n",
              "      <th>Country</th>\n",
              "      <th>TotalPrice</th>\n",
              "      <th>InvoiceCohort</th>\n",
              "    </tr>\n",
              "  </thead>\n",
              "  <tbody>\n",
              "    <tr>\n",
              "      <th>0</th>\n",
              "      <td>536365</td>\n",
              "      <td>85123A</td>\n",
              "      <td>WHITE HANGING HEART T-LIGHT HOLDER</td>\n",
              "      <td>6</td>\n",
              "      <td>2010-12-01</td>\n",
              "      <td>2.55</td>\n",
              "      <td>17850.0</td>\n",
              "      <td>United Kingdom</td>\n",
              "      <td>15.30</td>\n",
              "      <td>2010-12</td>\n",
              "    </tr>\n",
              "    <tr>\n",
              "      <th>1</th>\n",
              "      <td>536365</td>\n",
              "      <td>71053</td>\n",
              "      <td>WHITE METAL LANTERN</td>\n",
              "      <td>6</td>\n",
              "      <td>2010-12-01</td>\n",
              "      <td>3.39</td>\n",
              "      <td>17850.0</td>\n",
              "      <td>United Kingdom</td>\n",
              "      <td>20.34</td>\n",
              "      <td>2010-12</td>\n",
              "    </tr>\n",
              "    <tr>\n",
              "      <th>2</th>\n",
              "      <td>536365</td>\n",
              "      <td>84406B</td>\n",
              "      <td>CREAM CUPID HEARTS COAT HANGER</td>\n",
              "      <td>8</td>\n",
              "      <td>2010-12-01</td>\n",
              "      <td>2.75</td>\n",
              "      <td>17850.0</td>\n",
              "      <td>United Kingdom</td>\n",
              "      <td>22.00</td>\n",
              "      <td>2010-12</td>\n",
              "    </tr>\n",
              "    <tr>\n",
              "      <th>3</th>\n",
              "      <td>536365</td>\n",
              "      <td>84029G</td>\n",
              "      <td>KNITTED UNION FLAG HOT WATER BOTTLE</td>\n",
              "      <td>6</td>\n",
              "      <td>2010-12-01</td>\n",
              "      <td>3.39</td>\n",
              "      <td>17850.0</td>\n",
              "      <td>United Kingdom</td>\n",
              "      <td>20.34</td>\n",
              "      <td>2010-12</td>\n",
              "    </tr>\n",
              "    <tr>\n",
              "      <th>4</th>\n",
              "      <td>536365</td>\n",
              "      <td>84029E</td>\n",
              "      <td>RED WOOLLY HOTTIE WHITE HEART.</td>\n",
              "      <td>6</td>\n",
              "      <td>2010-12-01</td>\n",
              "      <td>3.39</td>\n",
              "      <td>17850.0</td>\n",
              "      <td>United Kingdom</td>\n",
              "      <td>20.34</td>\n",
              "      <td>2010-12</td>\n",
              "    </tr>\n",
              "  </tbody>\n",
              "</table>\n",
              "</div>\n",
              "      <button class=\"colab-df-convert\" onclick=\"convertToInteractive('df-13221fe0-df30-45ef-ab4c-c4fdaa391781')\"\n",
              "              title=\"Convert this dataframe to an interactive table.\"\n",
              "              style=\"display:none;\">\n",
              "        \n",
              "  <svg xmlns=\"http://www.w3.org/2000/svg\" height=\"24px\"viewBox=\"0 0 24 24\"\n",
              "       width=\"24px\">\n",
              "    <path d=\"M0 0h24v24H0V0z\" fill=\"none\"/>\n",
              "    <path d=\"M18.56 5.44l.94 2.06.94-2.06 2.06-.94-2.06-.94-.94-2.06-.94 2.06-2.06.94zm-11 1L8.5 8.5l.94-2.06 2.06-.94-2.06-.94L8.5 2.5l-.94 2.06-2.06.94zm10 10l.94 2.06.94-2.06 2.06-.94-2.06-.94-.94-2.06-.94 2.06-2.06.94z\"/><path d=\"M17.41 7.96l-1.37-1.37c-.4-.4-.92-.59-1.43-.59-.52 0-1.04.2-1.43.59L10.3 9.45l-7.72 7.72c-.78.78-.78 2.05 0 2.83L4 21.41c.39.39.9.59 1.41.59.51 0 1.02-.2 1.41-.59l7.78-7.78 2.81-2.81c.8-.78.8-2.07 0-2.86zM5.41 20L4 18.59l7.72-7.72 1.47 1.35L5.41 20z\"/>\n",
              "  </svg>\n",
              "      </button>\n",
              "      \n",
              "  <style>\n",
              "    .colab-df-container {\n",
              "      display:flex;\n",
              "      flex-wrap:wrap;\n",
              "      gap: 12px;\n",
              "    }\n",
              "\n",
              "    .colab-df-convert {\n",
              "      background-color: #E8F0FE;\n",
              "      border: none;\n",
              "      border-radius: 50%;\n",
              "      cursor: pointer;\n",
              "      display: none;\n",
              "      fill: #1967D2;\n",
              "      height: 32px;\n",
              "      padding: 0 0 0 0;\n",
              "      width: 32px;\n",
              "    }\n",
              "\n",
              "    .colab-df-convert:hover {\n",
              "      background-color: #E2EBFA;\n",
              "      box-shadow: 0px 1px 2px rgba(60, 64, 67, 0.3), 0px 1px 3px 1px rgba(60, 64, 67, 0.15);\n",
              "      fill: #174EA6;\n",
              "    }\n",
              "\n",
              "    [theme=dark] .colab-df-convert {\n",
              "      background-color: #3B4455;\n",
              "      fill: #D2E3FC;\n",
              "    }\n",
              "\n",
              "    [theme=dark] .colab-df-convert:hover {\n",
              "      background-color: #434B5C;\n",
              "      box-shadow: 0px 1px 3px 1px rgba(0, 0, 0, 0.15);\n",
              "      filter: drop-shadow(0px 1px 2px rgba(0, 0, 0, 0.3));\n",
              "      fill: #FFFFFF;\n",
              "    }\n",
              "  </style>\n",
              "\n",
              "      <script>\n",
              "        const buttonEl =\n",
              "          document.querySelector('#df-13221fe0-df30-45ef-ab4c-c4fdaa391781 button.colab-df-convert');\n",
              "        buttonEl.style.display =\n",
              "          google.colab.kernel.accessAllowed ? 'block' : 'none';\n",
              "\n",
              "        async function convertToInteractive(key) {\n",
              "          const element = document.querySelector('#df-13221fe0-df30-45ef-ab4c-c4fdaa391781');\n",
              "          const dataTable =\n",
              "            await google.colab.kernel.invokeFunction('convertToInteractive',\n",
              "                                                     [key], {});\n",
              "          if (!dataTable) return;\n",
              "\n",
              "          const docLinkHtml = 'Like what you see? Visit the ' +\n",
              "            '<a target=\"_blank\" href=https://colab.research.google.com/notebooks/data_table.ipynb>data table notebook</a>'\n",
              "            + ' to learn more about interactive tables.';\n",
              "          element.innerHTML = '';\n",
              "          dataTable['output_type'] = 'display_data';\n",
              "          await google.colab.output.renderOutput(dataTable, element);\n",
              "          const docLink = document.createElement('div');\n",
              "          docLink.innerHTML = docLinkHtml;\n",
              "          element.appendChild(docLink);\n",
              "        }\n",
              "      </script>\n",
              "    </div>\n",
              "  </div>\n",
              "  "
            ]
          },
          "metadata": {},
          "execution_count": 26
        }
      ],
      "source": [
        "data.head()"
      ]
    },
    {
      "cell_type": "code",
      "execution_count": 27,
      "metadata": {
        "id": "h6a7_gTOc3t-"
      },
      "outputs": [],
      "source": [
        "cohort_id = []\n",
        "for x in range(len(data)):\n",
        "    cohort_id.append(12*(data.loc[x, 'InvoiceDate'].year - data.loc[x, 'InvoiceCohort'].year) + \n",
        "             (data.loc[x, 'InvoiceDate'].month - data.loc[x, 'InvoiceCohort'].month) + 1)\n",
        "\n",
        "data['CohortID'] = cohort_id"
      ]
    },
    {
      "cell_type": "code",
      "execution_count": 28,
      "metadata": {
        "colab": {
          "base_uri": "https://localhost:8080/",
          "height": 424
        },
        "id": "RN6uk9w-c3t-",
        "outputId": "754b8522-4aa3-408a-9ae9-ae13f4d303c3"
      },
      "outputs": [
        {
          "output_type": "execute_result",
          "data": {
            "text/plain": [
              "    CohortID InvoiceCohort  Retain_cus\n",
              "0          1       2010-12         885\n",
              "1          1       2011-01         417\n",
              "2          1       2011-02         380\n",
              "3          1       2011-03         452\n",
              "4          1       2011-04         300\n",
              "..       ...           ...         ...\n",
              "86        11       2011-01         152\n",
              "87        11       2011-02          26\n",
              "88        12       2010-12         445\n",
              "89        12       2011-01          49\n",
              "90        13       2010-12         235\n",
              "\n",
              "[91 rows x 3 columns]"
            ],
            "text/html": [
              "\n",
              "  <div id=\"df-73d30f85-14c7-4790-bae1-3a91d438b855\">\n",
              "    <div class=\"colab-df-container\">\n",
              "      <div>\n",
              "<style scoped>\n",
              "    .dataframe tbody tr th:only-of-type {\n",
              "        vertical-align: middle;\n",
              "    }\n",
              "\n",
              "    .dataframe tbody tr th {\n",
              "        vertical-align: top;\n",
              "    }\n",
              "\n",
              "    .dataframe thead th {\n",
              "        text-align: right;\n",
              "    }\n",
              "</style>\n",
              "<table border=\"1\" class=\"dataframe\">\n",
              "  <thead>\n",
              "    <tr style=\"text-align: right;\">\n",
              "      <th></th>\n",
              "      <th>CohortID</th>\n",
              "      <th>InvoiceCohort</th>\n",
              "      <th>Retain_cus</th>\n",
              "    </tr>\n",
              "  </thead>\n",
              "  <tbody>\n",
              "    <tr>\n",
              "      <th>0</th>\n",
              "      <td>1</td>\n",
              "      <td>2010-12</td>\n",
              "      <td>885</td>\n",
              "    </tr>\n",
              "    <tr>\n",
              "      <th>1</th>\n",
              "      <td>1</td>\n",
              "      <td>2011-01</td>\n",
              "      <td>417</td>\n",
              "    </tr>\n",
              "    <tr>\n",
              "      <th>2</th>\n",
              "      <td>1</td>\n",
              "      <td>2011-02</td>\n",
              "      <td>380</td>\n",
              "    </tr>\n",
              "    <tr>\n",
              "      <th>3</th>\n",
              "      <td>1</td>\n",
              "      <td>2011-03</td>\n",
              "      <td>452</td>\n",
              "    </tr>\n",
              "    <tr>\n",
              "      <th>4</th>\n",
              "      <td>1</td>\n",
              "      <td>2011-04</td>\n",
              "      <td>300</td>\n",
              "    </tr>\n",
              "    <tr>\n",
              "      <th>...</th>\n",
              "      <td>...</td>\n",
              "      <td>...</td>\n",
              "      <td>...</td>\n",
              "    </tr>\n",
              "    <tr>\n",
              "      <th>86</th>\n",
              "      <td>11</td>\n",
              "      <td>2011-01</td>\n",
              "      <td>152</td>\n",
              "    </tr>\n",
              "    <tr>\n",
              "      <th>87</th>\n",
              "      <td>11</td>\n",
              "      <td>2011-02</td>\n",
              "      <td>26</td>\n",
              "    </tr>\n",
              "    <tr>\n",
              "      <th>88</th>\n",
              "      <td>12</td>\n",
              "      <td>2010-12</td>\n",
              "      <td>445</td>\n",
              "    </tr>\n",
              "    <tr>\n",
              "      <th>89</th>\n",
              "      <td>12</td>\n",
              "      <td>2011-01</td>\n",
              "      <td>49</td>\n",
              "    </tr>\n",
              "    <tr>\n",
              "      <th>90</th>\n",
              "      <td>13</td>\n",
              "      <td>2010-12</td>\n",
              "      <td>235</td>\n",
              "    </tr>\n",
              "  </tbody>\n",
              "</table>\n",
              "<p>91 rows × 3 columns</p>\n",
              "</div>\n",
              "      <button class=\"colab-df-convert\" onclick=\"convertToInteractive('df-73d30f85-14c7-4790-bae1-3a91d438b855')\"\n",
              "              title=\"Convert this dataframe to an interactive table.\"\n",
              "              style=\"display:none;\">\n",
              "        \n",
              "  <svg xmlns=\"http://www.w3.org/2000/svg\" height=\"24px\"viewBox=\"0 0 24 24\"\n",
              "       width=\"24px\">\n",
              "    <path d=\"M0 0h24v24H0V0z\" fill=\"none\"/>\n",
              "    <path d=\"M18.56 5.44l.94 2.06.94-2.06 2.06-.94-2.06-.94-.94-2.06-.94 2.06-2.06.94zm-11 1L8.5 8.5l.94-2.06 2.06-.94-2.06-.94L8.5 2.5l-.94 2.06-2.06.94zm10 10l.94 2.06.94-2.06 2.06-.94-2.06-.94-.94-2.06-.94 2.06-2.06.94z\"/><path d=\"M17.41 7.96l-1.37-1.37c-.4-.4-.92-.59-1.43-.59-.52 0-1.04.2-1.43.59L10.3 9.45l-7.72 7.72c-.78.78-.78 2.05 0 2.83L4 21.41c.39.39.9.59 1.41.59.51 0 1.02-.2 1.41-.59l7.78-7.78 2.81-2.81c.8-.78.8-2.07 0-2.86zM5.41 20L4 18.59l7.72-7.72 1.47 1.35L5.41 20z\"/>\n",
              "  </svg>\n",
              "      </button>\n",
              "      \n",
              "  <style>\n",
              "    .colab-df-container {\n",
              "      display:flex;\n",
              "      flex-wrap:wrap;\n",
              "      gap: 12px;\n",
              "    }\n",
              "\n",
              "    .colab-df-convert {\n",
              "      background-color: #E8F0FE;\n",
              "      border: none;\n",
              "      border-radius: 50%;\n",
              "      cursor: pointer;\n",
              "      display: none;\n",
              "      fill: #1967D2;\n",
              "      height: 32px;\n",
              "      padding: 0 0 0 0;\n",
              "      width: 32px;\n",
              "    }\n",
              "\n",
              "    .colab-df-convert:hover {\n",
              "      background-color: #E2EBFA;\n",
              "      box-shadow: 0px 1px 2px rgba(60, 64, 67, 0.3), 0px 1px 3px 1px rgba(60, 64, 67, 0.15);\n",
              "      fill: #174EA6;\n",
              "    }\n",
              "\n",
              "    [theme=dark] .colab-df-convert {\n",
              "      background-color: #3B4455;\n",
              "      fill: #D2E3FC;\n",
              "    }\n",
              "\n",
              "    [theme=dark] .colab-df-convert:hover {\n",
              "      background-color: #434B5C;\n",
              "      box-shadow: 0px 1px 3px 1px rgba(0, 0, 0, 0.15);\n",
              "      filter: drop-shadow(0px 1px 2px rgba(0, 0, 0, 0.3));\n",
              "      fill: #FFFFFF;\n",
              "    }\n",
              "  </style>\n",
              "\n",
              "      <script>\n",
              "        const buttonEl =\n",
              "          document.querySelector('#df-73d30f85-14c7-4790-bae1-3a91d438b855 button.colab-df-convert');\n",
              "        buttonEl.style.display =\n",
              "          google.colab.kernel.accessAllowed ? 'block' : 'none';\n",
              "\n",
              "        async function convertToInteractive(key) {\n",
              "          const element = document.querySelector('#df-73d30f85-14c7-4790-bae1-3a91d438b855');\n",
              "          const dataTable =\n",
              "            await google.colab.kernel.invokeFunction('convertToInteractive',\n",
              "                                                     [key], {});\n",
              "          if (!dataTable) return;\n",
              "\n",
              "          const docLinkHtml = 'Like what you see? Visit the ' +\n",
              "            '<a target=\"_blank\" href=https://colab.research.google.com/notebooks/data_table.ipynb>data table notebook</a>'\n",
              "            + ' to learn more about interactive tables.';\n",
              "          element.innerHTML = '';\n",
              "          dataTable['output_type'] = 'display_data';\n",
              "          await google.colab.output.renderOutput(dataTable, element);\n",
              "          const docLink = document.createElement('div');\n",
              "          docLink.innerHTML = docLinkHtml;\n",
              "          element.appendChild(docLink);\n",
              "        }\n",
              "      </script>\n",
              "    </div>\n",
              "  </div>\n",
              "  "
            ]
          },
          "metadata": {},
          "execution_count": 28
        }
      ],
      "source": [
        "cohort = data.groupby(['CohortID', 'InvoiceCohort'], as_index=False)['CustomerID'].nunique().rename(columns={'CustomerID': 'Retain_cus'})\n",
        "cohort"
      ]
    },
    {
      "cell_type": "code",
      "execution_count": 29,
      "metadata": {
        "colab": {
          "base_uri": "https://localhost:8080/",
          "height": 520
        },
        "id": "KVVTGkohc3t-",
        "outputId": "27bfa9b2-ab3d-4612-f5bf-195b8f19b8ea"
      },
      "outputs": [
        {
          "output_type": "execute_result",
          "data": {
            "text/plain": [
              "CohortID           1      2      3      4      5      6      7      8      9   \\\n",
              "InvoiceCohort                                                                   \n",
              "2010-12         885.0  324.0  286.0  340.0  321.0  352.0  321.0  309.0  313.0   \n",
              "2011-01         417.0   92.0  111.0   96.0  134.0  120.0  103.0  101.0  125.0   \n",
              "2011-02         380.0   71.0   71.0  108.0  103.0   94.0   96.0  106.0   94.0   \n",
              "2011-03         452.0   68.0  114.0   90.0  101.0   76.0  121.0  104.0  126.0   \n",
              "2011-04         300.0   64.0   61.0   63.0   59.0   68.0   65.0   78.0   22.0   \n",
              "2011-05         284.0   54.0   49.0   49.0   59.0   66.0   75.0   27.0    NaN   \n",
              "2011-06         242.0   42.0   38.0   64.0   56.0   81.0   23.0    NaN    NaN   \n",
              "2011-07         188.0   34.0   39.0   42.0   51.0   21.0    NaN    NaN    NaN   \n",
              "2011-08         169.0   35.0   42.0   41.0   21.0    NaN    NaN    NaN    NaN   \n",
              "2011-09         299.0   70.0   90.0   34.0    NaN    NaN    NaN    NaN    NaN   \n",
              "2011-10         358.0   86.0   41.0    NaN    NaN    NaN    NaN    NaN    NaN   \n",
              "2011-11         324.0   36.0    NaN    NaN    NaN    NaN    NaN    NaN    NaN   \n",
              "2011-12          41.0    NaN    NaN    NaN    NaN    NaN    NaN    NaN    NaN   \n",
              "AllUsers       4339.0  976.0  942.0  927.0  905.0  878.0  804.0  725.0  680.0   \n",
              "\n",
              "CohortID          10     11     12     13  \n",
              "InvoiceCohort                              \n",
              "2010-12        350.0  331.0  445.0  235.0  \n",
              "2011-01        136.0  152.0   49.0    NaN  \n",
              "2011-02        116.0   26.0    NaN    NaN  \n",
              "2011-03         39.0    NaN    NaN    NaN  \n",
              "2011-04          NaN    NaN    NaN    NaN  \n",
              "2011-05          NaN    NaN    NaN    NaN  \n",
              "2011-06          NaN    NaN    NaN    NaN  \n",
              "2011-07          NaN    NaN    NaN    NaN  \n",
              "2011-08          NaN    NaN    NaN    NaN  \n",
              "2011-09          NaN    NaN    NaN    NaN  \n",
              "2011-10          NaN    NaN    NaN    NaN  \n",
              "2011-11          NaN    NaN    NaN    NaN  \n",
              "2011-12          NaN    NaN    NaN    NaN  \n",
              "AllUsers       641.0  509.0  494.0  235.0  "
            ],
            "text/html": [
              "\n",
              "  <div id=\"df-19867071-4185-48f5-a46b-fb71abc984e5\">\n",
              "    <div class=\"colab-df-container\">\n",
              "      <div>\n",
              "<style scoped>\n",
              "    .dataframe tbody tr th:only-of-type {\n",
              "        vertical-align: middle;\n",
              "    }\n",
              "\n",
              "    .dataframe tbody tr th {\n",
              "        vertical-align: top;\n",
              "    }\n",
              "\n",
              "    .dataframe thead th {\n",
              "        text-align: right;\n",
              "    }\n",
              "</style>\n",
              "<table border=\"1\" class=\"dataframe\">\n",
              "  <thead>\n",
              "    <tr style=\"text-align: right;\">\n",
              "      <th>CohortID</th>\n",
              "      <th>1</th>\n",
              "      <th>2</th>\n",
              "      <th>3</th>\n",
              "      <th>4</th>\n",
              "      <th>5</th>\n",
              "      <th>6</th>\n",
              "      <th>7</th>\n",
              "      <th>8</th>\n",
              "      <th>9</th>\n",
              "      <th>10</th>\n",
              "      <th>11</th>\n",
              "      <th>12</th>\n",
              "      <th>13</th>\n",
              "    </tr>\n",
              "    <tr>\n",
              "      <th>InvoiceCohort</th>\n",
              "      <th></th>\n",
              "      <th></th>\n",
              "      <th></th>\n",
              "      <th></th>\n",
              "      <th></th>\n",
              "      <th></th>\n",
              "      <th></th>\n",
              "      <th></th>\n",
              "      <th></th>\n",
              "      <th></th>\n",
              "      <th></th>\n",
              "      <th></th>\n",
              "      <th></th>\n",
              "    </tr>\n",
              "  </thead>\n",
              "  <tbody>\n",
              "    <tr>\n",
              "      <th>2010-12</th>\n",
              "      <td>885.0</td>\n",
              "      <td>324.0</td>\n",
              "      <td>286.0</td>\n",
              "      <td>340.0</td>\n",
              "      <td>321.0</td>\n",
              "      <td>352.0</td>\n",
              "      <td>321.0</td>\n",
              "      <td>309.0</td>\n",
              "      <td>313.0</td>\n",
              "      <td>350.0</td>\n",
              "      <td>331.0</td>\n",
              "      <td>445.0</td>\n",
              "      <td>235.0</td>\n",
              "    </tr>\n",
              "    <tr>\n",
              "      <th>2011-01</th>\n",
              "      <td>417.0</td>\n",
              "      <td>92.0</td>\n",
              "      <td>111.0</td>\n",
              "      <td>96.0</td>\n",
              "      <td>134.0</td>\n",
              "      <td>120.0</td>\n",
              "      <td>103.0</td>\n",
              "      <td>101.0</td>\n",
              "      <td>125.0</td>\n",
              "      <td>136.0</td>\n",
              "      <td>152.0</td>\n",
              "      <td>49.0</td>\n",
              "      <td>NaN</td>\n",
              "    </tr>\n",
              "    <tr>\n",
              "      <th>2011-02</th>\n",
              "      <td>380.0</td>\n",
              "      <td>71.0</td>\n",
              "      <td>71.0</td>\n",
              "      <td>108.0</td>\n",
              "      <td>103.0</td>\n",
              "      <td>94.0</td>\n",
              "      <td>96.0</td>\n",
              "      <td>106.0</td>\n",
              "      <td>94.0</td>\n",
              "      <td>116.0</td>\n",
              "      <td>26.0</td>\n",
              "      <td>NaN</td>\n",
              "      <td>NaN</td>\n",
              "    </tr>\n",
              "    <tr>\n",
              "      <th>2011-03</th>\n",
              "      <td>452.0</td>\n",
              "      <td>68.0</td>\n",
              "      <td>114.0</td>\n",
              "      <td>90.0</td>\n",
              "      <td>101.0</td>\n",
              "      <td>76.0</td>\n",
              "      <td>121.0</td>\n",
              "      <td>104.0</td>\n",
              "      <td>126.0</td>\n",
              "      <td>39.0</td>\n",
              "      <td>NaN</td>\n",
              "      <td>NaN</td>\n",
              "      <td>NaN</td>\n",
              "    </tr>\n",
              "    <tr>\n",
              "      <th>2011-04</th>\n",
              "      <td>300.0</td>\n",
              "      <td>64.0</td>\n",
              "      <td>61.0</td>\n",
              "      <td>63.0</td>\n",
              "      <td>59.0</td>\n",
              "      <td>68.0</td>\n",
              "      <td>65.0</td>\n",
              "      <td>78.0</td>\n",
              "      <td>22.0</td>\n",
              "      <td>NaN</td>\n",
              "      <td>NaN</td>\n",
              "      <td>NaN</td>\n",
              "      <td>NaN</td>\n",
              "    </tr>\n",
              "    <tr>\n",
              "      <th>2011-05</th>\n",
              "      <td>284.0</td>\n",
              "      <td>54.0</td>\n",
              "      <td>49.0</td>\n",
              "      <td>49.0</td>\n",
              "      <td>59.0</td>\n",
              "      <td>66.0</td>\n",
              "      <td>75.0</td>\n",
              "      <td>27.0</td>\n",
              "      <td>NaN</td>\n",
              "      <td>NaN</td>\n",
              "      <td>NaN</td>\n",
              "      <td>NaN</td>\n",
              "      <td>NaN</td>\n",
              "    </tr>\n",
              "    <tr>\n",
              "      <th>2011-06</th>\n",
              "      <td>242.0</td>\n",
              "      <td>42.0</td>\n",
              "      <td>38.0</td>\n",
              "      <td>64.0</td>\n",
              "      <td>56.0</td>\n",
              "      <td>81.0</td>\n",
              "      <td>23.0</td>\n",
              "      <td>NaN</td>\n",
              "      <td>NaN</td>\n",
              "      <td>NaN</td>\n",
              "      <td>NaN</td>\n",
              "      <td>NaN</td>\n",
              "      <td>NaN</td>\n",
              "    </tr>\n",
              "    <tr>\n",
              "      <th>2011-07</th>\n",
              "      <td>188.0</td>\n",
              "      <td>34.0</td>\n",
              "      <td>39.0</td>\n",
              "      <td>42.0</td>\n",
              "      <td>51.0</td>\n",
              "      <td>21.0</td>\n",
              "      <td>NaN</td>\n",
              "      <td>NaN</td>\n",
              "      <td>NaN</td>\n",
              "      <td>NaN</td>\n",
              "      <td>NaN</td>\n",
              "      <td>NaN</td>\n",
              "      <td>NaN</td>\n",
              "    </tr>\n",
              "    <tr>\n",
              "      <th>2011-08</th>\n",
              "      <td>169.0</td>\n",
              "      <td>35.0</td>\n",
              "      <td>42.0</td>\n",
              "      <td>41.0</td>\n",
              "      <td>21.0</td>\n",
              "      <td>NaN</td>\n",
              "      <td>NaN</td>\n",
              "      <td>NaN</td>\n",
              "      <td>NaN</td>\n",
              "      <td>NaN</td>\n",
              "      <td>NaN</td>\n",
              "      <td>NaN</td>\n",
              "      <td>NaN</td>\n",
              "    </tr>\n",
              "    <tr>\n",
              "      <th>2011-09</th>\n",
              "      <td>299.0</td>\n",
              "      <td>70.0</td>\n",
              "      <td>90.0</td>\n",
              "      <td>34.0</td>\n",
              "      <td>NaN</td>\n",
              "      <td>NaN</td>\n",
              "      <td>NaN</td>\n",
              "      <td>NaN</td>\n",
              "      <td>NaN</td>\n",
              "      <td>NaN</td>\n",
              "      <td>NaN</td>\n",
              "      <td>NaN</td>\n",
              "      <td>NaN</td>\n",
              "    </tr>\n",
              "    <tr>\n",
              "      <th>2011-10</th>\n",
              "      <td>358.0</td>\n",
              "      <td>86.0</td>\n",
              "      <td>41.0</td>\n",
              "      <td>NaN</td>\n",
              "      <td>NaN</td>\n",
              "      <td>NaN</td>\n",
              "      <td>NaN</td>\n",
              "      <td>NaN</td>\n",
              "      <td>NaN</td>\n",
              "      <td>NaN</td>\n",
              "      <td>NaN</td>\n",
              "      <td>NaN</td>\n",
              "      <td>NaN</td>\n",
              "    </tr>\n",
              "    <tr>\n",
              "      <th>2011-11</th>\n",
              "      <td>324.0</td>\n",
              "      <td>36.0</td>\n",
              "      <td>NaN</td>\n",
              "      <td>NaN</td>\n",
              "      <td>NaN</td>\n",
              "      <td>NaN</td>\n",
              "      <td>NaN</td>\n",
              "      <td>NaN</td>\n",
              "      <td>NaN</td>\n",
              "      <td>NaN</td>\n",
              "      <td>NaN</td>\n",
              "      <td>NaN</td>\n",
              "      <td>NaN</td>\n",
              "    </tr>\n",
              "    <tr>\n",
              "      <th>2011-12</th>\n",
              "      <td>41.0</td>\n",
              "      <td>NaN</td>\n",
              "      <td>NaN</td>\n",
              "      <td>NaN</td>\n",
              "      <td>NaN</td>\n",
              "      <td>NaN</td>\n",
              "      <td>NaN</td>\n",
              "      <td>NaN</td>\n",
              "      <td>NaN</td>\n",
              "      <td>NaN</td>\n",
              "      <td>NaN</td>\n",
              "      <td>NaN</td>\n",
              "      <td>NaN</td>\n",
              "    </tr>\n",
              "    <tr>\n",
              "      <th>AllUsers</th>\n",
              "      <td>4339.0</td>\n",
              "      <td>976.0</td>\n",
              "      <td>942.0</td>\n",
              "      <td>927.0</td>\n",
              "      <td>905.0</td>\n",
              "      <td>878.0</td>\n",
              "      <td>804.0</td>\n",
              "      <td>725.0</td>\n",
              "      <td>680.0</td>\n",
              "      <td>641.0</td>\n",
              "      <td>509.0</td>\n",
              "      <td>494.0</td>\n",
              "      <td>235.0</td>\n",
              "    </tr>\n",
              "  </tbody>\n",
              "</table>\n",
              "</div>\n",
              "      <button class=\"colab-df-convert\" onclick=\"convertToInteractive('df-19867071-4185-48f5-a46b-fb71abc984e5')\"\n",
              "              title=\"Convert this dataframe to an interactive table.\"\n",
              "              style=\"display:none;\">\n",
              "        \n",
              "  <svg xmlns=\"http://www.w3.org/2000/svg\" height=\"24px\"viewBox=\"0 0 24 24\"\n",
              "       width=\"24px\">\n",
              "    <path d=\"M0 0h24v24H0V0z\" fill=\"none\"/>\n",
              "    <path d=\"M18.56 5.44l.94 2.06.94-2.06 2.06-.94-2.06-.94-.94-2.06-.94 2.06-2.06.94zm-11 1L8.5 8.5l.94-2.06 2.06-.94-2.06-.94L8.5 2.5l-.94 2.06-2.06.94zm10 10l.94 2.06.94-2.06 2.06-.94-2.06-.94-.94-2.06-.94 2.06-2.06.94z\"/><path d=\"M17.41 7.96l-1.37-1.37c-.4-.4-.92-.59-1.43-.59-.52 0-1.04.2-1.43.59L10.3 9.45l-7.72 7.72c-.78.78-.78 2.05 0 2.83L4 21.41c.39.39.9.59 1.41.59.51 0 1.02-.2 1.41-.59l7.78-7.78 2.81-2.81c.8-.78.8-2.07 0-2.86zM5.41 20L4 18.59l7.72-7.72 1.47 1.35L5.41 20z\"/>\n",
              "  </svg>\n",
              "      </button>\n",
              "      \n",
              "  <style>\n",
              "    .colab-df-container {\n",
              "      display:flex;\n",
              "      flex-wrap:wrap;\n",
              "      gap: 12px;\n",
              "    }\n",
              "\n",
              "    .colab-df-convert {\n",
              "      background-color: #E8F0FE;\n",
              "      border: none;\n",
              "      border-radius: 50%;\n",
              "      cursor: pointer;\n",
              "      display: none;\n",
              "      fill: #1967D2;\n",
              "      height: 32px;\n",
              "      padding: 0 0 0 0;\n",
              "      width: 32px;\n",
              "    }\n",
              "\n",
              "    .colab-df-convert:hover {\n",
              "      background-color: #E2EBFA;\n",
              "      box-shadow: 0px 1px 2px rgba(60, 64, 67, 0.3), 0px 1px 3px 1px rgba(60, 64, 67, 0.15);\n",
              "      fill: #174EA6;\n",
              "    }\n",
              "\n",
              "    [theme=dark] .colab-df-convert {\n",
              "      background-color: #3B4455;\n",
              "      fill: #D2E3FC;\n",
              "    }\n",
              "\n",
              "    [theme=dark] .colab-df-convert:hover {\n",
              "      background-color: #434B5C;\n",
              "      box-shadow: 0px 1px 3px 1px rgba(0, 0, 0, 0.15);\n",
              "      filter: drop-shadow(0px 1px 2px rgba(0, 0, 0, 0.3));\n",
              "      fill: #FFFFFF;\n",
              "    }\n",
              "  </style>\n",
              "\n",
              "      <script>\n",
              "        const buttonEl =\n",
              "          document.querySelector('#df-19867071-4185-48f5-a46b-fb71abc984e5 button.colab-df-convert');\n",
              "        buttonEl.style.display =\n",
              "          google.colab.kernel.accessAllowed ? 'block' : 'none';\n",
              "\n",
              "        async function convertToInteractive(key) {\n",
              "          const element = document.querySelector('#df-19867071-4185-48f5-a46b-fb71abc984e5');\n",
              "          const dataTable =\n",
              "            await google.colab.kernel.invokeFunction('convertToInteractive',\n",
              "                                                     [key], {});\n",
              "          if (!dataTable) return;\n",
              "\n",
              "          const docLinkHtml = 'Like what you see? Visit the ' +\n",
              "            '<a target=\"_blank\" href=https://colab.research.google.com/notebooks/data_table.ipynb>data table notebook</a>'\n",
              "            + ' to learn more about interactive tables.';\n",
              "          element.innerHTML = '';\n",
              "          dataTable['output_type'] = 'display_data';\n",
              "          await google.colab.output.renderOutput(dataTable, element);\n",
              "          const docLink = document.createElement('div');\n",
              "          docLink.innerHTML = docLinkHtml;\n",
              "          element.appendChild(docLink);\n",
              "        }\n",
              "      </script>\n",
              "    </div>\n",
              "  </div>\n",
              "  "
            ]
          },
          "metadata": {},
          "execution_count": 29
        }
      ],
      "source": [
        "cohort_pivot = cohort.pivot(index='InvoiceCohort', columns='CohortID', values='Retain_cus')\n",
        "cohort_pivot.loc['AllUsers']= cohort_pivot.sum()\n",
        "cohort_pivot"
      ]
    },
    {
      "cell_type": "markdown",
      "metadata": {
        "id": "CBTqt3dpc3t_"
      },
      "source": [
        "**417 users made their first purchase in January 2011. Consecutive month 92 of these users made another purchase. On the 10th month after making first purchase on January 2011, 152 customers out of 417 were still active.**"
      ]
    },
    {
      "cell_type": "markdown",
      "metadata": {
        "id": "LuGcPFK5c3t_"
      },
      "source": [
        "# 2.B Retention Rate - Monthly"
      ]
    },
    {
      "cell_type": "code",
      "execution_count": 30,
      "metadata": {
        "id": "2-uRn8m7c3t_"
      },
      "outputs": [],
      "source": [
        "cust_acquisition_day = cohort_pivot.iloc[:, 0]\n",
        "retention_table = round(cohort_pivot.divide(cust_acquisition_day, axis=0), 2)\n",
        "retention_table.iloc[-1:,1:] = list(round(retention_table.iloc[:-1, 1:].mean(), 2))\n",
        "\n",
        "# for col in retention_table:\n",
        "#     retention_table[col] = np.where(retention_table[col].notnull(), retention_table[col].astype(str).add(' %'), retention_table[col])"
      ]
    },
    {
      "cell_type": "markdown",
      "metadata": {
        "id": "CMyel-Mcc3t_"
      },
      "source": [
        "**See the percentage of retained customers based on their first time purchase month.**"
      ]
    },
    {
      "cell_type": "code",
      "execution_count": 31,
      "metadata": {
        "colab": {
          "base_uri": "https://localhost:8080/",
          "height": 513
        },
        "id": "-ALLdPJRc3uA",
        "outputId": "b3384aaf-ec09-49b2-a81e-28115a8583fe"
      },
      "outputs": [
        {
          "output_type": "display_data",
          "data": {
            "text/plain": [
              "<Figure size 1152x576 with 1 Axes>"
            ],
            "image/png": "[encoded data removed]"
          },
          "metadata": {
            "needs_background": "light"
          }
        }
      ],
      "source": [
        "plt.rcParams[\"axes.facecolor\"] = \"white\"\n",
        "fig, ax = plt.subplots(figsize = (16, 8))\n",
        "\n",
        "sns.heatmap(retention_table, annot = True, annot_kws = {\"fontsize\": 12}, cbar = False, ax = ax)\n",
        "\n",
        "plt.title(\"Retention Rate - Monthly\")\n",
        "plt.show()"
      ]
    },
    {
      "cell_type": "markdown",
      "metadata": {
        "id": "_bZ3czUoc3uA"
      },
      "source": [
        "Out of all of the new customers during this time range 21% customers are retained in 1st month and 27% in 12th month."
      ]
    },
    {
      "cell_type": "code",
      "execution_count": 32,
      "metadata": {
        "id": "zD2JZmvNc3uA"
      },
      "outputs": [],
      "source": [
        "# data.groupby(['CohortID'], as_index=False)[\"CustomerID\"].nunique()\n",
        "\n",
        "# monthly_new_customers = data.groupby(['InvoiceCohort'], as_index=False)['CustomerID'].nunique().rename(columns=({'CustomerID': 'Customers'}))\n",
        "# #Customer made first time purchase\n",
        "# monthly_customers = monthly_new_customers['Customers'].cumsum()[::-1]\n",
        "# monthly_customers\n",
        "\n",
        "# sns.lineplot(x = monthly_customers.index , y = monthly_customers['CustomerID'],  color = \"#101820\", marker = \"o\", markerfacecolor = \"#0EB8F1\", markeredgecolor = \"#000000\")"
      ]
    },
    {
      "cell_type": "markdown",
      "metadata": {
        "id": "davcChNqc3uA"
      },
      "source": [
        "# 3. RFM Analysis\n",
        "    -Recency: Last time purchase of a customer.\n",
        "    -Frequency: More frequent customer buy indicates higher engagement.\n",
        "    -Monetary: Level of spending.\n",
        "    \n",
        "**Way to distinguish between customer segments:**\n",
        "    -"
      ]
    },
    {
      "cell_type": "code",
      "execution_count": 33,
      "metadata": {
        "colab": {
          "base_uri": "https://localhost:8080/"
        },
        "id": "A9b9tLawc3uB",
        "outputId": "e0670939-d3f2-44a7-a408-44ec4b8dea03"
      },
      "outputs": [
        {
          "output_type": "execute_result",
          "data": {
            "text/plain": [
              "datetime.date(2011, 12, 9)"
            ]
          },
          "metadata": {},
          "execution_count": 33
        }
      ],
      "source": [
        "data['InvoiceDate'].max()"
      ]
    },
    {
      "cell_type": "code",
      "execution_count": 34,
      "metadata": {
        "id": "xtCjXa1Qc3uB"
      },
      "outputs": [],
      "source": [
        "last_day = dt.date(2011, 12, 10)"
      ]
    },
    {
      "cell_type": "markdown",
      "metadata": {
        "id": "wFxQbAd-c3uB"
      },
      "source": [
        "### Creating a dataframe for recency, frequency and monetary of customers"
      ]
    },
    {
      "cell_type": "code",
      "execution_count": 35,
      "metadata": {
        "colab": {
          "base_uri": "https://localhost:8080/",
          "height": 206
        },
        "id": "7kW1HSzjc3uB",
        "outputId": "eafaafa7-c1b5-4bcc-e6cf-b5d9b639eb31"
      },
      "outputs": [
        {
          "output_type": "execute_result",
          "data": {
            "text/plain": [
              "   CustomerID  Recency\n",
              "0     12346.0      326\n",
              "1     12347.0        3\n",
              "2     12348.0       76\n",
              "3     12349.0       19\n",
              "4     12350.0      311"
            ],
            "text/html": [
              "\n",
              "  <div id=\"df-58a0ef93-d09d-4f3d-90d5-1a32a2840c1c\">\n",
              "    <div class=\"colab-df-container\">\n",
              "      <div>\n",
              "<style scoped>\n",
              "    .dataframe tbody tr th:only-of-type {\n",
              "        vertical-align: middle;\n",
              "    }\n",
              "\n",
              "    .dataframe tbody tr th {\n",
              "        vertical-align: top;\n",
              "    }\n",
              "\n",
              "    .dataframe thead th {\n",
              "        text-align: right;\n",
              "    }\n",
              "</style>\n",
              "<table border=\"1\" class=\"dataframe\">\n",
              "  <thead>\n",
              "    <tr style=\"text-align: right;\">\n",
              "      <th></th>\n",
              "      <th>CustomerID</th>\n",
              "      <th>Recency</th>\n",
              "    </tr>\n",
              "  </thead>\n",
              "  <tbody>\n",
              "    <tr>\n",
              "      <th>0</th>\n",
              "      <td>12346.0</td>\n",
              "      <td>326</td>\n",
              "    </tr>\n",
              "    <tr>\n",
              "      <th>1</th>\n",
              "      <td>12347.0</td>\n",
              "      <td>3</td>\n",
              "    </tr>\n",
              "    <tr>\n",
              "      <th>2</th>\n",
              "      <td>12348.0</td>\n",
              "      <td>76</td>\n",
              "    </tr>\n",
              "    <tr>\n",
              "      <th>3</th>\n",
              "      <td>12349.0</td>\n",
              "      <td>19</td>\n",
              "    </tr>\n",
              "    <tr>\n",
              "      <th>4</th>\n",
              "      <td>12350.0</td>\n",
              "      <td>311</td>\n",
              "    </tr>\n",
              "  </tbody>\n",
              "</table>\n",
              "</div>\n",
              "      <button class=\"colab-df-convert\" onclick=\"convertToInteractive('df-58a0ef93-d09d-4f3d-90d5-1a32a2840c1c')\"\n",
              "              title=\"Convert this dataframe to an interactive table.\"\n",
              "              style=\"display:none;\">\n",
              "        \n",
              "  <svg xmlns=\"http://www.w3.org/2000/svg\" height=\"24px\"viewBox=\"0 0 24 24\"\n",
              "       width=\"24px\">\n",
              "    <path d=\"M0 0h24v24H0V0z\" fill=\"none\"/>\n",
              "    <path d=\"M18.56 5.44l.94 2.06.94-2.06 2.06-.94-2.06-.94-.94-2.06-.94 2.06-2.06.94zm-11 1L8.5 8.5l.94-2.06 2.06-.94-2.06-.94L8.5 2.5l-.94 2.06-2.06.94zm10 10l.94 2.06.94-2.06 2.06-.94-2.06-.94-.94-2.06-.94 2.06-2.06.94z\"/><path d=\"M17.41 7.96l-1.37-1.37c-.4-.4-.92-.59-1.43-.59-.52 0-1.04.2-1.43.59L10.3 9.45l-7.72 7.72c-.78.78-.78 2.05 0 2.83L4 21.41c.39.39.9.59 1.41.59.51 0 1.02-.2 1.41-.59l7.78-7.78 2.81-2.81c.8-.78.8-2.07 0-2.86zM5.41 20L4 18.59l7.72-7.72 1.47 1.35L5.41 20z\"/>\n",
              "  </svg>\n",
              "      </button>\n",
              "      \n",
              "  <style>\n",
              "    .colab-df-container {\n",
              "      display:flex;\n",
              "      flex-wrap:wrap;\n",
              "      gap: 12px;\n",
              "    }\n",
              "\n",
              "    .colab-df-convert {\n",
              "      background-color: #E8F0FE;\n",
              "      border: none;\n",
              "      border-radius: 50%;\n",
              "      cursor: pointer;\n",
              "      display: none;\n",
              "      fill: #1967D2;\n",
              "      height: 32px;\n",
              "      padding: 0 0 0 0;\n",
              "      width: 32px;\n",
              "    }\n",
              "\n",
              "    .colab-df-convert:hover {\n",
              "      background-color: #E2EBFA;\n",
              "      box-shadow: 0px 1px 2px rgba(60, 64, 67, 0.3), 0px 1px 3px 1px rgba(60, 64, 67, 0.15);\n",
              "      fill: #174EA6;\n",
              "    }\n",
              "\n",
              "    [theme=dark] .colab-df-convert {\n",
              "      background-color: #3B4455;\n",
              "      fill: #D2E3FC;\n",
              "    }\n",
              "\n",
              "    [theme=dark] .colab-df-convert:hover {\n",
              "      background-color: #434B5C;\n",
              "      box-shadow: 0px 1px 3px 1px rgba(0, 0, 0, 0.15);\n",
              "      filter: drop-shadow(0px 1px 2px rgba(0, 0, 0, 0.3));\n",
              "      fill: #FFFFFF;\n",
              "    }\n",
              "  </style>\n",
              "\n",
              "      <script>\n",
              "        const buttonEl =\n",
              "          document.querySelector('#df-58a0ef93-d09d-4f3d-90d5-1a32a2840c1c button.colab-df-convert');\n",
              "        buttonEl.style.display =\n",
              "          google.colab.kernel.accessAllowed ? 'block' : 'none';\n",
              "\n",
              "        async function convertToInteractive(key) {\n",
              "          const element = document.querySelector('#df-58a0ef93-d09d-4f3d-90d5-1a32a2840c1c');\n",
              "          const dataTable =\n",
              "            await google.colab.kernel.invokeFunction('convertToInteractive',\n",
              "                                                     [key], {});\n",
              "          if (!dataTable) return;\n",
              "\n",
              "          const docLinkHtml = 'Like what you see? Visit the ' +\n",
              "            '<a target=\"_blank\" href=https://colab.research.google.com/notebooks/data_table.ipynb>data table notebook</a>'\n",
              "            + ' to learn more about interactive tables.';\n",
              "          element.innerHTML = '';\n",
              "          dataTable['output_type'] = 'display_data';\n",
              "          await google.colab.output.renderOutput(dataTable, element);\n",
              "          const docLink = document.createElement('div');\n",
              "          docLink.innerHTML = docLinkHtml;\n",
              "          element.appendChild(docLink);\n",
              "        }\n",
              "      </script>\n",
              "    </div>\n",
              "  </div>\n",
              "  "
            ]
          },
          "metadata": {},
          "execution_count": 35
        }
      ],
      "source": [
        "recency_df = data.groupby(['CustomerID'], as_index=False)['InvoiceDate'].max()\n",
        "recency_df['Recency'] = recency_df['InvoiceDate'].apply(lambda x: (last_day-x).days)\n",
        "recency_df.drop('InvoiceDate', axis=1, inplace=True)\n",
        "recency_df.head()"
      ]
    },
    {
      "cell_type": "code",
      "execution_count": 36,
      "metadata": {
        "colab": {
          "base_uri": "https://localhost:8080/",
          "height": 206
        },
        "id": "shuVlOzyc3uC",
        "outputId": "4390e7ac-0597-45ff-9f56-f5176e48f2e5"
      },
      "outputs": [
        {
          "output_type": "execute_result",
          "data": {
            "text/plain": [
              "   CustomerID  Frequency\n",
              "0     12346.0          1\n",
              "1     12347.0          7\n",
              "2     12348.0          4\n",
              "3     12349.0          1\n",
              "4     12350.0          1"
            ],
            "text/html": [
              "\n",
              "  <div id=\"df-a2472878-166c-4882-8ec5-d6bd37a358bf\">\n",
              "    <div class=\"colab-df-container\">\n",
              "      <div>\n",
              "<style scoped>\n",
              "    .dataframe tbody tr th:only-of-type {\n",
              "        vertical-align: middle;\n",
              "    }\n",
              "\n",
              "    .dataframe tbody tr th {\n",
              "        vertical-align: top;\n",
              "    }\n",
              "\n",
              "    .dataframe thead th {\n",
              "        text-align: right;\n",
              "    }\n",
              "</style>\n",
              "<table border=\"1\" class=\"dataframe\">\n",
              "  <thead>\n",
              "    <tr style=\"text-align: right;\">\n",
              "      <th></th>\n",
              "      <th>CustomerID</th>\n",
              "      <th>Frequency</th>\n",
              "    </tr>\n",
              "  </thead>\n",
              "  <tbody>\n",
              "    <tr>\n",
              "      <th>0</th>\n",
              "      <td>12346.0</td>\n",
              "      <td>1</td>\n",
              "    </tr>\n",
              "    <tr>\n",
              "      <th>1</th>\n",
              "      <td>12347.0</td>\n",
              "      <td>7</td>\n",
              "    </tr>\n",
              "    <tr>\n",
              "      <th>2</th>\n",
              "      <td>12348.0</td>\n",
              "      <td>4</td>\n",
              "    </tr>\n",
              "    <tr>\n",
              "      <th>3</th>\n",
              "      <td>12349.0</td>\n",
              "      <td>1</td>\n",
              "    </tr>\n",
              "    <tr>\n",
              "      <th>4</th>\n",
              "      <td>12350.0</td>\n",
              "      <td>1</td>\n",
              "    </tr>\n",
              "  </tbody>\n",
              "</table>\n",
              "</div>\n",
              "      <button class=\"colab-df-convert\" onclick=\"convertToInteractive('df-a2472878-166c-4882-8ec5-d6bd37a358bf')\"\n",
              "              title=\"Convert this dataframe to an interactive table.\"\n",
              "              style=\"display:none;\">\n",
              "        \n",
              "  <svg xmlns=\"http://www.w3.org/2000/svg\" height=\"24px\"viewBox=\"0 0 24 24\"\n",
              "       width=\"24px\">\n",
              "    <path d=\"M0 0h24v24H0V0z\" fill=\"none\"/>\n",
              "    <path d=\"M18.56 5.44l.94 2.06.94-2.06 2.06-.94-2.06-.94-.94-2.06-.94 2.06-2.06.94zm-11 1L8.5 8.5l.94-2.06 2.06-.94-2.06-.94L8.5 2.5l-.94 2.06-2.06.94zm10 10l.94 2.06.94-2.06 2.06-.94-2.06-.94-.94-2.06-.94 2.06-2.06.94z\"/><path d=\"M17.41 7.96l-1.37-1.37c-.4-.4-.92-.59-1.43-.59-.52 0-1.04.2-1.43.59L10.3 9.45l-7.72 7.72c-.78.78-.78 2.05 0 2.83L4 21.41c.39.39.9.59 1.41.59.51 0 1.02-.2 1.41-.59l7.78-7.78 2.81-2.81c.8-.78.8-2.07 0-2.86zM5.41 20L4 18.59l7.72-7.72 1.47 1.35L5.41 20z\"/>\n",
              "  </svg>\n",
              "      </button>\n",
              "      \n",
              "  <style>\n",
              "    .colab-df-container {\n",
              "      display:flex;\n",
              "      flex-wrap:wrap;\n",
              "      gap: 12px;\n",
              "    }\n",
              "\n",
              "    .colab-df-convert {\n",
              "      background-color: #E8F0FE;\n",
              "      border: none;\n",
              "      border-radius: 50%;\n",
              "      cursor: pointer;\n",
              "      display: none;\n",
              "      fill: #1967D2;\n",
              "      height: 32px;\n",
              "      padding: 0 0 0 0;\n",
              "      width: 32px;\n",
              "    }\n",
              "\n",
              "    .colab-df-convert:hover {\n",
              "      background-color: #E2EBFA;\n",
              "      box-shadow: 0px 1px 2px rgba(60, 64, 67, 0.3), 0px 1px 3px 1px rgba(60, 64, 67, 0.15);\n",
              "      fill: #174EA6;\n",
              "    }\n",
              "\n",
              "    [theme=dark] .colab-df-convert {\n",
              "      background-color: #3B4455;\n",
              "      fill: #D2E3FC;\n",
              "    }\n",
              "\n",
              "    [theme=dark] .colab-df-convert:hover {\n",
              "      background-color: #434B5C;\n",
              "      box-shadow: 0px 1px 3px 1px rgba(0, 0, 0, 0.15);\n",
              "      filter: drop-shadow(0px 1px 2px rgba(0, 0, 0, 0.3));\n",
              "      fill: #FFFFFF;\n",
              "    }\n",
              "  </style>\n",
              "\n",
              "      <script>\n",
              "        const buttonEl =\n",
              "          document.querySelector('#df-a2472878-166c-4882-8ec5-d6bd37a358bf button.colab-df-convert');\n",
              "        buttonEl.style.display =\n",
              "          google.colab.kernel.accessAllowed ? 'block' : 'none';\n",
              "\n",
              "        async function convertToInteractive(key) {\n",
              "          const element = document.querySelector('#df-a2472878-166c-4882-8ec5-d6bd37a358bf');\n",
              "          const dataTable =\n",
              "            await google.colab.kernel.invokeFunction('convertToInteractive',\n",
              "                                                     [key], {});\n",
              "          if (!dataTable) return;\n",
              "\n",
              "          const docLinkHtml = 'Like what you see? Visit the ' +\n",
              "            '<a target=\"_blank\" href=https://colab.research.google.com/notebooks/data_table.ipynb>data table notebook</a>'\n",
              "            + ' to learn more about interactive tables.';\n",
              "          element.innerHTML = '';\n",
              "          dataTable['output_type'] = 'display_data';\n",
              "          await google.colab.output.renderOutput(dataTable, element);\n",
              "          const docLink = document.createElement('div');\n",
              "          docLink.innerHTML = docLinkHtml;\n",
              "          element.appendChild(docLink);\n",
              "        }\n",
              "      </script>\n",
              "    </div>\n",
              "  </div>\n",
              "  "
            ]
          },
          "metadata": {},
          "execution_count": 36
        }
      ],
      "source": [
        "frequency_df = data.groupby(['CustomerID'], as_index=False)['InvoiceNo'].nunique().rename(columns={'InvoiceNo': 'Frequency'})\n",
        "frequency_df.head()"
      ]
    },
    {
      "cell_type": "code",
      "execution_count": 37,
      "metadata": {
        "colab": {
          "base_uri": "https://localhost:8080/",
          "height": 206
        },
        "id": "mlBXvt3ec3uC",
        "outputId": "1305aa17-b687-4510-aac3-6f9835e45493"
      },
      "outputs": [
        {
          "output_type": "execute_result",
          "data": {
            "text/plain": [
              "   CustomerID  Monetary\n",
              "0     12346.0  77183.60\n",
              "1     12347.0   4310.00\n",
              "2     12348.0   1797.24\n",
              "3     12349.0   1757.55\n",
              "4     12350.0    334.40"
            ],
            "text/html": [
              "\n",
              "  <div id=\"df-6761abb8-90ba-4a3e-9569-18f5936e7dd2\">\n",
              "    <div class=\"colab-df-container\">\n",
              "      <div>\n",
              "<style scoped>\n",
              "    .dataframe tbody tr th:only-of-type {\n",
              "        vertical-align: middle;\n",
              "    }\n",
              "\n",
              "    .dataframe tbody tr th {\n",
              "        vertical-align: top;\n",
              "    }\n",
              "\n",
              "    .dataframe thead th {\n",
              "        text-align: right;\n",
              "    }\n",
              "</style>\n",
              "<table border=\"1\" class=\"dataframe\">\n",
              "  <thead>\n",
              "    <tr style=\"text-align: right;\">\n",
              "      <th></th>\n",
              "      <th>CustomerID</th>\n",
              "      <th>Monetary</th>\n",
              "    </tr>\n",
              "  </thead>\n",
              "  <tbody>\n",
              "    <tr>\n",
              "      <th>0</th>\n",
              "      <td>12346.0</td>\n",
              "      <td>77183.60</td>\n",
              "    </tr>\n",
              "    <tr>\n",
              "      <th>1</th>\n",
              "      <td>12347.0</td>\n",
              "      <td>4310.00</td>\n",
              "    </tr>\n",
              "    <tr>\n",
              "      <th>2</th>\n",
              "      <td>12348.0</td>\n",
              "      <td>1797.24</td>\n",
              "    </tr>\n",
              "    <tr>\n",
              "      <th>3</th>\n",
              "      <td>12349.0</td>\n",
              "      <td>1757.55</td>\n",
              "    </tr>\n",
              "    <tr>\n",
              "      <th>4</th>\n",
              "      <td>12350.0</td>\n",
              "      <td>334.40</td>\n",
              "    </tr>\n",
              "  </tbody>\n",
              "</table>\n",
              "</div>\n",
              "      <button class=\"colab-df-convert\" onclick=\"convertToInteractive('df-6761abb8-90ba-4a3e-9569-18f5936e7dd2')\"\n",
              "              title=\"Convert this dataframe to an interactive table.\"\n",
              "              style=\"display:none;\">\n",
              "        \n",
              "  <svg xmlns=\"http://www.w3.org/2000/svg\" height=\"24px\"viewBox=\"0 0 24 24\"\n",
              "       width=\"24px\">\n",
              "    <path d=\"M0 0h24v24H0V0z\" fill=\"none\"/>\n",
              "    <path d=\"M18.56 5.44l.94 2.06.94-2.06 2.06-.94-2.06-.94-.94-2.06-.94 2.06-2.06.94zm-11 1L8.5 8.5l.94-2.06 2.06-.94-2.06-.94L8.5 2.5l-.94 2.06-2.06.94zm10 10l.94 2.06.94-2.06 2.06-.94-2.06-.94-.94-2.06-.94 2.06-2.06.94z\"/><path d=\"M17.41 7.96l-1.37-1.37c-.4-.4-.92-.59-1.43-.59-.52 0-1.04.2-1.43.59L10.3 9.45l-7.72 7.72c-.78.78-.78 2.05 0 2.83L4 21.41c.39.39.9.59 1.41.59.51 0 1.02-.2 1.41-.59l7.78-7.78 2.81-2.81c.8-.78.8-2.07 0-2.86zM5.41 20L4 18.59l7.72-7.72 1.47 1.35L5.41 20z\"/>\n",
              "  </svg>\n",
              "      </button>\n",
              "      \n",
              "  <style>\n",
              "    .colab-df-container {\n",
              "      display:flex;\n",
              "      flex-wrap:wrap;\n",
              "      gap: 12px;\n",
              "    }\n",
              "\n",
              "    .colab-df-convert {\n",
              "      background-color: #E8F0FE;\n",
              "      border: none;\n",
              "      border-radius: 50%;\n",
              "      cursor: pointer;\n",
              "      display: none;\n",
              "      fill: #1967D2;\n",
              "      height: 32px;\n",
              "      padding: 0 0 0 0;\n",
              "      width: 32px;\n",
              "    }\n",
              "\n",
              "    .colab-df-convert:hover {\n",
              "      background-color: #E2EBFA;\n",
              "      box-shadow: 0px 1px 2px rgba(60, 64, 67, 0.3), 0px 1px 3px 1px rgba(60, 64, 67, 0.15);\n",
              "      fill: #174EA6;\n",
              "    }\n",
              "\n",
              "    [theme=dark] .colab-df-convert {\n",
              "      background-color: #3B4455;\n",
              "      fill: #D2E3FC;\n",
              "    }\n",
              "\n",
              "    [theme=dark] .colab-df-convert:hover {\n",
              "      background-color: #434B5C;\n",
              "      box-shadow: 0px 1px 3px 1px rgba(0, 0, 0, 0.15);\n",
              "      filter: drop-shadow(0px 1px 2px rgba(0, 0, 0, 0.3));\n",
              "      fill: #FFFFFF;\n",
              "    }\n",
              "  </style>\n",
              "\n",
              "      <script>\n",
              "        const buttonEl =\n",
              "          document.querySelector('#df-6761abb8-90ba-4a3e-9569-18f5936e7dd2 button.colab-df-convert');\n",
              "        buttonEl.style.display =\n",
              "          google.colab.kernel.accessAllowed ? 'block' : 'none';\n",
              "\n",
              "        async function convertToInteractive(key) {\n",
              "          const element = document.querySelector('#df-6761abb8-90ba-4a3e-9569-18f5936e7dd2');\n",
              "          const dataTable =\n",
              "            await google.colab.kernel.invokeFunction('convertToInteractive',\n",
              "                                                     [key], {});\n",
              "          if (!dataTable) return;\n",
              "\n",
              "          const docLinkHtml = 'Like what you see? Visit the ' +\n",
              "            '<a target=\"_blank\" href=https://colab.research.google.com/notebooks/data_table.ipynb>data table notebook</a>'\n",
              "            + ' to learn more about interactive tables.';\n",
              "          element.innerHTML = '';\n",
              "          dataTable['output_type'] = 'display_data';\n",
              "          await google.colab.output.renderOutput(dataTable, element);\n",
              "          const docLink = document.createElement('div');\n",
              "          docLink.innerHTML = docLinkHtml;\n",
              "          element.appendChild(docLink);\n",
              "        }\n",
              "      </script>\n",
              "    </div>\n",
              "  </div>\n",
              "  "
            ]
          },
          "metadata": {},
          "execution_count": 37
        }
      ],
      "source": [
        "monetary_df = data.groupby(['CustomerID'], as_index=False)['TotalPrice'].sum().rename(columns={'TotalPrice': 'Monetary'})\n",
        "monetary_df.head()"
      ]
    },
    {
      "cell_type": "code",
      "execution_count": 38,
      "metadata": {
        "colab": {
          "base_uri": "https://localhost:8080/",
          "height": 455
        },
        "id": "tXsSulo6c3uC",
        "outputId": "79212f6c-f1b6-4096-bda7-488437ac5f0d"
      },
      "outputs": [
        {
          "output_type": "execute_result",
          "data": {
            "text/plain": [
              "            Recency  Frequency  Monetary\n",
              "CustomerID                              \n",
              "12346.0         326          1  77183.60\n",
              "12347.0           3          7   4310.00\n",
              "12348.0          76          4   1797.24\n",
              "12349.0          19          1   1757.55\n",
              "12350.0         311          1    334.40\n",
              "...             ...        ...       ...\n",
              "18280.0         278          1    180.60\n",
              "18281.0         181          1     80.82\n",
              "18282.0           8          2    178.05\n",
              "18283.0           4         16   2045.53\n",
              "18287.0          43          3   1837.28\n",
              "\n",
              "[4339 rows x 3 columns]"
            ],
            "text/html": [
              "\n",
              "  <div id=\"df-8716af15-538c-4018-b7ce-cdbecf158ee0\">\n",
              "    <div class=\"colab-df-container\">\n",
              "      <div>\n",
              "<style scoped>\n",
              "    .dataframe tbody tr th:only-of-type {\n",
              "        vertical-align: middle;\n",
              "    }\n",
              "\n",
              "    .dataframe tbody tr th {\n",
              "        vertical-align: top;\n",
              "    }\n",
              "\n",
              "    .dataframe thead th {\n",
              "        text-align: right;\n",
              "    }\n",
              "</style>\n",
              "<table border=\"1\" class=\"dataframe\">\n",
              "  <thead>\n",
              "    <tr style=\"text-align: right;\">\n",
              "      <th></th>\n",
              "      <th>Recency</th>\n",
              "      <th>Frequency</th>\n",
              "      <th>Monetary</th>\n",
              "    </tr>\n",
              "    <tr>\n",
              "      <th>CustomerID</th>\n",
              "      <th></th>\n",
              "      <th></th>\n",
              "      <th></th>\n",
              "    </tr>\n",
              "  </thead>\n",
              "  <tbody>\n",
              "    <tr>\n",
              "      <th>12346.0</th>\n",
              "      <td>326</td>\n",
              "      <td>1</td>\n",
              "      <td>77183.60</td>\n",
              "    </tr>\n",
              "    <tr>\n",
              "      <th>12347.0</th>\n",
              "      <td>3</td>\n",
              "      <td>7</td>\n",
              "      <td>4310.00</td>\n",
              "    </tr>\n",
              "    <tr>\n",
              "      <th>12348.0</th>\n",
              "      <td>76</td>\n",
              "      <td>4</td>\n",
              "      <td>1797.24</td>\n",
              "    </tr>\n",
              "    <tr>\n",
              "      <th>12349.0</th>\n",
              "      <td>19</td>\n",
              "      <td>1</td>\n",
              "      <td>1757.55</td>\n",
              "    </tr>\n",
              "    <tr>\n",
              "      <th>12350.0</th>\n",
              "      <td>311</td>\n",
              "      <td>1</td>\n",
              "      <td>334.40</td>\n",
              "    </tr>\n",
              "    <tr>\n",
              "      <th>...</th>\n",
              "      <td>...</td>\n",
              "      <td>...</td>\n",
              "      <td>...</td>\n",
              "    </tr>\n",
              "    <tr>\n",
              "      <th>18280.0</th>\n",
              "      <td>278</td>\n",
              "      <td>1</td>\n",
              "      <td>180.60</td>\n",
              "    </tr>\n",
              "    <tr>\n",
              "      <th>18281.0</th>\n",
              "      <td>181</td>\n",
              "      <td>1</td>\n",
              "      <td>80.82</td>\n",
              "    </tr>\n",
              "    <tr>\n",
              "      <th>18282.0</th>\n",
              "      <td>8</td>\n",
              "      <td>2</td>\n",
              "      <td>178.05</td>\n",
              "    </tr>\n",
              "    <tr>\n",
              "      <th>18283.0</th>\n",
              "      <td>4</td>\n",
              "      <td>16</td>\n",
              "      <td>2045.53</td>\n",
              "    </tr>\n",
              "    <tr>\n",
              "      <th>18287.0</th>\n",
              "      <td>43</td>\n",
              "      <td>3</td>\n",
              "      <td>1837.28</td>\n",
              "    </tr>\n",
              "  </tbody>\n",
              "</table>\n",
              "<p>4339 rows × 3 columns</p>\n",
              "</div>\n",
              "      <button class=\"colab-df-convert\" onclick=\"convertToInteractive('df-8716af15-538c-4018-b7ce-cdbecf158ee0')\"\n",
              "              title=\"Convert this dataframe to an interactive table.\"\n",
              "              style=\"display:none;\">\n",
              "        \n",
              "  <svg xmlns=\"http://www.w3.org/2000/svg\" height=\"24px\"viewBox=\"0 0 24 24\"\n",
              "       width=\"24px\">\n",
              "    <path d=\"M0 0h24v24H0V0z\" fill=\"none\"/>\n",
              "    <path d=\"M18.56 5.44l.94 2.06.94-2.06 2.06-.94-2.06-.94-.94-2.06-.94 2.06-2.06.94zm-11 1L8.5 8.5l.94-2.06 2.06-.94-2.06-.94L8.5 2.5l-.94 2.06-2.06.94zm10 10l.94 2.06.94-2.06 2.06-.94-2.06-.94-.94-2.06-.94 2.06-2.06.94z\"/><path d=\"M17.41 7.96l-1.37-1.37c-.4-.4-.92-.59-1.43-.59-.52 0-1.04.2-1.43.59L10.3 9.45l-7.72 7.72c-.78.78-.78 2.05 0 2.83L4 21.41c.39.39.9.59 1.41.59.51 0 1.02-.2 1.41-.59l7.78-7.78 2.81-2.81c.8-.78.8-2.07 0-2.86zM5.41 20L4 18.59l7.72-7.72 1.47 1.35L5.41 20z\"/>\n",
              "  </svg>\n",
              "      </button>\n",
              "      \n",
              "  <style>\n",
              "    .colab-df-container {\n",
              "      display:flex;\n",
              "      flex-wrap:wrap;\n",
              "      gap: 12px;\n",
              "    }\n",
              "\n",
              "    .colab-df-convert {\n",
              "      background-color: #E8F0FE;\n",
              "      border: none;\n",
              "      border-radius: 50%;\n",
              "      cursor: pointer;\n",
              "      display: none;\n",
              "      fill: #1967D2;\n",
              "      height: 32px;\n",
              "      padding: 0 0 0 0;\n",
              "      width: 32px;\n",
              "    }\n",
              "\n",
              "    .colab-df-convert:hover {\n",
              "      background-color: #E2EBFA;\n",
              "      box-shadow: 0px 1px 2px rgba(60, 64, 67, 0.3), 0px 1px 3px 1px rgba(60, 64, 67, 0.15);\n",
              "      fill: #174EA6;\n",
              "    }\n",
              "\n",
              "    [theme=dark] .colab-df-convert {\n",
              "      background-color: #3B4455;\n",
              "      fill: #D2E3FC;\n",
              "    }\n",
              "\n",
              "    [theme=dark] .colab-df-convert:hover {\n",
              "      background-color: #434B5C;\n",
              "      box-shadow: 0px 1px 3px 1px rgba(0, 0, 0, 0.15);\n",
              "      filter: drop-shadow(0px 1px 2px rgba(0, 0, 0, 0.3));\n",
              "      fill: #FFFFFF;\n",
              "    }\n",
              "  </style>\n",
              "\n",
              "      <script>\n",
              "        const buttonEl =\n",
              "          document.querySelector('#df-8716af15-538c-4018-b7ce-cdbecf158ee0 button.colab-df-convert');\n",
              "        buttonEl.style.display =\n",
              "          google.colab.kernel.accessAllowed ? 'block' : 'none';\n",
              "\n",
              "        async function convertToInteractive(key) {\n",
              "          const element = document.querySelector('#df-8716af15-538c-4018-b7ce-cdbecf158ee0');\n",
              "          const dataTable =\n",
              "            await google.colab.kernel.invokeFunction('convertToInteractive',\n",
              "                                                     [key], {});\n",
              "          if (!dataTable) return;\n",
              "\n",
              "          const docLinkHtml = 'Like what you see? Visit the ' +\n",
              "            '<a target=\"_blank\" href=https://colab.research.google.com/notebooks/data_table.ipynb>data table notebook</a>'\n",
              "            + ' to learn more about interactive tables.';\n",
              "          element.innerHTML = '';\n",
              "          dataTable['output_type'] = 'display_data';\n",
              "          await google.colab.output.renderOutput(dataTable, element);\n",
              "          const docLink = document.createElement('div');\n",
              "          docLink.innerHTML = docLinkHtml;\n",
              "          element.appendChild(docLink);\n",
              "        }\n",
              "      </script>\n",
              "    </div>\n",
              "  </div>\n",
              "  "
            ]
          },
          "metadata": {},
          "execution_count": 38
        }
      ],
      "source": [
        "rf = pd.merge(recency_df, frequency_df, on='CustomerID', how='left')\n",
        "rfm = pd.merge(rf, monetary_df, on='CustomerID', how='left')\n",
        "rfm.set_index('CustomerID', inplace=True)\n",
        "rfm"
      ]
    },
    {
      "cell_type": "code",
      "execution_count": 39,
      "metadata": {
        "id": "5V0pz6TMc3uC"
      },
      "outputs": [],
      "source": [
        "### Alternative way\n",
        "# rfm = data.groupby(['CustomerID'], as_index=False).agg({'InvoiceDate': lambda x: (last_day-x.max()).days,\n",
        "#                                                   'InvoiceNo': lambda x: x.nunique(),\n",
        "#                                                    'TotalPrice': lambda x: x.sum()})\n",
        "\n",
        "# rfm.set_index('CustomerID', inplace=True)\n",
        "# rfm.columns = ['Recency', 'Frequency', 'Monetary']\n",
        "# rfm.head()"
      ]
    },
    {
      "cell_type": "code",
      "execution_count": 40,
      "metadata": {
        "colab": {
          "base_uri": "https://localhost:8080/",
          "height": 238
        },
        "id": "Y349M4HYc3uD",
        "outputId": "a44fb150-5fe8-4129-808e-745ce4959db2"
      },
      "outputs": [
        {
          "output_type": "execute_result",
          "data": {
            "text/plain": [
              "            Recency  Frequency  Monetary Recency_score Frequency_score  \\\n",
              "CustomerID                                                               \n",
              "12346.0         326          1  77183.60             1               1   \n",
              "12347.0           3          7   4310.00             5               5   \n",
              "12348.0          76          4   1797.24             2               4   \n",
              "12349.0          19          1   1757.55             4               1   \n",
              "12350.0         311          1    334.40             1               1   \n",
              "\n",
              "           Monetary_score RFM_SCORE      Segment  \n",
              "CustomerID                                        \n",
              "12346.0                 5        11  Hibernating  \n",
              "12347.0                 5        55    Champions  \n",
              "12348.0                 4        24      At_Risk  \n",
              "12349.0                 4        41    Promising  \n",
              "12350.0                 2        11  Hibernating  "
            ],
            "text/html": [
              "\n",
              "  <div id=\"df-b0d81f8d-e3b7-4fe4-b87b-681c140e78de\">\n",
              "    <div class=\"colab-df-container\">\n",
              "      <div>\n",
              "<style scoped>\n",
              "    .dataframe tbody tr th:only-of-type {\n",
              "        vertical-align: middle;\n",
              "    }\n",
              "\n",
              "    .dataframe tbody tr th {\n",
              "        vertical-align: top;\n",
              "    }\n",
              "\n",
              "    .dataframe thead th {\n",
              "        text-align: right;\n",
              "    }\n",
              "</style>\n",
              "<table border=\"1\" class=\"dataframe\">\n",
              "  <thead>\n",
              "    <tr style=\"text-align: right;\">\n",
              "      <th></th>\n",
              "      <th>Recency</th>\n",
              "      <th>Frequency</th>\n",
              "      <th>Monetary</th>\n",
              "      <th>Recency_score</th>\n",
              "      <th>Frequency_score</th>\n",
              "      <th>Monetary_score</th>\n",
              "      <th>RFM_SCORE</th>\n",
              "      <th>Segment</th>\n",
              "    </tr>\n",
              "    <tr>\n",
              "      <th>CustomerID</th>\n",
              "      <th></th>\n",
              "      <th></th>\n",
              "      <th></th>\n",
              "      <th></th>\n",
              "      <th></th>\n",
              "      <th></th>\n",
              "      <th></th>\n",
              "      <th></th>\n",
              "    </tr>\n",
              "  </thead>\n",
              "  <tbody>\n",
              "    <tr>\n",
              "      <th>12346.0</th>\n",
              "      <td>326</td>\n",
              "      <td>1</td>\n",
              "      <td>77183.60</td>\n",
              "      <td>1</td>\n",
              "      <td>1</td>\n",
              "      <td>5</td>\n",
              "      <td>11</td>\n",
              "      <td>Hibernating</td>\n",
              "    </tr>\n",
              "    <tr>\n",
              "      <th>12347.0</th>\n",
              "      <td>3</td>\n",
              "      <td>7</td>\n",
              "      <td>4310.00</td>\n",
              "      <td>5</td>\n",
              "      <td>5</td>\n",
              "      <td>5</td>\n",
              "      <td>55</td>\n",
              "      <td>Champions</td>\n",
              "    </tr>\n",
              "    <tr>\n",
              "      <th>12348.0</th>\n",
              "      <td>76</td>\n",
              "      <td>4</td>\n",
              "      <td>1797.24</td>\n",
              "      <td>2</td>\n",
              "      <td>4</td>\n",
              "      <td>4</td>\n",
              "      <td>24</td>\n",
              "      <td>At_Risk</td>\n",
              "    </tr>\n",
              "    <tr>\n",
              "      <th>12349.0</th>\n",
              "      <td>19</td>\n",
              "      <td>1</td>\n",
              "      <td>1757.55</td>\n",
              "      <td>4</td>\n",
              "      <td>1</td>\n",
              "      <td>4</td>\n",
              "      <td>41</td>\n",
              "      <td>Promising</td>\n",
              "    </tr>\n",
              "    <tr>\n",
              "      <th>12350.0</th>\n",
              "      <td>311</td>\n",
              "      <td>1</td>\n",
              "      <td>334.40</td>\n",
              "      <td>1</td>\n",
              "      <td>1</td>\n",
              "      <td>2</td>\n",
              "      <td>11</td>\n",
              "      <td>Hibernating</td>\n",
              "    </tr>\n",
              "  </tbody>\n",
              "</table>\n",
              "</div>\n",
              "      <button class=\"colab-df-convert\" onclick=\"convertToInteractive('df-b0d81f8d-e3b7-4fe4-b87b-681c140e78de')\"\n",
              "              title=\"Convert this dataframe to an interactive table.\"\n",
              "              style=\"display:none;\">\n",
              "        \n",
              "  <svg xmlns=\"http://www.w3.org/2000/svg\" height=\"24px\"viewBox=\"0 0 24 24\"\n",
              "       width=\"24px\">\n",
              "    <path d=\"M0 0h24v24H0V0z\" fill=\"none\"/>\n",
              "    <path d=\"M18.56 5.44l.94 2.06.94-2.06 2.06-.94-2.06-.94-.94-2.06-.94 2.06-2.06.94zm-11 1L8.5 8.5l.94-2.06 2.06-.94-2.06-.94L8.5 2.5l-.94 2.06-2.06.94zm10 10l.94 2.06.94-2.06 2.06-.94-2.06-.94-.94-2.06-.94 2.06-2.06.94z\"/><path d=\"M17.41 7.96l-1.37-1.37c-.4-.4-.92-.59-1.43-.59-.52 0-1.04.2-1.43.59L10.3 9.45l-7.72 7.72c-.78.78-.78 2.05 0 2.83L4 21.41c.39.39.9.59 1.41.59.51 0 1.02-.2 1.41-.59l7.78-7.78 2.81-2.81c.8-.78.8-2.07 0-2.86zM5.41 20L4 18.59l7.72-7.72 1.47 1.35L5.41 20z\"/>\n",
              "  </svg>\n",
              "      </button>\n",
              "      \n",
              "  <style>\n",
              "    .colab-df-container {\n",
              "      display:flex;\n",
              "      flex-wrap:wrap;\n",
              "      gap: 12px;\n",
              "    }\n",
              "\n",
              "    .colab-df-convert {\n",
              "      background-color: #E8F0FE;\n",
              "      border: none;\n",
              "      border-radius: 50%;\n",
              "      cursor: pointer;\n",
              "      display: none;\n",
              "      fill: #1967D2;\n",
              "      height: 32px;\n",
              "      padding: 0 0 0 0;\n",
              "      width: 32px;\n",
              "    }\n",
              "\n",
              "    .colab-df-convert:hover {\n",
              "      background-color: #E2EBFA;\n",
              "      box-shadow: 0px 1px 2px rgba(60, 64, 67, 0.3), 0px 1px 3px 1px rgba(60, 64, 67, 0.15);\n",
              "      fill: #174EA6;\n",
              "    }\n",
              "\n",
              "    [theme=dark] .colab-df-convert {\n",
              "      background-color: #3B4455;\n",
              "      fill: #D2E3FC;\n",
              "    }\n",
              "\n",
              "    [theme=dark] .colab-df-convert:hover {\n",
              "      background-color: #434B5C;\n",
              "      box-shadow: 0px 1px 3px 1px rgba(0, 0, 0, 0.15);\n",
              "      filter: drop-shadow(0px 1px 2px rgba(0, 0, 0, 0.3));\n",
              "      fill: #FFFFFF;\n",
              "    }\n",
              "  </style>\n",
              "\n",
              "      <script>\n",
              "        const buttonEl =\n",
              "          document.querySelector('#df-b0d81f8d-e3b7-4fe4-b87b-681c140e78de button.colab-df-convert');\n",
              "        buttonEl.style.display =\n",
              "          google.colab.kernel.accessAllowed ? 'block' : 'none';\n",
              "\n",
              "        async function convertToInteractive(key) {\n",
              "          const element = document.querySelector('#df-b0d81f8d-e3b7-4fe4-b87b-681c140e78de');\n",
              "          const dataTable =\n",
              "            await google.colab.kernel.invokeFunction('convertToInteractive',\n",
              "                                                     [key], {});\n",
              "          if (!dataTable) return;\n",
              "\n",
              "          const docLinkHtml = 'Like what you see? Visit the ' +\n",
              "            '<a target=\"_blank\" href=https://colab.research.google.com/notebooks/data_table.ipynb>data table notebook</a>'\n",
              "            + ' to learn more about interactive tables.';\n",
              "          element.innerHTML = '';\n",
              "          dataTable['output_type'] = 'display_data';\n",
              "          await google.colab.output.renderOutput(dataTable, element);\n",
              "          const docLink = document.createElement('div');\n",
              "          docLink.innerHTML = docLinkHtml;\n",
              "          element.appendChild(docLink);\n",
              "        }\n",
              "      </script>\n",
              "    </div>\n",
              "  </div>\n",
              "  "
            ]
          },
          "metadata": {},
          "execution_count": 40
        }
      ],
      "source": [
        "#**\n",
        "rfm['Recency_score'] = pd.qcut(rfm['Recency'],5,labels=[5,4,3,2,1])\n",
        "rfm['Frequency_score'] = pd.qcut(rfm['Frequency'].rank(method=\"first\"),5,labels=[1,2,3,4,5])\n",
        "rfm['Monetary_score'] = pd.qcut(rfm['Monetary'],5,labels=[1,2,3,4,5])\n",
        "rfm['RFM_SCORE'] = rfm['Recency_score'].astype(str) + rfm['Frequency_score'].astype(str)\n",
        "\n",
        "\n",
        "#https://medium.com/@ilaydakursun/customer-segmentation-with-rfm-analysis-learn-more-about-your-customers-f12b348acbd\n",
        "#https://futurice.com/blog/know-your-customers-with-rfm\n",
        "#https://guillaume-martin.github.io/rfm-segmentation-with-python.html\n",
        "seg_map = {r'[1-2][1-2]': 'Hibernating',\n",
        "           r'[1-2][3-4]': 'At_Risk',\n",
        "           r'[1-2]5': 'Cant_loose',\n",
        "           r'3[1-2]': 'About_to_sleep',\n",
        "           r'33': 'Need_attention',\n",
        "           r'[3-4][4-5]': 'Loyal_customers',\n",
        "           r'41': 'Promising',\n",
        "           r'51': 'New_customers',\n",
        "           r'[4-5][2-3]': 'Potential_loyalists',\n",
        "           r'5[4-5]': 'Champions'}\n",
        "\n",
        "rfm['Segment'] = rfm['RFM_SCORE'].replace(seg_map, regex=True)\n",
        "rfm.head()"
      ]
    },
    {
      "cell_type": "markdown",
      "metadata": {
        "id": "TKMVdtBqc3uD"
      },
      "source": [
        "### Explanation on segments\n",
        "- Champions: Bought recently, buy often and spend the most\n",
        "\n",
        "- Loyal customers: Buy on a regular basis. Responsive to promotions.\n",
        "\n",
        "- Potential loyalist: Recent customers with average frequency.\n",
        "\n",
        "- Recent customers: Bought most recently, but not often.\n",
        "\n",
        "- Promising: Recent shoppers, but haven’t spent much.\n",
        "\n",
        "- Needs attention: Above average recency, frequency and monetary values. May not have bought very recently though.\n",
        "\n",
        "- About to sleep: Below average recency and frequency. Will lose them if not reactivated.\n",
        "\n",
        "- At risk: Some time since they’ve purchased. Need to bring them back!\n",
        "\n",
        "- Can’t lose them: Used to purchase frequently but haven’t returned for a long time.\n",
        "\n",
        "- Hibernating: Last purchase was long back and low number of orders. May be lost."
      ]
    },
    {
      "cell_type": "code",
      "execution_count": 41,
      "metadata": {
        "colab": {
          "base_uri": "https://localhost:8080/",
          "height": 416
        },
        "id": "uNzJy69cc3uD",
        "outputId": "ad302f46-d348-4e84-98f9-4dd48257937a"
      },
      "outputs": [
        {
          "output_type": "stream",
          "name": "stderr",
          "text": [
            "/usr/local/lib/python3.7/dist-packages/seaborn/_decorators.py:43: FutureWarning: Pass the following variables as keyword args: x, y. From version 0.12, the only valid positional argument will be `data`, and passing other arguments without an explicit keyword will result in an error or misinterpretation.\n",
            "  FutureWarning\n"
          ]
        },
        {
          "output_type": "display_data",
          "data": {
            "text/plain": [
              "<Figure size 432x288 with 1 Axes>"
            ],
            "image/png": "[encoded data removed]"
          },
          "metadata": {
            "needs_background": "light"
          }
        }
      ],
      "source": [
        "sns.barplot(rfm['Segment'].value_counts().index, rfm['Segment'].value_counts().values)\n",
        "plt.xticks(rotation=90)\n",
        "plt.ylabel(\"Occurences\")\n",
        "plt.title(\"Customer Segment Population\")\n",
        "sns.set(rc = {'figure.figsize':(16,12)})"
      ]
    },
    {
      "cell_type": "markdown",
      "metadata": {
        "id": "YggH8psLc3uE"
      },
      "source": [
        "On the one hand, Champions segment and Loyal customers are crucial for the retailers business and these segments should be focused by loyalty programs. \n",
        "\n",
        "On the other hand, New customers usually turns into hibernating customers. It would be cheaper to retain them than finding new ones, so these segments should be reminded by product recommendation emails. Marketing actions like promotion should be taken for customers in At Risk and Can't Lose segment as once they were frequent buyers."
      ]
    },
    {
      "cell_type": "markdown",
      "metadata": {
        "id": "ZWoL-SMuc3uE"
      },
      "source": [
        "## K-means clustering"
      ]
    },
    {
      "cell_type": "code",
      "execution_count": 42,
      "metadata": {
        "id": "S3B_rgZCc3uE"
      },
      "outputs": [],
      "source": [
        "from sklearn.cluster import KMeans\n",
        "from sklearn import metrics"
      ]
    },
    {
      "cell_type": "code",
      "execution_count": 43,
      "metadata": {
        "id": "rNa4VhKhc3uF"
      },
      "outputs": [],
      "source": [
        "kmeans_data = rfm.loc[:,['RFM_SCORE']]\n",
        "\n",
        "score = []\n",
        "k = list(range(1,10))\n",
        "for i in k:\n",
        "    kmean = KMeans(n_clusters=i)\n",
        "    kmean.fit(kmeans_data)\n",
        "    score.append(kmean.inertia_)"
      ]
    },
    {
      "cell_type": "code",
      "execution_count": 44,
      "metadata": {
        "colab": {
          "base_uri": "https://localhost:8080/",
          "height": 719
        },
        "id": "d9396j6vc3uF",
        "outputId": "a348b415-e06d-4d2b-8be3-c6aeecb40cc0"
      },
      "outputs": [
        {
          "output_type": "display_data",
          "data": {
            "text/plain": [
              "<Figure size 1152x864 with 1 Axes>"
            ],
            "image/png": "[encoded data removed]"
          },
          "metadata": {}
        }
      ],
      "source": [
        "plt.plot(score)\n",
        "plt.rcParams[\"figure.figsize\"] = (8,6)\n",
        "plt.title(\"Loss Curve\")\n",
        "plt.show()"
      ]
    },
    {
      "cell_type": "code",
      "execution_count": 45,
      "metadata": {
        "colab": {
          "base_uri": "https://localhost:8080/"
        },
        "id": "GcXZaNR1c3uF",
        "outputId": "b38039d1-f51f-4026-be29-67c1dd0551d3"
      },
      "outputs": [
        {
          "output_type": "stream",
          "name": "stdout",
          "text": [
            "Silhouette Score: 0.73\n"
          ]
        }
      ],
      "source": [
        "kmeans = KMeans(n_clusters = 4,random_state = 42)\n",
        "kmeans.fit(kmeans_data)\n",
        "print('Silhouette Score: {}'.format(round(metrics.silhouette_score(kmeans_data, kmeans.labels_), 2)))"
      ]
    },
    {
      "cell_type": "markdown",
      "metadata": {
        "id": "wwlCaBzbc3uF"
      },
      "source": [
        "Performance of clustering technique via Silhouette Coefficient is 0.73 where 1 is maximum score."
      ]
    },
    {
      "cell_type": "code",
      "execution_count": 46,
      "metadata": {
        "colab": {
          "base_uri": "https://localhost:8080/",
          "height": 238
        },
        "id": "toTNIeeDc3uG",
        "outputId": "8f80c8d5-a858-48e4-a314-cb7cbfd49573"
      },
      "outputs": [
        {
          "output_type": "execute_result",
          "data": {
            "text/plain": [
              "            Recency  Frequency  Monetary Recency_score Frequency_score  \\\n",
              "CustomerID                                                               \n",
              "12346.0         326          1  77183.60             1               1   \n",
              "12347.0           3          7   4310.00             5               5   \n",
              "12348.0          76          4   1797.24             2               4   \n",
              "12349.0          19          1   1757.55             4               1   \n",
              "12350.0         311          1    334.40             1               1   \n",
              "\n",
              "           Monetary_score RFM_SCORE      Segment  Cluster  \n",
              "CustomerID                                                 \n",
              "12346.0                 5        11  Hibernating        2  \n",
              "12347.0                 5        55    Champions        1  \n",
              "12348.0                 4        24      At_Risk        3  \n",
              "12349.0                 4        41    Promising        0  \n",
              "12350.0                 2        11  Hibernating        2  "
            ],
            "text/html": [
              "\n",
              "  <div id=\"df-f6e13c8d-5390-4580-b3d4-6c6e6552188d\">\n",
              "    <div class=\"colab-df-container\">\n",
              "      <div>\n",
              "<style scoped>\n",
              "    .dataframe tbody tr th:only-of-type {\n",
              "        vertical-align: middle;\n",
              "    }\n",
              "\n",
              "    .dataframe tbody tr th {\n",
              "        vertical-align: top;\n",
              "    }\n",
              "\n",
              "    .dataframe thead th {\n",
              "        text-align: right;\n",
              "    }\n",
              "</style>\n",
              "<table border=\"1\" class=\"dataframe\">\n",
              "  <thead>\n",
              "    <tr style=\"text-align: right;\">\n",
              "      <th></th>\n",
              "      <th>Recency</th>\n",
              "      <th>Frequency</th>\n",
              "      <th>Monetary</th>\n",
              "      <th>Recency_score</th>\n",
              "      <th>Frequency_score</th>\n",
              "      <th>Monetary_score</th>\n",
              "      <th>RFM_SCORE</th>\n",
              "      <th>Segment</th>\n",
              "      <th>Cluster</th>\n",
              "    </tr>\n",
              "    <tr>\n",
              "      <th>CustomerID</th>\n",
              "      <th></th>\n",
              "      <th></th>\n",
              "      <th></th>\n",
              "      <th></th>\n",
              "      <th></th>\n",
              "      <th></th>\n",
              "      <th></th>\n",
              "      <th></th>\n",
              "      <th></th>\n",
              "    </tr>\n",
              "  </thead>\n",
              "  <tbody>\n",
              "    <tr>\n",
              "      <th>12346.0</th>\n",
              "      <td>326</td>\n",
              "      <td>1</td>\n",
              "      <td>77183.60</td>\n",
              "      <td>1</td>\n",
              "      <td>1</td>\n",
              "      <td>5</td>\n",
              "      <td>11</td>\n",
              "      <td>Hibernating</td>\n",
              "      <td>2</td>\n",
              "    </tr>\n",
              "    <tr>\n",
              "      <th>12347.0</th>\n",
              "      <td>3</td>\n",
              "      <td>7</td>\n",
              "      <td>4310.00</td>\n",
              "      <td>5</td>\n",
              "      <td>5</td>\n",
              "      <td>5</td>\n",
              "      <td>55</td>\n",
              "      <td>Champions</td>\n",
              "      <td>1</td>\n",
              "    </tr>\n",
              "    <tr>\n",
              "      <th>12348.0</th>\n",
              "      <td>76</td>\n",
              "      <td>4</td>\n",
              "      <td>1797.24</td>\n",
              "      <td>2</td>\n",
              "      <td>4</td>\n",
              "      <td>4</td>\n",
              "      <td>24</td>\n",
              "      <td>At_Risk</td>\n",
              "      <td>3</td>\n",
              "    </tr>\n",
              "    <tr>\n",
              "      <th>12349.0</th>\n",
              "      <td>19</td>\n",
              "      <td>1</td>\n",
              "      <td>1757.55</td>\n",
              "      <td>4</td>\n",
              "      <td>1</td>\n",
              "      <td>4</td>\n",
              "      <td>41</td>\n",
              "      <td>Promising</td>\n",
              "      <td>0</td>\n",
              "    </tr>\n",
              "    <tr>\n",
              "      <th>12350.0</th>\n",
              "      <td>311</td>\n",
              "      <td>1</td>\n",
              "      <td>334.40</td>\n",
              "      <td>1</td>\n",
              "      <td>1</td>\n",
              "      <td>2</td>\n",
              "      <td>11</td>\n",
              "      <td>Hibernating</td>\n",
              "      <td>2</td>\n",
              "    </tr>\n",
              "  </tbody>\n",
              "</table>\n",
              "</div>\n",
              "      <button class=\"colab-df-convert\" onclick=\"convertToInteractive('df-f6e13c8d-5390-4580-b3d4-6c6e6552188d')\"\n",
              "              title=\"Convert this dataframe to an interactive table.\"\n",
              "              style=\"display:none;\">\n",
              "        \n",
              "  <svg xmlns=\"http://www.w3.org/2000/svg\" height=\"24px\"viewBox=\"0 0 24 24\"\n",
              "       width=\"24px\">\n",
              "    <path d=\"M0 0h24v24H0V0z\" fill=\"none\"/>\n",
              "    <path d=\"M18.56 5.44l.94 2.06.94-2.06 2.06-.94-2.06-.94-.94-2.06-.94 2.06-2.06.94zm-11 1L8.5 8.5l.94-2.06 2.06-.94-2.06-.94L8.5 2.5l-.94 2.06-2.06.94zm10 10l.94 2.06.94-2.06 2.06-.94-2.06-.94-.94-2.06-.94 2.06-2.06.94z\"/><path d=\"M17.41 7.96l-1.37-1.37c-.4-.4-.92-.59-1.43-.59-.52 0-1.04.2-1.43.59L10.3 9.45l-7.72 7.72c-.78.78-.78 2.05 0 2.83L4 21.41c.39.39.9.59 1.41.59.51 0 1.02-.2 1.41-.59l7.78-7.78 2.81-2.81c.8-.78.8-2.07 0-2.86zM5.41 20L4 18.59l7.72-7.72 1.47 1.35L5.41 20z\"/>\n",
              "  </svg>\n",
              "      </button>\n",
              "      \n",
              "  <style>\n",
              "    .colab-df-container {\n",
              "      display:flex;\n",
              "      flex-wrap:wrap;\n",
              "      gap: 12px;\n",
              "    }\n",
              "\n",
              "    .colab-df-convert {\n",
              "      background-color: #E8F0FE;\n",
              "      border: none;\n",
              "      border-radius: 50%;\n",
              "      cursor: pointer;\n",
              "      display: none;\n",
              "      fill: #1967D2;\n",
              "      height: 32px;\n",
              "      padding: 0 0 0 0;\n",
              "      width: 32px;\n",
              "    }\n",
              "\n",
              "    .colab-df-convert:hover {\n",
              "      background-color: #E2EBFA;\n",
              "      box-shadow: 0px 1px 2px rgba(60, 64, 67, 0.3), 0px 1px 3px 1px rgba(60, 64, 67, 0.15);\n",
              "      fill: #174EA6;\n",
              "    }\n",
              "\n",
              "    [theme=dark] .colab-df-convert {\n",
              "      background-color: #3B4455;\n",
              "      fill: #D2E3FC;\n",
              "    }\n",
              "\n",
              "    [theme=dark] .colab-df-convert:hover {\n",
              "      background-color: #434B5C;\n",
              "      box-shadow: 0px 1px 3px 1px rgba(0, 0, 0, 0.15);\n",
              "      filter: drop-shadow(0px 1px 2px rgba(0, 0, 0, 0.3));\n",
              "      fill: #FFFFFF;\n",
              "    }\n",
              "  </style>\n",
              "\n",
              "      <script>\n",
              "        const buttonEl =\n",
              "          document.querySelector('#df-f6e13c8d-5390-4580-b3d4-6c6e6552188d button.colab-df-convert');\n",
              "        buttonEl.style.display =\n",
              "          google.colab.kernel.accessAllowed ? 'block' : 'none';\n",
              "\n",
              "        async function convertToInteractive(key) {\n",
              "          const element = document.querySelector('#df-f6e13c8d-5390-4580-b3d4-6c6e6552188d');\n",
              "          const dataTable =\n",
              "            await google.colab.kernel.invokeFunction('convertToInteractive',\n",
              "                                                     [key], {});\n",
              "          if (!dataTable) return;\n",
              "\n",
              "          const docLinkHtml = 'Like what you see? Visit the ' +\n",
              "            '<a target=\"_blank\" href=https://colab.research.google.com/notebooks/data_table.ipynb>data table notebook</a>'\n",
              "            + ' to learn more about interactive tables.';\n",
              "          element.innerHTML = '';\n",
              "          dataTable['output_type'] = 'display_data';\n",
              "          await google.colab.output.renderOutput(dataTable, element);\n",
              "          const docLink = document.createElement('div');\n",
              "          docLink.innerHTML = docLinkHtml;\n",
              "          element.appendChild(docLink);\n",
              "        }\n",
              "      </script>\n",
              "    </div>\n",
              "  </div>\n",
              "  "
            ]
          },
          "metadata": {},
          "execution_count": 46
        }
      ],
      "source": [
        "rfm['Cluster'] = kmeans.labels_\n",
        "rfm.head()"
      ]
    },
    {
      "cell_type": "code",
      "execution_count": 47,
      "metadata": {
        "colab": {
          "base_uri": "https://localhost:8080/",
          "height": 238
        },
        "id": "2X737wvLc3uG",
        "outputId": "097758f2-dafc-4d1a-94cd-62a1ffe4800f"
      },
      "outputs": [
        {
          "output_type": "execute_result",
          "data": {
            "text/plain": [
              "        Recency                             Frequency                       \\\n",
              "            max        mean        std  min       max      mean        std   \n",
              "Cluster                                                                      \n",
              "0            72   49.044885  13.732672   15        63  2.915449   3.182395   \n",
              "1            33   14.567715   9.509187    1       210  7.453446  11.394428   \n",
              "2           374  269.527294  56.945227  181        34  1.506388   1.506272   \n",
              "3           180  116.124711  33.119970   73        17  2.445727   1.962642   \n",
              "\n",
              "              Monetary                                    \n",
              "        min        max         mean           std    min  \n",
              "Cluster                                                   \n",
              "0         1   80850.84  1207.855136   3075.291750   0.00  \n",
              "1         1  280206.02  3864.006675  13942.902109  20.80  \n",
              "2         1   77183.60   644.778631   3363.753327   3.75  \n",
              "3         1   11072.67   905.148189   1106.763874  13.30  "
            ],
            "text/html": [
              "\n",
              "  <div id=\"df-8418ce12-09f5-4896-8ac2-49a857b1257c\">\n",
              "    <div class=\"colab-df-container\">\n",
              "      <div>\n",
              "<style scoped>\n",
              "    .dataframe tbody tr th:only-of-type {\n",
              "        vertical-align: middle;\n",
              "    }\n",
              "\n",
              "    .dataframe tbody tr th {\n",
              "        vertical-align: top;\n",
              "    }\n",
              "\n",
              "    .dataframe thead tr th {\n",
              "        text-align: left;\n",
              "    }\n",
              "\n",
              "    .dataframe thead tr:last-of-type th {\n",
              "        text-align: right;\n",
              "    }\n",
              "</style>\n",
              "<table border=\"1\" class=\"dataframe\">\n",
              "  <thead>\n",
              "    <tr>\n",
              "      <th></th>\n",
              "      <th colspan=\"4\" halign=\"left\">Recency</th>\n",
              "      <th colspan=\"4\" halign=\"left\">Frequency</th>\n",
              "      <th colspan=\"4\" halign=\"left\">Monetary</th>\n",
              "    </tr>\n",
              "    <tr>\n",
              "      <th></th>\n",
              "      <th>max</th>\n",
              "      <th>mean</th>\n",
              "      <th>std</th>\n",
              "      <th>min</th>\n",
              "      <th>max</th>\n",
              "      <th>mean</th>\n",
              "      <th>std</th>\n",
              "      <th>min</th>\n",
              "      <th>max</th>\n",
              "      <th>mean</th>\n",
              "      <th>std</th>\n",
              "      <th>min</th>\n",
              "    </tr>\n",
              "    <tr>\n",
              "      <th>Cluster</th>\n",
              "      <th></th>\n",
              "      <th></th>\n",
              "      <th></th>\n",
              "      <th></th>\n",
              "      <th></th>\n",
              "      <th></th>\n",
              "      <th></th>\n",
              "      <th></th>\n",
              "      <th></th>\n",
              "      <th></th>\n",
              "      <th></th>\n",
              "      <th></th>\n",
              "    </tr>\n",
              "  </thead>\n",
              "  <tbody>\n",
              "    <tr>\n",
              "      <th>0</th>\n",
              "      <td>72</td>\n",
              "      <td>49.044885</td>\n",
              "      <td>13.732672</td>\n",
              "      <td>15</td>\n",
              "      <td>63</td>\n",
              "      <td>2.915449</td>\n",
              "      <td>3.182395</td>\n",
              "      <td>1</td>\n",
              "      <td>80850.84</td>\n",
              "      <td>1207.855136</td>\n",
              "      <td>3075.291750</td>\n",
              "      <td>0.00</td>\n",
              "    </tr>\n",
              "    <tr>\n",
              "      <th>1</th>\n",
              "      <td>33</td>\n",
              "      <td>14.567715</td>\n",
              "      <td>9.509187</td>\n",
              "      <td>1</td>\n",
              "      <td>210</td>\n",
              "      <td>7.453446</td>\n",
              "      <td>11.394428</td>\n",
              "      <td>1</td>\n",
              "      <td>280206.02</td>\n",
              "      <td>3864.006675</td>\n",
              "      <td>13942.902109</td>\n",
              "      <td>20.80</td>\n",
              "    </tr>\n",
              "    <tr>\n",
              "      <th>2</th>\n",
              "      <td>374</td>\n",
              "      <td>269.527294</td>\n",
              "      <td>56.945227</td>\n",
              "      <td>181</td>\n",
              "      <td>34</td>\n",
              "      <td>1.506388</td>\n",
              "      <td>1.506272</td>\n",
              "      <td>1</td>\n",
              "      <td>77183.60</td>\n",
              "      <td>644.778631</td>\n",
              "      <td>3363.753327</td>\n",
              "      <td>3.75</td>\n",
              "    </tr>\n",
              "    <tr>\n",
              "      <th>3</th>\n",
              "      <td>180</td>\n",
              "      <td>116.124711</td>\n",
              "      <td>33.119970</td>\n",
              "      <td>73</td>\n",
              "      <td>17</td>\n",
              "      <td>2.445727</td>\n",
              "      <td>1.962642</td>\n",
              "      <td>1</td>\n",
              "      <td>11072.67</td>\n",
              "      <td>905.148189</td>\n",
              "      <td>1106.763874</td>\n",
              "      <td>13.30</td>\n",
              "    </tr>\n",
              "  </tbody>\n",
              "</table>\n",
              "</div>\n",
              "      <button class=\"colab-df-convert\" onclick=\"convertToInteractive('df-8418ce12-09f5-4896-8ac2-49a857b1257c')\"\n",
              "              title=\"Convert this dataframe to an interactive table.\"\n",
              "              style=\"display:none;\">\n",
              "        \n",
              "  <svg xmlns=\"http://www.w3.org/2000/svg\" height=\"24px\"viewBox=\"0 0 24 24\"\n",
              "       width=\"24px\">\n",
              "    <path d=\"M0 0h24v24H0V0z\" fill=\"none\"/>\n",
              "    <path d=\"M18.56 5.44l.94 2.06.94-2.06 2.06-.94-2.06-.94-.94-2.06-.94 2.06-2.06.94zm-11 1L8.5 8.5l.94-2.06 2.06-.94-2.06-.94L8.5 2.5l-.94 2.06-2.06.94zm10 10l.94 2.06.94-2.06 2.06-.94-2.06-.94-.94-2.06-.94 2.06-2.06.94z\"/><path d=\"M17.41 7.96l-1.37-1.37c-.4-.4-.92-.59-1.43-.59-.52 0-1.04.2-1.43.59L10.3 9.45l-7.72 7.72c-.78.78-.78 2.05 0 2.83L4 21.41c.39.39.9.59 1.41.59.51 0 1.02-.2 1.41-.59l7.78-7.78 2.81-2.81c.8-.78.8-2.07 0-2.86zM5.41 20L4 18.59l7.72-7.72 1.47 1.35L5.41 20z\"/>\n",
              "  </svg>\n",
              "      </button>\n",
              "      \n",
              "  <style>\n",
              "    .colab-df-container {\n",
              "      display:flex;\n",
              "      flex-wrap:wrap;\n",
              "      gap: 12px;\n",
              "    }\n",
              "\n",
              "    .colab-df-convert {\n",
              "      background-color: #E8F0FE;\n",
              "      border: none;\n",
              "      border-radius: 50%;\n",
              "      cursor: pointer;\n",
              "      display: none;\n",
              "      fill: #1967D2;\n",
              "      height: 32px;\n",
              "      padding: 0 0 0 0;\n",
              "      width: 32px;\n",
              "    }\n",
              "\n",
              "    .colab-df-convert:hover {\n",
              "      background-color: #E2EBFA;\n",
              "      box-shadow: 0px 1px 2px rgba(60, 64, 67, 0.3), 0px 1px 3px 1px rgba(60, 64, 67, 0.15);\n",
              "      fill: #174EA6;\n",
              "    }\n",
              "\n",
              "    [theme=dark] .colab-df-convert {\n",
              "      background-color: #3B4455;\n",
              "      fill: #D2E3FC;\n",
              "    }\n",
              "\n",
              "    [theme=dark] .colab-df-convert:hover {\n",
              "      background-color: #434B5C;\n",
              "      box-shadow: 0px 1px 3px 1px rgba(0, 0, 0, 0.15);\n",
              "      filter: drop-shadow(0px 1px 2px rgba(0, 0, 0, 0.3));\n",
              "      fill: #FFFFFF;\n",
              "    }\n",
              "  </style>\n",
              "\n",
              "      <script>\n",
              "        const buttonEl =\n",
              "          document.querySelector('#df-8418ce12-09f5-4896-8ac2-49a857b1257c button.colab-df-convert');\n",
              "        buttonEl.style.display =\n",
              "          google.colab.kernel.accessAllowed ? 'block' : 'none';\n",
              "\n",
              "        async function convertToInteractive(key) {\n",
              "          const element = document.querySelector('#df-8418ce12-09f5-4896-8ac2-49a857b1257c');\n",
              "          const dataTable =\n",
              "            await google.colab.kernel.invokeFunction('convertToInteractive',\n",
              "                                                     [key], {});\n",
              "          if (!dataTable) return;\n",
              "\n",
              "          const docLinkHtml = 'Like what you see? Visit the ' +\n",
              "            '<a target=\"_blank\" href=https://colab.research.google.com/notebooks/data_table.ipynb>data table notebook</a>'\n",
              "            + ' to learn more about interactive tables.';\n",
              "          element.innerHTML = '';\n",
              "          dataTable['output_type'] = 'display_data';\n",
              "          await google.colab.output.renderOutput(dataTable, element);\n",
              "          const docLink = document.createElement('div');\n",
              "          docLink.innerHTML = docLinkHtml;\n",
              "          element.appendChild(docLink);\n",
              "        }\n",
              "      </script>\n",
              "    </div>\n",
              "  </div>\n",
              "  "
            ]
          },
          "metadata": {},
          "execution_count": 47
        }
      ],
      "source": [
        "rfm[['Recency', 'Frequency', 'Monetary', 'Cluster']].groupby(['Cluster']).agg({'mean', 'std', 'max', 'min'})"
      ]
    },
    {
      "cell_type": "code",
      "execution_count": 48,
      "metadata": {
        "colab": {
          "base_uri": "https://localhost:8080/",
          "height": 445
        },
        "id": "TCO5dyLcc3uG",
        "outputId": "f57e433e-7a7c-4f84-8238-53c803609f80"
      },
      "outputs": [
        {
          "output_type": "stream",
          "name": "stderr",
          "text": [
            "/usr/local/lib/python3.7/dist-packages/seaborn/_decorators.py:43: FutureWarning: Pass the following variables as keyword args: x, y. From version 0.12, the only valid positional argument will be `data`, and passing other arguments without an explicit keyword will result in an error or misinterpretation.\n",
            "  FutureWarning\n"
          ]
        },
        {
          "output_type": "display_data",
          "data": {
            "text/plain": [
              "<Figure size 576x432 with 1 Axes>"
            ],
            "image/png": "[encoded data removed]"
          },
          "metadata": {}
        }
      ],
      "source": [
        "sns.barplot(rfm['Cluster'].value_counts().index, rfm['Cluster'].value_counts().values)\n",
        "plt.xticks(rotation=90)\n",
        "plt.ylabel(\"Occurences\")\n",
        "plt.title(\"Number of Customer in Clusters\")\n",
        "sns.set(rc = {'figure.figsize':(10,6)})"
      ]
    },
    {
      "cell_type": "code",
      "execution_count": 49,
      "metadata": {
        "colab": {
          "base_uri": "https://localhost:8080/"
        },
        "id": "9W4DfBAHc3uG",
        "outputId": "14fa785a-ed9f-40b6-b014-e69627345791"
      },
      "outputs": [
        {
          "output_type": "execute_result",
          "data": {
            "text/plain": [
              "Champions              633\n",
              "Loyal_customers        495\n",
              "Potential_loyalists    484\n",
              "New_customers           42\n",
              "Name: Segment, dtype: int64"
            ]
          },
          "metadata": {},
          "execution_count": 49
        }
      ],
      "source": [
        "rfm[rfm['Cluster'] == 1]['Segment'].value_counts()"
      ]
    },
    {
      "cell_type": "markdown",
      "metadata": {
        "id": "BJ_j7Qq_c3uH"
      },
      "source": [
        "**Most customers are in Cluster 1 which is comprimised of Champions, Loyal customers, Potential loyalists and New customers.**"
      ]
    },
    {
      "cell_type": "markdown",
      "metadata": {
        "id": "U1pj5gg5c3uH"
      },
      "source": [
        "# 4. Customer Value"
      ]
    },
    {
      "cell_type": "code",
      "source": [
        "!pip install lifetimes"
      ],
      "metadata": {
        "colab": {
          "base_uri": "https://localhost:8080/"
        },
        "id": "3_2DxemDfCxX",
        "outputId": "d866b35e-8028-4a20-e460-c8090ac4bd96"
      },
      "execution_count": 50,
      "outputs": [
        {
          "output_type": "stream",
          "name": "stdout",
          "text": [
            "Looking in indexes: https://pypi.org/simple, https://us-python.pkg.dev/colab-wheels/public/simple/\n",
            "Requirement already satisfied: lifetimes in /usr/local/lib/python3.7/dist-packages (0.11.3)\n",
            "Requirement already satisfied: pandas>=0.24.0 in /usr/local/lib/python3.7/dist-packages (from lifetimes) (1.3.5)\n",
            "Requirement already satisfied: numpy>=1.10.0 in /usr/local/lib/python3.7/dist-packages (from lifetimes) (1.21.6)\n",
            "Requirement already satisfied: scipy>=1.0.0 in /usr/local/lib/python3.7/dist-packages (from lifetimes) (1.4.1)\n",
            "Requirement already satisfied: autograd>=1.2.0 in /usr/local/lib/python3.7/dist-packages (from lifetimes) (1.4)\n",
            "Requirement already satisfied: dill>=0.2.6 in /usr/local/lib/python3.7/dist-packages (from lifetimes) (0.3.5.1)\n",
            "Requirement already satisfied: future>=0.15.2 in /usr/local/lib/python3.7/dist-packages (from autograd>=1.2.0->lifetimes) (0.16.0)\n",
            "Requirement already satisfied: pytz>=2017.3 in /usr/local/lib/python3.7/dist-packages (from pandas>=0.24.0->lifetimes) (2022.1)\n",
            "Requirement already satisfied: python-dateutil>=2.7.3 in /usr/local/lib/python3.7/dist-packages (from pandas>=0.24.0->lifetimes) (2.8.2)\n",
            "Requirement already satisfied: six>=1.5 in /usr/local/lib/python3.7/dist-packages (from python-dateutil>=2.7.3->pandas>=0.24.0->lifetimes) (1.15.0)\n"
          ]
        }
      ]
    },
    {
      "cell_type": "code",
      "execution_count": 51,
      "metadata": {
        "id": "Vu4-8hMrc3uH"
      },
      "outputs": [],
      "source": [
        "from sklearn import metrics\n",
        "from sklearn.cluster import KMeans\n",
        "from sklearn.preprocessing import MinMaxScaler\n",
        "from lifetimes import BetaGeoFitter\n",
        "from lifetimes import GammaGammaFitter\n",
        "import warnings\n",
        "warnings.filterwarnings('ignore')"
      ]
    },
    {
      "cell_type": "code",
      "execution_count": 52,
      "metadata": {
        "colab": {
          "base_uri": "https://localhost:8080/",
          "height": 238
        },
        "id": "a0PLnh7yc3uH",
        "outputId": "173af25d-e1ab-4b6e-8e4c-22a0fc12fe5f"
      },
      "outputs": [
        {
          "output_type": "execute_result",
          "data": {
            "text/plain": [
              "            Recency    T  Frequency  Monetary\n",
              "CustomerID                                   \n",
              "12346.0           0  326          1  77183.60\n",
              "12347.0         365  368          7   4310.00\n",
              "12348.0         283  359          4   1797.24\n",
              "12349.0           0   19          1   1757.55\n",
              "12350.0           0  311          1    334.40"
            ],
            "text/html": [
              "\n",
              "  <div id=\"df-8cc68915-b3b7-467c-a0f5-697cc0cf5dc0\">\n",
              "    <div class=\"colab-df-container\">\n",
              "      <div>\n",
              "<style scoped>\n",
              "    .dataframe tbody tr th:only-of-type {\n",
              "        vertical-align: middle;\n",
              "    }\n",
              "\n",
              "    .dataframe tbody tr th {\n",
              "        vertical-align: top;\n",
              "    }\n",
              "\n",
              "    .dataframe thead th {\n",
              "        text-align: right;\n",
              "    }\n",
              "</style>\n",
              "<table border=\"1\" class=\"dataframe\">\n",
              "  <thead>\n",
              "    <tr style=\"text-align: right;\">\n",
              "      <th></th>\n",
              "      <th>Recency</th>\n",
              "      <th>T</th>\n",
              "      <th>Frequency</th>\n",
              "      <th>Monetary</th>\n",
              "    </tr>\n",
              "    <tr>\n",
              "      <th>CustomerID</th>\n",
              "      <th></th>\n",
              "      <th></th>\n",
              "      <th></th>\n",
              "      <th></th>\n",
              "    </tr>\n",
              "  </thead>\n",
              "  <tbody>\n",
              "    <tr>\n",
              "      <th>12346.0</th>\n",
              "      <td>0</td>\n",
              "      <td>326</td>\n",
              "      <td>1</td>\n",
              "      <td>77183.60</td>\n",
              "    </tr>\n",
              "    <tr>\n",
              "      <th>12347.0</th>\n",
              "      <td>365</td>\n",
              "      <td>368</td>\n",
              "      <td>7</td>\n",
              "      <td>4310.00</td>\n",
              "    </tr>\n",
              "    <tr>\n",
              "      <th>12348.0</th>\n",
              "      <td>283</td>\n",
              "      <td>359</td>\n",
              "      <td>4</td>\n",
              "      <td>1797.24</td>\n",
              "    </tr>\n",
              "    <tr>\n",
              "      <th>12349.0</th>\n",
              "      <td>0</td>\n",
              "      <td>19</td>\n",
              "      <td>1</td>\n",
              "      <td>1757.55</td>\n",
              "    </tr>\n",
              "    <tr>\n",
              "      <th>12350.0</th>\n",
              "      <td>0</td>\n",
              "      <td>311</td>\n",
              "      <td>1</td>\n",
              "      <td>334.40</td>\n",
              "    </tr>\n",
              "  </tbody>\n",
              "</table>\n",
              "</div>\n",
              "      <button class=\"colab-df-convert\" onclick=\"convertToInteractive('df-8cc68915-b3b7-467c-a0f5-697cc0cf5dc0')\"\n",
              "              title=\"Convert this dataframe to an interactive table.\"\n",
              "              style=\"display:none;\">\n",
              "        \n",
              "  <svg xmlns=\"http://www.w3.org/2000/svg\" height=\"24px\"viewBox=\"0 0 24 24\"\n",
              "       width=\"24px\">\n",
              "    <path d=\"M0 0h24v24H0V0z\" fill=\"none\"/>\n",
              "    <path d=\"M18.56 5.44l.94 2.06.94-2.06 2.06-.94-2.06-.94-.94-2.06-.94 2.06-2.06.94zm-11 1L8.5 8.5l.94-2.06 2.06-.94-2.06-.94L8.5 2.5l-.94 2.06-2.06.94zm10 10l.94 2.06.94-2.06 2.06-.94-2.06-.94-.94-2.06-.94 2.06-2.06.94z\"/><path d=\"M17.41 7.96l-1.37-1.37c-.4-.4-.92-.59-1.43-.59-.52 0-1.04.2-1.43.59L10.3 9.45l-7.72 7.72c-.78.78-.78 2.05 0 2.83L4 21.41c.39.39.9.59 1.41.59.51 0 1.02-.2 1.41-.59l7.78-7.78 2.81-2.81c.8-.78.8-2.07 0-2.86zM5.41 20L4 18.59l7.72-7.72 1.47 1.35L5.41 20z\"/>\n",
              "  </svg>\n",
              "      </button>\n",
              "      \n",
              "  <style>\n",
              "    .colab-df-container {\n",
              "      display:flex;\n",
              "      flex-wrap:wrap;\n",
              "      gap: 12px;\n",
              "    }\n",
              "\n",
              "    .colab-df-convert {\n",
              "      background-color: #E8F0FE;\n",
              "      border: none;\n",
              "      border-radius: 50%;\n",
              "      cursor: pointer;\n",
              "      display: none;\n",
              "      fill: #1967D2;\n",
              "      height: 32px;\n",
              "      padding: 0 0 0 0;\n",
              "      width: 32px;\n",
              "    }\n",
              "\n",
              "    .colab-df-convert:hover {\n",
              "      background-color: #E2EBFA;\n",
              "      box-shadow: 0px 1px 2px rgba(60, 64, 67, 0.3), 0px 1px 3px 1px rgba(60, 64, 67, 0.15);\n",
              "      fill: #174EA6;\n",
              "    }\n",
              "\n",
              "    [theme=dark] .colab-df-convert {\n",
              "      background-color: #3B4455;\n",
              "      fill: #D2E3FC;\n",
              "    }\n",
              "\n",
              "    [theme=dark] .colab-df-convert:hover {\n",
              "      background-color: #434B5C;\n",
              "      box-shadow: 0px 1px 3px 1px rgba(0, 0, 0, 0.15);\n",
              "      filter: drop-shadow(0px 1px 2px rgba(0, 0, 0, 0.3));\n",
              "      fill: #FFFFFF;\n",
              "    }\n",
              "  </style>\n",
              "\n",
              "      <script>\n",
              "        const buttonEl =\n",
              "          document.querySelector('#df-8cc68915-b3b7-467c-a0f5-697cc0cf5dc0 button.colab-df-convert');\n",
              "        buttonEl.style.display =\n",
              "          google.colab.kernel.accessAllowed ? 'block' : 'none';\n",
              "\n",
              "        async function convertToInteractive(key) {\n",
              "          const element = document.querySelector('#df-8cc68915-b3b7-467c-a0f5-697cc0cf5dc0');\n",
              "          const dataTable =\n",
              "            await google.colab.kernel.invokeFunction('convertToInteractive',\n",
              "                                                     [key], {});\n",
              "          if (!dataTable) return;\n",
              "\n",
              "          const docLinkHtml = 'Like what you see? Visit the ' +\n",
              "            '<a target=\"_blank\" href=https://colab.research.google.com/notebooks/data_table.ipynb>data table notebook</a>'\n",
              "            + ' to learn more about interactive tables.';\n",
              "          element.innerHTML = '';\n",
              "          dataTable['output_type'] = 'display_data';\n",
              "          await google.colab.output.renderOutput(dataTable, element);\n",
              "          const docLink = document.createElement('div');\n",
              "          docLink.innerHTML = docLinkHtml;\n",
              "          element.appendChild(docLink);\n",
              "        }\n",
              "      </script>\n",
              "    </div>\n",
              "  </div>\n",
              "  "
            ]
          },
          "metadata": {},
          "execution_count": 52
        }
      ],
      "source": [
        "cus_df = data.groupby('CustomerID').agg({'InvoiceDate': [lambda x: (x.max() - x.min()).days, lambda x: (last_day - x.min()).days], \n",
        "                                        'InvoiceNo': 'nunique',\n",
        "                                        'TotalPrice': 'sum'})\n",
        "\n",
        "cus_df.columns = cus_df.columns.droplevel(0)\n",
        "cus_df.columns = ['Recency', 'T', 'Frequency', 'Monetary']\n",
        "cus_df.head()"
      ]
    },
    {
      "cell_type": "markdown",
      "metadata": {
        "id": "mgTfi7esc3uI"
      },
      "source": [
        "### Customer Average Order Value TOP 10"
      ]
    },
    {
      "cell_type": "code",
      "execution_count": 53,
      "metadata": {
        "colab": {
          "base_uri": "https://localhost:8080/"
        },
        "id": "iWU7x0ZPc3uI",
        "outputId": "af164694-c401-414e-b955-6e9b08b1ad9e"
      },
      "outputs": [
        {
          "output_type": "execute_result",
          "data": {
            "text/plain": [
              "CustomerID\n",
              "16446.0    84236.250000\n",
              "12346.0    77183.600000\n",
              "15749.0    14844.766667\n",
              "15098.0    13305.500000\n",
              "12357.0     6207.670000\n",
              "12415.0     5948.310952\n",
              "12590.0     4932.130000\n",
              "12688.0     4873.810000\n",
              "12752.0     4366.780000\n",
              "18102.0     4327.621667\n",
              "dtype: float64"
            ]
          },
          "metadata": {},
          "execution_count": 53
        }
      ],
      "source": [
        "(cus_df['Monetary']/cus_df['Frequency']).sort_values(ascending=False).iloc[:10]"
      ]
    },
    {
      "cell_type": "code",
      "execution_count": 54,
      "metadata": {
        "id": "LN4Sv95Rc3uI"
      },
      "outputs": [],
      "source": [
        "cus_df = cus_df[(cus_df['Frequency'] > 1)]"
      ]
    },
    {
      "cell_type": "markdown",
      "metadata": {
        "id": "2Lg-wh8cc3uI"
      },
      "source": [
        "*BetaGeoFitter/Negative binomial distribution*"
      ]
    },
    {
      "cell_type": "code",
      "execution_count": 55,
      "metadata": {
        "colab": {
          "base_uri": "https://localhost:8080/"
        },
        "id": "d_Imyaszc3uI",
        "outputId": "fa907b37-1a60-4aee-e6ae-9db45e365a2e"
      },
      "outputs": [
        {
          "output_type": "execute_result",
          "data": {
            "text/plain": [
              "<lifetimes.BetaGeoFitter: fitted with 2845 subjects, a: 0.01, alpha: 13.21, b: 1.34, r: 1.04>"
            ]
          },
          "metadata": {},
          "execution_count": 55
        }
      ],
      "source": [
        "bgf = BetaGeoFitter(penalizer_coef=0.001)\n",
        "\n",
        "bgf.fit(cus_df['Frequency'],\n",
        "        cus_df['Recency'],\n",
        "        cus_df['T'], \n",
        "        cus_df['Monetary'])"
      ]
    },
    {
      "cell_type": "markdown",
      "metadata": {
        "id": "4DbvDD8ic3uI"
      },
      "source": [
        "### Expected transactions for the next month"
      ]
    },
    {
      "cell_type": "code",
      "execution_count": 56,
      "metadata": {
        "colab": {
          "base_uri": "https://localhost:8080/"
        },
        "id": "IRS_1lbnc3uI",
        "outputId": "de411b22-a278-463f-8b92-cdd0b8bb832c"
      },
      "outputs": [
        {
          "output_type": "execute_result",
          "data": {
            "text/plain": [
              "2354.551160774392"
            ]
          },
          "metadata": {},
          "execution_count": 56
        }
      ],
      "source": [
        "bgf.predict(30, cus_df['Frequency'],\n",
        "            cus_df['Recency'],\n",
        "            cus_df['T']).sum()"
      ]
    },
    {
      "cell_type": "markdown",
      "metadata": {
        "id": "iwu61CZIc3uJ"
      },
      "source": [
        "### Expected Top 10 customers in the next month"
      ]
    },
    {
      "cell_type": "code",
      "execution_count": 57,
      "metadata": {
        "colab": {
          "base_uri": "https://localhost:8080/"
        },
        "id": "MBgTyzjoc3uJ",
        "outputId": "1e00d2b9-c2a7-4be6-9e61-e46f5a57eb06"
      },
      "outputs": [
        {
          "output_type": "execute_result",
          "data": {
            "text/plain": [
              "CustomerID\n",
              "12748.0    16.342360\n",
              "14911.0    15.644366\n",
              "17841.0     9.682047\n",
              "13089.0     7.670044\n",
              "16000.0     7.365656\n",
              "14606.0     7.281548\n",
              "15311.0     7.126983\n",
              "12971.0     6.756123\n",
              "15060.0     6.281769\n",
              "14646.0     6.109907\n",
              "dtype: float64"
            ]
          },
          "metadata": {},
          "execution_count": 57
        }
      ],
      "source": [
        "bgf.conditional_expected_number_of_purchases_up_to_time(30,\n",
        "                                                        cus_df['Frequency'],\n",
        "                                                        cus_df['Recency'],\n",
        "                                                        cus_df['T']).sort_values(ascending=False).head(10)"
      ]
    },
    {
      "cell_type": "markdown",
      "metadata": {
        "id": "TIemAKEuc3uJ"
      },
      "source": [
        "*Gamma - Gamma model*"
      ]
    },
    {
      "cell_type": "code",
      "execution_count": 58,
      "metadata": {
        "colab": {
          "base_uri": "https://localhost:8080/"
        },
        "id": "uHPA5ZOUc3uJ",
        "outputId": "448fd789-43fe-4891-be31-55ada88529a7"
      },
      "outputs": [
        {
          "output_type": "execute_result",
          "data": {
            "text/plain": [
              "<lifetimes.GammaGammaFitter: fitted with 2845 subjects, p: 3.26, q: 0.22, v: 3.20>"
            ]
          },
          "metadata": {},
          "execution_count": 58
        }
      ],
      "source": [
        "ggf = GammaGammaFitter(penalizer_coef=0.01)\n",
        "\n",
        "# cus_df = cus_df[(cus_df['Frequency'] > 1)]\n",
        "ggf.fit(cus_df['Frequency'], cus_df['Monetary'])"
      ]
    },
    {
      "cell_type": "markdown",
      "metadata": {
        "id": "Gip2PHBFc3uJ"
      },
      "source": [
        "### Customer Lifetime Value Analysis"
      ]
    },
    {
      "cell_type": "code",
      "execution_count": 59,
      "metadata": {
        "colab": {
          "base_uri": "https://localhost:8080/",
          "height": 363
        },
        "id": "CVPfYJbwc3uJ",
        "outputId": "cd3da04c-6b98-4e46-b834-b1f9e10c8aa2"
      },
      "outputs": [
        {
          "output_type": "execute_result",
          "data": {
            "text/plain": [
              "<pandas.io.formats.style.Styler at 0x7f24e1136ad0>"
            ],
            "text/html": [
              "<style type=\"text/css\">\n",
              "</style>\n",
              "<table id=\"T_d1368_\" class=\"dataframe\">\n",
              "  <thead>\n",
              "    <tr>\n",
              "      <th class=\"blank level0\" >&nbsp;</th>\n",
              "      <th class=\"col_heading level0 col0\" >CustomerID</th>\n",
              "      <th class=\"col_heading level0 col1\" >clv</th>\n",
              "    </tr>\n",
              "  </thead>\n",
              "  <tbody>\n",
              "    <tr>\n",
              "      <th id=\"T_d1368_level0_row0\" class=\"row_heading level0 row0\" >1257</th>\n",
              "      <td id=\"T_d1368_row0_col0\" class=\"data row0 col0\" >14911.000000</td>\n",
              "      <td id=\"T_d1368_row0_col1\" class=\"data row0 col1\" >25,241,256.00</td>\n",
              "    </tr>\n",
              "    <tr>\n",
              "      <th id=\"T_d1368_level0_row1\" class=\"row_heading level0 row1\" >1122</th>\n",
              "      <td id=\"T_d1368_row1_col0\" class=\"data row1 col0\" >14646.000000</td>\n",
              "      <td id=\"T_d1368_row1_col1\" class=\"data row1 col1\" >19,257,134.00</td>\n",
              "    </tr>\n",
              "    <tr>\n",
              "      <th id=\"T_d1368_level0_row2\" class=\"row_heading level0 row2\" >2761</th>\n",
              "      <td id=\"T_d1368_row2_col0\" class=\"data row2 col0\" >18102.000000</td>\n",
              "      <td id=\"T_d1368_row2_col1\" class=\"data row2 col1\" >14,033,074.00</td>\n",
              "    </tr>\n",
              "    <tr>\n",
              "      <th id=\"T_d1368_level0_row3\" class=\"row_heading level0 row3\" >2458</th>\n",
              "      <td id=\"T_d1368_row3_col0\" class=\"data row3 col0\" >17450.000000</td>\n",
              "      <td id=\"T_d1368_row3_col1\" class=\"data row3 col1\" >8,101,724.00</td>\n",
              "    </tr>\n",
              "    <tr>\n",
              "      <th id=\"T_d1368_level0_row4\" class=\"row_heading level0 row4\" >215</th>\n",
              "      <td id=\"T_d1368_row4_col0\" class=\"data row4 col0\" >12748.000000</td>\n",
              "      <td id=\"T_d1368_row4_col1\" class=\"data row4 col1\" >6,064,134.00</td>\n",
              "    </tr>\n",
              "    <tr>\n",
              "      <th id=\"T_d1368_level0_row5\" class=\"row_heading level0 row5\" >874</th>\n",
              "      <td id=\"T_d1368_row5_col0\" class=\"data row5 col0\" >14156.000000</td>\n",
              "      <td id=\"T_d1368_row5_col1\" class=\"data row5 col1\" >5,753,666.00</td>\n",
              "    </tr>\n",
              "    <tr>\n",
              "      <th id=\"T_d1368_level0_row6\" class=\"row_heading level0 row6\" >373</th>\n",
              "      <td id=\"T_d1368_row6_col0\" class=\"data row6 col0\" >13089.000000</td>\n",
              "      <td id=\"T_d1368_row6_col1\" class=\"data row6 col1\" >5,066,349.00</td>\n",
              "    </tr>\n",
              "    <tr>\n",
              "      <th id=\"T_d1368_level0_row7\" class=\"row_heading level0 row7\" >1441</th>\n",
              "      <td id=\"T_d1368_row7_col0\" class=\"data row7 col0\" >15311.000000</td>\n",
              "      <td id=\"T_d1368_row7_col1\" class=\"data row7 col1\" >4,858,435.00</td>\n",
              "    </tr>\n",
              "    <tr>\n",
              "      <th id=\"T_d1368_level0_row8\" class=\"row_heading level0 row8\" >2652</th>\n",
              "      <td id=\"T_d1368_row8_col0\" class=\"data row8 col0\" >17841.000000</td>\n",
              "      <td id=\"T_d1368_row8_col1\" class=\"data row8 col1\" >4,407,744.00</td>\n",
              "    </tr>\n",
              "    <tr>\n",
              "      <th id=\"T_d1368_level0_row9\" class=\"row_heading level0 row9\" >1772</th>\n",
              "      <td id=\"T_d1368_row9_col0\" class=\"data row9 col0\" >16029.000000</td>\n",
              "      <td id=\"T_d1368_row9_col1\" class=\"data row9 col1\" >3,881,475.00</td>\n",
              "    </tr>\n",
              "  </tbody>\n",
              "</table>\n"
            ]
          },
          "metadata": {},
          "execution_count": 59
        }
      ],
      "source": [
        "cltv = ggf.customer_lifetime_value(bgf,cus_df['Frequency'],\n",
        "                                   cus_df['Recency'],cus_df['T'],\n",
        "                                   cus_df['Monetary'],time=12,\n",
        "                                   freq=\"D\",discount_rate=0.01)\n",
        "\n",
        "cltv = cltv.reset_index()\n",
        "(round(cltv.sort_values(by=\"clv\", ascending=False)).head(10)).style.format({'clv': '{:,.2f}'})"
      ]
    },
    {
      "cell_type": "markdown",
      "metadata": {
        "id": "ILiXqHgPc3uJ"
      },
      "source": [
        "Above frame shows the expected customers in top 10 CLTV to the retailer for next year"
      ]
    },
    {
      "cell_type": "markdown",
      "metadata": {
        "id": "-nxbyMPTc3uJ"
      },
      "source": [
        "# 5. Time Series Analysis"
      ]
    },
    {
      "cell_type": "code",
      "execution_count": 60,
      "metadata": {
        "id": "cUtT7cWNc3uK"
      },
      "outputs": [],
      "source": [
        "data['InvoiceDate'] = pd.to_datetime(data['InvoiceDate'])"
      ]
    },
    {
      "cell_type": "code",
      "execution_count": 61,
      "metadata": {
        "colab": {
          "base_uri": "https://localhost:8080/",
          "height": 238
        },
        "id": "vfCdhcInc3uK",
        "outputId": "096607c8-d188-46a6-c7cd-006123f2b541"
      },
      "outputs": [
        {
          "output_type": "execute_result",
          "data": {
            "text/plain": [
              "            InvoiceNo StockCode                          Description  \\\n",
              "InvoiceDate                                                            \n",
              "2010-12-01     536365    85123A   WHITE HANGING HEART T-LIGHT HOLDER   \n",
              "2010-12-01     536365     71053                  WHITE METAL LANTERN   \n",
              "2010-12-01     536365    84406B       CREAM CUPID HEARTS COAT HANGER   \n",
              "2010-12-01     536365    84029G  KNITTED UNION FLAG HOT WATER BOTTLE   \n",
              "2010-12-01     536365    84029E       RED WOOLLY HOTTIE WHITE HEART.   \n",
              "\n",
              "             Quantity  UnitPrice  CustomerID         Country  TotalPrice  \\\n",
              "InvoiceDate                                                                \n",
              "2010-12-01          6       2.55     17850.0  United Kingdom       15.30   \n",
              "2010-12-01          6       3.39     17850.0  United Kingdom       20.34   \n",
              "2010-12-01          8       2.75     17850.0  United Kingdom       22.00   \n",
              "2010-12-01          6       3.39     17850.0  United Kingdom       20.34   \n",
              "2010-12-01          6       3.39     17850.0  United Kingdom       20.34   \n",
              "\n",
              "            InvoiceCohort  CohortID  \n",
              "InvoiceDate                          \n",
              "2010-12-01        2010-12         1  \n",
              "2010-12-01        2010-12         1  \n",
              "2010-12-01        2010-12         1  \n",
              "2010-12-01        2010-12         1  \n",
              "2010-12-01        2010-12         1  "
            ],
            "text/html": [
              "\n",
              "  <div id=\"df-21f21837-e285-4360-a530-35061136a4c9\">\n",
              "    <div class=\"colab-df-container\">\n",
              "      <div>\n",
              "<style scoped>\n",
              "    .dataframe tbody tr th:only-of-type {\n",
              "        vertical-align: middle;\n",
              "    }\n",
              "\n",
              "    .dataframe tbody tr th {\n",
              "        vertical-align: top;\n",
              "    }\n",
              "\n",
              "    .dataframe thead th {\n",
              "        text-align: right;\n",
              "    }\n",
              "</style>\n",
              "<table border=\"1\" class=\"dataframe\">\n",
              "  <thead>\n",
              "    <tr style=\"text-align: right;\">\n",
              "      <th></th>\n",
              "      <th>InvoiceNo</th>\n",
              "      <th>StockCode</th>\n",
              "      <th>Description</th>\n",
              "      <th>Quantity</th>\n",
              "      <th>UnitPrice</th>\n",
              "      <th>CustomerID</th>\n",
              "      <th>Country</th>\n",
              "      <th>TotalPrice</th>\n",
              "      <th>InvoiceCohort</th>\n",
              "      <th>CohortID</th>\n",
              "    </tr>\n",
              "    <tr>\n",
              "      <th>InvoiceDate</th>\n",
              "      <th></th>\n",
              "      <th></th>\n",
              "      <th></th>\n",
              "      <th></th>\n",
              "      <th></th>\n",
              "      <th></th>\n",
              "      <th></th>\n",
              "      <th></th>\n",
              "      <th></th>\n",
              "      <th></th>\n",
              "    </tr>\n",
              "  </thead>\n",
              "  <tbody>\n",
              "    <tr>\n",
              "      <th>2010-12-01</th>\n",
              "      <td>536365</td>\n",
              "      <td>85123A</td>\n",
              "      <td>WHITE HANGING HEART T-LIGHT HOLDER</td>\n",
              "      <td>6</td>\n",
              "      <td>2.55</td>\n",
              "      <td>17850.0</td>\n",
              "      <td>United Kingdom</td>\n",
              "      <td>15.30</td>\n",
              "      <td>2010-12</td>\n",
              "      <td>1</td>\n",
              "    </tr>\n",
              "    <tr>\n",
              "      <th>2010-12-01</th>\n",
              "      <td>536365</td>\n",
              "      <td>71053</td>\n",
              "      <td>WHITE METAL LANTERN</td>\n",
              "      <td>6</td>\n",
              "      <td>3.39</td>\n",
              "      <td>17850.0</td>\n",
              "      <td>United Kingdom</td>\n",
              "      <td>20.34</td>\n",
              "      <td>2010-12</td>\n",
              "      <td>1</td>\n",
              "    </tr>\n",
              "    <tr>\n",
              "      <th>2010-12-01</th>\n",
              "      <td>536365</td>\n",
              "      <td>84406B</td>\n",
              "      <td>CREAM CUPID HEARTS COAT HANGER</td>\n",
              "      <td>8</td>\n",
              "      <td>2.75</td>\n",
              "      <td>17850.0</td>\n",
              "      <td>United Kingdom</td>\n",
              "      <td>22.00</td>\n",
              "      <td>2010-12</td>\n",
              "      <td>1</td>\n",
              "    </tr>\n",
              "    <tr>\n",
              "      <th>2010-12-01</th>\n",
              "      <td>536365</td>\n",
              "      <td>84029G</td>\n",
              "      <td>KNITTED UNION FLAG HOT WATER BOTTLE</td>\n",
              "      <td>6</td>\n",
              "      <td>3.39</td>\n",
              "      <td>17850.0</td>\n",
              "      <td>United Kingdom</td>\n",
              "      <td>20.34</td>\n",
              "      <td>2010-12</td>\n",
              "      <td>1</td>\n",
              "    </tr>\n",
              "    <tr>\n",
              "      <th>2010-12-01</th>\n",
              "      <td>536365</td>\n",
              "      <td>84029E</td>\n",
              "      <td>RED WOOLLY HOTTIE WHITE HEART.</td>\n",
              "      <td>6</td>\n",
              "      <td>3.39</td>\n",
              "      <td>17850.0</td>\n",
              "      <td>United Kingdom</td>\n",
              "      <td>20.34</td>\n",
              "      <td>2010-12</td>\n",
              "      <td>1</td>\n",
              "    </tr>\n",
              "  </tbody>\n",
              "</table>\n",
              "</div>\n",
              "      <button class=\"colab-df-convert\" onclick=\"convertToInteractive('df-21f21837-e285-4360-a530-35061136a4c9')\"\n",
              "              title=\"Convert this dataframe to an interactive table.\"\n",
              "              style=\"display:none;\">\n",
              "        \n",
              "  <svg xmlns=\"http://www.w3.org/2000/svg\" height=\"24px\"viewBox=\"0 0 24 24\"\n",
              "       width=\"24px\">\n",
              "    <path d=\"M0 0h24v24H0V0z\" fill=\"none\"/>\n",
              "    <path d=\"M18.56 5.44l.94 2.06.94-2.06 2.06-.94-2.06-.94-.94-2.06-.94 2.06-2.06.94zm-11 1L8.5 8.5l.94-2.06 2.06-.94-2.06-.94L8.5 2.5l-.94 2.06-2.06.94zm10 10l.94 2.06.94-2.06 2.06-.94-2.06-.94-.94-2.06-.94 2.06-2.06.94z\"/><path d=\"M17.41 7.96l-1.37-1.37c-.4-.4-.92-.59-1.43-.59-.52 0-1.04.2-1.43.59L10.3 9.45l-7.72 7.72c-.78.78-.78 2.05 0 2.83L4 21.41c.39.39.9.59 1.41.59.51 0 1.02-.2 1.41-.59l7.78-7.78 2.81-2.81c.8-.78.8-2.07 0-2.86zM5.41 20L4 18.59l7.72-7.72 1.47 1.35L5.41 20z\"/>\n",
              "  </svg>\n",
              "      </button>\n",
              "      \n",
              "  <style>\n",
              "    .colab-df-container {\n",
              "      display:flex;\n",
              "      flex-wrap:wrap;\n",
              "      gap: 12px;\n",
              "    }\n",
              "\n",
              "    .colab-df-convert {\n",
              "      background-color: #E8F0FE;\n",
              "      border: none;\n",
              "      border-radius: 50%;\n",
              "      cursor: pointer;\n",
              "      display: none;\n",
              "      fill: #1967D2;\n",
              "      height: 32px;\n",
              "      padding: 0 0 0 0;\n",
              "      width: 32px;\n",
              "    }\n",
              "\n",
              "    .colab-df-convert:hover {\n",
              "      background-color: #E2EBFA;\n",
              "      box-shadow: 0px 1px 2px rgba(60, 64, 67, 0.3), 0px 1px 3px 1px rgba(60, 64, 67, 0.15);\n",
              "      fill: #174EA6;\n",
              "    }\n",
              "\n",
              "    [theme=dark] .colab-df-convert {\n",
              "      background-color: #3B4455;\n",
              "      fill: #D2E3FC;\n",
              "    }\n",
              "\n",
              "    [theme=dark] .colab-df-convert:hover {\n",
              "      background-color: #434B5C;\n",
              "      box-shadow: 0px 1px 3px 1px rgba(0, 0, 0, 0.15);\n",
              "      filter: drop-shadow(0px 1px 2px rgba(0, 0, 0, 0.3));\n",
              "      fill: #FFFFFF;\n",
              "    }\n",
              "  </style>\n",
              "\n",
              "      <script>\n",
              "        const buttonEl =\n",
              "          document.querySelector('#df-21f21837-e285-4360-a530-35061136a4c9 button.colab-df-convert');\n",
              "        buttonEl.style.display =\n",
              "          google.colab.kernel.accessAllowed ? 'block' : 'none';\n",
              "\n",
              "        async function convertToInteractive(key) {\n",
              "          const element = document.querySelector('#df-21f21837-e285-4360-a530-35061136a4c9');\n",
              "          const dataTable =\n",
              "            await google.colab.kernel.invokeFunction('convertToInteractive',\n",
              "                                                     [key], {});\n",
              "          if (!dataTable) return;\n",
              "\n",
              "          const docLinkHtml = 'Like what you see? Visit the ' +\n",
              "            '<a target=\"_blank\" href=https://colab.research.google.com/notebooks/data_table.ipynb>data table notebook</a>'\n",
              "            + ' to learn more about interactive tables.';\n",
              "          element.innerHTML = '';\n",
              "          dataTable['output_type'] = 'display_data';\n",
              "          await google.colab.output.renderOutput(dataTable, element);\n",
              "          const docLink = document.createElement('div');\n",
              "          docLink.innerHTML = docLinkHtml;\n",
              "          element.appendChild(docLink);\n",
              "        }\n",
              "      </script>\n",
              "    </div>\n",
              "  </div>\n",
              "  "
            ]
          },
          "metadata": {},
          "execution_count": 61
        }
      ],
      "source": [
        "data = data[data['Country'] == 'United Kingdom']\n",
        "data.set_index('InvoiceDate', inplace=True)\n",
        "data.head()"
      ]
    },
    {
      "cell_type": "code",
      "execution_count": 62,
      "metadata": {
        "scrolled": true,
        "colab": {
          "base_uri": "https://localhost:8080/",
          "height": 488
        },
        "id": "OG5kLqXKc3uK",
        "outputId": "2f8a12c9-d5d3-49e9-c524-a7957c923099"
      },
      "outputs": [
        {
          "output_type": "execute_result",
          "data": {
            "text/plain": [
              "             TotalPrice\n",
              "InvoiceDate            \n",
              "2010-12-31   496477.340\n",
              "2011-01-31   440876.330\n",
              "2011-02-28   354618.200\n",
              "2011-03-31   465784.190\n",
              "2011-04-30   408733.111\n",
              "2011-05-31   550359.350\n",
              "2011-06-30   523775.590\n",
              "2011-07-31   484545.591\n",
              "2011-08-31   497194.910\n",
              "2011-09-30   794802.792\n",
              "2011-10-31   821220.130\n",
              "2011-11-30   975251.390\n",
              "2011-12-31   471381.820"
            ],
            "text/html": [
              "\n",
              "  <div id=\"df-bf229643-ec0d-479b-b8e3-cfdbffd07741\">\n",
              "    <div class=\"colab-df-container\">\n",
              "      <div>\n",
              "<style scoped>\n",
              "    .dataframe tbody tr th:only-of-type {\n",
              "        vertical-align: middle;\n",
              "    }\n",
              "\n",
              "    .dataframe tbody tr th {\n",
              "        vertical-align: top;\n",
              "    }\n",
              "\n",
              "    .dataframe thead th {\n",
              "        text-align: right;\n",
              "    }\n",
              "</style>\n",
              "<table border=\"1\" class=\"dataframe\">\n",
              "  <thead>\n",
              "    <tr style=\"text-align: right;\">\n",
              "      <th></th>\n",
              "      <th>TotalPrice</th>\n",
              "    </tr>\n",
              "    <tr>\n",
              "      <th>InvoiceDate</th>\n",
              "      <th></th>\n",
              "    </tr>\n",
              "  </thead>\n",
              "  <tbody>\n",
              "    <tr>\n",
              "      <th>2010-12-31</th>\n",
              "      <td>496477.340</td>\n",
              "    </tr>\n",
              "    <tr>\n",
              "      <th>2011-01-31</th>\n",
              "      <td>440876.330</td>\n",
              "    </tr>\n",
              "    <tr>\n",
              "      <th>2011-02-28</th>\n",
              "      <td>354618.200</td>\n",
              "    </tr>\n",
              "    <tr>\n",
              "      <th>2011-03-31</th>\n",
              "      <td>465784.190</td>\n",
              "    </tr>\n",
              "    <tr>\n",
              "      <th>2011-04-30</th>\n",
              "      <td>408733.111</td>\n",
              "    </tr>\n",
              "    <tr>\n",
              "      <th>2011-05-31</th>\n",
              "      <td>550359.350</td>\n",
              "    </tr>\n",
              "    <tr>\n",
              "      <th>2011-06-30</th>\n",
              "      <td>523775.590</td>\n",
              "    </tr>\n",
              "    <tr>\n",
              "      <th>2011-07-31</th>\n",
              "      <td>484545.591</td>\n",
              "    </tr>\n",
              "    <tr>\n",
              "      <th>2011-08-31</th>\n",
              "      <td>497194.910</td>\n",
              "    </tr>\n",
              "    <tr>\n",
              "      <th>2011-09-30</th>\n",
              "      <td>794802.792</td>\n",
              "    </tr>\n",
              "    <tr>\n",
              "      <th>2011-10-31</th>\n",
              "      <td>821220.130</td>\n",
              "    </tr>\n",
              "    <tr>\n",
              "      <th>2011-11-30</th>\n",
              "      <td>975251.390</td>\n",
              "    </tr>\n",
              "    <tr>\n",
              "      <th>2011-12-31</th>\n",
              "      <td>471381.820</td>\n",
              "    </tr>\n",
              "  </tbody>\n",
              "</table>\n",
              "</div>\n",
              "      <button class=\"colab-df-convert\" onclick=\"convertToInteractive('df-bf229643-ec0d-479b-b8e3-cfdbffd07741')\"\n",
              "              title=\"Convert this dataframe to an interactive table.\"\n",
              "              style=\"display:none;\">\n",
              "        \n",
              "  <svg xmlns=\"http://www.w3.org/2000/svg\" height=\"24px\"viewBox=\"0 0 24 24\"\n",
              "       width=\"24px\">\n",
              "    <path d=\"M0 0h24v24H0V0z\" fill=\"none\"/>\n",
              "    <path d=\"M18.56 5.44l.94 2.06.94-2.06 2.06-.94-2.06-.94-.94-2.06-.94 2.06-2.06.94zm-11 1L8.5 8.5l.94-2.06 2.06-.94-2.06-.94L8.5 2.5l-.94 2.06-2.06.94zm10 10l.94 2.06.94-2.06 2.06-.94-2.06-.94-.94-2.06-.94 2.06-2.06.94z\"/><path d=\"M17.41 7.96l-1.37-1.37c-.4-.4-.92-.59-1.43-.59-.52 0-1.04.2-1.43.59L10.3 9.45l-7.72 7.72c-.78.78-.78 2.05 0 2.83L4 21.41c.39.39.9.59 1.41.59.51 0 1.02-.2 1.41-.59l7.78-7.78 2.81-2.81c.8-.78.8-2.07 0-2.86zM5.41 20L4 18.59l7.72-7.72 1.47 1.35L5.41 20z\"/>\n",
              "  </svg>\n",
              "      </button>\n",
              "      \n",
              "  <style>\n",
              "    .colab-df-container {\n",
              "      display:flex;\n",
              "      flex-wrap:wrap;\n",
              "      gap: 12px;\n",
              "    }\n",
              "\n",
              "    .colab-df-convert {\n",
              "      background-color: #E8F0FE;\n",
              "      border: none;\n",
              "      border-radius: 50%;\n",
              "      cursor: pointer;\n",
              "      display: none;\n",
              "      fill: #1967D2;\n",
              "      height: 32px;\n",
              "      padding: 0 0 0 0;\n",
              "      width: 32px;\n",
              "    }\n",
              "\n",
              "    .colab-df-convert:hover {\n",
              "      background-color: #E2EBFA;\n",
              "      box-shadow: 0px 1px 2px rgba(60, 64, 67, 0.3), 0px 1px 3px 1px rgba(60, 64, 67, 0.15);\n",
              "      fill: #174EA6;\n",
              "    }\n",
              "\n",
              "    [theme=dark] .colab-df-convert {\n",
              "      background-color: #3B4455;\n",
              "      fill: #D2E3FC;\n",
              "    }\n",
              "\n",
              "    [theme=dark] .colab-df-convert:hover {\n",
              "      background-color: #434B5C;\n",
              "      box-shadow: 0px 1px 3px 1px rgba(0, 0, 0, 0.15);\n",
              "      filter: drop-shadow(0px 1px 2px rgba(0, 0, 0, 0.3));\n",
              "      fill: #FFFFFF;\n",
              "    }\n",
              "  </style>\n",
              "\n",
              "      <script>\n",
              "        const buttonEl =\n",
              "          document.querySelector('#df-bf229643-ec0d-479b-b8e3-cfdbffd07741 button.colab-df-convert');\n",
              "        buttonEl.style.display =\n",
              "          google.colab.kernel.accessAllowed ? 'block' : 'none';\n",
              "\n",
              "        async function convertToInteractive(key) {\n",
              "          const element = document.querySelector('#df-bf229643-ec0d-479b-b8e3-cfdbffd07741');\n",
              "          const dataTable =\n",
              "            await google.colab.kernel.invokeFunction('convertToInteractive',\n",
              "                                                     [key], {});\n",
              "          if (!dataTable) return;\n",
              "\n",
              "          const docLinkHtml = 'Like what you see? Visit the ' +\n",
              "            '<a target=\"_blank\" href=https://colab.research.google.com/notebooks/data_table.ipynb>data table notebook</a>'\n",
              "            + ' to learn more about interactive tables.';\n",
              "          element.innerHTML = '';\n",
              "          dataTable['output_type'] = 'display_data';\n",
              "          await google.colab.output.renderOutput(dataTable, element);\n",
              "          const docLink = document.createElement('div');\n",
              "          docLink.innerHTML = docLinkHtml;\n",
              "          element.appendChild(docLink);\n",
              "        }\n",
              "      </script>\n",
              "    </div>\n",
              "  </div>\n",
              "  "
            ]
          },
          "metadata": {},
          "execution_count": 62
        }
      ],
      "source": [
        "revenue_monthly = (data.groupby(['InvoiceDate'])['TotalPrice'].sum()).resample('M').sum().to_frame()\n",
        "revenue_monthly"
      ]
    },
    {
      "cell_type": "code",
      "execution_count": 63,
      "metadata": {
        "colab": {
          "base_uri": "https://localhost:8080/",
          "height": 454
        },
        "id": "O0SK2FjHc3uK",
        "outputId": "01b70242-1660-497c-e11a-f0b0bc11ab24"
      },
      "outputs": [
        {
          "output_type": "execute_result",
          "data": {
            "text/plain": [
              "<matplotlib.legend.Legend at 0x7f24da4a8050>"
            ]
          },
          "metadata": {},
          "execution_count": 63
        },
        {
          "output_type": "display_data",
          "data": {
            "text/plain": [
              "<Figure size 864x432 with 2 Axes>"
            ],
            "image/png": "[encoded data removed]"
          },
          "metadata": {}
        }
      ],
      "source": [
        "fig, axes = plt.subplots(2, 1, figsize = (12, 6))\n",
        "\n",
        "# revenue_monthly.plot(ax=ax)\n",
        "sns.lineplot(x = revenue_monthly.index, y = revenue_monthly.TotalPrice, ax=axes[0], label = \"Monthly Revenue\").set_title(\"Monthly Revenue\")\n",
        "sns.lineplot(x = revenue_monthly.index, y = revenue_monthly.TotalPrice.rolling(2).mean(), ax=axes[0],\n",
        "             label = \"Rolling Mean for 60 Days\")\n",
        "\n",
        "sns.lineplot(x = revenue_monthly.index, y = revenue_monthly.TotalPrice.diff(1), label = \"First Difference of Monthly Revenue\")\n",
        "sns.lineplot(x = revenue_monthly.index, y = revenue_monthly.TotalPrice.diff(1).rolling(2).mean(), ax=axes[1],\n",
        "             label = \"Daily Sales - First Difference\").set_title(\"1st Difference of Work Days Daily Sales\")\n",
        "plt.title(\"1 month Diff Monthly Revenue\")\n",
        "plt.xticks(rotation=90)\n",
        "plt.tight_layout()\n",
        "plt.legend()"
      ]
    },
    {
      "cell_type": "markdown",
      "metadata": {
        "id": "O7s-kjjjc3uK"
      },
      "source": [
        "Revenues make a first peak around May and second peak in October. November revenues got highest for the retailer."
      ]
    },
    {
      "cell_type": "markdown",
      "metadata": {
        "id": "GPPBixIRc3uK"
      },
      "source": [
        "## Stationarity"
      ]
    },
    {
      "cell_type": "markdown",
      "metadata": {
        "id": "aulYlvTDc3uL"
      },
      "source": [
        "Stationarity means constant mean, variance on different times. Above graph shows mean values increase over time."
      ]
    },
    {
      "cell_type": "markdown",
      "metadata": {
        "id": "J7bBuWc2c3uL"
      },
      "source": [
        "### Augmented Dickey-Fuller Test"
      ]
    },
    {
      "cell_type": "code",
      "execution_count": 64,
      "metadata": {
        "id": "XgONCrlvc3uL"
      },
      "outputs": [],
      "source": [
        "from statsmodels.tsa.stattools import adfuller"
      ]
    },
    {
      "cell_type": "code",
      "execution_count": 65,
      "metadata": {
        "id": "TZ6ZRbJtc3uL"
      },
      "outputs": [],
      "source": [
        "def adf_test(series, check = 0.05):\n",
        "    \n",
        "    adf = adfuller(series, autolag = \"AIC\")\n",
        "    \n",
        "    print(f\"H0: {series.name} is non-stationary.\")\n",
        "    print(f\"H1: {series.name} is stationary.\\n\")\n",
        "    \n",
        "    test_stat = adf[0]; print(f\"ADF test statistic: {adf[0]}\")\n",
        "    pvalue = adf[1]; print(f\"p-value: {adf[1]}\")\n",
        "    print(f\"Number of lags: {adf[2]}\")    \n",
        "    print(\"\\nCritical Values : \\n\")\n",
        "    for key, item in adf[4].items(): print(\"\\t\", key, \"\\t\", item)\n",
        "    \n",
        "    print(f\"\\nFor {check} significance level: \\n\")\n",
        "    if pvalue < check:\n",
        "        print(\"We can reject null hypothesis. This series is stationary.\")\n",
        "    else:\n",
        "        print(\"We can not reject null hypothesis. This series is non-stationary.\")"
      ]
    },
    {
      "cell_type": "code",
      "execution_count": 66,
      "metadata": {
        "colab": {
          "base_uri": "https://localhost:8080/"
        },
        "id": "kichFy-Ec3uL",
        "outputId": "3f3e74e3-8919-48f1-a3a8-c4a8143fd696"
      },
      "outputs": [
        {
          "output_type": "stream",
          "name": "stdout",
          "text": [
            "H0: TotalPrice is non-stationary.\n",
            "H1: TotalPrice is stationary.\n",
            "\n",
            "ADF test statistic: -1.8528859490358536\n",
            "p-value: 0.35453901071168337\n",
            "Number of lags: 0\n",
            "\n",
            "Critical Values : \n",
            "\n",
            "\t 1% \t -4.137829282407408\n",
            "\t 5% \t -3.1549724074074077\n",
            "\t 10% \t -2.7144769444444443\n",
            "\n",
            "For 0.1 significance level: \n",
            "\n",
            "We can not reject null hypothesis. This series is non-stationary.\n"
          ]
        }
      ],
      "source": [
        "adf_test(revenue_monthly['TotalPrice'], check=0.1)"
      ]
    },
    {
      "cell_type": "markdown",
      "metadata": {
        "id": "mHIQJoY5c3uL"
      },
      "source": [
        "> To make the time-series stationary:\n",
        "1. Taking difference\n",
        "2. Applying transformations\n",
        "\n",
        "**Let's take difference as above graph shows mean becomes approximately constant after taking 1st difference**"
      ]
    },
    {
      "cell_type": "code",
      "execution_count": 67,
      "metadata": {
        "colab": {
          "base_uri": "https://localhost:8080/"
        },
        "id": "-efzeVCUc3uL",
        "outputId": "abfb086e-30af-4088-a1a8-d2b5eb9e71f9"
      },
      "outputs": [
        {
          "output_type": "stream",
          "name": "stdout",
          "text": [
            "H0: TotalPrice is non-stationary.\n",
            "H1: TotalPrice is stationary.\n",
            "\n",
            "ADF test statistic: -2.7175133469123165\n",
            "p-value: 0.07105641569664628\n",
            "Number of lags: 2\n",
            "\n",
            "Critical Values : \n",
            "\n",
            "\t 1% \t -4.473135048010974\n",
            "\t 5% \t -3.28988060356653\n",
            "\t 10% \t -2.7723823456790124\n",
            "\n",
            "For 0.1 significance level: \n",
            "\n",
            "We can reject null hypothesis. This series is stationary.\n"
          ]
        }
      ],
      "source": [
        "adf_test(revenue_monthly[\"TotalPrice\"].diff(1).dropna(), check=0.1)"
      ]
    },
    {
      "cell_type": "markdown",
      "metadata": {
        "id": "ayOm2_T0c3uM"
      },
      "source": [
        "## Seasonality and Decomposition"
      ]
    },
    {
      "cell_type": "code",
      "execution_count": 68,
      "metadata": {
        "id": "w6UA0Di-c3uM"
      },
      "outputs": [],
      "source": [
        "from statsmodels.tsa.seasonal import seasonal_decompose\n",
        "from statsmodels.graphics.tsaplots import plot_acf, plot_pacf\n",
        "from fbprophet import Prophet\n",
        "from sklearn.metrics import r2_score, mean_squared_error"
      ]
    },
    {
      "cell_type": "code",
      "execution_count": 69,
      "metadata": {
        "id": "Y5H2aVpPc3uM"
      },
      "outputs": [],
      "source": [
        "decompose = seasonal_decompose(revenue_monthly[\"TotalPrice\"], freq=2)"
      ]
    },
    {
      "cell_type": "code",
      "execution_count": 70,
      "metadata": {
        "colab": {
          "base_uri": "https://localhost:8080/",
          "height": 639
        },
        "id": "A5kOl1yyc3uM",
        "outputId": "c4de2f1f-01e9-4690-cbbc-fe740a6865cd"
      },
      "outputs": [
        {
          "output_type": "display_data",
          "data": {
            "text/plain": [
              "<Figure size 864x720 with 4 Axes>"
            ],
            "image/png": "[encoded data removed]"
          },
          "metadata": {}
        }
      ],
      "source": [
        "fig, ax = plt.subplots(4, 1, sharex = True, figsize = (12, 10))\n",
        "\n",
        "decompose.observed.plot(ax = ax[0]).set_title(\"Observed\")\n",
        "decompose.trend.plot(ax = ax[1]).set_title(\"Trend\")\n",
        "decompose.seasonal.plot(ax = ax[2]).set_title(\"Seasonal\")\n",
        "decompose.resid.plot(ax = ax[3]).set_title(\"Residual\")\n",
        "\n",
        "plt.show()"
      ]
    },
    {
      "cell_type": "markdown",
      "metadata": {
        "id": "brQ_gUHdc3uM"
      },
      "source": [
        "Above graph shows the monthly seasonality, trend and residuals. Let's see if residuals are normally distributed."
      ]
    },
    {
      "cell_type": "code",
      "execution_count": 71,
      "metadata": {
        "colab": {
          "base_uri": "https://localhost:8080/",
          "height": 410
        },
        "id": "4E6sFWVac3uM",
        "outputId": "3dca3c70-5c2f-4e6d-9a7b-d49684e639f9"
      },
      "outputs": [
        {
          "output_type": "display_data",
          "data": {
            "text/plain": [
              "<Figure size 720x432 with 1 Axes>"
            ],
            "image/png": "[encoded data removed]"
          },
          "metadata": {}
        }
      ],
      "source": [
        "sns.kdeplot(decompose.resid).set_title(\"Residual Density\")\n",
        "plt.show()"
      ]
    },
    {
      "cell_type": "code",
      "execution_count": 72,
      "metadata": {
        "colab": {
          "base_uri": "https://localhost:8080/",
          "height": 581
        },
        "id": "TyYDKy4Wc3uM",
        "outputId": "22560441-5dce-4945-8d03-c4399c5499e4"
      },
      "outputs": [
        {
          "output_type": "display_data",
          "data": {
            "text/plain": [
              "<Figure size 864x576 with 2 Axes>"
            ],
            "image/png": "[encoded data removed]"
          },
          "metadata": {}
        }
      ],
      "source": [
        "fig, axes = plt.subplots(2, 1, sharex = True, figsize = (12, 8), facecolor = \"#e5e5e5\")\n",
        "\n",
        "for ax in axes: ax.set_facecolor(\"#e5e5e5\")\n",
        "    \n",
        "plot_acf(revenue_monthly[\"TotalPrice\"].diff(1).dropna(), ax = axes[0])\n",
        "plot_pacf(revenue_monthly[\"TotalPrice\"].diff(1).dropna(), ax = axes[1])\n",
        "\n",
        "plt.tight_layout()\n",
        "plt.show()"
      ]
    },
    {
      "cell_type": "code",
      "source": [
        "monthly_data = revenue_monthly[[\"TotalPrice\"]].dropna().reset_index().rename(columns={'InvoiceDate': 'ds', 'TotalPrice': 'y'})\n",
        "monthly_data\n"
      ],
      "metadata": {
        "colab": {
          "base_uri": "https://localhost:8080/",
          "height": 457
        },
        "id": "6Eb-ZcsudDH8",
        "outputId": "78d76f63-5a4d-46e9-982a-3c602413247b"
      },
      "execution_count": 73,
      "outputs": [
        {
          "output_type": "execute_result",
          "data": {
            "text/plain": [
              "           ds           y\n",
              "0  2010-12-31  496477.340\n",
              "1  2011-01-31  440876.330\n",
              "2  2011-02-28  354618.200\n",
              "3  2011-03-31  465784.190\n",
              "4  2011-04-30  408733.111\n",
              "5  2011-05-31  550359.350\n",
              "6  2011-06-30  523775.590\n",
              "7  2011-07-31  484545.591\n",
              "8  2011-08-31  497194.910\n",
              "9  2011-09-30  794802.792\n",
              "10 2011-10-31  821220.130\n",
              "11 2011-11-30  975251.390\n",
              "12 2011-12-31  471381.820"
            ],
            "text/html": [
              "\n",
              "  <div id=\"df-6b2284e5-0041-46dc-8c50-38915c122373\">\n",
              "    <div class=\"colab-df-container\">\n",
              "      <div>\n",
              "<style scoped>\n",
              "    .dataframe tbody tr th:only-of-type {\n",
              "        vertical-align: middle;\n",
              "    }\n",
              "\n",
              "    .dataframe tbody tr th {\n",
              "        vertical-align: top;\n",
              "    }\n",
              "\n",
              "    .dataframe thead th {\n",
              "        text-align: right;\n",
              "    }\n",
              "</style>\n",
              "<table border=\"1\" class=\"dataframe\">\n",
              "  <thead>\n",
              "    <tr style=\"text-align: right;\">\n",
              "      <th></th>\n",
              "      <th>ds</th>\n",
              "      <th>y</th>\n",
              "    </tr>\n",
              "  </thead>\n",
              "  <tbody>\n",
              "    <tr>\n",
              "      <th>0</th>\n",
              "      <td>2010-12-31</td>\n",
              "      <td>496477.340</td>\n",
              "    </tr>\n",
              "    <tr>\n",
              "      <th>1</th>\n",
              "      <td>2011-01-31</td>\n",
              "      <td>440876.330</td>\n",
              "    </tr>\n",
              "    <tr>\n",
              "      <th>2</th>\n",
              "      <td>2011-02-28</td>\n",
              "      <td>354618.200</td>\n",
              "    </tr>\n",
              "    <tr>\n",
              "      <th>3</th>\n",
              "      <td>2011-03-31</td>\n",
              "      <td>465784.190</td>\n",
              "    </tr>\n",
              "    <tr>\n",
              "      <th>4</th>\n",
              "      <td>2011-04-30</td>\n",
              "      <td>408733.111</td>\n",
              "    </tr>\n",
              "    <tr>\n",
              "      <th>5</th>\n",
              "      <td>2011-05-31</td>\n",
              "      <td>550359.350</td>\n",
              "    </tr>\n",
              "    <tr>\n",
              "      <th>6</th>\n",
              "      <td>2011-06-30</td>\n",
              "      <td>523775.590</td>\n",
              "    </tr>\n",
              "    <tr>\n",
              "      <th>7</th>\n",
              "      <td>2011-07-31</td>\n",
              "      <td>484545.591</td>\n",
              "    </tr>\n",
              "    <tr>\n",
              "      <th>8</th>\n",
              "      <td>2011-08-31</td>\n",
              "      <td>497194.910</td>\n",
              "    </tr>\n",
              "    <tr>\n",
              "      <th>9</th>\n",
              "      <td>2011-09-30</td>\n",
              "      <td>794802.792</td>\n",
              "    </tr>\n",
              "    <tr>\n",
              "      <th>10</th>\n",
              "      <td>2011-10-31</td>\n",
              "      <td>821220.130</td>\n",
              "    </tr>\n",
              "    <tr>\n",
              "      <th>11</th>\n",
              "      <td>2011-11-30</td>\n",
              "      <td>975251.390</td>\n",
              "    </tr>\n",
              "    <tr>\n",
              "      <th>12</th>\n",
              "      <td>2011-12-31</td>\n",
              "      <td>471381.820</td>\n",
              "    </tr>\n",
              "  </tbody>\n",
              "</table>\n",
              "</div>\n",
              "      <button class=\"colab-df-convert\" onclick=\"convertToInteractive('df-6b2284e5-0041-46dc-8c50-38915c122373')\"\n",
              "              title=\"Convert this dataframe to an interactive table.\"\n",
              "              style=\"display:none;\">\n",
              "        \n",
              "  <svg xmlns=\"http://www.w3.org/2000/svg\" height=\"24px\"viewBox=\"0 0 24 24\"\n",
              "       width=\"24px\">\n",
              "    <path d=\"M0 0h24v24H0V0z\" fill=\"none\"/>\n",
              "    <path d=\"M18.56 5.44l.94 2.06.94-2.06 2.06-.94-2.06-.94-.94-2.06-.94 2.06-2.06.94zm-11 1L8.5 8.5l.94-2.06 2.06-.94-2.06-.94L8.5 2.5l-.94 2.06-2.06.94zm10 10l.94 2.06.94-2.06 2.06-.94-2.06-.94-.94-2.06-.94 2.06-2.06.94z\"/><path d=\"M17.41 7.96l-1.37-1.37c-.4-.4-.92-.59-1.43-.59-.52 0-1.04.2-1.43.59L10.3 9.45l-7.72 7.72c-.78.78-.78 2.05 0 2.83L4 21.41c.39.39.9.59 1.41.59.51 0 1.02-.2 1.41-.59l7.78-7.78 2.81-2.81c.8-.78.8-2.07 0-2.86zM5.41 20L4 18.59l7.72-7.72 1.47 1.35L5.41 20z\"/>\n",
              "  </svg>\n",
              "      </button>\n",
              "      \n",
              "  <style>\n",
              "    .colab-df-container {\n",
              "      display:flex;\n",
              "      flex-wrap:wrap;\n",
              "      gap: 12px;\n",
              "    }\n",
              "\n",
              "    .colab-df-convert {\n",
              "      background-color: #E8F0FE;\n",
              "      border: none;\n",
              "      border-radius: 50%;\n",
              "      cursor: pointer;\n",
              "      display: none;\n",
              "      fill: #1967D2;\n",
              "      height: 32px;\n",
              "      padding: 0 0 0 0;\n",
              "      width: 32px;\n",
              "    }\n",
              "\n",
              "    .colab-df-convert:hover {\n",
              "      background-color: #E2EBFA;\n",
              "      box-shadow: 0px 1px 2px rgba(60, 64, 67, 0.3), 0px 1px 3px 1px rgba(60, 64, 67, 0.15);\n",
              "      fill: #174EA6;\n",
              "    }\n",
              "\n",
              "    [theme=dark] .colab-df-convert {\n",
              "      background-color: #3B4455;\n",
              "      fill: #D2E3FC;\n",
              "    }\n",
              "\n",
              "    [theme=dark] .colab-df-convert:hover {\n",
              "      background-color: #434B5C;\n",
              "      box-shadow: 0px 1px 3px 1px rgba(0, 0, 0, 0.15);\n",
              "      filter: drop-shadow(0px 1px 2px rgba(0, 0, 0, 0.3));\n",
              "      fill: #FFFFFF;\n",
              "    }\n",
              "  </style>\n",
              "\n",
              "      <script>\n",
              "        const buttonEl =\n",
              "          document.querySelector('#df-6b2284e5-0041-46dc-8c50-38915c122373 button.colab-df-convert');\n",
              "        buttonEl.style.display =\n",
              "          google.colab.kernel.accessAllowed ? 'block' : 'none';\n",
              "\n",
              "        async function convertToInteractive(key) {\n",
              "          const element = document.querySelector('#df-6b2284e5-0041-46dc-8c50-38915c122373');\n",
              "          const dataTable =\n",
              "            await google.colab.kernel.invokeFunction('convertToInteractive',\n",
              "                                                     [key], {});\n",
              "          if (!dataTable) return;\n",
              "\n",
              "          const docLinkHtml = 'Like what you see? Visit the ' +\n",
              "            '<a target=\"_blank\" href=https://colab.research.google.com/notebooks/data_table.ipynb>data table notebook</a>'\n",
              "            + ' to learn more about interactive tables.';\n",
              "          element.innerHTML = '';\n",
              "          dataTable['output_type'] = 'display_data';\n",
              "          await google.colab.output.renderOutput(dataTable, element);\n",
              "          const docLink = document.createElement('div');\n",
              "          docLink.innerHTML = docLinkHtml;\n",
              "          element.appendChild(docLink);\n",
              "        }\n",
              "      </script>\n",
              "    </div>\n",
              "  </div>\n",
              "  "
            ]
          },
          "metadata": {},
          "execution_count": 73
        }
      ]
    },
    {
      "cell_type": "code",
      "source": [
        "model = Prophet(\n",
        "    daily_seasonality = True, \n",
        "    weekly_seasonality = True,\n",
        "    yearly_seasonality = True,\n",
        "    holidays_prior_scale = 1,\n",
        "    seasonality_prior_scale = 5,\n",
        ")\n",
        "\n",
        "model.add_country_holidays(country_name = \"UK\")\n",
        "\n",
        "model.fit(monthly_data)"
      ],
      "metadata": {
        "colab": {
          "base_uri": "https://localhost:8080/"
        },
        "id": "X-qIg_yCdD3_",
        "outputId": "b689a6dc-660f-4dc0-ef75-9d7ad465720a"
      },
      "execution_count": 74,
      "outputs": [
        {
          "output_type": "stream",
          "name": "stderr",
          "text": [
            "INFO:fbprophet:n_changepoints greater than number of observations. Using 9.\n"
          ]
        },
        {
          "output_type": "execute_result",
          "data": {
            "text/plain": [
              "<fbprophet.forecaster.Prophet at 0x7f24d874ef10>"
            ]
          },
          "metadata": {},
          "execution_count": 74
        }
      ]
    },
    {
      "cell_type": "code",
      "source": [
        "future = model.make_future_dataframe(periods = 1)\n",
        "forecast = model.predict(future)\n",
        "plt.title(\"Revenue Forecast\")\n",
        "plt.plot(forecast[\"yhat\"])"
      ],
      "metadata": {
        "colab": {
          "base_uri": "https://localhost:8080/",
          "height": 410
        },
        "id": "7pBm8l0ZdW_C",
        "outputId": "6dc433bd-f81b-4149-fd43-c0384d18bf67"
      },
      "execution_count": 76,
      "outputs": [
        {
          "output_type": "execute_result",
          "data": {
            "text/plain": [
              "[<matplotlib.lines.Line2D at 0x7f24d61b83d0>]"
            ]
          },
          "metadata": {},
          "execution_count": 76
        },
        {
          "output_type": "display_data",
          "data": {
            "text/plain": [
              "<Figure size 720x432 with 1 Axes>"
            ],
            "image/png": "[encoded data removed]"
          },
          "metadata": {}
        }
      ]
    },
    {
      "cell_type": "markdown",
      "metadata": {
        "id": "vxXRb1J_c3uN"
      },
      "source": [
        "Above graph shows forecast of revenues for next month. Facebook Prophet model predicts steep increase in the revenues for this time period. However, one should note that dataset is not so suitable for forecasting as there is not more observations than 1 year data."
      ]
    }
  ],
  "metadata": {
    "kernelspec": {
      "display_name": "Python 3",
      "language": "python",
      "name": "python3"
    },
    "language_info": {
      "codemirror_mode": {
        "name": "ipython",
        "version": 3
      },
      "file_extension": ".py",
      "mimetype": "text/x-python",
      "name": "python",
      "nbconvert_exporter": "python",
      "pygments_lexer": "ipython3",
      "version": "3.6.5"
    },
    "colab": {
      "name": "Ecommerce_Analytics.ipynb",
      "provenance": [],
      "collapsed_sections": []
    }
  },
  "nbformat": 4,
  "nbformat_minor": 0
}